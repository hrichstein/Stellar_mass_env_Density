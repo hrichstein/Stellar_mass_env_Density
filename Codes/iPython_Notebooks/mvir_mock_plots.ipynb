{
 "cells": [
  {
   "cell_type": "markdown",
   "metadata": {},
   "source": [
    "Changed xlims because max stellar mass exceeded that of eco.  bin centers changed as well."
   ]
  },
  {
   "cell_type": "markdown",
   "metadata": {},
   "source": [
    "# Import Needed Modules"
   ]
  },
  {
   "cell_type": "code",
   "execution_count": 1,
   "metadata": {
    "collapsed": true
   },
   "outputs": [],
   "source": [
    "from __future__ import division, absolute_import\n",
    "\n",
    "import astropy.stats\n",
    "import glob\n",
    "import matplotlib.pyplot as plt \n",
    "from matplotlib import ticker\n",
    "from matplotlib.ticker import FormatStrFormatter\n",
    "import numpy as np \n",
    "import os\n",
    "import pandas as pd\n",
    "from scipy import spatial"
   ]
  },
  {
   "cell_type": "markdown",
   "metadata": {},
   "source": [
    "# Define Needed Functions"
   ]
  },
  {
   "cell_type": "markdown",
   "metadata": {},
   "source": [
    "### Index Function"
   ]
  },
  {
   "cell_type": "markdown",
   "metadata": {},
   "source": [
    "Creates an array with each element referring to a specific file, in this case, the different mock catalogs."
   ]
  },
  {
   "cell_type": "code",
   "execution_count": 2,
   "metadata": {
    "collapsed": true
   },
   "outputs": [],
   "source": [
    "__author__     =['Victor Calderon']\n",
    "__copyright__  =[\"Copyright 2016 Victor Calderon, Index function\"]\n",
    "__email__      =['victor.calderon@vanderbilt.edu']\n",
    "__maintainer__ =['Victor Calderon']\n",
    "\n",
    "def Index(directory, datatype):\n",
    "    \"\"\"\n",
    "    Indexes the files in a directory `directory' with a\n",
    "    specific data type.\n",
    "\n",
    "    Parameters\n",
    "    ----------\n",
    "    directory: str\n",
    "            Absolute path to the folder that is indexed.\n",
    "\n",
    "    datatype: str\n",
    "            Data type of the files to be indexed in the folder.\n",
    "\n",
    "    Returns\n",
    "    -------\n",
    "    file_array: array_like \n",
    "            np.array of indexed files in the folder 'directory' \n",
    "            with specific datatype.\n",
    "\n",
    "    Examples\n",
    "    --------\n",
    "    >>> Index('~/data', '.txt')\n",
    "    >>> array(['A.txt', 'Z'.txt', ...])\n",
    "    \"\"\"\n",
    "    assert(os.path.exists(directory))\n",
    "    files = np.array(glob.glob('{0}/*{1}'.format(directory, datatype)))\n",
    "\n",
    "    return files"
   ]
  },
  {
   "cell_type": "markdown",
   "metadata": {},
   "source": [
    "### Covert Spherical Coordinates into Cartestian"
   ]
  },
  {
   "cell_type": "markdown",
   "metadata": {},
   "source": [
    "Assuming the mock catalogs give the right ascension and declination values in degrees, this converts them to radians and then gives values in 3D Cartesian space. Assuming cz values are given in km/s, this divides by the Hubble constant to give the distance in Mpc, and then converts them to 3D Cartesian space."
   ]
  },
  {
   "cell_type": "code",
   "execution_count": 3,
   "metadata": {
    "collapsed": true
   },
   "outputs": [],
   "source": [
    "def sph_to_cart(ra,dec,cz):\n",
    "    \"\"\"\n",
    "    Converts spherical coordinates to Cartesian coordinates.\n",
    "\n",
    "    Parameters\n",
    "    ----------\n",
    "    ra: array-like\n",
    "        right-ascension of galaxies in degrees\n",
    "    dec: array-like\n",
    "        declination of galaxies in degrees\n",
    "    cz: array-like\n",
    "        velocity of galaxies in km/s\n",
    "\n",
    "    Returns\n",
    "    -------\n",
    "    coords: array-like, shape = N by 3\n",
    "        x, y, and z coordinates\n",
    "    \"\"\"\n",
    "    cz_dist = cz/70. #converts velocity into distance\n",
    "    x_arr   = cz_dist*np.cos(np.radians(ra))*np.cos(np.radians(dec))\n",
    "    y_arr   = cz_dist*np.sin(np.radians(ra))*np.cos(np.radians(dec))\n",
    "    z_arr   = cz_dist*np.sin(np.radians(dec))\n",
    "    coords  = np.column_stack((x_arr,y_arr,z_arr))\n",
    "\n",
    "    return coords"
   ]
  },
  {
   "cell_type": "markdown",
   "metadata": {},
   "source": [
    "### Calculating Nth Nearest Neighbor Sphere Density"
   ]
  },
  {
   "cell_type": "markdown",
   "metadata": {},
   "source": [
    "This returns the densities, which will eventually be ranked and used to determine the density-cut, mass histogram ratios."
   ]
  },
  {
   "cell_type": "code",
   "execution_count": 4,
   "metadata": {
    "collapsed": true
   },
   "outputs": [],
   "source": [
    "def calc_dens(n_val,r_val):\n",
    "    \"\"\"\n",
    "    Returns densities of spheres with radius being the distance to the \n",
    "        nth nearest neighbor.\n",
    "\n",
    "    Parameters\n",
    "    ----------\n",
    "    n_val = integer\n",
    "        The 'N' from Nth nearest neighbor\n",
    "    r_val = array-like\n",
    "        An array with the distances to the Nth nearest neighbor for\n",
    "        each galaxy\n",
    "\n",
    "    Returns\n",
    "    -------\n",
    "    dens: array-like\n",
    "        An array with the densities of the spheres created with radii\n",
    "        to the Nth nearest neighbor.\n",
    "    \"\"\"\n",
    "    dens = np.array([(3.*(n_val+1)/(4.*np.pi*r_val[hh]**3)) \\\n",
    "                     for hh in range(len(r_val))])\n",
    "\n",
    "    return dens"
   ]
  },
  {
   "cell_type": "markdown",
   "metadata": {},
   "source": [
    "### Calculating Stellar Mass Function and Density-Based, Mass Ratios"
   ]
  },
  {
   "cell_type": "markdown",
   "metadata": {},
   "source": [
    "This returns the values needed to plot the stellar mass function, with errorbars for ECO, and the three mass ratios corresponding to each NN value, also with errors for ECO."
   ]
  },
  {
   "cell_type": "code",
   "execution_count": 5,
   "metadata": {
    "collapsed": true
   },
   "outputs": [],
   "source": [
    "def plot_calcs(mass,bins,dlogM,mass_err=False,ratio_err=False):\n",
    "    \"\"\"\n",
    "    Returns values for plotting the stellar mass function and \n",
    "        mass ratios\n",
    "\n",
    "    Parameters\n",
    "    ----------\n",
    "    mass: array-like\n",
    "        A 1D array with mass values\n",
    "    \n",
    "    Optional\n",
    "    --------\n",
    "    mass_err  == True\n",
    "        Calculates the Poisson errors on the stellar mass function.\n",
    "        Returns mass_freq as a list with 2 array elements, the first being\n",
    "        the stellar mass function values, the second being the errors.\n",
    "    ratio_err == True\n",
    "        Calculates the Poisson errors on the density-based, mass ratios.\n",
    "        Creates empty list and appends ratio error arrays to it as they \n",
    "        are generated. Returns ratio_dict as a list. The first element is \n",
    "        a dictionary with the ratio values to be plotted. The second is a\n",
    "        three element list. Each element is an array with the error values \n",
    "        for each of the three density-cut ratios.\n",
    "\n",
    "    Returns\n",
    "    -------\n",
    "    bin_centers: array-like\n",
    "        An array with the medians mass values of the mass bins\n",
    "    mass-freq: array-like\n",
    "        Contains the number density values of each mass bin\n",
    "    ratio_dict: dictionary-like\n",
    "        A dictionary with three keys, corresponding to the divisors\n",
    "        2,4, and 10 (as the percentile cuts are based on these \n",
    "        divisions). Each key has the density-cut, mass ratios for\n",
    "        that specific cut (50/50 for 2; 25/75 for 4; 10/90 for 10).\n",
    "    \"\"\"\n",
    "\n",
    "    mass_counts, edges = np.histogram(mass,bins)\n",
    "    bin_centers        = 0.5*(edges[:-1]+edges[1:])\n",
    "\n",
    "    mass_freq  = mass_counts/float(len(mass))/dlogM\n",
    "\n",
    "    ratio_dict = {}\n",
    "    frac_val   = [2,4,10]\n",
    "    \n",
    "    if ratio_err == True:\n",
    "        yerr = []\n",
    "\n",
    "    for ii in frac_val:\n",
    "        ratio_dict[ii] = {}\n",
    "\n",
    "        # Calculations for the lower density cut\n",
    "        frac_data      = int(len(mass)/ii)\n",
    "        frac_mass      = mass[0:frac_data]\n",
    "        counts, edges  = np.histogram(frac_mass,bins)\n",
    "\n",
    "        # Calculations for the higher density cut\n",
    "        frac_mass_2       = mass[-frac_data:]\n",
    "        counts_2, edges_2 = np.histogram(frac_mass_2,bins)\n",
    "\n",
    "        # Ratio determination\n",
    "        ratio_counts   = (1.*counts_2)/(1.*counts)\n",
    "        ratio_dict[ii] = ratio_counts\n",
    "\n",
    "        if ratio_err == True:\n",
    "            yerr.append((counts_2*1.)/(counts*1.)*np.sqrt(1./counts + 1./counts_2))\n",
    "\n",
    "    if mass_err == True:\n",
    "        mass_freq_list     = [[] for xx in xrange(2)]\n",
    "        mass_freq_list[0]  = mass_freq\n",
    "        mass_freq_list[1]  = np.sqrt(mass_counts)/float(len(mass))/dlogM\n",
    "        mass_freq          = np.array(mass_freq_list)\n",
    "\n",
    "    if ratio_err == True:\n",
    "        ratio_dict_list    = [[] for xx in range(2)]\n",
    "        ratio_dict_list[0] = ratio_dict\n",
    "        ratio_dict_list[1] = yerr\n",
    "        ratio_dict         = ratio_dict_list\n",
    "\n",
    "    return bin_centers, mass_freq, ratio_dict"
   ]
  },
  {
   "cell_type": "markdown",
   "metadata": {},
   "source": [
    "### Calculating Median Trends and Bootstrap Errors"
   ]
  },
  {
   "cell_type": "markdown",
   "metadata": {},
   "source": [
    "This returns the median distance to the Nth nearest neighbor considering all the galaxies in each bin. Bootstrap errors are also calculated if specified (for ECO).  They will not always calculate correctly, as some of the mocks do not have galaxies in every bin."
   ]
  },
  {
   "cell_type": "code",
   "execution_count": 6,
   "metadata": {
    "collapsed": false
   },
   "outputs": [],
   "source": [
    "def bin_func(mass_dist,bins,kk,bootstrap=False):\n",
    "    \"\"\"\n",
    "    Returns median distance to Nth nearest neighbor\n",
    "\n",
    "    Parameters\n",
    "    ----------\n",
    "    mass_dist: array-like\n",
    "        An array with mass values in at index 0 (when transformed) and distance to the Nth \n",
    "        nearest neighbor in the others\n",
    "        Example: 6239 by 7\n",
    "            Has mass values and distances to 6 Nth nearest neighbors       \n",
    "    kk: integer-like\n",
    "        The index of mass_dist (transformed) where the appropriate distance array may be found\n",
    "\n",
    "    Optional\n",
    "    --------\n",
    "    bootstrap == True\n",
    "        Calculates the bootstrap errors associated with each median distance value.\n",
    "        Creates an array housing arrays containing the actual distance values\n",
    "        associated with every galaxy in a specific bin. Bootstrap error is then \n",
    "        performed using astropy, and upper and lower one sigma values are found\n",
    "        for each median value.  These are added to a list with the median distances, \n",
    "        and then converted to an array and returned in place of just 'medians.'\n",
    "\n",
    "    Returns\n",
    "    -------\n",
    "    medians: array-like\n",
    "        An array with the median distance to the Nth nearest neighbor from \n",
    "        all the galaxies in each of the bins\n",
    "    \"\"\"\n",
    "    edges        = bins\n",
    "    digitized    = np.digitize(mass_dist.T[0],edges)\n",
    "    digitized   -= int(1)\n",
    "\n",
    "    bin_nums     = np.unique(digitized)\n",
    "    bin_nums     = list(bin_nums)\n",
    "\n",
    "#necessary measure, as not all catalogs have galaxies in the last bin\n",
    "#if this occurs, no median will be returned for the 12th bin, and an\n",
    "#error will be thrown when trying to plot, as it will not have the \n",
    "#same dimensions as bin_centers\n",
    "    if 12 not in bin_nums:\n",
    "        bin_nums.append(12)\n",
    "        bin_nums = np.array(bin_nums)\n",
    "    \n",
    "    medians  = np.array([np.median(mass_dist.T[kk][digitized==ii]) for ii in bin_nums])\n",
    "\n",
    "    if bootstrap == True:\n",
    "        bin_nums = np.unique(digitized)\n",
    "        dist_in_bin    = np.array([(mass_dist.T[kk][digitized==ii]) for ii in bin_nums])\n",
    "        low_err_test   = np.array([np.percentile(astropy.stats.bootstrap\\\n",
    "                        (dist_in_bin[vv],bootnum=1000,bootfunc=np.median),16) for vv\\\n",
    "                                     in range(len(dist_in_bin))])\n",
    "        high_err_test  = np.array([np.percentile(astropy.stats.bootstrap\\\n",
    "                        (dist_in_bin[vv],bootnum=1000,bootfunc=np.median),84) for vv\\\n",
    "                                     in range(len(dist_in_bin))])\n",
    "\n",
    "        med_list    = [[] for yy in range(len(frac_vals))]\n",
    "        med_list[0] = medians\n",
    "        med_list[1] = low_err_test\n",
    "        med_list[2] = high_err_test\n",
    "        medians     = np.array(med_list)\n",
    "\n",
    "    return medians    "
   ]
  },
  {
   "cell_type": "markdown",
   "metadata": {},
   "source": [
    "### Plotting Density-Cut, Mass Ratios"
   ]
  },
  {
   "cell_type": "markdown",
   "metadata": {},
   "source": [
    "Plots ratios to a previously initialized figure. Works optimally in a strong for-loop."
   ]
  },
  {
   "cell_type": "code",
   "execution_count": 7,
   "metadata": {
    "collapsed": false
   },
   "outputs": [],
   "source": [
    "def plot_all_rats(bin_centers,y_vals,neigh_val,ax,col_num,plot_idx):\n",
    "    \"\"\"\n",
    "    Returns a plot showing the density-cut, mass ratio.  Optimally\n",
    "        used with a well-initiated for-loop\n",
    "        \n",
    "    Parameters\n",
    "    ----------\n",
    "    bin_centers: array-like\n",
    "        An array with the medians mass values of the mass bins\n",
    "    y_vals: array-like\n",
    "        An array containing the ratio values for each mass bin\n",
    "    neigh_val: integer-like\n",
    "        Value which will be inserted into the text label of each plot\n",
    "    ax: axis-like\n",
    "        A value which specifies which axis each subplot is to be \n",
    "        plotted to\n",
    "    col_num: integer-like\n",
    "        Integer which specifies which column is currently being \n",
    "        plotted. Used for labelling subplots\n",
    "    plot_idx: integer-like\n",
    "        Specifies which subplot the figure is plotted to. Used for\n",
    "        labeling the x-axis\n",
    "        \n",
    "    Returns\n",
    "    -------\n",
    "    Figure with three subplots showing appropriate ratios\n",
    "    \"\"\"\n",
    "    if plot_idx     ==16:\n",
    "        ax.set_xlabel('$\\log\\ M_{*}$',fontsize=18)\n",
    "    if col_num      ==0:\n",
    "        title_label = 'Mass Ratio 50/50, {0} NN'.format(neigh_val)\n",
    "        frac_val    = 10\n",
    "        ax.text(0.05, 0.95, title_label,horizontalalignment='left',\\\n",
    "                verticalalignment='top',transform=ax.transAxes,fontsize=12)\n",
    "    elif col_num    ==1:\n",
    "        title_label = 'Mass Ratio 25/75, {0} NN'.format(neigh_val)\n",
    "        frac_val    = 4\n",
    "        ax.text(0.05, 0.95, title_label,horizontalalignment='left',\\\n",
    "                verticalalignment='top',transform=ax.transAxes,fontsize=12)\n",
    "    elif col_num    ==2:\n",
    "        title_label = 'Mass Ratio 10/90, {0} NN'.format(neigh_val)\n",
    "        frac_val    = 2\n",
    "        ax.text(0.05, 0.95, title_label,horizontalalignment='left',\\\n",
    "                verticalalignment='top',transform=ax.transAxes,fontsize=12)\n",
    "    ax.set_xlim(9.2,12.1)\n",
    "    ax.set_ylim([0,5])\n",
    "    ax.set_xticks(np.arange(9.5, 12., 0.5))\n",
    "    ax.set_yticks([1.,3.])\n",
    "    ax.tick_params(axis='both', labelsize=12)\n",
    "    ax.axhline(y=1,c=\"darkorchid\",linewidth=0.5,zorder=0)\n",
    "    ax.plot(bin_centers,y_vals,color='silver')"
   ]
  },
  {
   "cell_type": "markdown",
   "metadata": {},
   "source": [
    "### Plotting ECO Ratios"
   ]
  },
  {
   "cell_type": "markdown",
   "metadata": {},
   "source": [
    "This can plot either the eighteen ECO ratios by themselves or on top of previously plotted subplots."
   ]
  },
  {
   "cell_type": "code",
   "execution_count": 8,
   "metadata": {
    "collapsed": true
   },
   "outputs": [],
   "source": [
    "def plot_eco_rats(bin_centers,y_vals,neigh_val,ax,col_num,plot_idx,only=False):\n",
    "    \"\"\"\n",
    "    Returns subplots of ECO density-cut,mass ratios\n",
    "    \n",
    "    Parameters\n",
    "    ----------\n",
    "    bin_centers: array-like\n",
    "        An array with the medians mass values of the mass bins\n",
    "    y_vals: array-like\n",
    "        An array containing the ratio values for each mass bin\n",
    "    neigh_val: integer-like\n",
    "        Value which will be inserted into the text label of each plot\n",
    "    ax: axis-like\n",
    "        A value which specifies which axis each subplot is to be \n",
    "        plotted to\n",
    "    col_num: integer-like\n",
    "        Integer which specifies which column is currently being \n",
    "        plotted. Used for labelling subplots\n",
    "    plot_idx: integer-like\n",
    "        Specifies which subplot the figure is plotted to. Used for\n",
    "        labeling the x-axis\n",
    "    \n",
    "    Optional\n",
    "    --------\n",
    "    only == True\n",
    "        To be used when only plotting the ECO ratios, no mocks.\n",
    "        Will add in the additional plotting specifications that\n",
    "        would have been taken care of previously in a for-loop\n",
    "        which plotted the mocks as well\n",
    "        \n",
    "    Returns\n",
    "    -------\n",
    "    ECO ratios plotted to any previously initialized figure\n",
    "    \"\"\"\n",
    "    if only == True:\n",
    "        if plot_idx     ==16:\n",
    "            ax.set_xlabel('$\\log\\ M_{*}$',fontsize=18)\n",
    "        if col_num      ==0:\n",
    "            title_label = 'Mass Ratio 50/50, {0} NN'.format(neigh_val)\n",
    "            frac_val    = 10\n",
    "            ax.text(0.05, 0.95, title_label,horizontalalignment='left',\\\n",
    "                    verticalalignment='top',transform=ax.transAxes,fontsize=12)\n",
    "        elif col_num    ==1:\n",
    "            title_label = 'Mass Ratio 25/75, {0} NN'.format(neigh_val)\n",
    "            frac_val    = 4\n",
    "            ax.text(0.05, 0.95, title_label,horizontalalignment='left',\\\n",
    "                    verticalalignment='top',transform=ax.transAxes,fontsize=12)\n",
    "        elif col_num    ==2:\n",
    "            title_label = 'Mass Ratio 10/90, {0} NN'.format(neigh_val)\n",
    "            frac_val    = 2\n",
    "            ax.text(0.05, 0.95, title_label,horizontalalignment='left',\\\n",
    "                    verticalalignment='top',transform=ax.transAxes,fontsize=12)\n",
    "        ax.set_xlim(9.2,12.1)\n",
    "        ax.set_ylim([0,5])\n",
    "        ax.set_xticks(np.arange(9.5, 12., 0.5))\n",
    "        ax.set_yticks([1.,3.])\n",
    "        ax.tick_params(axis='both', labelsize=12)\n",
    "        ax.axhline(y=1,c=\"darkorchid\",linewidth=0.5,zorder=0)\n",
    "    frac_vals = np.array([2,4,10])\n",
    "    y_vals_2 = y_vals[0][frac_vals[hh]]\n",
    "    ax.errorbar(bin_centers,y_vals_2,yerr=y_vals[1][hh],\\\n",
    "                color='limegreen',linewidth=2)\n",
    "#for some reason, whenever I give this frac_vals as an argument, it won't recognize it as an array. \n",
    "#And then it will begin with 10, rather than 2; even when I have it tell me what frac val it's using, \n",
    "#and then have the for loop do so as well, they do not line up\n",
    "#also, it plots only ECO differently than when there are multiple curves, and it changes \n",
    "#the xlims. So I set them. And then, it made the 17th indexed plot slightly off, so I changed the xticks\n",
    "#as well"
   ]
  },
  {
   "cell_type": "markdown",
   "metadata": {},
   "source": [
    "### Plotting Mock Median Trends"
   ]
  },
  {
   "cell_type": "markdown",
   "metadata": {},
   "source": [
    "Plots six subplots to a previously initialized figure."
   ]
  },
  {
   "cell_type": "code",
   "execution_count": 9,
   "metadata": {
    "collapsed": false
   },
   "outputs": [],
   "source": [
    "def plot_all_meds(bin_centers,y_vals,ax,plot_idx):\n",
    "    \"\"\"\n",
    "    Returns six subplots showing the median distance to \n",
    "        the Nth nearest neighbor for each mass bin.  Assumes a\n",
    "        previously defined figure.  Best used in a for-loop\n",
    "    \n",
    "    Parameters\n",
    "    ----------\n",
    "    bin_centers: array-like\n",
    "        An array with the medians mass values of the mass bins\n",
    "    y_vals: array-like\n",
    "        An array containing the median distance values for each mass bin\n",
    "    ax: axis-like\n",
    "        A value which specifies which axis each subplot is to be \n",
    "        plotted to\n",
    "    plot_idx: integer-like\n",
    "        Specifies which subplot the figure is plotted to. Used for\n",
    "        the text label in each subplot\n",
    "        \n",
    "    Returns\n",
    "    -------\n",
    "    Subplots displaying the median distance to Nth nearest neighbor\n",
    "    trends for each mass bin\n",
    "    \n",
    "    \"\"\"\n",
    "    titles = [1,2,3,5,10,20]\n",
    "    ax.set_ylim(0,10**1.5)\n",
    "    ax.set_xlim(9.2,12.1)\n",
    "    ax.set_yscale('symlog')\n",
    "    ax.set_xticks(np.arange(9.5,12.,0.5))  \n",
    "    ax.tick_params(axis='both', which='major', labelsize=16)\n",
    "    title_here = 'n = {0}'.format(titles[plot_idx])\n",
    "    ax.text(0.05, 0.95, title_here,horizontalalignment='left',\\\n",
    "            verticalalignment='top',transform=ax.transAxes,fontsize=18)\n",
    "    if plot_idx == 4:\n",
    "        ax.set_xlabel('$\\log\\ M_{*}$',fontsize=18)\n",
    "    ax.plot(bin_centers,y_vals,color='silver')"
   ]
  },
  {
   "cell_type": "markdown",
   "metadata": {},
   "source": [
    "### Plotting ECO Median Distance Trends, with Bootstrap"
   ]
  },
  {
   "cell_type": "markdown",
   "metadata": {},
   "source": [
    "Plots six ECO subplots by themselves or on top of a previously initialized figure."
   ]
  },
  {
   "cell_type": "code",
   "execution_count": 10,
   "metadata": {
    "collapsed": false
   },
   "outputs": [],
   "source": [
    "def plot_eco_meds(bin_centers,y_vals,low_lim,up_lim,ax,plot_idx,only=False):\n",
    "    \"\"\"\n",
    "    Returns six subplots showing the median Nth nearest neighbor distance for ECO\n",
    "        galaxies in each mass bin\n",
    "        \n",
    "    Parameters\n",
    "    ----------\n",
    "    bin_centers: array-like\n",
    "        An array with the medians mass values of the mass bins\n",
    "    y_vals: array-like\n",
    "        An array containing the median distance values for each mass bin\n",
    "    low_lim: array-like\n",
    "        An array with the lower cut-off of the bootstrap errors for each median\n",
    "    up_lim: array-like\n",
    "        An array with the upper cut-off of the bootstrap errors for each median\n",
    "    ax: axis-like\n",
    "        A value which specifies which axis each subplot is to be \n",
    "        plotted to\n",
    "    plot_idx: integer-like\n",
    "        Specifies which subplot the figure is plotted to. Used for\n",
    "        the text label in each subplot\n",
    "    \n",
    "    Optional\n",
    "    --------\n",
    "    only == False\n",
    "        To be used when only plotting the ECO median trends, \n",
    "        no mocks.  Will add in the additional plotting \n",
    "        specifications that would have been taken care of \n",
    "        previously in a for-loop which plotted the mocks as well\n",
    "    \n",
    "    Returns\n",
    "    -------\n",
    "    Subplots displaying the median distance to Nth nearest neighbor\n",
    "    trends for each mass bin, with the bootstrap errors\n",
    "    \n",
    "    \"\"\"\n",
    "    if only == True:\n",
    "        titles = [1,2,3,5,10,20]\n",
    "        ax.set_ylim(0,10**1.5)\n",
    "        ax.set_xlim(9.2,12.1)\n",
    "        ax.set_yscale('symlog')\n",
    "        ax.set_xticks(np.arange(9.5,12.,0.5))  \n",
    "        ax.tick_params(axis='both', which='major', labelsize=16)\n",
    "        title_here = 'n = {0}'.format(titles[plot_idx])\n",
    "        ax.text(0.05, 0.95, title_here,horizontalalignment='left',\\\n",
    "                verticalalignment='top',transform=ax.transAxes,fontsize=18)\n",
    "        if plot_idx == 4:\n",
    "            ax.set_xlabel('$\\log\\ M_{*}$',fontsize=18)\n",
    "    ax.errorbar(bin_centers,y_vals,yerr=0.1,lolims=low_lim,\\\n",
    "        uplims=up_lim,color='limegreen')\n",
    "\n",
    "#NOTE: I deleted the keyword neigh_vals, because it shouldn't have been \n",
    "#doing anything. Or if it was, it should have only meant low_lim and up_lim\n",
    "#were only returning one value, rather than the array. It didn't seem to be \n",
    "#messing with anything, so I took it out. And the values remained the same..."
   ]
  },
  {
   "cell_type": "markdown",
   "metadata": {},
   "source": [
    "### Plotting Mock Catalog Bands"
   ]
  },
  {
   "cell_type": "markdown",
   "metadata": {},
   "source": [
    "Plots over the area enclosed by the mock catalog curves, which is also to be used as error on the ECO curves."
   ]
  },
  {
   "cell_type": "code",
   "execution_count": 11,
   "metadata": {
    "collapsed": true
   },
   "outputs": [],
   "source": [
    "def plot_bands(bin_centers,upper,lower,ax):\n",
    "    \"\"\"\n",
    "    Returns an overlayed, fill-between plot, creating a band\n",
    "        between the different mock catalog values plotted\n",
    "    \n",
    "    Parameters\n",
    "    ----------\n",
    "    bin_centers: array-like\n",
    "        An array with the medians mass values of the mass bins\n",
    "    upper: array-like\n",
    "        Array with the max y-values among all the mocks\n",
    "        for each mass bin\n",
    "    lower: array-like\n",
    "        Array with the min y-values among all the mocks\n",
    "        for each mass bin\n",
    "    ax: axis-like\n",
    "        A value which specifies which axis each subplot is to be \n",
    "        plotted to\n",
    "    \n",
    "    Returns\n",
    "    -------\n",
    "    A semi-transparent band overlaying the area of the plot \n",
    "    bordered by the mocks\n",
    "    \"\"\"\n",
    "    ax.fill_between(bin_centers,upper,lower,color='silver',alpha=0.1)"
   ]
  },
  {
   "cell_type": "markdown",
   "metadata": {},
   "source": [
    "# Running through the Calculations"
   ]
  },
  {
   "cell_type": "markdown",
   "metadata": {},
   "source": [
    "The below line should be the only one which needs to be changed. The rest should be dynamic and work based off of this."
   ]
  },
  {
   "cell_type": "code",
   "execution_count": 12,
   "metadata": {
    "collapsed": true
   },
   "outputs": [],
   "source": [
    "dirpath  = r\"C:\\Users\\Hannah\\Desktop\\Vanderbilt_REU\\Stellar_mass_env_density\\Catalogs\\RESOLVE_ECO\\Resolve_plk_5001_so_mvir_hod1_ECO_Mocks\"\n",
    "usecols  = (0,1,8,13)"
   ]
  },
  {
   "cell_type": "markdown",
   "metadata": {},
   "source": [
    "The below loads the mock catalogs and imports them into arrays. It sorts out any galaxies which have a mass less than 9.3, to meet the mass completeness limit for ECO.  One should note, when making the four np.arrays, they are relying on the columns being in a set order (ra, dec, cz, and logMstar). If they are not in this order, the arrays will not house the correct information. The Cartesian coordinates are calculated and a cKD-Tree is made.  The twenty nearest neighbors and their distances for each galaxy are also calculated.  These are then placed in an array along with the galaxy masses."
   ]
  },
  {
   "cell_type": "code",
   "execution_count": 13,
   "metadata": {
    "collapsed": false
   },
   "outputs": [],
   "source": [
    "ECO_cats = (Index(dirpath,'.dat'))\n",
    "\n",
    "names    = ['ra','dec','cz','logMstar']\n",
    "PD       = [(pd.read_csv(ECO_cats[ii],sep=\"\\s+\", usecols= usecols,header=None,\\\n",
    "                   skiprows=2,names=names)) for ii in range(len(ECO_cats))]\n",
    "PD_comp  = [(PD[ii][PD[ii].logMstar >= 9.3]) for ii in range(len(ECO_cats))]\n",
    "\n",
    "ra_arr   = np.array([(np.array(PD_comp[ii])).T[0] for ii in range(len(PD_comp))])\n",
    "dec_arr  = np.array([(np.array(PD_comp[ii])).T[1] for ii in range(len(PD_comp))])\n",
    "cz_arr   = np.array([(np.array(PD_comp[ii])).T[2] for ii in range(len(PD_comp))])\n",
    "mass_arr = np.array([(np.array(PD_comp[ii])).T[3] for ii in range(len(PD_comp))])\n",
    "\n",
    "coords_test = np.array([sph_to_cart(ra_arr[vv],dec_arr[vv],cz_arr[vv]) for vv in range(len(ECO_cats))])\n",
    "\n",
    "neigh_vals  = np.array([1,2,3,5,10,20])\n",
    "\n",
    "nn_arr      = [[] for xx in xrange(len(coords_test))]\n",
    "nn_arr_nn   = [[] for yy in xrange(len(neigh_vals))]\n",
    "\n",
    "for vv in range(len(coords_test)):\n",
    "    nn_arr[vv] = spatial.cKDTree(coords_test[vv])\n",
    "    nn_arr[vv] = np.array(nn_arr[vv].query(coords_test[vv],21)[0])\n",
    "\n",
    "nn_specs       = [(np.array(nn_arr).T[ii].T[neigh_vals].T) for ii in range(len(coords_test))]\n",
    "nn_mass_dist   = np.array([(np.column_stack((mass_arr[qq],nn_specs[qq]))) for qq in range(len(coords_test))])"
   ]
  },
  {
   "cell_type": "code",
   "execution_count": 14,
   "metadata": {
    "collapsed": false
   },
   "outputs": [
    {
     "name": "stdout",
     "output_type": "stream",
     "text": [
      "12.073074\n"
     ]
    }
   ],
   "source": [
    "Pd_test = pd.read_csv(ECO_cats[4],sep=\"\\s+\",usecols=usecols,header=None,skiprows=2,names=names)\n",
    "print Pd_test.logMstar.max()"
   ]
  },
  {
   "cell_type": "code",
   "execution_count": 15,
   "metadata": {
    "collapsed": false
   },
   "outputs": [
    {
     "name": "stdout",
     "output_type": "stream",
     "text": [
      "[11.86537, 11.886913999999999, 11.911384, 11.873474999999999, 12.073074, 11.993732000000001, 11.834497000000001, 11.828998]\n",
      "[9.3003699999999991, 9.3012999999999995, 9.3002960000000012, 9.3000190000000007, 9.3003920000000004, 9.3000880000000006, 9.3000570000000007, 9.300497]\n"
     ]
    },
    {
     "data": {
      "text/plain": [
       "(9.2, 9.4, 9.6, 9.8, 10, 10.2, 10.4, 10.6, 10.8, 11, 11.2, 11.4, 11.6, 11.8)"
      ]
     },
     "execution_count": 15,
     "metadata": {},
     "output_type": "execute_result"
    }
   ],
   "source": [
    "max_mass = [(max(mass_arr[ii])) for ii in range(len(mass_arr))] \n",
    "print max_mass\n",
    "min_mass = [(min(mass_arr[ii])) for ii in range(len(mass_arr))]\n",
    "print min_mass\n",
    "\n",
    "9.2,9.4,9.6,9.8,10,10.2,10.4,10.6,10.8,11,11.2,11.4,11.6,11.8"
   ]
  },
  {
   "cell_type": "markdown",
   "metadata": {},
   "source": [
    "Creating empty dictionaries and populating them with empty dictionaries with keys, one key for each mock.  Also adds a key based on mass.  These dictionaries house six smaller dictionaries, one for each Nth nearest neighbor, and are then filled with data values. For each Nth nn specified, the galaxies are sorted by distance, so there are six different orderings.  These are used when taking the percentiles for the ratio plots.  Within this section, bin_centers is defined.  This should be the only place this variable is set. The max and min stellar mass function values for each bin are also determined."
   ]
  },
  {
   "cell_type": "code",
   "execution_count": 16,
   "metadata": {
    "collapsed": false
   },
   "outputs": [
    {
     "name": "stderr",
     "output_type": "stream",
     "text": [
      "C:\\Users\\Hannah\\Anaconda2\\lib\\site-packages\\numpy\\core\\_methods.py:59: RuntimeWarning: Mean of empty slice.\n",
      "  warnings.warn(\"Mean of empty slice.\", RuntimeWarning)\n"
     ]
    }
   ],
   "source": [
    "nn_dist    = {}\n",
    "nn_dens    = {}\n",
    "mass_dat   = {}\n",
    "ratio_info = {}\n",
    "\n",
    "mock_bins  = np.linspace(9.3,max(max_mass)+0.1,14)\n",
    "mock_dlogM = (max(max_mass)-9.3)/13\n",
    "\n",
    "mass_freq  = [[] for xx in xrange(len(coords_test))]\n",
    "\n",
    "for ii in range(len(coords_test)):\n",
    "    nn_dist[ii]    = {}\n",
    "    nn_dens[ii]    = {}\n",
    "    mass_dat[ii]   = {}\n",
    "    ratio_info[ii] = {}\n",
    "\n",
    "    nn_dist[ii]['mass'] = nn_mass_dist[ii].T[0]\n",
    "\n",
    "    for jj in range(len(neigh_vals)):\n",
    "        nn_dist[ii][(neigh_vals[jj])]  = np.array(nn_mass_dist[ii].T[range(1,len(neigh_vals)+1)[jj]])\n",
    "        nn_dens[ii][(neigh_vals[jj])]  = np.column_stack((nn_mass_dist[ii].T[0],calc_dens\\\n",
    "                                            (neigh_vals[jj],nn_mass_dist[ii].T[range(1,len(neigh_vals)+1)[jj]])))\n",
    "\n",
    "        idx = np.array([nn_dens[ii][neigh_vals[jj]].T[1].argsort()])\n",
    "        mass_dat[ii][(neigh_vals[jj])] = (nn_dens[ii][neigh_vals[jj]][idx].T[0])\n",
    "\n",
    "        bin_centers_mock, mass_freq[ii], ratio_info[ii][neigh_vals[jj]] = plot_calcs(mass_dat[ii][neigh_vals[jj]],mock_bins,mock_dlogM)\n",
    "\n",
    "all_mock_meds = [[] for xx in range(len(nn_mass_dist))]\n",
    "\n",
    "for vv in range(len(nn_mass_dist)):\n",
    "    all_mock_meds[vv] = np.array([bin_func(nn_mass_dist[vv],mock_bins,(jj+1)) for jj in range(len(nn_mass_dist[vv].T)-1)])\n",
    "    \n",
    "med_plot_arr = [([[] for yy in xrange(len(nn_mass_dist))]) for xx in xrange(len(neigh_vals))]\n",
    "\n",
    "for ii in range(len(neigh_vals)):\n",
    "    for jj in range(len(nn_mass_dist)):\n",
    "        med_plot_arr[ii][jj] = all_mock_meds[jj][ii]    \n",
    "\n",
    "mass_freq_plot  = (np.array(mass_freq))\n",
    "max_lim = [[] for xx in range(len(mass_freq_plot.T))]\n",
    "min_lim = [[] for xx in range(len(mass_freq_plot.T))]\n",
    "for jj in range(len(mass_freq_plot.T)):\n",
    "    max_lim[jj] = max(mass_freq_plot.T[jj])\n",
    "    min_lim[jj] = min(mass_freq_plot.T[jj])"
   ]
  },
  {
   "cell_type": "code",
   "execution_count": 17,
   "metadata": {
    "collapsed": false
   },
   "outputs": [
    {
     "name": "stdout",
     "output_type": "stream",
     "text": [
      "[13, 13, 13, 13, 13, 13]\n",
      "[13, 13, 13, 13, 13, 13]\n",
      "[13, 13, 13, 13, 13, 13]\n",
      "[13, 13, 13, 13, 13, 13]\n",
      "[13, 13, 13, 13, 13, 13]\n",
      "[13, 13, 13, 13, 13, 13]\n",
      "[13, 13, 13, 13, 13, 13]\n",
      "[13, 13, 13, 13, 13, 13]\n"
     ]
    }
   ],
   "source": [
    "# print [(len(med_plot_arr[ii][4])) for ii in range(len(med_plot_arr))]\n",
    "for jj in range(len(all_mock_meds)):\n",
    "    print [len(all_mock_meds[jj][ii]) for ii in range(len(all_mock_meds[0]))]"
   ]
  },
  {
   "cell_type": "markdown",
   "metadata": {},
   "source": [
    "Converting ratio information into a more accessible format. Ratio_info is a dictionary with 8 keys, one for each mock catalog. Each key has another dictionary, with 6 keys, one for each Nth nearest neighbor being considered. Each of these sub-dictionaries has three keys, one for each \"frac_val,\" or divisor which will yield the desired percentiles. First, a list of six elements is created. Each elements corresponds to a nearest neighbor value. These six elements are lists which contain 8 dictionaries, one for each mock. These dictionaries each have three keys, one for each frac_val. Then, another list is made. It has six elements, each housing three sublists. Each of the sublists corresponds to a frac_val. They house 8 np.arrays. *Note, 8 is just used as a placeholder for any number. This number corresponds to the number of mocks being considered."
   ]
  },
  {
   "cell_type": "code",
   "execution_count": 18,
   "metadata": {
    "collapsed": true
   },
   "outputs": [],
   "source": [
    "frac_vals   = [2,4,10]\n",
    "nn_plot_arr = [[[] for yy in xrange(len(nn_mass_dist))] for xx in xrange(len(neigh_vals))]\n",
    "\n",
    "for ii in range(len(neigh_vals)):\n",
    "    for jj in range(len(nn_mass_dist)):\n",
    "        nn_plot_arr[ii][jj] = (ratio_info[jj][neigh_vals[ii]])\n",
    "        plot_frac_arr = [[[[] for yy in xrange(len(nn_mass_dist))] \\\n",
    "                         for zz in xrange(len(frac_vals))] for xx in xrange(len(nn_plot_arr))]\n",
    "\n",
    "for jj in range(len(nn_mass_dist)):\n",
    "    for hh in range(len(frac_vals)):\n",
    "        for ii in range(len(neigh_vals)):\n",
    "            plot_frac_arr[ii][hh][jj] = nn_plot_arr[ii][jj][frac_vals[hh]]"
   ]
  },
  {
   "cell_type": "markdown",
   "metadata": {},
   "source": [
    "## ECO Calculations, Streamlined"
   ]
  },
  {
   "cell_type": "code",
   "execution_count": 19,
   "metadata": {
    "collapsed": true
   },
   "outputs": [],
   "source": [
    "eco_path = r\"C:\\Users\\Hannah\\Desktop\\Vanderbilt_REU\\Stellar_mass_env_density\\Catalogs\\ECO_true\"\n",
    "eco_cols = np.array([0,1,2,4])"
   ]
  },
  {
   "cell_type": "markdown",
   "metadata": {},
   "source": [
    "Importing original ECO data and running through all the necessary calculations. In order, converting to the Cartesian coordinate system, creating a cKD-Tree, and finding the distances to the 20 nearest neighbors. These distances are added to an array with the stellar masses. The densities of the nearest neighbor spheres are calculated, and a list with six arrays is created. Each array has two columns. One the mass and one density. These arrays are then sorted to return a list of indices based on the densities, low to high, of the spheres. These indices are used to put the mass values in order so when cuts by density are made, the percentiles are correct. The density is calculated for the sole purpose of ordering the masses so they can be fed to the histogram, in this case. (Although,now that I think of it, I could have just sorted by the distances, since the numerator stays the same. The smaller the distance, the larger the density of the sphere. Still, it could be useful to have the densities...at some point. They were definitely more useful with the density in a sphere analysis). The information for the stellar mass function, counts ratios, and median distance trends are calculated. With these, errors are also calculated, using some of the optional keywords."
   ]
  },
  {
   "cell_type": "code",
   "execution_count": 20,
   "metadata": {
    "collapsed": false
   },
   "outputs": [],
   "source": [
    "ECO_true = (Index(eco_path,'.txt'))\n",
    "names    = ['ra','dec','cz','logMstar']\n",
    "PD_eco   = pd.read_csv(ECO_true[0],sep=\"\\s+\", usecols=(eco_cols),header=None,\\\n",
    "                skiprows=1,names=names)\n",
    "eco_comp = PD_eco[PD_eco.logMstar >= 9.3]\n",
    "\n",
    "ra_eco   = (np.array(eco_comp)).T[0]\n",
    "dec_eco  = (np.array(eco_comp)).T[1] \n",
    "cz_eco   = (np.array(eco_comp)).T[2] \n",
    "mass_eco = (np.array(eco_comp)).T[3]\n",
    "\n",
    "coords_eco        = sph_to_cart(ra_eco,dec_eco,cz_eco)\n",
    "eco_neighbor_tree = spatial.cKDTree(coords_eco)\n",
    "eco_tree_dist     = np.array(eco_neighbor_tree.query(coords_eco,(neigh_vals[-1]+1))[0])\n",
    "\n",
    "eco_mass_dist = np.column_stack((mass_eco,eco_tree_dist.T[neigh_vals].T))\n",
    "eco_dens = ([calc_dens(neigh_vals[jj],\\\n",
    "            (eco_mass_dist.T[range(1,7)[jj]])) for jj in range(len(neigh_vals))])\n",
    "\n",
    "eco_mass_dens = [(np.column_stack((mass_eco,eco_dens[ii]))) for ii in range(len(neigh_vals))]\n",
    "eco_idx  = [(eco_mass_dens[jj].T[1].argsort()) for jj in range(len(neigh_vals))]\n",
    "eco_mass_dat  = [(eco_mass_dens[jj][eco_idx[jj]].T[0]) for jj in range(len(neigh_vals))]\n",
    "#eco_mass_dat should be the same length as neigh_vals\n",
    "\n",
    "eco_ratio_info    = [[] for xx in xrange(len(eco_mass_dat))]\n",
    "\n",
    "eco_bins = np.linspace(9.2,11.8,14)\n",
    "eco_dlogM = 0.2\n",
    "\n",
    "for qq in range(len(eco_mass_dat)):\n",
    "    bin_centers_eco, eco_freq, eco_ratio_info[qq] = plot_calcs(eco_mass_dat[qq],eco_bins,eco_dlogM,mass_err=True,ratio_err=True)\n",
    "\n",
    "eco_medians   = [[] for xx in xrange(len(eco_mass_dat))]    \n",
    "\n",
    "for jj in (range(len(eco_mass_dat))):\n",
    "    eco_medians[jj] = np.array(bin_func(eco_mass_dist,eco_bins,(jj+1),bootstrap=True))"
   ]
  },
  {
   "cell_type": "markdown",
   "metadata": {},
   "source": [
    "## Plotting Stellar Mass Function"
   ]
  },
  {
   "cell_type": "markdown",
   "metadata": {},
   "source": [
    "There was no need for a stand-alone function, as only one plot is being made. The mocks are plotted within the for-loop, but ECO is outside of this, as it need only be plotted once. The fill between is also quite straightforward, as long as the two arrays with maxes and mins are previosuly calculated."
   ]
  },
  {
   "cell_type": "code",
   "execution_count": 21,
   "metadata": {
    "collapsed": false
   },
   "outputs": [],
   "source": [
    "fig,ax  = plt.subplots(figsize=(8,8))\n",
    "ax.set_title('Mass Distribution',fontsize=18)\n",
    "ax.set_xlabel('$\\log\\ M_{*}$',fontsize=17)\n",
    "ax.set_yscale('log')\n",
    "ax.set_xlim(9.2,12.1)\n",
    "ax.tick_params(axis='both', labelsize=14)\n",
    "\n",
    "for ii in range(len(mass_freq)):\n",
    "    ax.plot(bin_centers_mock,mass_freq[ii],color='silver')\n",
    "    ax.fill_between(bin_centers_mock,max_lim,min_lim,color='silver',alpha=0.1)\n",
    "ax.errorbar(bin_centers_eco,eco_freq[0],yerr=eco_freq[1],color='limegreen',\\\n",
    "            linewidth=2,label='ECO')\n",
    "ax.legend(loc='best')\n",
    "\n",
    "plt.subplots_adjust(left=0.08, bottom=0.1, right=0.98, top=0.94,\\\n",
    "                    hspace=0.2,wspace=0.2)\n",
    "plt.show()"
   ]
  },
  {
   "cell_type": "markdown",
   "metadata": {},
   "source": [
    "## Plotting the 18 Density-Ranked, Mass Ratios"
   ]
  },
  {
   "cell_type": "markdown",
   "metadata": {},
   "source": [
    "Code for finding the upper and lower limits of the band formed by the minimum and maximum mock values. Rather intense, as information must be extracted, put into an array by column, and then compared across rows. Also difficult, as there are a number of infinities, which must be dealt with before one can properly find the max. These are replaced with NaN values to keep the number of values consistent. A dictionary is initialized,named, and given keys based on the nearest neighbor and frac_val. Each key is eventually assigned a list with two np.arrays housing the min and max information."
   ]
  },
  {
   "cell_type": "code",
   "execution_count": 22,
   "metadata": {
    "collapsed": false
   },
   "outputs": [
    {
     "name": "stderr",
     "output_type": "stream",
     "text": [
      "C:\\Users\\Hannah\\Anaconda2\\lib\\site-packages\\numpy\\lib\\nanfunctions.py:326: RuntimeWarning: All-NaN slice encountered\n",
      "  warnings.warn(\"All-NaN slice encountered\", RuntimeWarning)\n",
      "C:\\Users\\Hannah\\Anaconda2\\lib\\site-packages\\numpy\\lib\\nanfunctions.py:227: RuntimeWarning: All-NaN axis encountered\n",
      "  warnings.warn(\"All-NaN axis encountered\", RuntimeWarning)\n"
     ]
    }
   ],
   "source": [
    "A = {}\n",
    "nn_dict   = {1:0,2:1,3:2,5:3,10:4,20:5}\n",
    "coln_dict = {2:0,4:1,10:2}\n",
    "\n",
    "nn_keys  = np.sort(nn_dict.keys())\n",
    "col_keys = np.sort(coln_dict.keys())\n",
    "zz_num   = len(plot_frac_arr[nn_dict[1]][coln_dict[2]])\n",
    "\n",
    "for nn in nn_keys:\n",
    "    for coln in col_keys:\n",
    "        bin_str    = '{0}_{1}'.format(nn,coln)\n",
    "        for cc in range(zz_num):\n",
    "            zz_arr = np.array(plot_frac_arr[nn_dict[nn]][coln_dict[coln]][cc])\n",
    "            n_elem = len(zz_arr)\n",
    "            if cc == 0:\n",
    "                zz_tot = np.zeros((n_elem,1))\n",
    "            zz_tot = np.insert(zz_tot,len(zz_tot.T),zz_arr,1)\n",
    "        zz_tot = np.array(np.delete(zz_tot,0,axis=1))\n",
    "        for kk in xrange(len(zz_tot)):\n",
    "            zz_tot[kk][zz_tot[kk] == np.inf] = np.nan\n",
    "        zz_tot_max = [np.nanmax(zz_tot[kk]) for kk in xrange(len(zz_tot))]\n",
    "        zz_tot_min = [np.nanmin(zz_tot[kk]) for kk in xrange(len(zz_tot))]\n",
    "        A[bin_str] = [zz_tot_max,zz_tot_min]"
   ]
  },
  {
   "cell_type": "code",
   "execution_count": 23,
   "metadata": {
    "collapsed": false
   },
   "outputs": [],
   "source": [
    "np.seterr(divide='ignore',invalid='ignore')\n",
    "\n",
    "nrow_num = int(6)\n",
    "ncol_num = int(3)\n",
    "zz       = int(0)\n",
    "\n",
    "fig, axes = plt.subplots(nrows=nrow_num, ncols=ncol_num, \\\n",
    "            figsize=(100,200), sharex= True,sharey=True)\n",
    "axes_flat = axes.flatten()\n",
    "# fig.suptitle(\"Percentile Trends\", fontsize=18)\n",
    "\n",
    "while zz <= 16:\n",
    "    for ii in range(len(eco_ratio_info)):\n",
    "        for hh in range(len(eco_ratio_info[0][1])):\n",
    "            for jj in range(len(nn_mass_dist)):\n",
    "                upper = A['{0}_{1}'.format(neigh_vals[ii],frac_vals[hh])][0]\n",
    "                lower  = A['{0}_{1}'.format(neigh_vals[ii],frac_vals[hh])][1]\n",
    "                plot_bands(bin_centers_mock,upper,lower,axes_flat[zz])\n",
    "                plot_all_rats(bin_centers_mock,(plot_frac_arr[ii][hh][jj]),\\\n",
    "                              neigh_vals[ii],axes_flat[zz],hh,zz)\n",
    "            plot_eco_rats(bin_centers_eco,(eco_ratio_info[ii]),neigh_vals[ii],axes_flat[zz],hh,zz)\n",
    "            zz += 1\n",
    "\n",
    "plt.subplots_adjust(left=0.02, bottom=0.09, right=1.00, top=1.00,\\\n",
    "                    hspace=0,wspace=0)\n",
    "\n",
    "plt.show()"
   ]
  },
  {
   "cell_type": "code",
   "execution_count": 24,
   "metadata": {
    "collapsed": false
   },
   "outputs": [],
   "source": [
    "# #######################PLOTTING ONLY ECO RATIOS\n",
    "# np.seterr(divide='ignore',invalid='ignore')\n",
    "\n",
    "# nrow_num = int(6)\n",
    "# ncol_num = int(3)\n",
    "# zz       = int(0)\n",
    "\n",
    "# fig, axes = plt.subplots(nrows=nrow_num, ncols=ncol_num, \\\n",
    "#             figsize=(100,200), sharex= True,sharey=True)\n",
    "# axes_flat = axes.flatten()\n",
    "# # fig.suptitle(\"Percentile Trends\", fontsize=18)\n",
    "\n",
    "# while zz <= 16:\n",
    "#     for ii in range(len(eco_ratio_info)):\n",
    "#         for hh in range(len(eco_ratio_info[0][1])):\n",
    "#             plot_eco_rats(bin_centers,(eco_ratio_info[ii]),neigh_vals[ii],axes_flat[zz],hh,zz,only=True)\n",
    "#             zz += 1\n",
    "\n",
    "# plt.subplots_adjust(left=0.02, bottom=0.09, right=1.00, top=1.00,\\\n",
    "#                     hspace=0,wspace=0)\n",
    "\n",
    "# plt.show()"
   ]
  },
  {
   "cell_type": "markdown",
   "metadata": {},
   "source": [
    "## Plotting the Median Distance Trends "
   ]
  },
  {
   "cell_type": "markdown",
   "metadata": {},
   "source": [
    "Another dictionary is made for the max and min values of the mock median distance trends. The mock trends, ECO trends, and bands are then plotted."
   ]
  },
  {
   "cell_type": "code",
   "execution_count": 25,
   "metadata": {
    "collapsed": false
   },
   "outputs": [],
   "source": [
    "B = {}\n",
    "yy_num = len(med_plot_arr[0])\n",
    "\n",
    "for nn in range(len(med_plot_arr)):\n",
    "    for ii in range(yy_num):\n",
    "        med_str  = '{0}'.format(nn)\n",
    "        yy_arr   = med_plot_arr[nn][ii]\n",
    "        n_y_elem = len(yy_arr)\n",
    "        if ii == 0:\n",
    "            yy_tot = np.zeros((n_y_elem,1))\n",
    "        yy_tot = np.insert(yy_tot,len(yy_tot.T),yy_arr,1)\n",
    "    yy_tot = np.array(np.delete(yy_tot,0,axis=1))\n",
    "    yy_tot_max = [np.nanmax(yy_tot[kk]) for kk in xrange(len(yy_tot))]\n",
    "    yy_tot_min = [np.nanmin(yy_tot[kk]) for kk in xrange(len(yy_tot))]\n",
    "    B[med_str] = [yy_tot_max,yy_tot_min]"
   ]
  },
  {
   "cell_type": "code",
   "execution_count": 26,
   "metadata": {
    "collapsed": false
   },
   "outputs": [
    {
     "name": "stdout",
     "output_type": "stream",
     "text": [
      "[ 7.68818334  7.57722749  7.57031053  7.6415206   7.42341358  7.73385263\n",
      "  7.35557456  6.78905292  7.004573    5.96044647  5.92693519  4.53831292\n",
      "         nan]\n"
     ]
    }
   ],
   "source": [
    "print yy_arr"
   ]
  },
  {
   "cell_type": "code",
   "execution_count": 27,
   "metadata": {
    "collapsed": false
   },
   "outputs": [
    {
     "name": "stdout",
     "output_type": "stream",
     "text": [
      "13\n"
     ]
    }
   ],
   "source": [
    "print n_y_elem"
   ]
  },
  {
   "cell_type": "code",
   "execution_count": 28,
   "metadata": {
    "collapsed": false
   },
   "outputs": [
    {
     "name": "stdout",
     "output_type": "stream",
     "text": [
      "13\n"
     ]
    }
   ],
   "source": [
    "print len(med_plot_arr[0][0])"
   ]
  },
  {
   "cell_type": "code",
   "execution_count": 29,
   "metadata": {
    "collapsed": false
   },
   "outputs": [],
   "source": [
    "nrow_num_mass = int(2)\n",
    "ncol_num_mass = int(3)\n",
    "\n",
    "fig, axes = plt.subplots(nrows=nrow_num_mass, ncols=ncol_num_mass, \\\n",
    "        figsize=(100,200), sharex= True, sharey = True)\n",
    "axes_flat = axes.flatten()\n",
    "\n",
    "zz = int(0)\n",
    "while zz <=4:\n",
    "    for ii in range(len(med_plot_arr)):\n",
    "        for vv in range(len(nn_mass_dist)):\n",
    "                lower_m  = B['{0}'.format(ii)][0]\n",
    "                upper_m  = B['{0}'.format(ii)][1]\n",
    "                plot_bands(bin_centers_mock,upper_m,lower_m,axes_flat[zz])\n",
    "                plot_all_meds(bin_centers_mock,med_plot_arr[ii][vv],axes_flat[zz],zz)\n",
    "                plot_eco_meds(bin_centers_eco,eco_medians[ii][0],\\\n",
    "                              eco_medians[ii][1],eco_medians[ii][2],axes_flat[zz],zz)\n",
    "        zz   += 1\n",
    "        \n",
    "plt.subplots_adjust(left=0.05, bottom=0.09, right=1.00, top=1.00,\\\n",
    "            hspace=0,wspace=0)\n",
    "plt.show()"
   ]
  },
  {
   "cell_type": "code",
   "execution_count": 30,
   "metadata": {
    "collapsed": false
   },
   "outputs": [],
   "source": [
    "# ######PLOTTING ONLY ECO MED TRENDS\n",
    "\n",
    "# nrow_num_mass = int(2)\n",
    "# ncol_num_mass = int(3)\n",
    "\n",
    "# fig, axes = plt.subplots(nrows=nrow_num_mass, ncols=ncol_num_mass, \\\n",
    "#         figsize=(100,200), sharex= True, sharey = True)\n",
    "# axes_flat = axes.flatten()\n",
    "\n",
    "# zz = int(0)\n",
    "# while zz <=4:\n",
    "#     for ii in range(len(med_plot_arr)):\n",
    "#         plot_eco_meds(bin_centers,eco_medians[ii][0],\\\n",
    "#                         eco_medians[ii][1],eco_medians[ii][2],axes_flat[zz],zz,only=True)\n",
    "#         zz   += 1\n",
    "        \n",
    "# plt.subplots_adjust(left=0.05, bottom=0.09, right=1.00, top=1.00,\\\n",
    "#             hspace=0,wspace=0)\n",
    "# plt.show()"
   ]
  }
 ],
 "metadata": {
  "kernelspec": {
   "display_name": "Python 2",
   "language": "python",
   "name": "python2"
  },
  "language_info": {
   "codemirror_mode": {
    "name": "ipython",
    "version": 2
   },
   "file_extension": ".py",
   "mimetype": "text/x-python",
   "name": "python",
   "nbconvert_exporter": "python",
   "pygments_lexer": "ipython2",
   "version": "2.7.11"
  }
 },
 "nbformat": 4,
 "nbformat_minor": 0
}
