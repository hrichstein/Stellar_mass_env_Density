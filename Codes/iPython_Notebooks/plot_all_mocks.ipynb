{
 "cells": [
  {
   "cell_type": "markdown",
   "metadata": {},
   "source": [
    "# Import Needed Modules"
   ]
  },
  {
   "cell_type": "code",
   "execution_count": 1,
   "metadata": {
    "collapsed": true
   },
   "outputs": [],
   "source": [
    "from __future__ import division, absolute_import\n",
    "\n",
    "import astropy.stats\n",
    "import glob\n",
    "from math import exp\n",
    "import matplotlib.pyplot as plt \n",
    "from matplotlib import ticker\n",
    "from matplotlib.ticker import FormatStrFormatter\n",
    "import numpy as np \n",
    "import os\n",
    "import pandas as pd\n",
    "from scipy import optimize,spatial"
   ]
  },
  {
   "cell_type": "markdown",
   "metadata": {},
   "source": [
    "# Define Needed Functions"
   ]
  },
  {
   "cell_type": "markdown",
   "metadata": {},
   "source": [
    "### Index Function"
   ]
  },
  {
   "cell_type": "markdown",
   "metadata": {},
   "source": [
    "Creates an array with each element referring to a specific file, in this case, the different mock catalogs."
   ]
  },
  {
   "cell_type": "code",
   "execution_count": 2,
   "metadata": {
    "collapsed": true
   },
   "outputs": [],
   "source": [
    "__author__     =['Victor Calderon']\n",
    "__copyright__  =[\"Copyright 2016 Victor Calderon, Index function\"]\n",
    "__email__      =['victor.calderon@vanderbilt.edu']\n",
    "__maintainer__ =['Victor Calderon']\n",
    "\n",
    "def Index(directory, datatype):\n",
    "    \"\"\"\n",
    "    Indexes the files in a directory `directory' with a\n",
    "    specific data type.\n",
    "\n",
    "    Parameters\n",
    "    ----------\n",
    "    directory: str\n",
    "            Absolute path to the folder that is indexed.\n",
    "\n",
    "    datatype: str\n",
    "            Data type of the files to be indexed in the folder.\n",
    "\n",
    "    Returns\n",
    "    -------\n",
    "    file_array: array_like \n",
    "            np.array of indexed files in the folder 'directory' \n",
    "            with specific datatype.\n",
    "\n",
    "    Examples\n",
    "    --------\n",
    "    >>> Index('~/data', '.txt')\n",
    "    >>> array(['A.txt', 'Z'.txt', ...])\n",
    "    \"\"\"\n",
    "    assert(os.path.exists(directory))\n",
    "    files = np.array(glob.glob('{0}/*{1}'.format(directory, datatype)))\n",
    "\n",
    "    return files"
   ]
  },
  {
   "cell_type": "markdown",
   "metadata": {},
   "source": [
    "### Covert Spherical Coordinates into Cartestian"
   ]
  },
  {
   "cell_type": "markdown",
   "metadata": {},
   "source": [
    "Assuming the mock catalogs give the right ascension and declination values in degrees, this converts them to radians and then gives values in 3D Cartesian space. Assuming cz values are given in km/s, this divides by the Hubble constant to give the distance in Mpc, and then converts them to 3D Cartesian space."
   ]
  },
  {
   "cell_type": "code",
   "execution_count": 3,
   "metadata": {
    "collapsed": true
   },
   "outputs": [],
   "source": [
    "def sph_to_cart(ra,dec,cz):\n",
    "    \"\"\"\n",
    "    Converts spherical coordinates to Cartesian coordinates.\n",
    "\n",
    "    Parameters\n",
    "    ----------\n",
    "    ra: array-like\n",
    "        right-ascension of galaxies in degrees\n",
    "    dec: array-like\n",
    "        declination of galaxies in degrees\n",
    "    cz: array-like\n",
    "        velocity of galaxies in km/s\n",
    "\n",
    "    Returns\n",
    "    -------\n",
    "    coords: array-like, shape = N by 3\n",
    "        x, y, and z coordinates\n",
    "    \"\"\"\n",
    "    cz_dist = cz/70. #converts velocity into distance\n",
    "    x_arr   = cz_dist*np.cos(np.radians(ra))*np.cos(np.radians(dec))\n",
    "    y_arr   = cz_dist*np.sin(np.radians(ra))*np.cos(np.radians(dec))\n",
    "    z_arr   = cz_dist*np.sin(np.radians(dec))\n",
    "    coords  = np.column_stack((x_arr,y_arr,z_arr))\n",
    "\n",
    "    return coords"
   ]
  },
  {
   "cell_type": "markdown",
   "metadata": {},
   "source": [
    "### Calculating Nth Nearest Neighbor Sphere Density"
   ]
  },
  {
   "cell_type": "markdown",
   "metadata": {},
   "source": [
    "This returns the densities, which will eventually be ranked and used to determine the density-cut, mass histogram ratios."
   ]
  },
  {
   "cell_type": "code",
   "execution_count": 4,
   "metadata": {
    "collapsed": true
   },
   "outputs": [],
   "source": [
    "def calc_dens(n_val,r_val):\n",
    "    \"\"\"\n",
    "    Returns densities of spheres with radius being the distance to the \n",
    "        nth nearest neighbor.\n",
    "\n",
    "    Parameters\n",
    "    ----------\n",
    "    n_val = integer\n",
    "        The 'N' from Nth nearest neighbor\n",
    "    r_val = array-like\n",
    "        An array with the distances to the Nth nearest neighbor for\n",
    "        each galaxy\n",
    "\n",
    "    Returns\n",
    "    -------\n",
    "    dens: array-like\n",
    "        An array with the densities of the spheres created with radii\n",
    "        to the Nth nearest neighbor.\n",
    "    \"\"\"\n",
    "    dens = np.array([(3.*(n_val+1)/(4.*np.pi*r_val[hh]**3)) \\\n",
    "                     for hh in range(len(r_val))])\n",
    "\n",
    "    return dens"
   ]
  },
  {
   "cell_type": "markdown",
   "metadata": {},
   "source": [
    "### Calculating Stellar Mass Function and Density-Based, Mass Ratios"
   ]
  },
  {
   "cell_type": "markdown",
   "metadata": {},
   "source": [
    "This returns the values needed to plot the stellar mass function, with errorbars for ECO, and the three mass ratios corresponding to each NN value, also with errors for ECO."
   ]
  },
  {
   "cell_type": "code",
   "execution_count": 5,
   "metadata": {
    "collapsed": true
   },
   "outputs": [],
   "source": [
    "def plot_calcs(mass,bins,dlogM,mass_err=False,ratio_err=False):\n",
    "    \"\"\"\n",
    "    Returns values for plotting the stellar mass function and \n",
    "        mass ratios\n",
    "\n",
    "    Parameters\n",
    "    ----------\n",
    "    mass: array-like\n",
    "        A 1D array with mass values\n",
    "    bins: array=like\n",
    "        A 1D array with the values which will be used as the bin edges\n",
    "        by the histogram function\n",
    "    dlogM: float-like\n",
    "        The log difference between bin edges\n",
    "    \n",
    "    Optional\n",
    "    --------\n",
    "    mass_err  == True\n",
    "        Calculates the Poisson errors on the stellar mass function.\n",
    "        Returns mass_freq as a list with 2 array elements, the first being\n",
    "        the stellar mass function values, the second being the errors.\n",
    "    ratio_err == True\n",
    "        Calculates the Poisson errors on the density-based, mass ratios.\n",
    "        Creates empty list and appends ratio error arrays to it as they \n",
    "        are generated. Returns ratio_dict as a list. The first element is \n",
    "        a dictionary with the ratio values to be plotted. The second is a\n",
    "        three element list. Each element is an array with the error values \n",
    "        for each of the three density-cut ratios.\n",
    "\n",
    "    Returns\n",
    "    -------\n",
    "    bin_centers: array-like\n",
    "        An array with the medians mass values of the mass bins\n",
    "    mass-freq: array-like\n",
    "        Contains the number density values of each mass bin\n",
    "    ratio_dict: dictionary-like\n",
    "        A dictionary with three keys, corresponding to the divisors\n",
    "        2,4, and 10 (as the percentile cuts are based on these \n",
    "        divisions). Each key has the density-cut, mass ratios for\n",
    "        that specific cut (50/50 for 2; 25/75 for 4; 10/90 for 10).\n",
    "    \"\"\"\n",
    "\n",
    "    mass_counts, edges = np.histogram(mass,bins)\n",
    "    bin_centers        = 0.5*(edges[:-1]+edges[1:])\n",
    "\n",
    "    mass_freq  = mass_counts/float(len(mass))/dlogM\n",
    "\n",
    "    ratio_dict = {}\n",
    "    frac_val   = [2,4,10]\n",
    "    \n",
    "    if ratio_err == True:\n",
    "        yerr = []\n",
    "\n",
    "    for ii in frac_val:\n",
    "        ratio_dict[ii] = {}\n",
    "\n",
    "        # Calculations for the lower density cut\n",
    "        frac_data      = int(len(mass)/ii)\n",
    "        frac_mass      = mass[0:frac_data]\n",
    "        counts, edges  = np.histogram(frac_mass,bins)\n",
    "\n",
    "        # Calculations for the higher density cut\n",
    "        frac_mass_2       = mass[-frac_data:]\n",
    "        counts_2, edges_2 = np.histogram(frac_mass_2,bins)\n",
    "\n",
    "        # Ratio determination\n",
    "        ratio_counts   = (1.*counts_2)/(1.*counts)\n",
    "        ratio_dict[ii] = ratio_counts\n",
    "\n",
    "        if ratio_err == True:\n",
    "            yerr.append((counts_2*1.)/(counts*1.)*np.sqrt(1./counts + 1./counts_2))\n",
    "\n",
    "    if mass_err == True:\n",
    "        mass_freq_list     = [[] for xx in xrange(2)]\n",
    "        mass_freq_list[0]  = mass_freq\n",
    "        mass_freq_list[1]  = np.sqrt(mass_counts)/float(len(mass))/dlogM\n",
    "        mass_freq          = np.array(mass_freq_list)\n",
    "\n",
    "    if ratio_err == True:\n",
    "        ratio_dict_list    = [[] for xx in range(2)]\n",
    "        ratio_dict_list[0] = ratio_dict\n",
    "        ratio_dict_list[1] = yerr\n",
    "        ratio_dict         = ratio_dict_list\n",
    "\n",
    "    return bin_centers, mass_freq, ratio_dict"
   ]
  },
  {
   "cell_type": "markdown",
   "metadata": {},
   "source": [
    "### Calculating Median Trends and Bootstrap Errors"
   ]
  },
  {
   "cell_type": "markdown",
   "metadata": {},
   "source": [
    "This returns the median distance to the Nth nearest neighbor considering all the galaxies in each bin. Bootstrap errors are also calculated if specified (for ECO).  They will not always calculate correctly, as some of the mocks do not have galaxies in every bin."
   ]
  },
  {
   "cell_type": "code",
   "execution_count": 6,
   "metadata": {
    "collapsed": false
   },
   "outputs": [],
   "source": [
    "def bin_func(mass_dist,bins,kk,bootstrap=False):\n",
    "    \"\"\"\n",
    "    Returns median distance to Nth nearest neighbor\n",
    "\n",
    "    Parameters\n",
    "    ----------\n",
    "    mass_dist: array-like\n",
    "        An array with mass values in at index 0 (when transformed) and distance to the Nth \n",
    "        nearest neighbor in the others\n",
    "        Example: 6239 by 7\n",
    "            Has mass values and distances to 6 Nth nearest neighbors   \n",
    "    bins: array=like\n",
    "        A 1D array with the values which will be used as the bin edges\n",
    "        by the histogram function\n",
    "    kk: integer-like\n",
    "        The index of mass_dist (transformed) where the appropriate distance array may be found\n",
    "\n",
    "    Optional\n",
    "    --------\n",
    "    bootstrap == True\n",
    "        Calculates the bootstrap errors associated with each median distance value.\n",
    "        Creates an array housing arrays containing the actual distance values\n",
    "        associated with every galaxy in a specific bin. Bootstrap error is then \n",
    "        performed using astropy, and upper and lower one sigma values are found\n",
    "        for each median value.  These are added to a list with the median distances, \n",
    "        and then converted to an array and returned in place of just 'medians.'\n",
    "\n",
    "    Returns\n",
    "    -------\n",
    "    medians: array-like\n",
    "        An array with the median distance to the Nth nearest neighbor from \n",
    "        all the galaxies in each of the bins\n",
    "    \"\"\"\n",
    "    edges        = bins\n",
    "    digitized    = np.digitize(mass_dist.T[0],edges)\n",
    "    digitized   -= int(1)\n",
    "\n",
    "    bin_nums     = np.unique(digitized)\n",
    "    bin_nums     = list(bin_nums)\n",
    "#necessary measure, as some catalogs have galaxies beyond the upper edge\n",
    "#of the mass bins I chose. need to keep the dimensions the same for plotting\n",
    "    if 14 in bin_nums:\n",
    "        bin_nums.remove(14)\n",
    "        bin_nums = np.array(bin_nums)\n",
    "    \n",
    "    medians      = np.array([np.median(mass_dist.T[kk][digitized==ii]) for ii in bin_nums])\n",
    "\n",
    "    if bootstrap == True:\n",
    "        dist_in_bin    = np.array([(mass_dist.T[kk][digitized==ii]) for ii in bin_nums])\n",
    "#the bootstrap will not work if there are no samples in a bin\n",
    "#don't have this problem currently, based on the binning, but ECO is sensitive to this\n",
    "#this populates the empty bin with zeros for where each expected value would have been\n",
    "        for vv in range(len(dist_in_bin)):\n",
    "            if len(dist_in_bin[vv]) == 0:\n",
    "                dist_in_bin_list = list(dist_in_bin[vv])\n",
    "                dist_in_bin[vv]  = np.zeros(len(dist_in_bin[0]))\n",
    "        low_err_test   = np.array([np.percentile(astropy.stats.bootstrap\\\n",
    "                        (dist_in_bin[vv],bootnum=1000,bootfunc=np.median),16) for vv\\\n",
    "                                     in range(len(dist_in_bin))])\n",
    "        high_err_test  = np.array([np.percentile(astropy.stats.bootstrap\\\n",
    "                        (dist_in_bin[vv],bootnum=1000,bootfunc=np.median),84) for vv\\\n",
    "                                     in range(len(dist_in_bin))])\n",
    "\n",
    "        med_list       = [[] for yy in range(len(frac_vals))]\n",
    "        med_list[0]    = medians\n",
    "        med_list[1]    = low_err_test\n",
    "        med_list[2]    = high_err_test\n",
    "        medians        = np.array(med_list)\n",
    "\n",
    "    return medians    "
   ]
  },
  {
   "cell_type": "markdown",
   "metadata": {},
   "source": [
    "### Calculating Histogram Values, From Which the Ratios Are Calculated"
   ]
  },
  {
   "cell_type": "markdown",
   "metadata": {},
   "source": [
    "This function is for after the fact creating dictionaries with the counts used in the histogram plots. If I were more resourceful and less scared of breaking my code, I could incorporate this into the plot_calc function. Incidentally, this is not for plotting directly, but for eventually figuring out the max and min values for the fill_between."
   ]
  },
  {
   "cell_type": "code",
   "execution_count": 7,
   "metadata": {
    "collapsed": true
   },
   "outputs": [],
   "source": [
    "def hist_calcs(mass,bins,dlogM):\n",
    "    \"\"\"\n",
    "    Returns dictionaries with the counts for the upper\n",
    "        and lower density portions; calculates the \n",
    "        three different percentile cuts for each mass\n",
    "        array given\n",
    "    \n",
    "    Parameters\n",
    "    ----------\n",
    "    mass: array-like\n",
    "        A 1D array with log stellar mass values, assumed\n",
    "        to be an order which corresponds to the ascending \n",
    "        densities; (necessary, as the index cuts are based \n",
    "        on this)\n",
    "    bins: array-like\n",
    "        A 1D array with the values which will be used as the bin edges   \n",
    "    dlogM: float-like\n",
    "        The log difference between bin edges\n",
    "        \n",
    "    Returns\n",
    "    -------\n",
    "    hist_dict_low: dictionary-like\n",
    "        A dictionary with three keys (the frac vals), with arrays\n",
    "        as values. The values for the lower density cut\n",
    "    hist_dict_high: dictionary like\n",
    "        A dictionary with three keys (the frac vals), with arrays\n",
    "        as values. The values for the higher density cut\n",
    "    \"\"\"\n",
    "    hist_dict_low  = {}\n",
    "    hist_dict_high = {}\n",
    "    frac_val = np.array([2,4,10])\n",
    "    \n",
    "    for ii in frac_val:\n",
    "        hist_dict_low[ii]  = {}\n",
    "        hist_dict_high[ii] = {}\n",
    "    \n",
    "        frac_data     = int(len(mass)/ii)\n",
    "        \n",
    "        frac_mass     = mass[0:frac_data]\n",
    "        counts, edges = np.histogram(frac_mass,bins)\n",
    "        low_counts    = (counts/float(len(frac_mass))/dlogM)\n",
    "        \n",
    "        hist_dict_low[ii]  = low_counts\n",
    "\n",
    "        frac_mass_2        = mass[-frac_data:]\n",
    "        counts_2, edges_2  = np.histogram(frac_mass_2,bins)\n",
    "        high_counts        = (counts_2/float(len(frac_mass_2))/dlogM)\n",
    "        \n",
    "        hist_dict_high[ii] = high_counts\n",
    "    \n",
    "    return hist_dict_low, hist_dict_high"
   ]
  },
  {
   "cell_type": "markdown",
   "metadata": {},
   "source": [
    "### Plotting Density-Cut, Mass Ratios"
   ]
  },
  {
   "cell_type": "markdown",
   "metadata": {},
   "source": [
    "Plots ratios to a previously initialized figure. Works optimally in a strong for-loop."
   ]
  },
  {
   "cell_type": "code",
   "execution_count": 8,
   "metadata": {
    "collapsed": false
   },
   "outputs": [],
   "source": [
    "def plot_all_rats(bin_centers,y_vals,neigh_val,ax,col_num,plot_idx):\n",
    "    \"\"\"\n",
    "    Returns a plot showing the density-cut, mass ratio.  Optimally\n",
    "        used with a well-initiated for-loop\n",
    "        \n",
    "    Parameters\n",
    "    ----------\n",
    "    bin_centers: array-like\n",
    "        An array with the medians mass values of the mass bins\n",
    "    y_vals: array-like\n",
    "        An array containing the ratio values for each mass bin\n",
    "    neigh_val: integer-like\n",
    "        Value which will be inserted into the text label of each plot\n",
    "    ax: axis-like\n",
    "        A value which specifies which axis each subplot is to be \n",
    "        plotted to\n",
    "    col_num: integer-like\n",
    "        Integer which specifies which column is currently being \n",
    "        plotted. Used for labelling subplots\n",
    "    plot_idx: integer-like\n",
    "        Specifies which subplot the figure is plotted to. Used for\n",
    "        labeling the x-axis\n",
    "        \n",
    "    Returns\n",
    "    -------\n",
    "    Figure with three subplots showing appropriate ratios\n",
    "    \"\"\"\n",
    "    if plot_idx     ==16:\n",
    "        ax.set_xlabel('$\\log\\ M_{*}$',fontsize=18)\n",
    "    if col_num      ==0:\n",
    "        title_label = 'Mass Ratio 50/50, {0} NN'.format(neigh_val)\n",
    "        frac_val    = 10\n",
    "        ax.text(0.05, 0.95, title_label,horizontalalignment='left',\\\n",
    "                verticalalignment='top',transform=ax.transAxes,fontsize=12)\n",
    "    elif col_num    ==1:\n",
    "        title_label = 'Mass Ratio 25/75, {0} NN'.format(neigh_val)\n",
    "        frac_val    = 4\n",
    "        ax.text(0.05, 0.95, title_label,horizontalalignment='left',\\\n",
    "                verticalalignment='top',transform=ax.transAxes,fontsize=12)\n",
    "    elif col_num    ==2:\n",
    "        title_label = 'Mass Ratio 10/90, {0} NN'.format(neigh_val)\n",
    "        frac_val    = 2\n",
    "        ax.text(0.05, 0.95, title_label,horizontalalignment='left',\\\n",
    "                verticalalignment='top',transform=ax.transAxes,fontsize=12)\n",
    "    ax.set_xlim(9.1,11.9)\n",
    "    ax.set_ylim([0,10])\n",
    "    ax.set_xticks(np.arange(9.5, 12., 0.5))\n",
    "    ax.set_yticks([1.,3.,5.,7.])\n",
    "    ax.tick_params(axis='both', labelsize=12)\n",
    "    ax.axhline(y=1,c=\"darkorchid\",linewidth=0.5,zorder=0)\n",
    "    ax.plot(bin_centers,y_vals,color='silver')"
   ]
  },
  {
   "cell_type": "markdown",
   "metadata": {},
   "source": [
    "### Plotting ECO Ratios"
   ]
  },
  {
   "cell_type": "markdown",
   "metadata": {},
   "source": [
    "This can plot either the eighteen ECO ratios by themselves or on top of previously plotted subplots."
   ]
  },
  {
   "cell_type": "code",
   "execution_count": 9,
   "metadata": {
    "collapsed": true
   },
   "outputs": [],
   "source": [
    "def plot_eco_rats(bin_centers,y_vals,neigh_val,ax,col_num,plot_idx,only=False):\n",
    "    \"\"\"\n",
    "    Returns subplots of ECO density-cut,mass ratios\n",
    "    \n",
    "    Parameters\n",
    "    ----------\n",
    "    bin_centers: array-like\n",
    "        An array with the medians mass values of the mass bins\n",
    "    y_vals: array-like\n",
    "        An array containing the ratio values for each mass bin\n",
    "    neigh_val: integer-like\n",
    "        Value which will be inserted into the text label of each plot\n",
    "    ax: axis-like\n",
    "        A value which specifies which axis each subplot is to be \n",
    "        plotted to\n",
    "    col_num: integer-like\n",
    "        Integer which specifies which column is currently being \n",
    "        plotted. Used for labelling subplots\n",
    "    plot_idx: integer-like\n",
    "        Specifies which subplot the figure is plotted to. Used for\n",
    "        labeling the x-axis\n",
    "    \n",
    "    Optional\n",
    "    --------\n",
    "    only == True\n",
    "        To be used when only plotting the ECO ratios, no mocks.\n",
    "        Will add in the additional plotting specifications that\n",
    "        would have been taken care of previously in a for-loop\n",
    "        which plotted the mocks as well\n",
    "        \n",
    "    Returns\n",
    "    -------\n",
    "    ECO ratios plotted to any previously initialized figure\n",
    "    \"\"\"\n",
    "    if only == True:\n",
    "        if plot_idx     ==16:\n",
    "            ax.set_xlabel('$\\log\\ M_{*}$',fontsize=18)\n",
    "        if col_num      ==0:\n",
    "            title_label = 'Mass Ratio 50/50, {0} NN'.format(neigh_val)\n",
    "            frac_val    = 10\n",
    "            ax.text(0.05, 0.95, title_label,horizontalalignment='left',\\\n",
    "                    verticalalignment='top',transform=ax.transAxes,fontsize=12)\n",
    "        elif col_num    ==1:\n",
    "            title_label = 'Mass Ratio 25/75, {0} NN'.format(neigh_val)\n",
    "            frac_val    = 4\n",
    "            ax.text(0.05, 0.95, title_label,horizontalalignment='left',\\\n",
    "                    verticalalignment='top',transform=ax.transAxes,fontsize=12)\n",
    "        elif col_num    ==2:\n",
    "            title_label = 'Mass Ratio 10/90, {0} NN'.format(neigh_val)\n",
    "            frac_val    = 2\n",
    "            ax.text(0.05, 0.95, title_label,horizontalalignment='left',\\\n",
    "                    verticalalignment='top',transform=ax.transAxes,fontsize=12)\n",
    "        ax.set_xlim(9.1,11.9)\n",
    "        ax.set_ylim([0,5])\n",
    "        ax.set_xticks(np.arange(9.5, 12., 0.5))\n",
    "        ax.set_yticks([1.,3.])\n",
    "        ax.tick_params(axis='both', labelsize=12)\n",
    "        ax.axhline(y=1,c=\"darkorchid\",linewidth=0.5,zorder=0)\n",
    "    frac_vals = np.array([2,4,10])\n",
    "    y_vals_2 = y_vals[0][frac_vals[hh]]\n",
    "    ax.errorbar(bin_centers,y_vals_2,yerr=y_vals[1][hh],\\\n",
    "                color='deeppink',linewidth=2)\n",
    "#for some reason, whenever I give this frac_vals as an argument, it won't recognize it as an array. \n",
    "#And then it will begin with 10, rather than 2; even when I have it tell me what frac val it's using, \n",
    "#and then have the for loop do so as well, they do not line up\n",
    "#also, it plots only ECO differently than when there are multiple curves, and it changes \n",
    "#the xlims. So I set them. And then, it made the 17th indexed plot slightly off, so I changed the xticks\n",
    "#as well"
   ]
  },
  {
   "cell_type": "markdown",
   "metadata": {},
   "source": [
    "### Plotting Histograms (From Which the Ratios are Derived)"
   ]
  },
  {
   "cell_type": "code",
   "execution_count": 10,
   "metadata": {
    "collapsed": true
   },
   "outputs": [],
   "source": [
    "def plot_hists(mass,neigh_val,bins,dlogM,ax,col_num,plot_idx):\n",
    "    \"\"\"\n",
    "    Returns a plot showing the density-cut, mass counts.\n",
    "    \n",
    "    Parameters\n",
    "    ----------\n",
    "    mass: array-like\n",
    "        A 1D array with log stellar mass values\n",
    "    neigh_val: integer-like\n",
    "        Value which will be inserted into the text label of each plot\n",
    "    bins: array-like\n",
    "        A 1D array with the values which will be used as the bin edges   \n",
    "    dlogM: float-like\n",
    "        The log difference between bin edges\n",
    "    ax: axis-like\n",
    "        A value which specifies which axis each subplot is to be \n",
    "        plotted to\n",
    "    col_num: integer-like\n",
    "        Integer which specifies which column is currently being \n",
    "        plotted. Used for labelling subplots\n",
    "    plot_idx: integer-like\n",
    "        Specifies which subplot the figure is plotted to. Used for\n",
    "        labeling the x-axis\n",
    "        \n",
    "    Returns\n",
    "    -------\n",
    "    Figure with two curves, optionally (if uncommented) plotted in step\n",
    "    \n",
    "    \"\"\"\n",
    "    ax.set_yscale('log')\n",
    "    if col_num==0:\n",
    "        title_label = 'Mass 50/50, {0} NN'.format(neigh_val)\n",
    "        frac_val    = 2\n",
    "        ax.text(0.05, 0.95, title_label,horizontalalignment='left',\\\n",
    "                verticalalignment='top',transform=ax.transAxes,fontsize=12)\n",
    "    elif col_num==1:\n",
    "        title_label = 'Mass 25/75, {0} NN'.format(neigh_val)\n",
    "        frac_val    = 4\n",
    "        ax.text(0.05, 0.95, title_label,horizontalalignment='left',\\\n",
    "                verticalalignment='top',transform=ax.transAxes,fontsize=12)\n",
    "    elif col_num==2:\n",
    "        title_label = 'Mass 10/90, {0} NN'.format(neigh_val)\n",
    "        frac_val    = 10\n",
    "        ax.text(0.05, 0.95, title_label,horizontalalignment='left',\\\n",
    "                verticalalignment='top',transform=ax.transAxes,fontsize=12)\n",
    "    ax.set_xlim(9.1,11.9)\n",
    "    ax.set_ylim([10**-3,10**1])\n",
    "    ax.set_xticks(np.arange(9.5, 12., 0.5))\n",
    "    ax.set_yticks([10**-2,10**0])\n",
    "    \n",
    "    frac_data     = (len(mass)/frac_val)\n",
    "\n",
    "    frac_mass     = mass[0:frac_data]\n",
    "    counts, edges = np.histogram(frac_mass,bins)\n",
    "    low_counts    = (counts/float(len(frac_mass))/dlogM)\n",
    "    \n",
    "    bins_cens     = .5*(edges[:-1]+edges[1:])\n",
    "#     ax.step(bins_cens, low_counts, color='lightslategrey',where='mid',alpha=0.1)\n",
    "    ax.plot(bins_cens, low_counts, color='lightslategrey',alpha=0.1)\n",
    "\n",
    "    frac_mass_2       =  mass[-frac_data:]\n",
    "    counts_2, edges_2 =  np.histogram(frac_mass_2,bins)\n",
    "    high_counts       = (counts_2/float(len(frac_mass_2))/dlogM)\n",
    "#     ax.step(bins_cens, high_counts, color='lightslategray',where='mid',alpha=0.1)\n",
    "    ax.plot(bins_cens, high_counts, color='lightslategray',alpha=0.1)"
   ]
  },
  {
   "cell_type": "markdown",
   "metadata": {},
   "source": [
    "### Plotting ECO Histograms "
   ]
  },
  {
   "cell_type": "code",
   "execution_count": 43,
   "metadata": {
    "collapsed": false
   },
   "outputs": [],
   "source": [
    "def plot_eco_hists(mass,bins,dlogM,ax,col):\n",
    "    if   col==0:\n",
    "        frac_val    = 2\n",
    "    elif col==1:\n",
    "        frac_val    = 4\n",
    "    elif col==2:\n",
    "        frac_val    = 10\n",
    "    \n",
    "    frac_data     = (len(mass)/frac_val)\n",
    "\n",
    "    frac_mass     = mass[0:frac_data]\n",
    "    counts, edges = np.histogram(frac_mass,bins)\n",
    "    bins_cens     = .5*(edges[:-1]+edges[1:])\n",
    "    ax.step(bins_cens, (counts/float(len(frac_mass))/dlogM), color='lime',where='mid')\n",
    "\n",
    "    frac_mass_2       = mass[-frac_data:]\n",
    "    counts_2, edges_2 = np.histogram(frac_mass_2,bins)\n",
    "    ax.step(bins_cens, (counts_2/float(len(frac_mass_2))/dlogM), color='deeppink',where='mid')"
   ]
  },
  {
   "cell_type": "markdown",
   "metadata": {},
   "source": [
    "### Plotting Mock Median Trends"
   ]
  },
  {
   "cell_type": "markdown",
   "metadata": {},
   "source": [
    "Plots six subplots to a previously initialized figure."
   ]
  },
  {
   "cell_type": "code",
   "execution_count": 12,
   "metadata": {
    "collapsed": false
   },
   "outputs": [],
   "source": [
    "def plot_all_meds(bin_centers,y_vals,ax,plot_idx):\n",
    "    \"\"\"\n",
    "    Returns six subplots showing the median distance to \n",
    "        the Nth nearest neighbor for each mass bin.  Assumes a\n",
    "        previously defined figure.  Best used in a for-loop\n",
    "    \n",
    "    Parameters\n",
    "    ----------\n",
    "    bin_centers: array-like\n",
    "        An array with the medians mass values of the mass bins\n",
    "    y_vals: array-like\n",
    "        An array containing the median distance values for each mass bin\n",
    "    ax: axis-like\n",
    "        A value which specifies which axis each subplot is to be \n",
    "        plotted to\n",
    "    plot_idx: integer-like\n",
    "        Specifies which subplot the figure is plotted to. Used for\n",
    "        the text label in each subplot\n",
    "        \n",
    "    Returns\n",
    "    -------\n",
    "    Subplots displaying the median distance to Nth nearest neighbor\n",
    "    trends for each mass bin\n",
    "    \n",
    "    \"\"\"\n",
    "    titles = [1,2,3,5,10,20]\n",
    "    ax.set_ylim(0,10**1.5)\n",
    "    ax.set_xlim(9.1,11.9)\n",
    "    ax.set_yscale('symlog')\n",
    "    ax.set_xticks(np.arange(9.5,12.,0.5))  \n",
    "    ax.tick_params(axis='both', which='major', labelsize=16)\n",
    "    title_here = 'n = {0}'.format(titles[plot_idx])\n",
    "    ax.text(0.05, 0.95, title_here,horizontalalignment='left',\\\n",
    "            verticalalignment='top',transform=ax.transAxes,fontsize=18)\n",
    "    if plot_idx == 4:\n",
    "        ax.set_xlabel('$\\log\\ M_{*}$',fontsize=18)\n",
    "    ax.plot(bin_centers,y_vals,color='silver')"
   ]
  },
  {
   "cell_type": "markdown",
   "metadata": {},
   "source": [
    "### Plotting ECO Median Distance Trends, with Bootstrap"
   ]
  },
  {
   "cell_type": "markdown",
   "metadata": {},
   "source": [
    "Plots six ECO subplots by themselves or on top of a previously initialized figure."
   ]
  },
  {
   "cell_type": "code",
   "execution_count": 13,
   "metadata": {
    "collapsed": false
   },
   "outputs": [],
   "source": [
    "def plot_eco_meds(bin_centers,y_vals,low_lim,up_lim,ax,plot_idx,only=False):\n",
    "    \"\"\"\n",
    "    Returns six subplots showing the median Nth nearest neighbor distance for ECO\n",
    "        galaxies in each mass bin\n",
    "        \n",
    "    Parameters\n",
    "    ----------\n",
    "    bin_centers: array-like\n",
    "        An array with the medians mass values of the mass bins\n",
    "    y_vals: array-like\n",
    "        An array containing the median distance values for each mass bin\n",
    "    low_lim: array-like\n",
    "        An array with the lower cut-off of the bootstrap errors for each median\n",
    "    up_lim: array-like\n",
    "        An array with the upper cut-off of the bootstrap errors for each median\n",
    "    ax: axis-like\n",
    "        A value which specifies which axis each subplot is to be \n",
    "        plotted to\n",
    "    plot_idx: integer-like\n",
    "        Specifies which subplot the figure is plotted to. Used for\n",
    "        the text label in each subplot\n",
    "    \n",
    "    Optional\n",
    "    --------\n",
    "    only == False\n",
    "        To be used when only plotting the ECO median trends, \n",
    "        no mocks.  Will add in the additional plotting \n",
    "        specifications that would have been taken care of \n",
    "        previously in a for-loop which plotted the mocks as well\n",
    "    \n",
    "    Returns\n",
    "    -------\n",
    "    Subplots displaying the median distance to Nth nearest neighbor\n",
    "    trends for each mass bin, with the bootstrap errors\n",
    "    \n",
    "    \"\"\"\n",
    "    if only == True:\n",
    "        titles = [1,2,3,5,10,20]\n",
    "        ax.set_ylim(0,10**1.5)\n",
    "        ax.set_xlim(9.1,11.9)\n",
    "        ax.set_yscale('symlog')\n",
    "        ax.set_xticks(np.arange(9.5,12.,0.5))  \n",
    "        ax.tick_params(axis='both', which='major', labelsize=16)\n",
    "        title_here = 'n = {0}'.format(titles[plot_idx])\n",
    "        ax.text(0.05, 0.95, title_here,horizontalalignment='left',\\\n",
    "                verticalalignment='top',transform=ax.transAxes,fontsize=18)\n",
    "        if plot_idx == 4:\n",
    "            ax.set_xlabel('$\\log\\ M_{*}$',fontsize=18)\n",
    "    ax.errorbar(bin_centers,y_vals,yerr=0.1,lolims=low_lim,\\\n",
    "        uplims=up_lim,color='deeppink')"
   ]
  },
  {
   "cell_type": "markdown",
   "metadata": {},
   "source": [
    "### Plotting Mock Catalog Bands"
   ]
  },
  {
   "cell_type": "markdown",
   "metadata": {},
   "source": [
    "Plots over the area enclosed by the mock catalog curves, which is also to be used as error on the ECO curves."
   ]
  },
  {
   "cell_type": "code",
   "execution_count": 14,
   "metadata": {
    "collapsed": true
   },
   "outputs": [],
   "source": [
    "def plot_bands(bin_centers,upper,lower,ax):\n",
    "    \"\"\"\n",
    "    Returns an overlayed, fill-between plot, creating a band\n",
    "        between the different mock catalog values plotted\n",
    "    \n",
    "    Parameters\n",
    "    ----------\n",
    "    bin_centers: array-like\n",
    "        An array with the medians mass values of the mass bins\n",
    "    upper: array-like\n",
    "        Array with the max y-values among all the mocks\n",
    "        for each mass bin\n",
    "    lower: array-like\n",
    "        Array with the min y-values among all the mocks\n",
    "        for each mass bin\n",
    "    ax: axis-like\n",
    "        A value which specifies which axis each subplot is to be \n",
    "        plotted to\n",
    "    \n",
    "    Returns\n",
    "    -------\n",
    "    A semi-transparent band overlaying the area of the plot \n",
    "    bordered by the mocks\n",
    "    \"\"\"\n",
    "    ax.fill_between(bin_centers,upper,lower,color='silver',alpha=0.1)"
   ]
  },
  {
   "cell_type": "markdown",
   "metadata": {},
   "source": [
    "### Plotting Range of Distances to Nth Nearest Neighbor"
   ]
  },
  {
   "cell_type": "code",
   "execution_count": 15,
   "metadata": {
    "collapsed": false
   },
   "outputs": [],
   "source": [
    "def plot_med_range(bin_centers,low_lim,up_lim,ax,alpha,color='gray'):\n",
    "    \"\"\"\n",
    "    Returns a plot with a transparent band highlighting a range of\n",
    "        values.\n",
    "    \n",
    "    Parameters\n",
    "    ----------\n",
    "    bin_centers: array-like\n",
    "        An array with the medians mass values of the mass bins\n",
    "    low_lim: array-like\n",
    "        Array with the min y-values among all the mocks\n",
    "        for each mass bin\n",
    "    up_lim: array-like\n",
    "        Array with the max y-values among all the mocks\n",
    "        for each mass bin \n",
    "    ax: axis-like\n",
    "        A value which specifies which axis each subplot is to be \n",
    "        plotted to\n",
    "    alpha: float-like\n",
    "        A value which will determine the tranparency of the band\n",
    "    color: str\n",
    "        Any color which Python recognizes; sets the color of the band\n",
    "        \n",
    "    Returns\n",
    "    -------\n",
    "    A colored band spanning from the max y-values to the minimum.\n",
    "    \n",
    "    \"\"\"\n",
    "    ax.fill_between(bin_centers,low_lim,up_lim,color=color,alpha=alpha)"
   ]
  },
  {
   "cell_type": "markdown",
   "metadata": {},
   "source": [
    "# Running through the Calculations"
   ]
  },
  {
   "cell_type": "markdown",
   "metadata": {},
   "source": [
    "The below line should be the only one which needs to be changed. The rest should be dynamic and work based off of this."
   ]
  },
  {
   "cell_type": "code",
   "execution_count": 16,
   "metadata": {
    "collapsed": true
   },
   "outputs": [],
   "source": [
    "dirpath  = r\"C:\\Users\\Hannah\\Desktop\\Vanderbilt_REU\\Stellar_mass_env_density\\Catalogs\\Resolve_plk_5001_so_mvir_hod1_Hannah_newdens_ECO_Mocks\\Resolve_plk_5001_so_mvir_hod1_Hannah_newdens_ECO_Mocks\"\n",
    "usecols  = (0,1,8,13)\n",
    "bins     = np.linspace(9.1,11.9,15)\n",
    "dlogM    = (11.9-9.1)/14"
   ]
  },
  {
   "cell_type": "markdown",
   "metadata": {},
   "source": [
    "The below loads the mock catalogs and imports them into arrays. First, it loads in information concerning centrals and satellites. This will only be used once. The next steps are essential. It sorts out any galaxies which have a mass less than 9.1 (although there shouldn't be any in the new mocks), to meet the stellar mass completeness limit for ECO.  One should note, when making the four np.arrays, they are relying on the columns being in a set order (ra, dec, cz, and logMstar). If they are not in this order, the arrays will not house the correct information. The Cartesian coordinates are calculated and a cKD-Tree is made.  The twenty nearest neighbors and their distances for each galaxy are also calculated.  These are then placed in an array along with the galaxy masses."
   ]
  },
  {
   "cell_type": "code",
   "execution_count": 17,
   "metadata": {
    "collapsed": false
   },
   "outputs": [],
   "source": [
    "ECO_cats    = (Index(dirpath,'.dat'))\n",
    "  \n",
    "sat_cols    = (13,25)\n",
    "  \n",
    "sat_names   = ['logMstar','cent_sat_flag']\n",
    "SF_PD       = [(pd.read_csv(ECO_cats[ii],sep=\"\\s+\", usecols= sat_cols,header=None,\\\n",
    "                     skiprows=2,names=sat_names)) for ii in range(8)]\n",
    "SF_PD_comp  = [(SF_PD[ii][SF_PD[ii].logMstar >= 9.1]) for ii in range(len(ECO_cats))]\n",
    "\n",
    "names       = ['ra','dec','cz','logMstar']\n",
    "PD          = [(pd.read_csv(ECO_cats[ii],sep=\"\\s+\", usecols= usecols,header=None,\\\n",
    "                       skiprows=2,names=names)) for ii in range(len(ECO_cats))]\n",
    "PD_comp     = [(PD[ii][PD[ii].logMstar >= 9.1]) for ii in range(len(ECO_cats))]\n",
    "    \n",
    "ra_arr      = np.array([(np.array(PD_comp[ii])).T[0] for ii in range(len(PD_comp))])\n",
    "dec_arr     = np.array([(np.array(PD_comp[ii])).T[1] for ii in range(len(PD_comp))])\n",
    "cz_arr      = np.array([(np.array(PD_comp[ii])).T[2] for ii in range(len(PD_comp))])\n",
    "mass_arr    = np.array([(np.array(PD_comp[ii])).T[3] for ii in range(len(PD_comp))])\n",
    "\n",
    "coords_test = np.array([sph_to_cart(ra_arr[vv],dec_arr[vv],cz_arr[vv]) for vv in range(len(ECO_cats))])\n",
    "\n",
    "neigh_vals  = np.array([1,2,3,5,10,20])\n",
    "\n",
    "nn_arr      = [[] for xx in xrange(len(coords_test))]\n",
    "nn_arr_nn   = [[] for yy in xrange(len(neigh_vals))]\n",
    "\n",
    "for vv in range(len(coords_test)):\n",
    "    nn_arr[vv] = spatial.cKDTree(coords_test[vv])\n",
    "    nn_arr[vv] = np.array(nn_arr[vv].query(coords_test[vv],21)[0])\n",
    "\n",
    "nn_specs       = [(np.array(nn_arr).T[ii].T[neigh_vals].T) for ii in range(len(coords_test))]\n",
    "nn_mass_dist   = np.array([(np.column_stack((mass_arr[qq],nn_specs[qq]))) for qq in range(len(coords_test))])"
   ]
  },
  {
   "cell_type": "markdown",
   "metadata": {},
   "source": [
    "Here, I am determining the satellite fractions of the mocks, so the fraction of the galaxies in each mock which are satellites. According to Victor, this should generally be around one-third."
   ]
  },
  {
   "cell_type": "code",
   "execution_count": 18,
   "metadata": {
    "collapsed": false
   },
   "outputs": [
    {
     "name": "stdout",
     "output_type": "stream",
     "text": [
      "[ 0.38107796  0.3992126   0.37983524  0.40653291  0.37801259  0.37425113\n",
      "  0.37279687  0.37240558]\n"
     ]
    }
   ],
   "source": [
    "sats_num  = np.array([(len(SF_PD_comp[ii][SF_PD_comp[ii].cent_sat_flag==0])) for ii in range(len(SF_PD_comp))])\n",
    "cents_num = np.array([(len(SF_PD_comp[ii][SF_PD_comp[ii].cent_sat_flag==1])) for ii in range(len(SF_PD_comp))])\n",
    "gal_tot   = np.array([(len(SF_PD_comp[ii])) for ii in range(len(SF_PD_comp))])\n",
    "print sats_num/gal_tot"
   ]
  },
  {
   "cell_type": "code",
   "execution_count": 19,
   "metadata": {
    "collapsed": false
   },
   "outputs": [],
   "source": [
    "############to see how many galaxies are in each mock\n",
    "# print gal_tot"
   ]
  },
  {
   "cell_type": "code",
   "execution_count": 20,
   "metadata": {
    "collapsed": false
   },
   "outputs": [],
   "source": [
    "########to see how many galaxies would be lost if I set my max bin edge to 11.9\n",
    "# test = [(PD[ii][PD[ii].logMstar >= 11.9]) for ii in range(len(ECO_cats))]\n",
    "# print test"
   ]
  },
  {
   "cell_type": "code",
   "execution_count": 21,
   "metadata": {
    "collapsed": false
   },
   "outputs": [],
   "source": [
    "#######to see what the maximum/min stellar mass was in each mock\n",
    "# max_mass = [(max(mass_arr[ii])) for ii in range(len(mass_arr))] \n",
    "# print max_mass\n",
    "# min_mass = [(min(mass_arr[ii])) for ii in range(len(mass_arr))]\n",
    "# print min_mass"
   ]
  },
  {
   "cell_type": "markdown",
   "metadata": {},
   "source": [
    "Creating empty dictionaries and populating them with empty dictionaries with keys, one key for each mock.  Also adds a key based on mass.  These dictionaries house six smaller dictionaries, one for each Nth nearest neighbor, and are then filled with data values. For each Nth nn specified, the galaxies are sorted by distance, so there are six different orderings.  These are used when taking the percentiles for the ratio plots.  Within this section, bin_centers is defined.  This should be the only place this variable is set. The max and min stellar mass function values for each bin are also determined."
   ]
  },
  {
   "cell_type": "code",
   "execution_count": 22,
   "metadata": {
    "collapsed": false
   },
   "outputs": [],
   "source": [
    "nn_dist    = {}\n",
    "nn_dens    = {}\n",
    "mass_dat   = {}\n",
    "ratio_info = {}\n",
    "\n",
    "mass_freq  = [[] for xx in xrange(len(coords_test))]\n",
    "\n",
    "for ii in range(len(coords_test)):\n",
    "    nn_dist[ii]    = {}\n",
    "    nn_dens[ii]    = {}\n",
    "    mass_dat[ii]   = {}\n",
    "    ratio_info[ii] = {}\n",
    "\n",
    "    nn_dist[ii]['mass'] = nn_mass_dist[ii].T[0]\n",
    "\n",
    "    for jj in range(len(neigh_vals)):\n",
    "        nn_dist[ii][(neigh_vals[jj])]  = np.array(nn_mass_dist[ii].T[range(1,len(neigh_vals)+1)[jj]])\n",
    "        nn_dens[ii][(neigh_vals[jj])]  = np.column_stack((nn_mass_dist[ii].T[0],calc_dens\\\n",
    "                                            (neigh_vals[jj],nn_mass_dist[ii].T[range(1,len(neigh_vals)+1)[jj]])))\n",
    "\n",
    "        idx = np.array([nn_dens[ii][neigh_vals[jj]].T[1].argsort()])\n",
    "        mass_dat[ii][(neigh_vals[jj])] = (nn_dens[ii][neigh_vals[jj]][idx].T[0])\n",
    "\n",
    "        bin_centers, mass_freq[ii], ratio_info[ii][neigh_vals[jj]] = plot_calcs(mass_dat[ii][neigh_vals[jj]],bins,dlogM)\n",
    "\n",
    "all_mock_meds = [[] for xx in range(len(nn_mass_dist))]\n",
    "\n",
    "for vv in range(len(nn_mass_dist)):\n",
    "    all_mock_meds[vv] = np.array([bin_func(nn_mass_dist[vv],bins,(jj+1)) for jj in range(len(nn_mass_dist[vv].T)-1)])\n",
    "    \n",
    "med_plot_arr = [([[] for yy in xrange(len(nn_mass_dist))]) for xx in xrange(len(neigh_vals))]\n",
    "\n",
    "for ii in range(len(neigh_vals)):\n",
    "    for jj in range(len(nn_mass_dist)):\n",
    "        med_plot_arr[ii][jj] = all_mock_meds[jj][ii]    \n",
    "\n",
    "mass_freq_plot  = (np.array(mass_freq))\n",
    "max_lim = [[] for xx in range(len(mass_freq_plot.T))]\n",
    "min_lim = [[] for xx in range(len(mass_freq_plot.T))]\n",
    "for jj in range(len(mass_freq_plot.T)):\n",
    "    max_lim[jj] = max(mass_freq_plot.T[jj])\n",
    "    min_lim[jj] = min(mass_freq_plot.T[jj])"
   ]
  },
  {
   "cell_type": "markdown",
   "metadata": {},
   "source": [
    "The next two cells determine the range of distances from nearest neighbors that the galaxies in the mocks actually span. In the median trends plot, it appeared as if the medians were all about the same value, so we wanted to see whether the range was extremely small or the median normal for the distribution.  Had to wrangle the data around to then find the percentile cutoffs. The ordered_mass is an array which can be used to put the galaxies in order by stellar mass."
   ]
  },
  {
   "cell_type": "code",
   "execution_count": 23,
   "metadata": {
    "collapsed": false
   },
   "outputs": [],
   "source": [
    "# ordered_mass = nn_mass_dist[0].T[0][(nn_mass_dist[0].T[0].argsort())]\n",
    "dist_cont = [[[[] for zz in xrange(len(bins)-1)] for yy in \\\n",
    "              xrange(len(nn_mass_dist))] for xx in xrange(1,len(nn_mass_dist[0].T))]\n",
    "\n",
    "for ii in xrange(len(nn_mass_dist)):\n",
    "    sorting_test  = np.digitize(nn_mass_dist[ii].T[0],bins)\n",
    "    bin_nums      = np.unique(sorting_test)\n",
    "    bin_nums_list = list(bin_nums)\n",
    "    if 15 in bin_nums_list:\n",
    "        bin_nums_list.remove(15)\n",
    "        bin_nums  = np.array(bin_nums_list)\n",
    "    for jj in xrange(1,len(nn_mass_dist[ii].T)):\n",
    "        for hh in bin_nums:\n",
    "            dist_cont[jj-1][ii][hh-1] = (nn_mass_dist[ii].T[jj][sorting_test==hh])"
   ]
  },
  {
   "cell_type": "markdown",
   "metadata": {},
   "source": [
    "Below, in a very not-straightforward manner, I am creating arrays that will be used to illustrate the 68 and 95 spread of the distance to the nth nearest neighbor. This was of concern because the medians seemed to all be extremely close together, and we wanted to make sure there was not anything awry with the mocks."
   ]
  },
  {
   "cell_type": "code",
   "execution_count": 24,
   "metadata": {
    "collapsed": false
   },
   "outputs": [],
   "source": [
    "top_68 = [[[[]for ll in xrange(len(bin_nums))]for yy in xrange(len(nn_mass_dist))] for xx in xrange(len(neigh_vals))]\n",
    "low_68 = [[[[]for ll in xrange(len(bin_nums))]for yy in xrange(len(nn_mass_dist))] for xx in xrange(len(neigh_vals))]\n",
    "top_95 = [[[[]for ll in xrange(len(bin_nums))]for yy in xrange(len(nn_mass_dist))] for xx in xrange(len(neigh_vals))]\n",
    "low_95 = [[[[]for ll in xrange(len(bin_nums))]for yy in xrange(len(nn_mass_dist))] for xx in xrange(len(neigh_vals))]\n",
    "med_50 = [[[[]for ll in xrange(len(bin_nums))]for yy in xrange(len(nn_mass_dist))] for xx in xrange(len(neigh_vals))]\n",
    "\n",
    "for aa in xrange(len(neigh_vals)):\n",
    "    for bb in xrange(len(nn_mass_dist)):\n",
    "        for cc in xrange(len(dist_cont[aa][bb])):\n",
    "            top_68[aa][bb][cc] = np.percentile(dist_cont[aa][bb][cc],84)\n",
    "            low_68[aa][bb][cc] = np.percentile(dist_cont[aa][bb][cc],16)\n",
    "            top_95[aa][bb][cc] = np.percentile(dist_cont[aa][bb][cc],97.5)\n",
    "            low_95[aa][bb][cc] = np.percentile(dist_cont[aa][bb][cc],2.5)\n",
    "            med_50[aa][bb][cc] = np.median((dist_cont[aa][bb][cc]))\n",
    "            \n",
    "top_68 = np.array(top_68)\n",
    "low_68 = np.array(low_68)\n",
    "top_95 = np.array(top_95)\n",
    "low_95 = np.array(low_95)\n",
    "med_50 = np.array(med_50)"
   ]
  },
  {
   "cell_type": "code",
   "execution_count": 25,
   "metadata": {
    "collapsed": false
   },
   "outputs": [],
   "source": [
    "#############to make sure the correct number of medians was being calculated\n",
    "# for jj in range(len(all_mock_meds)):\n",
    "#     print [len(all_mock_meds[jj][ii]) for ii in range(len(all_mock_meds[0]))]"
   ]
  },
  {
   "cell_type": "markdown",
   "metadata": {},
   "source": [
    "Converting ratio information into a more accessible format. Ratio_info is a dictionary with 8 keys, one for each mock catalog. Each key has another dictionary, with 6 keys, one for each Nth nearest neighbor being considered. Each of these sub-dictionaries has three keys, one for each \"frac_val,\" or divisor which will yield the desired percentiles. First, a list of six elements is created. Each elements corresponds to a nearest neighbor value. These six elements are lists which contain 8 dictionaries, one for each mock. These dictionaries each have three keys, one for each frac_val. Then, another list is made. It has six elements, each housing three sublists. Each of the sublists corresponds to a frac_val. They house 8 np.arrays. *Note, 8 is just used as a placeholder for any number. This number corresponds to the number of mocks being considered."
   ]
  },
  {
   "cell_type": "code",
   "execution_count": 26,
   "metadata": {
    "collapsed": true
   },
   "outputs": [],
   "source": [
    "frac_vals   = [2,4,10]\n",
    "nn_plot_arr = [[[] for yy in xrange(len(nn_mass_dist))] for xx in xrange(len(neigh_vals))]\n",
    "\n",
    "for ii in range(len(neigh_vals)):\n",
    "    for jj in range(len(nn_mass_dist)):\n",
    "        nn_plot_arr[ii][jj] = (ratio_info[jj][neigh_vals[ii]])\n",
    "        plot_frac_arr = [[[[] for yy in xrange(len(nn_mass_dist))] \\\n",
    "                         for zz in xrange(len(frac_vals))] for xx in xrange(len(nn_plot_arr))]\n",
    "\n",
    "for jj in range(len(nn_mass_dist)):\n",
    "    for hh in range(len(frac_vals)):\n",
    "        for ii in range(len(neigh_vals)):\n",
    "            plot_frac_arr[ii][hh][jj] = nn_plot_arr[ii][jj][frac_vals[hh]]"
   ]
  },
  {
   "cell_type": "markdown",
   "metadata": {},
   "source": [
    "## ECO Calculations, Streamlined"
   ]
  },
  {
   "cell_type": "code",
   "execution_count": 27,
   "metadata": {
    "collapsed": true
   },
   "outputs": [],
   "source": [
    "eco_path = r\"C:\\Users\\Hannah\\Desktop\\Vanderbilt_REU\\Stellar_mass_env_density\\Catalogs\\ECO_true\"\n",
    "eco_cols = np.array([0,1,2,4])"
   ]
  },
  {
   "cell_type": "markdown",
   "metadata": {},
   "source": [
    "Importing original ECO data and running through all the necessary calculations. In order, converting to the Cartesian coordinate system, creating a cKD-Tree, and finding the distances to the 20 nearest neighbors. These distances are added to an array with the stellar masses. The densities of the nearest neighbor spheres are calculated, and a list with six arrays is created. Each array has two columns. One the mass and one density. These arrays are then sorted to return a list of indices based on the densities, low to high, of the spheres. These indices are used to put the mass values in order so when cuts by density are made, the percentiles are correct. The density is calculated for the sole purpose of ordering the masses so they can be fed to the histogram, in this case. (Although,now that I think of it, I could have just sorted by the distances, since the numerator stays the same. The smaller the distance, the larger the density of the sphere. Still, it could be useful to have the densities...at some point. They were definitely more useful with the density in a sphere analysis). The information for the stellar mass function, counts ratios, and median distance trends are calculated. With these, errors are also calculated, using some of the optional keywords."
   ]
  },
  {
   "cell_type": "code",
   "execution_count": 28,
   "metadata": {
    "collapsed": false
   },
   "outputs": [],
   "source": [
    "ECO_true = (Index(eco_path,'.txt'))\n",
    "names    = ['ra','dec','cz','logMstar']\n",
    "PD_eco   = pd.read_csv(ECO_true[0],sep=\"\\s+\", usecols=(eco_cols),header=None,\\\n",
    "                skiprows=1,names=names)\n",
    "eco_comp = PD_eco[PD_eco.logMstar >= 9.1]\n",
    "\n",
    "ra_eco   = (np.array(eco_comp)).T[0]\n",
    "dec_eco  = (np.array(eco_comp)).T[1] \n",
    "cz_eco   = (np.array(eco_comp)).T[2] \n",
    "mass_eco = (np.array(eco_comp)).T[3]\n",
    "\n",
    "coords_eco        = sph_to_cart(ra_eco,dec_eco,cz_eco)\n",
    "eco_neighbor_tree = spatial.cKDTree(coords_eco)\n",
    "eco_tree_dist     = np.array(eco_neighbor_tree.query(coords_eco,(neigh_vals[-1]+1))[0])\n",
    "\n",
    "eco_mass_dist = np.column_stack((mass_eco,eco_tree_dist.T[neigh_vals].T))\n",
    "eco_dens = ([calc_dens(neigh_vals[jj],\\\n",
    "            (eco_mass_dist.T[range(1,7)[jj]])) for jj in range(len(neigh_vals))])\n",
    "\n",
    "eco_mass_dens = [(np.column_stack((mass_eco,eco_dens[ii]))) for ii in range(len(neigh_vals))]\n",
    "eco_idx  = [(eco_mass_dens[jj].T[1].argsort()) for jj in range(len(neigh_vals))]\n",
    "eco_mass_dat  = [(eco_mass_dens[jj][eco_idx[jj]].T[0]) for jj in range(len(neigh_vals))]\n",
    "\n",
    "eco_ratio_info    = [[] for xx in xrange(len(eco_mass_dat))]\n",
    "\n",
    "\n",
    "for qq in range(len(eco_mass_dat)):\n",
    "    bin_centers, eco_freq, eco_ratio_info[qq] = plot_calcs(eco_mass_dat[qq],bins,dlogM,mass_err=True,ratio_err=True)\n",
    "\n",
    "eco_medians   = [[] for xx in xrange(len(eco_mass_dat))]    \n",
    "\n",
    "for jj in (range(len(eco_mass_dat))):\n",
    "    eco_medians[jj] = np.array(bin_func(eco_mass_dist,bins,(jj+1),bootstrap=True))"
   ]
  },
  {
   "cell_type": "markdown",
   "metadata": {},
   "source": [
    "## Plotting Stellar Mass Function"
   ]
  },
  {
   "cell_type": "markdown",
   "metadata": {},
   "source": [
    "There was no need for a stand-alone function, as only one plot is being made. The mocks are plotted within the for-loop, but ECO is outside of this, as it need only be plotted once. The fill between is also quite straightforward, as long as the two arrays with maxes and mins are previosuly calculated."
   ]
  },
  {
   "cell_type": "code",
   "execution_count": 29,
   "metadata": {
    "collapsed": false
   },
   "outputs": [],
   "source": [
    "fig,ax  = plt.subplots(figsize=(8,8))\n",
    "ax.set_title('Mass Distribution',fontsize=18)\n",
    "ax.set_xlabel('$\\log\\ M_{*}$',fontsize=17)\n",
    "ax.set_yscale('log')\n",
    "ax.set_xlim(9.1,12.1)\n",
    "ax.tick_params(axis='both', labelsize=14)\n",
    "\n",
    "for ii in range(len(mass_freq)):\n",
    "    ax.plot(bin_centers,mass_freq[ii],color='silver')\n",
    "    ax.fill_between(bin_centers,max_lim,min_lim,color='silver',alpha=0.1)\n",
    "ax.errorbar(bin_centers,eco_freq[0],yerr=eco_freq[1],color='deeppink',\\\n",
    "            linewidth=2,label='ECO')\n",
    "ax.legend(loc='best')\n",
    "\n",
    "plt.subplots_adjust(left=0.08, bottom=0.1, right=0.98, top=0.94,\\\n",
    "                    hspace=0.2,wspace=0.2)\n",
    "plt.show()"
   ]
  },
  {
   "cell_type": "markdown",
   "metadata": {},
   "source": [
    "## Plotting the 18 Density-Ranked, Mass Ratios"
   ]
  },
  {
   "cell_type": "markdown",
   "metadata": {},
   "source": [
    "Code for finding the upper and lower limits of the band formed by the minimum and maximum mock values. Rather intense, as information must be extracted, put into an array by column, and then compared across rows. Also difficult, as there are a number of infinities, which must be dealt with before one can properly find the max. These are replaced with NaN values to keep the number of values consistent. A dictionary is initialized,named, and given keys based on the nearest neighbor and frac_val. Each key is eventually assigned a list with two np.arrays housing the min and max information."
   ]
  },
  {
   "cell_type": "code",
   "execution_count": 30,
   "metadata": {
    "collapsed": false
   },
   "outputs": [
    {
     "name": "stderr",
     "output_type": "stream",
     "text": [
      "C:\\Users\\Hannah\\Anaconda2\\lib\\site-packages\\numpy\\lib\\nanfunctions.py:326: RuntimeWarning: All-NaN slice encountered\n",
      "  warnings.warn(\"All-NaN slice encountered\", RuntimeWarning)\n",
      "C:\\Users\\Hannah\\Anaconda2\\lib\\site-packages\\numpy\\lib\\nanfunctions.py:227: RuntimeWarning: All-NaN axis encountered\n",
      "  warnings.warn(\"All-NaN axis encountered\", RuntimeWarning)\n"
     ]
    }
   ],
   "source": [
    "A = {}\n",
    "nn_dict   = {1:0,2:1,3:2,5:3,10:4,20:5}\n",
    "coln_dict = {2:0,4:1,10:2}\n",
    "\n",
    "nn_keys  = np.sort(nn_dict.keys())\n",
    "col_keys = np.sort(coln_dict.keys())\n",
    "zz_num   = len(plot_frac_arr[nn_dict[1]][coln_dict[2]])\n",
    "\n",
    "for nn in nn_keys:\n",
    "    for coln in col_keys:\n",
    "        bin_str    = '{0}_{1}'.format(nn,coln)\n",
    "        for cc in range(zz_num):\n",
    "            zz_arr = np.array(plot_frac_arr[nn_dict[nn]][coln_dict[coln]][cc])\n",
    "            n_elem = len(zz_arr)\n",
    "            if cc == 0:\n",
    "                zz_tot = np.zeros((n_elem,1))\n",
    "            zz_tot = np.insert(zz_tot,len(zz_tot.T),zz_arr,1)\n",
    "        zz_tot = np.array(np.delete(zz_tot,0,axis=1))\n",
    "        for kk in xrange(len(zz_tot)):\n",
    "            zz_tot[kk][zz_tot[kk] == np.inf] = np.nan\n",
    "        zz_tot_max = [np.nanmax(zz_tot[kk]) for kk in xrange(len(zz_tot))]\n",
    "        zz_tot_min = [np.nanmin(zz_tot[kk]) for kk in xrange(len(zz_tot))]\n",
    "        A[bin_str] = [zz_tot_max,zz_tot_min]"
   ]
  },
  {
   "cell_type": "code",
   "execution_count": 31,
   "metadata": {
    "collapsed": false
   },
   "outputs": [],
   "source": [
    "np.seterr(divide='ignore',invalid='ignore')\n",
    "\n",
    "nrow_num  = int(6)\n",
    "ncol_num  = int(3)\n",
    "zz        = int(0)\n",
    "\n",
    "fig, axes = plt.subplots(nrows=nrow_num, ncols=ncol_num, \\\n",
    "            figsize=(150,200), sharex= True,sharey=True)\n",
    "axes_flat = axes.flatten()\n",
    "# fig.suptitle(\"Percentile Trends\", fontsize=18)\n",
    "\n",
    "while zz <= 16:\n",
    "    for ii in range(len(eco_ratio_info)):\n",
    "        for hh in range(len(eco_ratio_info[0][1])):\n",
    "            for jj in range(len(nn_mass_dist)):\n",
    "                upper = A['{0}_{1}'.format(neigh_vals[ii],frac_vals[hh])][0]\n",
    "                lower  = A['{0}_{1}'.format(neigh_vals[ii],frac_vals[hh])][1]\n",
    "                plot_bands(bin_centers,upper,lower,axes_flat[zz])\n",
    "                plot_all_rats(bin_centers,(plot_frac_arr[ii][hh][jj]),\\\n",
    "                              neigh_vals[ii],axes_flat[zz],hh,zz)\n",
    "            plot_eco_rats(bin_centers,(eco_ratio_info[ii]),neigh_vals[ii],axes_flat[zz],hh,zz)\n",
    "            zz += 1\n",
    "\n",
    "plt.subplots_adjust(left=0.02, bottom=0.09, right=0.98, top=0.98,\\\n",
    "                    hspace=0,wspace=0)\n",
    "\n",
    "plt.show()"
   ]
  },
  {
   "cell_type": "code",
   "execution_count": 32,
   "metadata": {
    "collapsed": false
   },
   "outputs": [],
   "source": [
    "# #######################PLOTTING ONLY ECO RATIOS\n",
    "# np.seterr(divide='ignore',invalid='ignore')\n",
    "\n",
    "# nrow_num = int(6)\n",
    "# ncol_num = int(3)\n",
    "# zz       = int(0)\n",
    "\n",
    "# fig, axes = plt.subplots(nrows=nrow_num, ncols=ncol_num, \\\n",
    "#             figsize=(100,200), sharex= True,sharey=True)\n",
    "# axes_flat = axes.flatten()\n",
    "# # fig.suptitle(\"Percentile Trends\", fontsize=18)\n",
    "\n",
    "# while zz <= 16:\n",
    "#     for ii in range(len(eco_ratio_info)):\n",
    "#         for hh in range(len(eco_ratio_info[0][1])):\n",
    "#             plot_eco_rats(bin_centers,(eco_ratio_info[ii]),neigh_vals[ii],axes_flat[zz],hh,zz,only=True)\n",
    "#             zz += 1\n",
    "\n",
    "# plt.subplots_adjust(left=0.02, bottom=0.09, right=1.00, top=1.00,\\\n",
    "#                     hspace=0,wspace=0)\n",
    "\n",
    "# plt.show()"
   ]
  },
  {
   "cell_type": "markdown",
   "metadata": {},
   "source": [
    "## Plotting the Median Distance Trends "
   ]
  },
  {
   "cell_type": "markdown",
   "metadata": {},
   "source": [
    "Another dictionary is made for the max and min values of the mock median distance trends. The mock trends, ECO trends, and bands are then plotted."
   ]
  },
  {
   "cell_type": "code",
   "execution_count": 33,
   "metadata": {
    "collapsed": false
   },
   "outputs": [],
   "source": [
    "# fig,ax = plt.subplots(figsize=(10,5))\n",
    "# ax.set_yscale('symlog')\n",
    "# ax.set_ylim([0,10])\n",
    "# for ii in range(len(med_50[0])):\n",
    "#     ax.plot(bin_centers,med_50[0][ii])\n",
    "#     ax.fill_between(bin_centers,top_68[0][ii],low_68[0][ii],color='silver',alpha=0.1,zorder=1)\n",
    "#     ax.fill_between(bin_centers,top_95[0][ii],low_95[0][ii],color='gainsboro',alpha=0.2,zorder=0)\n",
    "# plt.show()"
   ]
  },
  {
   "cell_type": "code",
   "execution_count": 34,
   "metadata": {
    "collapsed": false
   },
   "outputs": [],
   "source": [
    "B = {}\n",
    "yy_num = len(med_plot_arr[0])\n",
    "\n",
    "for nn in range(len(med_plot_arr)):\n",
    "    for ii in range(yy_num):\n",
    "        med_str  = '{0}'.format(nn)\n",
    "        yy_arr   = med_plot_arr[nn][ii]\n",
    "        n_y_elem = len(yy_arr)\n",
    "        if ii == 0:\n",
    "            yy_tot = np.zeros((n_y_elem,1))\n",
    "        yy_tot = np.insert(yy_tot,len(yy_tot.T),yy_arr,1)\n",
    "    yy_tot = np.array(np.delete(yy_tot,0,axis=1))\n",
    "    yy_tot_max = [np.nanmax(yy_tot[kk]) for kk in xrange(len(yy_tot))]\n",
    "    yy_tot_min = [np.nanmin(yy_tot[kk]) for kk in xrange(len(yy_tot))]\n",
    "    B[med_str] = [yy_tot_max,yy_tot_min]"
   ]
  },
  {
   "cell_type": "code",
   "execution_count": 35,
   "metadata": {
    "collapsed": false
   },
   "outputs": [],
   "source": [
    "nrow_num_mass = int(2)\n",
    "ncol_num_mass = int(3)\n",
    "\n",
    "fig, axes = plt.subplots(nrows=nrow_num_mass, ncols=ncol_num_mass, \\\n",
    "        figsize=(100,200), sharex= True, sharey = True)\n",
    "axes_flat = axes.flatten()\n",
    "\n",
    "zz = int(0)\n",
    "while zz <=4:\n",
    "    for ii in range(len(med_plot_arr)):\n",
    "        for vv in range(len(nn_mass_dist)):\n",
    "                lower_m  = B['{0}'.format(ii)][0]\n",
    "                upper_m  = B['{0}'.format(ii)][1]\n",
    "                plot_med_range(bin_centers,top_95[ii][vv],low_95[ii][vv],axes_flat[zz],0.05,color='lightsteelblue')\n",
    "                plot_med_range(bin_centers,top_68[ii][vv],low_68[ii][vv],axes_flat[zz],0.15,color='gainsboro')\n",
    "                plot_bands(bin_centers,upper_m,lower_m,axes_flat[zz])\n",
    "                plot_all_meds(bin_centers,med_plot_arr[ii][vv],axes_flat[zz],zz)\n",
    "                plot_eco_meds(bin_centers,eco_medians[ii][0],eco_medians[ii][1],eco_medians[ii][2],axes_flat[zz],zz)\n",
    "        zz   += 1       \n",
    "        \n",
    "plt.subplots_adjust(left=0.04, bottom=0.08, right=0.96, top=0.98,\\\n",
    "            hspace=0,wspace=0)\n",
    "plt.show()"
   ]
  },
  {
   "cell_type": "code",
   "execution_count": 36,
   "metadata": {
    "collapsed": false
   },
   "outputs": [],
   "source": [
    "# ######PLOTTING ONLY ECO MED TRENDS\n",
    "\n",
    "# nrow_num_mass = int(2)\n",
    "# ncol_num_mass = int(3)\n",
    "\n",
    "# fig, axes = plt.subplots(nrows=nrow_num_mass, ncols=ncol_num_mass, \\\n",
    "#         figsize=(100,200), sharex= True, sharey = True)\n",
    "# axes_flat = axes.flatten()\n",
    "\n",
    "# zz = int(0)\n",
    "# while zz <=4:\n",
    "#     for ii in range(len(med_plot_arr)):\n",
    "#         plot_eco_meds(bin_centers,eco_medians[ii][0],\\\n",
    "#                         eco_medians[ii][1],eco_medians[ii][2],axes_flat[zz],zz,only=True)\n",
    "#         zz   += 1\n",
    "        \n",
    "# plt.subplots_adjust(left=0.05, bottom=0.09, right=1.00, top=1.00,\\\n",
    "#             hspace=0,wspace=0)\n",
    "# plt.show()"
   ]
  },
  {
   "cell_type": "markdown",
   "metadata": {},
   "source": [
    "## Plotting the 18 Density-Cut, Stellar Mass Histograms"
   ]
  },
  {
   "cell_type": "markdown",
   "metadata": {},
   "source": [
    "First, it was necessary to create dictionaries, run the calculations, and then extract the information from them so it could be used. This was clearly modeled off previous code used with the ratios. It worked well enough there and to disentangle that code would have taken a commensurate amount of time, so I chose to just mirror it."
   ]
  },
  {
   "cell_type": "code",
   "execution_count": 37,
   "metadata": {
    "collapsed": false,
    "scrolled": false
   },
   "outputs": [],
   "source": [
    "hist_low_info  = {}\n",
    "hist_high_info = {}\n",
    "\n",
    "for ii in xrange(len(coords_test)):\n",
    "    hist_low_info[ii]  = {}\n",
    "    hist_high_info[ii] = {}\n",
    "    \n",
    "    for jj in range(len(neigh_vals)):\n",
    "        hist_low_info[ii][neigh_vals[jj]], \\\n",
    "        hist_high_info[ii][neigh_vals[jj]] = \\\n",
    "        hist_calcs(mass_dat[ii][neigh_vals[jj]],bins,dlogM)\n",
    "        \n",
    "frac_vals     = [2,4,10]\n",
    "hist_low_arr  = [[[] for yy in xrange(len(nn_mass_dist))] for xx in \\\n",
    "    xrange(len(neigh_vals))]\n",
    "hist_high_arr = [[[] for yy in xrange(len(nn_mass_dist))] for xx in \\\n",
    "    xrange(len(neigh_vals))]\n",
    "\n",
    "for ii in range(len(neigh_vals)):\n",
    "    for jj in range(len(nn_mass_dist)):\n",
    "        hist_low_arr[ii][jj]  = (hist_low_info[jj][neigh_vals[ii]])\n",
    "        hist_high_arr[ii][jj] = (hist_high_info[jj][neigh_vals[ii]])\n",
    "        \n",
    "        \n",
    "        plot_low_hist  = [[[[] for yy in xrange(len(nn_mass_dist))] \\\n",
    "                         for zz in xrange(len(frac_vals))] for xx in \\\n",
    "                         xrange(len(hist_low_arr))]\n",
    "        \n",
    "        plot_high_hist = [[[[] for yy in xrange(len(nn_mass_dist))] \\\n",
    "                 for zz in xrange(len(frac_vals))] for xx in \\\n",
    "                 xrange(len(hist_high_arr))]\n",
    "\n",
    "for jj in range(len(nn_mass_dist)):\n",
    "    for hh in range(len(frac_vals)):\n",
    "        for ii in range(len(neigh_vals)):\n",
    "            plot_low_hist[ii][hh][jj]  = hist_low_arr[ii][jj][frac_vals[hh]]        \n",
    "            plot_high_hist[ii][hh][jj] = hist_high_arr[ii][jj][frac_vals[hh]]        "
   ]
  },
  {
   "cell_type": "markdown",
   "metadata": {},
   "source": [
    "Creating dictionaries with the max and min values of the mock histograms so that fill_between can be used. Note: for some reason, it seems to plot correctly, but when plotting the histograms themseleves, it seems like it's missing some information. I believe this is because of the way the histogram steps work."
   ]
  },
  {
   "cell_type": "code",
   "execution_count": 38,
   "metadata": {
    "collapsed": false
   },
   "outputs": [],
   "source": [
    "C = {}\n",
    "D = {}\n",
    "nn_dict   = {1:0,2:1,3:2,5:3,10:4,20:5}\n",
    "coln_dict = {2:0,4:1,10:2}\n",
    "\n",
    "nn_keys   = np.sort(nn_dict.keys())\n",
    "col_keys  = np.sort(coln_dict.keys())\n",
    "\n",
    "vv_num    = len(plot_low_hist[nn_dict[1]][coln_dict[2]])\n",
    "\n",
    "for nn in nn_keys:\n",
    "    for coln in col_keys:\n",
    "        bin_str    = '{0}_{1}'.format(nn,coln)\n",
    "        for cc in range(vv_num):\n",
    "            vv_arr = np.array(plot_low_hist[nn_dict[nn]][coln_dict[coln]][cc])\n",
    "            n_elem = len(vv_arr)\n",
    "            if cc == 0:\n",
    "                vv_tot = np.zeros((n_elem,1))\n",
    "            vv_tot = np.insert(vv_tot,len(vv_tot.T),vv_arr,1)\n",
    "        vv_tot = np.array(np.delete(vv_tot,0,axis=1))\n",
    "        for kk in xrange(len(vv_tot)):\n",
    "            vv_tot[kk][vv_tot[kk] == np.inf] = np.nan\n",
    "        vv_tot_max = [np.nanmax(vv_tot[kk]) for kk in xrange(len(vv_tot))]\n",
    "        vv_tot_min = [np.nanmin(vv_tot[kk]) for kk in xrange(len(vv_tot))]\n",
    "        C[bin_str] = [vv_tot_max,vv_tot_min]\n",
    "        \n",
    "hh_num   = len(plot_high_hist[nn_dict[1]][coln_dict[2]])\n",
    "\n",
    "for nn in nn_keys:\n",
    "    for coln in col_keys:\n",
    "        bin_str    = '{0}_{1}'.format(nn,coln)\n",
    "        for cc in range(hh_num):\n",
    "            hh_arr = np.array(plot_high_hist[nn_dict[nn]][coln_dict[coln]][cc])\n",
    "            n_elem = len(hh_arr)\n",
    "            if cc == 0:\n",
    "                hh_tot = np.zeros((n_elem,1))\n",
    "            hh_tot = np.insert(hh_tot,len(hh_tot.T),hh_arr,1)\n",
    "        hh_tot     = np.array(np.delete(hh_tot,0,axis=1))\n",
    "        for kk in xrange(len(hh_tot)):\n",
    "            hh_tot[kk][hh_tot[kk] == np.inf] = np.nan\n",
    "        hh_tot_max = [np.nanmax(hh_tot[kk]) for kk in xrange(len(hh_tot))]\n",
    "        hh_tot_min = [np.nanmin(hh_tot[kk]) for kk in xrange(len(hh_tot))]\n",
    "        D[bin_str] = [hh_tot_max,hh_tot_min]        "
   ]
  },
  {
   "cell_type": "code",
   "execution_count": 39,
   "metadata": {
    "collapsed": false
   },
   "outputs": [
    {
     "name": "stderr",
     "output_type": "stream",
     "text": [
      "C:\\Users\\Hannah\\Anaconda2\\lib\\site-packages\\ipykernel\\__main__.py:22: DeprecationWarning: using a non-integer number instead of an integer will result in an error in the future\n",
      "C:\\Users\\Hannah\\Anaconda2\\lib\\site-packages\\ipykernel\\__main__.py:29: DeprecationWarning: using a non-integer number instead of an integer will result in an error in the future\n",
      "C:\\Users\\Hannah\\Anaconda2\\lib\\site-packages\\ipykernel\\__main__.py:11: DeprecationWarning: using a non-integer number instead of an integer will result in an error in the future\n",
      "C:\\Users\\Hannah\\Anaconda2\\lib\\site-packages\\ipykernel\\__main__.py:16: DeprecationWarning: using a non-integer number instead of an integer will result in an error in the future\n"
     ]
    }
   ],
   "source": [
    "nrow_num  = int(6)\n",
    "ncol_num  = int(3)\n",
    "\n",
    "fig, axes = plt.subplots(nrows=nrow_num, ncols=ncol_num, \\\n",
    "            figsize=(150,200), sharex= True,sharey=True)\n",
    "axes_flat = axes.flatten()\n",
    "\n",
    "for ii in range(len(mass_dat)):\n",
    "    zz = 0\n",
    "    for jj in range(len(neigh_vals)):\n",
    "        for hh in range(3):\n",
    "            upper    = C['{0}_{1}'.format(neigh_vals[jj],frac_vals[hh])][0]\n",
    "            lower    = C['{0}_{1}'.format(neigh_vals[jj],frac_vals[hh])][1]\n",
    "            upper_2  = D['{0}_{1}'.format(neigh_vals[jj],frac_vals[hh])][0]\n",
    "            lower_2  = D['{0}_{1}'.format(neigh_vals[jj],frac_vals[hh])][1]\n",
    "            plot_bands(bin_centers,upper,lower,axes_flat[zz])\n",
    "            plot_bands(bin_centers,upper_2,lower_2,axes_flat[zz])\n",
    "            plot_hists(mass_dat[ii][neigh_vals[jj]],neigh_vals[jj],bins,dlogM,\\\n",
    "                axes_flat[zz], hh, zz)\n",
    "            if ii == 0:\n",
    "                plot_eco_hists(eco_mass_dat[jj],bins,dlogM,\\\n",
    "                axes_flat[zz],hh)\n",
    "            zz += int(1)         \n",
    "\n",
    "plt.subplots_adjust(left=0.02, bottom=0.09, right=0.98, top=0.98,\\\n",
    "                    hspace=0, wspace=0)            \n",
    "\n",
    "plt.show()"
   ]
  },
  {
   "cell_type": "markdown",
   "metadata": {},
   "source": [
    "## Schechter Functions!"
   ]
  },
  {
   "cell_type": "code",
   "execution_count": 40,
   "metadata": {
    "collapsed": true
   },
   "outputs": [],
   "source": [
    "def schechter_log_func(stellar_mass,phi_star,alpha,m_star):\n",
    "    \"\"\"\n",
    "    Returns a plottable Schechter function for the \n",
    "        stellar mass functions of galaxies\n",
    "    \n",
    "    Parameters\n",
    "    ----------\n",
    "    stellar_mass: array-like\n",
    "        An array of unlogged stellar mass values which \n",
    "        will eventually be the x-axis values the function\n",
    "        is plotted against\n",
    "    phi_star: float-like\n",
    "        A constant which normalizes (?) the function;\n",
    "        Moves the graph up and down\n",
    "    alpha: negative integer-like\n",
    "        The faint-end, or in this case, low-mass slope;\n",
    "        Describes the power-law portion of the curve\n",
    "    m_star: float-like\n",
    "        Unlogged value of the characteristic (?) stellar\n",
    "        mass; the \"knee\" of the function, where the \n",
    "        power-law gives way to the exponential portion\n",
    "        \n",
    "    Returns\n",
    "    -------\n",
    "    res: array-like\n",
    "        Array of values prepared to be plotted on a log\n",
    "        scale to display the Schechter function\n",
    "        \n",
    "    \"\"\"\n",
    "    constant = np.log(10) * phi_star\n",
    "    log_M_Mstar = np.log10(stellar_mass/m_star)\n",
    "    res = constant * 10**(log_M_Mstar * (alpha+1)) * \\\n",
    "        np.exp(-10**log_M_Mstar)\n",
    "        \n",
    "    return res"
   ]
  },
  {
   "cell_type": "markdown",
   "metadata": {},
   "source": [
    "http://docs.scipy.org/doc/scipy-0.15.1/reference/generated/scipy.optimize.curve_fit.html\n",
    "The above url is where one can find documentation on the curve_fit function which is utilized to find the correct parameters."
   ]
  },
  {
   "cell_type": "code",
   "execution_count": 41,
   "metadata": {
    "collapsed": false
   },
   "outputs": [],
   "source": [
    "xdata = 10**bin_centers\n",
    "p0    = (1,-1.05,10**10.64)\n",
    "param_arr = [[] for ii in range(len(mass_freq)+1)]\n",
    "\n",
    "fig,axes  = plt.subplots(nrows=3,ncols=3,sharex=True,sharey=True,\\\n",
    "                        figsize=(150,200))\n",
    "axes_flat = axes.flatten()\n",
    "\n",
    "for ii in range(len(mass_freq)+1):\n",
    "    if ii == 8:\n",
    "        ydata = eco_freq[0]\n",
    "        opt_v, est_cov = optimize.curve_fit(schechter_log_func,xdata,ydata,p0=p0,sigma=eco_freq[1])\n",
    "    else:\n",
    "        ydata = (mass_freq[ii])\n",
    "        opt_v, est_cov = optimize.curve_fit(schechter_log_func,xdata,ydata,p0=p0)\n",
    "    schech_vals   = schechter_log_func(10**bin_centers,opt_v[0],opt_v[1],opt_v[2])\n",
    "    param_arr[ii] = opt_v\n",
    "    param_arr = np.array(param_arr)\n",
    "    \n",
    "    ax = axes_flat[ii]\n",
    "    ax.set_yscale('log')\n",
    "    ax.set_ylim([10**-3,10**0])\n",
    "    ax.set_xlim([9.1,11.9])\n",
    "    ax.set_yticks([10**-2,10**-1,10**0])\n",
    "    ax.plot(bin_centers,schech_vals,label='Schechter',color='silver')\n",
    "    if ii == 8:\n",
    "        ax.errorbar(bin_centers,ydata,yerr=eco_freq[1],color='deeppink',label='ECO')\n",
    "    else:\n",
    "        ax.plot(bin_centers,ydata,label='Mock',color='darkorchid')\n",
    "    if ii == 0 or ii == 8:\n",
    "        ax.legend(loc='best')\n",
    "    if ii == 7:\n",
    "        ax.set_xlabel('$\\log\\ M_{*}$',fontsize=18)\n",
    "    \n",
    "plt.subplots_adjust(left=0.03, bottom=0.08, right=0.99, top=0.99,\\\n",
    "                    hspace=0,wspace=0)                \n",
    "    \n",
    "plt.show()   "
   ]
  },
  {
   "cell_type": "code",
   "execution_count": 42,
   "metadata": {
    "collapsed": false
   },
   "outputs": [],
   "source": [
    "alpha_arr  = [[] for xx in xrange(len(param_arr))]\n",
    "m_star_arr = [[] for xx in xrange(len(param_arr))]\n",
    "\n",
    "for ii in range(len(param_arr)):\n",
    "    alpha_arr[ii] = param_arr[ii][1] \n",
    "    m_star_arr[ii] = param_arr[ii][2] "
   ]
  }
 ],
 "metadata": {
  "kernelspec": {
   "display_name": "Python 2",
   "language": "python",
   "name": "python2"
  },
  "language_info": {
   "codemirror_mode": {
    "name": "ipython",
    "version": 2
   },
   "file_extension": ".py",
   "mimetype": "text/x-python",
   "name": "python",
   "nbconvert_exporter": "python",
   "pygments_lexer": "ipython2",
   "version": "2.7.11"
  }
 },
 "nbformat": 4,
 "nbformat_minor": 0
}
