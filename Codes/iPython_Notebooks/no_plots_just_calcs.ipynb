{
 "cells": [
  {
   "cell_type": "markdown",
   "metadata": {},
   "source": [
    "Where is the mass affected?\n",
    "    plot_calcs: used for the overall stellar mass function\n",
    "        -will return bin_centers -> make these the specific ones to go with each bin that actually has something\n",
    "    hist_calcs: definitely affected; but where to change them?\n",
    "        being fed mass_dat... mass_dat is going into plot_calcs\n",
    "            dictionary values and error are zero\n",
    "Should be okay:\n",
    "    bin_func: should be okay. median distance to nearest neighbor shouldn't be calculated if the bin is empty...  \n",
    "    \n",
    "    \n",
    "Notes:\n",
    "    Need a definitive bin_centers variable for plotting the medians, among other things.\n",
    "    \n",
    "    \n",
    "neigh_dict and nn_dict are the same thing. Need to combine/change variables at some point"
   ]
  },
  {
   "cell_type": "code",
   "execution_count": 1,
   "metadata": {
    "collapsed": true
   },
   "outputs": [],
   "source": [
    "from __future__ import division, absolute_import\n",
    "\n",
    "import astropy.stats\n",
    "import glob\n",
    "import math\n",
    "import matplotlib.pyplot as plt \n",
    "from matplotlib import ticker\n",
    "from matplotlib.ticker import FormatStrFormatter\n",
    "import numpy as np \n",
    "import os\n",
    "import pandas as pd\n",
    "from scipy import integrate,optimize,spatial"
   ]
  },
  {
   "cell_type": "code",
   "execution_count": 2,
   "metadata": {
    "collapsed": true
   },
   "outputs": [],
   "source": [
    "__author__     =['Victor Calderon']\n",
    "__copyright__  =[\"Copyright 2016 Victor Calderon, Index function\"]\n",
    "__email__      =['victor.calderon@vanderbilt.edu']\n",
    "__maintainer__ =['Victor Calderon']\n",
    "\n",
    "def Index(directory, datatype):\n",
    "    \"\"\"\n",
    "    Indexes the files in a directory `directory' with a\n",
    "    specific data type.\n",
    "\n",
    "    Parameters\n",
    "    ----------\n",
    "    directory: str\n",
    "            Absolute path to the folder that is indexed.\n",
    "\n",
    "    datatype: str\n",
    "            Data type of the files to be indexed in the folder.\n",
    "\n",
    "    Returns\n",
    "    -------\n",
    "    file_array: array_like \n",
    "            np.array of indexed files in the folder 'directory' \n",
    "            with specific datatype.\n",
    "\n",
    "    Examples\n",
    "    --------\n",
    "    >>> Index('~/data', '.txt')\n",
    "    >>> array(['A.txt', 'Z'.txt', ...])\n",
    "    \"\"\"\n",
    "    assert(os.path.exists(directory))\n",
    "    files = np.array(glob.glob('{0}/*{1}'.format(directory, datatype)))\n",
    "\n",
    "    return files"
   ]
  },
  {
   "cell_type": "code",
   "execution_count": 3,
   "metadata": {
    "collapsed": true
   },
   "outputs": [],
   "source": [
    "def myceil(x, base=10):\n",
    "    \"\"\"\n",
    "    Returns the upper-bound integer of 'x' in base 'base'.\n",
    "\n",
    "    Parameters\n",
    "    ----------\n",
    "    x: float\n",
    "        number to be approximated to closest number to 'base'\n",
    "\n",
    "    base: float\n",
    "        base used to calculate the closest 'largest' number\n",
    "\n",
    "    Returns\n",
    "    -------\n",
    "    n_high: float\n",
    "        Closest float number to 'x', i.e. upper-bound float.\n",
    "\n",
    "    Example\n",
    "    -------\n",
    "    >>>> myceil(12,10)\n",
    "      20\n",
    "    >>>>\n",
    "    >>>> myceil(12.05, 0.1)\n",
    "     12.10000 \n",
    "    \"\"\"\n",
    "    n_high = float(base*math.ceil(float(x)/base))\n",
    "\n",
    "    return n_high\n",
    "\n",
    "###############################################################################    \n",
    "\n",
    "def myfloor(x, base=10):\n",
    "    \"\"\"\n",
    "    Returns the lower-bound integer of 'x' in base 'base'\n",
    "\n",
    "    Parameters\n",
    "    ----------\n",
    "    x: float\n",
    "        number to be approximated to closest number of 'base'\n",
    "\n",
    "    base: float\n",
    "        base used to calculate the closest 'smallest' number\n",
    "\n",
    "    Returns\n",
    "    -------\n",
    "    n_low: float\n",
    "        Closest float number to 'x', i.e. lower-bound float.\n",
    "\n",
    "    Example\n",
    "    -------\n",
    "    >>>> myfloor(12, 5)\n",
    "    >>>> 10\n",
    "    \"\"\"\n",
    "    n_low = float(base*math.floor(float(x)/base))\n",
    "\n",
    "    return n_low\n",
    "\n",
    "###############################################################################\n",
    "\n",
    "def Bins_array_create(arr, base=10):\n",
    "    \"\"\"\n",
    "    Generates array between [arr.min(), arr.max()] in steps of `base`.\n",
    "\n",
    "    Parameters\n",
    "    ----------\n",
    "    arr: array_like, Shape (N,...), One-dimensional\n",
    "        Array of numerical elements\n",
    "\n",
    "    base: float, optional (default=10)\n",
    "        Interval between bins\n",
    "\n",
    "    Returns\n",
    "    -------\n",
    "    bins_arr: array_like\n",
    "        Array of bin edges for given arr\n",
    "\n",
    "    \"\"\"\n",
    "    base = float(base)\n",
    "    arr  = np.array(arr)\n",
    "    assert(arr.ndim==1)\n",
    "    arr_min  = myfloor(arr.min(), base=base)\n",
    "    arr_max  = myceil( arr.max(), base=base)\n",
    "    bins_arr = np.arange(arr_min, arr_max+0.5*base, base)\n",
    "\n",
    "    return bins_arr"
   ]
  },
  {
   "cell_type": "code",
   "execution_count": 4,
   "metadata": {
    "collapsed": true
   },
   "outputs": [],
   "source": [
    "def sph_to_cart(ra,dec,cz):\n",
    "    \"\"\"\n",
    "    Converts spherical coordinates to Cartesian coordinates.\n",
    "\n",
    "    Parameters\n",
    "    ----------\n",
    "    ra: array-like\n",
    "        right-ascension of galaxies in degrees\n",
    "    dec: array-like\n",
    "        declination of galaxies in degrees\n",
    "    cz: array-like\n",
    "        velocity of galaxies in km/s\n",
    "\n",
    "    Returns\n",
    "    -------\n",
    "    coords: array-like, shape = N by 3\n",
    "        x, y, and z coordinates\n",
    "    \"\"\"\n",
    "    cz_dist = cz/70. #converts velocity into distance\n",
    "    x_arr   = cz_dist*np.cos(np.radians(ra))*np.cos(np.radians(dec))\n",
    "    y_arr   = cz_dist*np.sin(np.radians(ra))*np.cos(np.radians(dec))\n",
    "    z_arr   = cz_dist*np.sin(np.radians(dec))\n",
    "    coords  = np.column_stack((x_arr,y_arr,z_arr))\n",
    "\n",
    "    return coords\n",
    "\n",
    "############################################################################\n",
    "\n",
    "def calc_dens(n_val,r_val):\n",
    "    \"\"\"\n",
    "    Returns densities of spheres with radius being the distance to the \n",
    "        nth nearest neighbor.\n",
    "\n",
    "    Parameters\n",
    "    ----------\n",
    "    n_val = integer\n",
    "        The 'N' from Nth nearest neighbor\n",
    "    r_val = array-like\n",
    "        An array with the distances to the Nth nearest neighbor for\n",
    "        each galaxy\n",
    "\n",
    "    Returns\n",
    "    -------\n",
    "    dens: array-like\n",
    "        An array with the densities of the spheres created with radii\n",
    "        to the Nth nearest neighbor.\n",
    "    \"\"\"\n",
    "    dens = np.array([(3.*(n_val+1)/(4.*np.pi*r_val[hh]**3)) \\\n",
    "                     for hh in range(len(r_val))])\n",
    "\n",
    "    return dens"
   ]
  },
  {
   "cell_type": "code",
   "execution_count": 5,
   "metadata": {
    "collapsed": true
   },
   "outputs": [],
   "source": [
    "def plot_calcs(mass,bins,dlogM):\n",
    "    \"\"\"\n",
    "    Returns values for plotting the stellar mass function and \n",
    "        mass ratios\n",
    "\n",
    "    Parameters\n",
    "    ----------\n",
    "    mass: array-like\n",
    "        A 1D array with mass values, assumed to be in order\n",
    "    bins: array=like\n",
    "        A 1D array with the values which will be used as the bin edges\n",
    "        by the histogram function\n",
    "    dlogM: float-like\n",
    "        The log difference between bin edges\n",
    "\n",
    "    Returns\n",
    "    -------\n",
    "    bin_centers: array-like\n",
    "        An array with the medians mass values of the mass bins\n",
    "    mass-freq: array-like\n",
    "        Contains the number density values of each mass bin\n",
    "    ratio_dict: dictionary-like\n",
    "        A dictionary with three keys, corresponding to the divisors\n",
    "        2,4, and 10 (as the percentile cuts are based on these \n",
    "        divisions). Each key has the density-cut, mass ratios for\n",
    "        that specific cut (50/50 for 2; 25/75 for 4; 10/90 for 10).\n",
    "    \"\"\"\n",
    "\n",
    "    mass_counts, edges = np.histogram(mass,bins)\n",
    "    bin_centers        = 0.5*(edges[:-1]+edges[1:])\n",
    "\n",
    "    mass_freq  = mass_counts/float(len(mass))/dlogM\n",
    "    \n",
    "#     non_zero   = (mass_freq!=0)\n",
    "\n",
    "    ratio_dict = {}\n",
    "    frac_val   = [2,4,10]\n",
    "\n",
    "    yerr = []\n",
    "    bin_centers_fin = []\n",
    "\n",
    "    for ii in frac_val:\n",
    "        ratio_dict[ii] = {}\n",
    "        frac_data      = int(len(mass)/ii)\n",
    "        \n",
    "        # Calculations for the lower density cut\n",
    "        frac_mass      = mass[0:frac_data]\n",
    "        counts, edges  = np.histogram(frac_mass,bins)\n",
    "\n",
    "        # Calculations for the higher density cut\n",
    "        frac_mass_2       = mass[-frac_data:]\n",
    "        counts_2, edges_2 = np.histogram(frac_mass_2,bins)\n",
    "\n",
    "        # Ratio determination\n",
    "        ratio_counts   = (1.*counts_2)/(1.*counts)\n",
    "        \n",
    "        non_zero = np.isfinite(ratio_counts)\n",
    "\n",
    "        ratio_counts_1 = ratio_counts[non_zero]\n",
    "        \n",
    "#         print 'len ratio_counts: {0}'.format(len(ratio_counts_1))\n",
    "        \n",
    "        ratio_dict[ii] = ratio_counts_1\n",
    "        \n",
    "        temp_yerr = (counts_2*1.)/(counts*1.)*\\\n",
    "            np.sqrt(1./counts + 1./counts_2)\n",
    "            \n",
    "        temp_yerr_1 = temp_yerr[non_zero]\n",
    "        \n",
    "#         print 'len yerr: {0}'.format(len(temp_yerr_1))\n",
    "\n",
    "        yerr.append(temp_yerr_1)\n",
    "        \n",
    "        bin_centers_1 = bin_centers[non_zero]\n",
    "        \n",
    "#         print 'len bin_cens: {0}'.format(len(bin_centers_1))\n",
    "        \n",
    "        bin_centers_fin.append(bin_centers_1)\n",
    "        \n",
    "\n",
    "    mass_freq_list     = [[] for xx in xrange(2)]\n",
    "    mass_freq_list[0]  = mass_freq\n",
    "    mass_freq_list[1]  = np.sqrt(mass_counts)/float(len(mass))/dlogM\n",
    "    mass_freq          = np.array(mass_freq_list)\n",
    "\n",
    "    ratio_dict_list    = [[] for xx in range(2)]\n",
    "    ratio_dict_list[0] = ratio_dict\n",
    "    ratio_dict_list[1] = yerr\n",
    "    ratio_dict         = ratio_dict_list\n",
    "\n",
    "    return bin_centers, mass_freq, ratio_dict, bin_centers_fin"
   ]
  },
  {
   "cell_type": "code",
   "execution_count": 6,
   "metadata": {
    "collapsed": false
   },
   "outputs": [],
   "source": [
    "def bin_func(mass_dist,bins,kk,bootstrap=False):\n",
    "    \"\"\"\n",
    "    Returns median distance to Nth nearest neighbor\n",
    "\n",
    "    Parameters\n",
    "    ----------\n",
    "    mass_dist: array-like\n",
    "        An array with mass values in at index 0 (when transformed) and distance \n",
    "        to the Nth nearest neighbor in the others\n",
    "        Example: 6239 by 7\n",
    "            Has mass values and distances to 6 Nth nearest neighbors  \n",
    "    bins: array=like\n",
    "        A 1D array with the values which will be used as the bin edges     \n",
    "    kk: integer-like\n",
    "        The index of mass_dist (transformed) where the appropriate distance \n",
    "        array may be found\n",
    "\n",
    "    Optional\n",
    "    --------\n",
    "    bootstrap == True\n",
    "        Calculates the bootstrap errors associated with each median distance \n",
    "        value. Creates an array housing arrays containing the actual distance \n",
    "        values associated with every galaxy in a specific bin. Bootstrap error\n",
    "        is then performed using astropy, and upper and lower one sigma values \n",
    "        are found for each median value.  These are added to a list with the \n",
    "        median distances, and then converted to an array and returned in place \n",
    "        of just 'medians.'\n",
    "\n",
    "    Returns\n",
    "    -------\n",
    "    medians: array-like\n",
    "        An array with the median distance to the Nth nearest neighbor from \n",
    "        all the galaxies in each of the bins\n",
    "    \"\"\"\n",
    "    \n",
    "    edges        = bins\n",
    "    bin_centers  = 0.5*(edges[:-1]+edges[1:])\n",
    "\n",
    "    # print 'length bins:'\n",
    "    # print len(bins)\n",
    "\n",
    "    digitized    = np.digitize(mass_dist.T[0],edges)\n",
    "    digitized   -= int(1)\n",
    "\n",
    "    bin_nums          = np.unique(digitized)\n",
    "    \n",
    "    bin_nums_list = list(bin_nums)\n",
    "\n",
    "    if (len(bin_centers)) in bin_nums_list:\n",
    "        bin_nums_list.remove(len(bin_centers))\n",
    "        \n",
    "    bin_nums = np.array(bin_nums_list)\n",
    "    \n",
    "#     print bin_nums\n",
    "\n",
    "    non_zero_bins = []\n",
    "    for ii in bin_nums:\n",
    "        if (len(mass_dist.T[kk][digitized==ii]) != 0):\n",
    "            non_zero_bins.append(bin_centers[ii])\n",
    "#     print len(non_zero_bins)\n",
    "    \n",
    "    for ii in bin_nums:\n",
    "\n",
    "        if len(mass_dist.T[kk][digitized==ii]) == 0:\n",
    "#             temp_list = list(mass_dist.T[kk]\\\n",
    "#                                              [digitized==ii])\n",
    "#             temp_list.append(np.nan)\n",
    "            mass_dist.T[kk][digitized==ii] = np.nan\n",
    "\n",
    "    # print bin_nums\n",
    "    # print len(bin_nums)\n",
    "    \n",
    "    medians  = np.array([np.nanmedian(mass_dist.T[kk][digitized==ii]) \\\n",
    "                for ii in bin_nums])\n",
    "\n",
    "    # print len(medians)\n",
    "\n",
    "    if bootstrap == True:\n",
    "        dist_in_bin    = np.array([(mass_dist.T[kk][digitized==ii]) \\\n",
    "                for ii in bin_nums])\n",
    "        for vv in range(len(dist_in_bin)):\n",
    "            if len(dist_in_bin[vv]) == 0:\n",
    "#                 dist_in_bin_list = list(dist_in_bin[vv])\n",
    "#                 dist_in_bin[vv] = np.zeros(len(dist_in_bin[0]))\n",
    "                dist_in_bin[vv] = np.nan\n",
    "        low_err_test   = np.array([np.percentile(astropy.stats.bootstrap\\\n",
    "                        (dist_in_bin[vv],bootnum=1000,bootfunc=np.median),16) \\\n",
    "                        for vv in range(len(dist_in_bin))])\n",
    "        high_err_test  = np.array([np.percentile(astropy.stats.bootstrap\\\n",
    "                        (dist_in_bin[vv],bootnum=1000,bootfunc=np.median),84) \\\n",
    "                        for vv in range(len(dist_in_bin))])\n",
    "\n",
    "        med_list    = [[] for yy in range(4)]\n",
    "        med_list[0] = medians\n",
    "        med_list[1] = low_err_test\n",
    "        med_list[2] = high_err_test\n",
    "        medians     = np.array(med_list)\n",
    "        \n",
    "#     print len(medians)\n",
    "#     print len(non_zero_bins)\n",
    "\n",
    "    return medians, np.array(non_zero_bins)\n",
    "    "
   ]
  },
  {
   "cell_type": "code",
   "execution_count": 7,
   "metadata": {
    "collapsed": true
   },
   "outputs": [],
   "source": [
    "def hist_calcs(mass,bins,dlogM):\n",
    "    \"\"\"\n",
    "    Returns dictionaries with the counts for the upper\n",
    "        and lower density portions; calculates the \n",
    "        three different percentile cuts for each mass\n",
    "        array given\n",
    "    \n",
    "    Parameters\n",
    "    ----------\n",
    "    mass: array-like\n",
    "        A 1D array with log stellar mass values, assumed\n",
    "        to be an order which corresponds to the ascending \n",
    "        densities; (necessary, as the index cuts are based \n",
    "        on this)\n",
    "    bins: array-like\n",
    "        A 1D array with the values which will be used as the bin edges   \n",
    "    dlogM: float-like\n",
    "        The log difference between bin edges\n",
    "        \n",
    "    Returns\n",
    "    -------\n",
    "    hist_dict_low: dictionary-like\n",
    "        A dictionary with three keys (the frac vals), with arrays\n",
    "        as values. The values for the lower density cut\n",
    "    hist_dict_high: dictionary like\n",
    "        A dictionary with three keys (the frac vals), with arrays\n",
    "        as values. The values for the higher density cut\n",
    "    \"\"\"\n",
    "    hist_dict_low  = {}\n",
    "    hist_dict_high = {}\n",
    "    frac_val  = np.array([2,4,10])\n",
    "    frac_dict = {2:0,4:1,10:2}\n",
    "    \n",
    "    low_err   = [[] for xx in xrange(len(frac_val))]\n",
    "    high_err  = [[] for xx in xrange(len(frac_val))]\n",
    "    \n",
    "    for ii in frac_val:\n",
    "#         hist_dict_low[ii]  = {}\n",
    "#         hist_dict_high[ii] = {}\n",
    "    \n",
    "        frac_data     = int(len(mass)/ii)\n",
    "        \n",
    "        frac_mass     = mass[0:frac_data]\n",
    "        counts, edges = np.histogram(frac_mass,bins)\n",
    "        low_counts    = (counts/float(len(frac_mass))/dlogM)\n",
    "        \n",
    "        non_zero = (low_counts!=0)\n",
    "        low_counts_1 = low_counts[non_zero]\n",
    "        hist_dict_low[ii]  = low_counts_1\n",
    "        \n",
    "        low_err = np.sqrt(counts)/len(frac_mass)/dlogM\n",
    "        low_err_1 = low_err[non_zero]\n",
    "        err_key = 'err_{0}'.format(ii)\n",
    "        hist_dict_low[err_key] = low_err_1\n",
    "        \n",
    "        frac_mass_2        = mass[-frac_data:]\n",
    "        counts_2, edges_2  = np.histogram(frac_mass_2,bins)\n",
    "        high_counts        = (counts_2/float(len(frac_mass_2))/dlogM)\n",
    "        \n",
    "        non_zero = (high_counts!=0)\n",
    "        high_counts_1 = high_counts[non_zero]\n",
    "        hist_dict_high[ii] = high_counts_1\n",
    "        \n",
    "        high_err = np.sqrt(counts_2)/len(frac_mass_2)/dlogM\n",
    "        high_err_1 = high_err[non_zero]\n",
    "        hist_dict_high[err_key] = high_err_1\n",
    "    \n",
    "    return hist_dict_low, hist_dict_high"
   ]
  },
  {
   "cell_type": "code",
   "execution_count": 8,
   "metadata": {
    "collapsed": false
   },
   "outputs": [],
   "source": [
    "def mean_bin_mass(mass_dist,bins,kk):\n",
    "    \"\"\"\n",
    "    Returns mean mass of galaxies in each bin\n",
    "\n",
    "    Parameters\n",
    "    ----------\n",
    "    mass_dist: array-like\n",
    "        An array with mass values in at index 0 (when transformed) \n",
    "    bins: array=like\n",
    "        A 1D array with the values which will be used as the bin edges     \n",
    "\n",
    "    Returns\n",
    "    -------\n",
    "\n",
    "    \"\"\"\n",
    "    edges        = bins\n",
    "\n",
    "    digitized    = np.digitize(mass_dist.T[0],edges)\n",
    "    digitized   -= int(1)\n",
    "    \n",
    "    bin_nums          = np.unique(digitized)\n",
    "    \n",
    "    for ii in bin_nums:\n",
    "        if len(mass_dist.T[kk][digitized==ii]) == 0:\n",
    "            mass_dist.T[kk][digitized==ii] = np.nan\n",
    "\n",
    "\n",
    "\n",
    "    mean_mass = np.array([np.nanmean(mass_dist.T[0][digitized==ii]) \\\n",
    "                for ii in bin_nums])\n",
    "\n",
    "    return mean_mass \n",
    "\n",
    "###note, this should use the same bin_centers as provided by the \n",
    "#median from bin_func"
   ]
  },
  {
   "cell_type": "code",
   "execution_count": 9,
   "metadata": {
    "collapsed": true
   },
   "outputs": [],
   "source": [
    "dirpath  = r\"C:\\Users\\Hannah\\Desktop\\Vanderbilt_REU\\Stellar_mass_env_density\"\n",
    "dirpath += r\"\\Catalogs\\Resolve_plk_5001_so_mvir_scatter_ECO_Mocks_\"\n",
    "dirpath += r\"scatter_mocks\\Resolve_plk_5001_so_mvir_scatter0p1_ECO_Mocks\"\n",
    "\n",
    "usecols  = (0,1,4,8,13)\n",
    "dlogM    = 0.2\n",
    "neigh_dict = {1:0,2:1,3:2,5:3,10:4,20:5}"
   ]
  },
  {
   "cell_type": "code",
   "execution_count": 10,
   "metadata": {
    "collapsed": false
   },
   "outputs": [
    {
     "data": {
      "text/plain": [
       "[None, None, None, None, None, None, None, None]"
      ]
     },
     "execution_count": 10,
     "metadata": {},
     "output_type": "execute_result"
    }
   ],
   "source": [
    "ECO_cats = (Index(dirpath,'.dat'))\n",
    "\n",
    "names    = ['ra','dec','Halo_ID','cz','logMstar']\n",
    "\n",
    "PD = [[] for ii in range(len(ECO_cats))]\n",
    "\n",
    "for ii in range(len(ECO_cats)):\n",
    "    temp_PD = (pd.read_csv(ECO_cats[ii],sep=\"\\s+\", usecols= usecols,header=None,\\\n",
    "                   skiprows=2,names=names))\n",
    "    col_list = list(temp_PD)\n",
    "    col_list[2], col_list[3], col_list[4] = col_list[3], col_list[4], col_list[2]\n",
    "    temp_PD.ix[:,col_list]\n",
    "    PD[ii] = temp_PD\n",
    "\n",
    "PD_comp_1  = [(PD[ii][PD[ii].logMstar >= 9.1]) for ii in range(len(ECO_cats))]\n",
    "PD_comp  = [(PD_comp_1[ii][PD_comp_1[ii].logMstar <=11.77]) for ii in range(len(ECO_cats))]\n",
    "\n",
    "[(PD_comp[ii].reset_index(drop=True,inplace=True)) for ii in range(len(ECO_cats))]"
   ]
  },
  {
   "cell_type": "code",
   "execution_count": 11,
   "metadata": {
    "collapsed": false
   },
   "outputs": [
    {
     "name": "stdout",
     "output_type": "stream",
     "text": [
      "1\n",
      "1\n",
      "5\n",
      "3\n",
      "9\n",
      "2\n",
      "0\n",
      "0\n"
     ]
    }
   ],
   "source": [
    "for ii in range(len(ECO_cats)):\n",
    "    print len(PD_comp[ii][PD_comp[ii].logMstar >=11.5])\n",
    "# for ii in range(len(ECO_cats)):\n",
    "#     print PD_comp[ii]\n"
   ]
  },
  {
   "cell_type": "code",
   "execution_count": 12,
   "metadata": {
    "collapsed": false
   },
   "outputs": [],
   "source": [
    "min_max_mass_arr = []\n",
    "\n",
    "for ii in range(len(PD_comp)):\n",
    "    min_max_mass_arr.append(max(PD_comp[ii].logMstar))\n",
    "    min_max_mass_arr.append(min(PD_comp[ii].logMstar))\n",
    "\n",
    "min_max_mass_arr = np.array(min_max_mass_arr)\n",
    "\n",
    "bins = Bins_array_create(min_max_mass_arr,dlogM)\n",
    "bins+= 0.1\n",
    "bins_list = list(bins)\n",
    "for ii in bins:\n",
    "    if ii > 11.77:\n",
    "        bins_list.remove(ii)\n",
    "\n",
    "bins = np.array(bins_list)\n",
    "\n",
    "num_of_bins = int(len(bins) - 1) \n",
    "\n",
    "ra_arr  = np.array([(PD_comp[ii].ra) \\\n",
    "    for ii in range(len(PD_comp))])\n",
    "\n",
    "dec_arr  = np.array([(PD_comp[ii].dec) \\\n",
    "    for ii in range(len(PD_comp))])\n",
    "\n",
    "cz_arr  = np.array([(PD_comp[ii].cz) \\\n",
    "    for ii in range(len(PD_comp))])\n",
    "\n",
    "mass_arr  = np.array([(PD_comp[ii].logMstar) \\\n",
    "    for ii in range(len(PD_comp))])\n",
    "\n",
    "halo_id_arr  = np.array([(PD_comp[ii].Halo_ID) \\\n",
    "    for ii in range(len(PD_comp))])\n",
    "\n",
    "\n",
    "coords_test = np.array([sph_to_cart(ra_arr[vv],dec_arr[vv],cz_arr[vv]) \\\n",
    "                for vv in range(len(ECO_cats))])\n",
    "\n",
    "neigh_vals  = np.array([1,2,3,5,10,20])\n",
    "\n",
    "nn_arr_temp = [[] for uu in xrange(len(coords_test))]\n",
    "nn_arr      = [[] for xx in xrange(len(coords_test))]\n",
    "nn_arr_nn   = [[] for yy in xrange(len(neigh_vals))]\n",
    "nn_idx      = [[] for zz in xrange(len(coords_test))]\n",
    "\n",
    "for vv in range(len(coords_test)):\n",
    "    nn_arr_temp[vv] = spatial.cKDTree(coords_test[vv])\n",
    "    nn_arr[vv] = np.array(nn_arr_temp[vv].query(coords_test[vv],21)[0])\n",
    "    nn_idx[vv] = np.array(nn_arr_temp[vv].query(coords_test[vv],21)[1])\n",
    "    \n",
    "\n",
    "nn_specs       = [(np.array(nn_arr).T[ii].T[neigh_vals].T) for ii in \\\n",
    "                    range(len(coords_test))]\n",
    "nn_mass_dist   = np.array([(np.column_stack((mass_arr[qq],nn_specs[qq]))) \\\n",
    "                    for qq in range(len(coords_test))])\n",
    "\n",
    "nn_neigh_idx      = np.array([(np.array(nn_idx).T[ii].T[neigh_vals].T) for ii in \\\n",
    "                    range(len(coords_test))])"
   ]
  },
  {
   "cell_type": "code",
   "execution_count": 13,
   "metadata": {
    "collapsed": false
   },
   "outputs": [
    {
     "data": {
      "text/plain": [
       "array([  9.1,   9.3,   9.5,   9.7,   9.9,  10.1,  10.3,  10.5,  10.7,\n",
       "        10.9,  11.1,  11.3,  11.5,  11.7])"
      ]
     },
     "execution_count": 13,
     "metadata": {},
     "output_type": "execute_result"
    }
   ],
   "source": [
    "bins"
   ]
  },
  {
   "cell_type": "code",
   "execution_count": 14,
   "metadata": {
    "collapsed": false
   },
   "outputs": [],
   "source": [
    "# truth_vals[ii] = {}\n",
    "# for kk in range(10):\n",
    "#     truth_list.append(np.unique(halo_id_arr[ii][nn_neigh_idx[ii].T[neigh_dict[jj]]\\\n",
    "#                                   [halo_id_arr[ii][nn_neigh_idx[ii].T[neigh_dict[jj]]].keys()[kk]]])==halo_id_arr[ii][kk])\n",
    "#     truth_vals[ii][jj] = truth_list\n",
    "\n",
    "truth_vals = {}\n",
    "for ii in range(len(halo_id_arr)):\n",
    "    truth_vals[ii] = {}\n",
    "    for jj in neigh_vals:\n",
    "        halo_id_neigh = halo_id_arr[ii][nn_neigh_idx[ii].T[neigh_dict[jj]]].values\n",
    "        truth_vals[ii][jj] = halo_id_neigh==halo_id_arr[ii].values"
   ]
  },
  {
   "cell_type": "code",
   "execution_count": 15,
   "metadata": {
    "collapsed": false
   },
   "outputs": [],
   "source": [
    "halo_frac = {}\n",
    "for ii in range(len(mass_arr)):\n",
    "    halo_frac[ii] = {}\n",
    "    mass_binning = np.digitize(mass_arr[ii],bins)\n",
    "    bins_to_use = list(np.unique(mass_binning))\n",
    "    if (len(bins)-1) not in bins_to_use:\n",
    "        bins_to_use.append(len(bins)-1)\n",
    "    if len(bins) in bins_to_use:\n",
    "        bins_to_use.remove(len(bins))\n",
    "    for jj in neigh_vals:\n",
    "        one_zero = truth_vals[ii][jj].astype(int)\n",
    "        frac = []\n",
    "        for xx in bins_to_use:\n",
    "            truth_binning = one_zero[mass_binning==xx]\n",
    "            num_in_bin = len(truth_binning)\n",
    "            if num_in_bin == 0:\n",
    "                num_in_bin = np.nan\n",
    "            num_same_halo = np.count_nonzero(truth_binning==1)\n",
    "            frac.append(num_same_halo/(1.*num_in_bin))\n",
    "        halo_frac[ii][jj] = frac"
   ]
  },
  {
   "cell_type": "code",
   "execution_count": 16,
   "metadata": {
    "collapsed": false
   },
   "outputs": [],
   "source": [
    "nn_dict   = {1:0,2:1,3:2,5:3,10:4,20:5}\n",
    "\n",
    "mean_mock_halo_frac = {}\n",
    "\n",
    "for ii in neigh_vals:\n",
    "    for jj in range(len(halo_frac)):\n",
    "        bin_str = '{0}'.format(ii)\n",
    "        oo_arr = halo_frac[jj][ii]\n",
    "        n_o_elem = len(oo_arr)\n",
    "        if jj == 0:\n",
    "            oo_tot = np.zeros((n_o_elem,1))\n",
    "        oo_tot = np.insert(oo_tot,len(oo_tot.T),oo_arr,1)\n",
    "    oo_tot = np.array(np.delete(oo_tot,0,axis=1))\n",
    "    oo_tot_mean = [np.nanmean(oo_tot[uu]) for uu in xrange(len(oo_tot))]\n",
    "    oo_tot_std  = [np.nanstd(oo_tot[uu])/np.sqrt(len(halo_frac)) for uu in xrange(len(oo_tot))]\n",
    "    mean_mock_halo_frac[bin_str] = [oo_tot_mean,oo_tot_std]\n",
    "\n",
    "    \n"
   ]
  },
  {
   "cell_type": "code",
   "execution_count": 17,
   "metadata": {
    "collapsed": false
   },
   "outputs": [],
   "source": [
    "# (mean_mock_halo_frac['1'])"
   ]
  },
  {
   "cell_type": "code",
   "execution_count": 18,
   "metadata": {
    "collapsed": true
   },
   "outputs": [],
   "source": [
    "def plot_halo_frac(bin_centers,y_vals,ax,plot_idx):\n",
    "    titles = [1,2,3,5,10,20]\n",
    "    ax.set_xlim(9.1,11.9)\n",
    "    ax.set_xticks(np.arange(9.5,12.,0.5)) \n",
    "    ax.tick_params(axis='x', which='major', labelsize=16)\n",
    "    title_here = 'n = {0}'.format(titles[plot_idx])\n",
    "    ax.text(0.05, 0.95, title_here,horizontalalignment='left',\\\n",
    "            verticalalignment='top',transform=ax.transAxes,fontsize=18)\n",
    "    if plot_idx == 4:\n",
    "        ax.set_xlabel('$\\log\\ (M_{*}/M_{\\odot})$',fontsize=20)\n",
    "    ax.plot(bin_centers,y_vals,color='silver')\n",
    "    \n",
    "def plot_mean_halo_frac(bin_centers,mean_vals,ax,std):\n",
    "    ax.errorbar(bin_centers,mean_vals,yerr=std,color='deeppink')\n"
   ]
  },
  {
   "cell_type": "code",
   "execution_count": 19,
   "metadata": {
    "collapsed": false
   },
   "outputs": [
    {
     "name": "stdout",
     "output_type": "stream",
     "text": [
      "1105\n",
      "6417\n",
      "223\n"
     ]
    }
   ],
   "source": [
    "mass_bin_test = np.digitize(mass_arr[0],bins)\n",
    "one_zero_test = truth_vals[0][1].astype(int)\n",
    "\n",
    "test_arr_ones = one_zero_test[mass_bin_test==1]\n",
    "\n",
    "print len(test_arr_ones)\n",
    "print len(mass_bin_test)\n",
    "\n",
    "print np.count_nonzero(test_arr_ones==1)"
   ]
  },
  {
   "cell_type": "code",
   "execution_count": 20,
   "metadata": {
    "collapsed": false
   },
   "outputs": [],
   "source": [
    "# nn_dist    = {}\n",
    "nn_dens    = {}\n",
    "mass_dat   = {}\n",
    "ratio_info = {}\n",
    "bin_cens_diff = {}\n",
    "\n",
    "mass_freq  = [[] for xx in xrange(len(coords_test))]\n",
    "\n",
    "for ii in range(len(coords_test)):\n",
    "#     nn_dist[ii]    = {}\n",
    "    nn_dens[ii]    = {}\n",
    "    mass_dat[ii]   = {}\n",
    "    ratio_info[ii] = {}\n",
    "    bin_cens_diff[ii] = {}\n",
    "\n",
    "#     nn_dist[ii]['mass'] = nn_mass_dist[ii].T[0]\n",
    "\n",
    "    for jj in range(len(neigh_vals)):\n",
    "#         nn_dist[ii][(neigh_vals[jj])]  = np.array(nn_mass_dist[ii].T\\\n",
    "#                                             [range(1,len(neigh_vals)+1)[jj]])\n",
    "        nn_dens[ii][(neigh_vals[jj])]  = np.column_stack((nn_mass_dist[ii].T\\\n",
    "                                            [0],calc_dens(neigh_vals[jj],\\\n",
    "                                            nn_mass_dist[ii].T[range(1,len\\\n",
    "                                                (neigh_vals)+1)[jj]])))\n",
    "\n",
    "        idx = np.array([nn_dens[ii][neigh_vals[jj]].T[1].argsort()])\n",
    "        mass_dat[ii][(neigh_vals[jj])] = (nn_dens[ii][neigh_vals[jj]]\\\n",
    "                                            [idx].T[0])\n",
    "\n",
    "        bin_centers, mass_freq[ii], ratio_info[ii][neigh_vals[jj]],bin_cens_diff[ii][neigh_vals[jj]] = \\\n",
    "                            plot_calcs(mass_dat[ii][neigh_vals[jj]],bins,dlogM)\n",
    "\n",
    "all_mock_meds = [[] for xx in range(len(nn_mass_dist))]\n",
    "mock_meds_bins = [[] for xx in range(len(nn_mass_dist))]\n",
    "all_mock_mass_means = [[] for xx in range(len(nn_mass_dist))]\n",
    "\n",
    "for vv in range(len(nn_mass_dist)):\n",
    "    for jj in range(len(nn_mass_dist[vv].T)-1):\n",
    "        for vv in range(len(nn_mass_dist)):\n",
    "            all_mock_meds[vv],mock_meds_bins[vv] = (bin_func(nn_mass_dist[vv],bins,(jj+1)))\n",
    "            all_mock_mass_means[vv] = (mean_bin_mass(nn_mass_dist[vv],bins,(jj+1))) \n",
    "\n",
    "    \n",
    "# med_plot_arr = [([[] for yy in xrange(len(nn_mass_dist))]) \\\n",
    "#                                             for xx in xrange(len(neigh_vals))]\n",
    "\n",
    "# for ii in range(len(neigh_vals)):\n",
    "#     for jj in range(len(nn_mass_dist)):\n",
    "#         med_plot_arr[ii][jj] = all_mock_meds[jj][ii]    \n",
    "\n",
    "# for ii in range(len(neigh_vals)):\n",
    "#     for jj in range(len(nn_mass_dist)):\n",
    "#         print len(all_mock_meds[jj][ii])\n",
    "\n",
    "# mass_freq_plot  = (np.array(mass_freq))\n",
    "# max_lim = [[] for xx in range(len(mass_freq_plot.T))]\n",
    "# min_lim = [[] for xx in range(len(mass_freq_plot.T))]\n",
    "# for jj in range(len(mass_freq_plot.T)):\n",
    "#     max_lim[jj] = max(mass_freq_plot.T[jj])\n",
    "#     min_lim[jj] = min(mass_freq_plot.T[jj])"
   ]
  },
  {
   "cell_type": "code",
   "execution_count": 21,
   "metadata": {
    "collapsed": false
   },
   "outputs": [],
   "source": [
    "# haloid_neigh = halo_id_arr[ii][nn_neigh_idx[ii].T[neigh_dict[jj]]].values\n",
    "# B = haloid_neigh == halo_id_arr[ii].values\n",
    "# print(B)\n",
    "# print(haloid_neigh)\n",
    "# print(halo_id_arr[ii].values)"
   ]
  },
  {
   "cell_type": "code",
   "execution_count": 22,
   "metadata": {
    "collapsed": false
   },
   "outputs": [
    {
     "name": "stdout",
     "output_type": "stream",
     "text": [
      "11.567247\n",
      "13\n",
      "11.64\n",
      "13\n",
      "11.56\n",
      "13\n",
      "11.557191\n",
      "13\n",
      "11.73\n",
      "14\n",
      "11.63\n",
      "13\n",
      "11.417435\n",
      "12\n",
      "11.424129\n",
      "12\n",
      "[  9.1   9.3   9.5   9.7   9.9  10.1  10.3  10.5  10.7  10.9  11.1  11.3\n",
      "  11.5  11.7]\n"
     ]
    }
   ],
   "source": [
    "for vv in range(len(nn_mass_dist)):\n",
    "    print max(nn_mass_dist[vv].T[0])\n",
    "    print max(np.digitize(nn_mass_dist[vv].T[0],bins))\n",
    "print bins    "
   ]
  },
  {
   "cell_type": "code",
   "execution_count": 27,
   "metadata": {
    "collapsed": false
   },
   "outputs": [
    {
     "name": "stdout",
     "output_type": "stream",
     "text": [
      "[  9.1   9.3   9.5   9.7   9.9  10.1  10.3  10.5  10.7  10.9  11.1  11.3\n",
      "  11.5  11.7]\n"
     ]
    }
   ],
   "source": [
    "bins_curve_fit = bins.copy()\n",
    "global bins_curve_fit"
   ]
  },
  {
   "cell_type": "code",
   "execution_count": 28,
   "metadata": {
    "collapsed": true
   },
   "outputs": [],
   "source": [
    "eco_path  = r\"C:\\Users\\Hannah\\Desktop\\Vanderbilt_REU\\Stellar_mass_env_density\"\n",
    "eco_path += r\"\\Catalogs\\ECO_true\"\n",
    "eco_cols  = np.array([0,1,2,4])"
   ]
  },
  {
   "cell_type": "code",
   "execution_count": 29,
   "metadata": {
    "collapsed": false
   },
   "outputs": [],
   "source": [
    "ECO_true = (Index(eco_path,'.txt'))\n",
    "names    = ['ra','dec','cz','logMstar']\n",
    "PD_eco   = pd.read_csv(ECO_true[0],sep=\"\\s+\", usecols=(eco_cols),header=None,\\\n",
    "                skiprows=1,names=names)\n",
    "eco_comp = PD_eco[PD_eco.logMstar >= 9.1]\n",
    "\n",
    "ra_eco   = (np.array(eco_comp)).T[0]\n",
    "dec_eco  = (np.array(eco_comp)).T[1] \n",
    "cz_eco   = (np.array(eco_comp)).T[2] \n",
    "mass_eco = (np.array(eco_comp)).T[3]\n",
    "\n",
    "coords_eco        = sph_to_cart(ra_eco,dec_eco,cz_eco)\n",
    "eco_neighbor_tree = spatial.cKDTree(coords_eco)\n",
    "eco_tree_dist     = np.array(eco_neighbor_tree.query(coords_eco,\\\n",
    "                    (neigh_vals[-1]+1))[0])\n",
    "\n",
    "eco_mass_dist = np.column_stack((mass_eco,eco_tree_dist.T[neigh_vals].T))\n",
    "##range 1,7 because of the six nearest neighbors (and fact that 0 is mass)\n",
    "##the jj is there to specify which index in the [1,6] array\n",
    "eco_dens = ([calc_dens(neigh_vals[jj],\\\n",
    "            (eco_mass_dist.T[range(1,7)[jj]])) for jj in range\\\n",
    "            (len(neigh_vals))])\n",
    "\n",
    "eco_mass_dens = [(np.column_stack((mass_eco,eco_dens[ii]))) for ii in \\\n",
    "                range(len(neigh_vals))]\n",
    "eco_idx  = [(eco_mass_dens[jj].T[1].argsort()) for jj in \\\n",
    "            range(len(neigh_vals))]\n",
    "eco_mass_dat  = [(eco_mass_dens[jj][eco_idx[jj]].T[0]) for jj in \\\n",
    "                range(len(neigh_vals))]\n",
    "\n",
    "eco_ratio_info    = [[] for xx in xrange(len(eco_mass_dat))]\n",
    "eco_final_bins    = [[] for xx in xrange(len(eco_mass_dat))]\n",
    "\n",
    "\n",
    "for qq in range(len(eco_mass_dat)):\n",
    "    bin_centers, eco_freq, eco_ratio_info[qq],eco_final_bins[qq] = plot_calcs(eco_mass_dat[qq],\\\n",
    "                                    bins,dlogM)\n",
    "\n",
    "eco_medians   = [[] for xx in xrange(len(eco_mass_dat))]    \n",
    "eco_med_bins   = [[] for xx in xrange(len(eco_mass_dat))]    \n",
    "eco_mass_means   = [[] for xx in xrange(len(eco_mass_dat))] \n",
    "\n",
    "for jj in (range(len(eco_mass_dat))):\n",
    "    eco_medians[jj],eco_med_bins[jj] = np.array(bin_func(eco_mass_dist,bins,(jj+1),\\\n",
    "        bootstrap=True))\n",
    "    eco_mass_means[jj] = (mean_bin_mass(eco_mass_dist,bins,(jj+1))) "
   ]
  },
  {
   "cell_type": "code",
   "execution_count": 30,
   "metadata": {
    "collapsed": false
   },
   "outputs": [],
   "source": [
    "hist_low_info  = {}\n",
    "hist_high_info = {}\n",
    "\n",
    "for ii in xrange(len(coords_test)):\n",
    "    hist_low_info[ii]  = {}\n",
    "    hist_high_info[ii] = {}\n",
    "    \n",
    "    for jj in range(len(neigh_vals)):\n",
    "        hist_low_info[ii][neigh_vals[jj]],hist_high_info[ii][neigh_vals[jj]] \\\n",
    "        = hist_calcs(mass_dat[ii][neigh_vals[jj]],bins,dlogM)\n",
    "        \n",
    "frac_vals     = [2,4,10]\n",
    "hist_low_arr  = [[[] for yy in xrange(len(nn_mass_dist))] for xx in \\\n",
    "    xrange(len(neigh_vals))]\n",
    "hist_high_arr = [[[] for yy in xrange(len(nn_mass_dist))] for xx in \\\n",
    "    xrange(len(neigh_vals))]\n",
    "\n",
    "for ii in range(len(neigh_vals)):\n",
    "    for jj in range(len(nn_mass_dist)):\n",
    "        hist_low_arr[ii][jj]  = (hist_low_info[jj][neigh_vals[ii]])\n",
    "        hist_high_arr[ii][jj] = (hist_high_info[jj][neigh_vals[ii]])\n",
    "        \n",
    "        \n",
    "#         plot_low_hist  = [[[[] for yy in xrange(len(nn_mass_dist))] \\\n",
    "#                          for zz in xrange(len(frac_vals))] for xx in \\\n",
    "#                          xrange(len(hist_low_arr))]\n",
    "        \n",
    "#         plot_high_hist = [[[[] for yy in xrange(len(nn_mass_dist))] \\\n",
    "#                  for zz in xrange(len(frac_vals))] for xx in \\\n",
    "#                  xrange(len(hist_high_arr))]\n",
    "\n",
    "# for jj in range(len(nn_mass_dist)):\n",
    "#     for hh in range(len(frac_vals)):\n",
    "#         for ii in range(len(neigh_vals)):\n",
    "#             plot_low_hist[ii][hh][jj]  = hist_low_arr[ii][jj][frac_vals[hh]]        \n",
    "#             plot_high_hist[ii][hh][jj] = hist_high_arr[ii][jj][frac_vals[hh]] "
   ]
  },
  {
   "cell_type": "code",
   "execution_count": 31,
   "metadata": {
    "collapsed": false
   },
   "outputs": [
    {
     "data": {
      "text/plain": [
       "[array([  9.19881916,   9.39594645,   9.59814583,   9.8007378 ,\n",
       "          9.99990361,  10.19470893,  10.3920915 ,  10.59192308,\n",
       "         10.79164706,  10.98988372,  11.18395349,  11.37583333,\n",
       "         11.582     ,  11.746     ]),\n",
       " array([  9.19881916,   9.39594645,   9.59814583,   9.8007378 ,\n",
       "          9.99990361,  10.19470893,  10.3920915 ,  10.59192308,\n",
       "         10.79164706,  10.98988372,  11.18395349,  11.37583333,\n",
       "         11.582     ,  11.746     ]),\n",
       " array([  9.19881916,   9.39594645,   9.59814583,   9.8007378 ,\n",
       "          9.99990361,  10.19470893,  10.3920915 ,  10.59192308,\n",
       "         10.79164706,  10.98988372,  11.18395349,  11.37583333,\n",
       "         11.582     ,  11.746     ]),\n",
       " array([  9.19881916,   9.39594645,   9.59814583,   9.8007378 ,\n",
       "          9.99990361,  10.19470893,  10.3920915 ,  10.59192308,\n",
       "         10.79164706,  10.98988372,  11.18395349,  11.37583333,\n",
       "         11.582     ,  11.746     ]),\n",
       " array([  9.19881916,   9.39594645,   9.59814583,   9.8007378 ,\n",
       "          9.99990361,  10.19470893,  10.3920915 ,  10.59192308,\n",
       "         10.79164706,  10.98988372,  11.18395349,  11.37583333,\n",
       "         11.582     ,  11.746     ]),\n",
       " array([  9.19881916,   9.39594645,   9.59814583,   9.8007378 ,\n",
       "          9.99990361,  10.19470893,  10.3920915 ,  10.59192308,\n",
       "         10.79164706,  10.98988372,  11.18395349,  11.37583333,\n",
       "         11.582     ,  11.746     ])]"
      ]
     },
     "execution_count": 31,
     "metadata": {},
     "output_type": "execute_result"
    }
   ],
   "source": [
    "eco_mass_means"
   ]
  },
  {
   "cell_type": "code",
   "execution_count": 32,
   "metadata": {
    "collapsed": false
   },
   "outputs": [],
   "source": [
    "eco_low  = {}\n",
    "eco_high = {}\n",
    "for jj in range(len(neigh_vals)):\n",
    "    eco_low[neigh_vals[jj]]  = {}\n",
    "    eco_high[neigh_vals[jj]] = {}\n",
    "    eco_low[neigh_vals[jj]], eco_high[neigh_vals[jj]] = hist_calcs\\\n",
    "    (eco_mass_dat[jj],bins,dlogM)"
   ]
  },
  {
   "cell_type": "code",
   "execution_count": 33,
   "metadata": {
    "collapsed": false
   },
   "outputs": [],
   "source": [
    "def perc_calcs(mass,bins,dlogM):\n",
    "    mass_counts, edges = np.histogram(mass,bins)\n",
    "    mass_freq          = mass_counts/float(len(mass))/dlogM\n",
    "    \n",
    "    bin_centers        = 0.5*(edges[:-1]+edges[1:])\n",
    "    \n",
    "    non_zero = (mass_freq!=0)\n",
    "    \n",
    "    mass_freq_1 = mass_freq[non_zero]\n",
    "    \n",
    "    smf_err            = np.sqrt(mass_counts)/float(len(mass))/dlogM\n",
    "    \n",
    "    smf_err_1   = smf_err[non_zero] \n",
    "    \n",
    "    bin_centers_1 = bin_centers[non_zero]\n",
    "\n",
    "    return mass_freq_1, smf_err_1, bin_centers_1"
   ]
  },
  {
   "cell_type": "code",
   "execution_count": 34,
   "metadata": {
    "collapsed": true
   },
   "outputs": [],
   "source": [
    "def quartiles(mass):\n",
    "    dec_val     =  int(len(mass)/4)\n",
    "    res_list      =  [[] for bb in range(4)]\n",
    "\n",
    "    for aa in range(0,4):\n",
    "        if aa == 3:\n",
    "            res_list[aa] = mass[aa*dec_val:]\n",
    "        else:\n",
    "            res_list[aa] = mass[aa*dec_val:(aa+1)*dec_val]\n",
    "\n",
    "    return res_list"
   ]
  },
  {
   "cell_type": "code",
   "execution_count": 35,
   "metadata": {
    "collapsed": true
   },
   "outputs": [],
   "source": [
    "def deciles(mass):\n",
    "    dec_val     =  int(len(mass)/10)\n",
    "    res_list      =  [[] for bb in range(10)]\n",
    "\n",
    "    for aa in range(0,10):\n",
    "        if aa == 9:\n",
    "            res_list[aa] = mass[aa*dec_val:]\n",
    "        else:\n",
    "            res_list[aa] = mass[aa*dec_val:(aa+1)*dec_val]\n",
    "\n",
    "    return res_list"
   ]
  },
  {
   "cell_type": "code",
   "execution_count": 36,
   "metadata": {
    "collapsed": false
   },
   "outputs": [],
   "source": [
    "eco_dec = {}\n",
    "for cc in range(len(eco_mass_dat)):\n",
    "    eco_dec[neigh_vals[cc]] = deciles(eco_mass_dat[cc])\n",
    "    \n",
    "eco_dec_smf = {}\n",
    "eco_dec_err = {}\n",
    "eco_dec_bin = {}\n",
    "\n",
    "for ss in neigh_vals:\n",
    "    eco_dec_smf[ss] = {}\n",
    "    eco_dec_err[ss] = {}\n",
    "    eco_dec_bin[ss] = {}\n",
    "    for tt in range(len(eco_dec[ss])):\n",
    "        eco_dec_smf[ss][tt], eco_dec_err[ss][tt], eco_dec_bin[ss][tt] = perc_calcs(eco_dec[ss][tt],bins,dlogM)    "
   ]
  },
  {
   "cell_type": "code",
   "execution_count": 37,
   "metadata": {
    "collapsed": false
   },
   "outputs": [
    {
     "name": "stdout",
     "output_type": "stream",
     "text": [
      "11\n",
      "11\n",
      "11\n",
      "[  9.2   9.4   9.6   9.8  10.   10.2  10.4  10.6  10.8  11.   11.2]\n",
      "[  9.19822809   9.39940905   9.59760334   9.79848111  10.00151616\n",
      "  10.20241456  10.3992579   10.59785147  10.78480071  10.99137783\n",
      "  11.18597316  11.3528569   11.567247  ]\n",
      "[  9.1   9.3   9.5   9.7   9.9  10.1  10.3  10.5  10.7  10.9  11.1  11.3\n",
      "  11.5  11.7]\n"
     ]
    }
   ],
   "source": [
    "print len(eco_dec_smf[1][0])\n",
    "print len(all_mock_mass_means[0][:-2])\n",
    "print len(eco_dec_err[1][0])\n",
    "print eco_dec_bin[1][0]\n",
    "print all_mock_mass_means[0]\n",
    "print bins_curve_fit"
   ]
  },
  {
   "cell_type": "code",
   "execution_count": 38,
   "metadata": {
    "collapsed": true
   },
   "outputs": [],
   "source": [
    "def schechter_real_func(mean_of_mass_bin,phi_star,alpha,Mstar):\n",
    "    \"\"\"\n",
    "    \n",
    "    mean_of_mass_bin: array-like\n",
    "        Unlogged x-values\n",
    "    phi-star: float-like\n",
    "        Normalization value\n",
    "    alpha: float-like\n",
    "        Low-mass end slope\n",
    "    Mstar: float-like\n",
    "        Unlogged value where function switches from power-law to exponential\n",
    "    \n",
    "    \"\"\"\n",
    "#     M_over_mstar = (10**mean_of_mass_bin)/Mstar\n",
    "    M_over_mstar = (mean_of_mass_bin)/Mstar\n",
    "    res_arr    = phi_star/Mstar * M_over_mstar**(alpha) * \\\n",
    "                        np.exp(- M_over_mstar)\n",
    "\n",
    "    return res_arr"
   ]
  },
  {
   "cell_type": "code",
   "execution_count": 49,
   "metadata": {
    "collapsed": true
   },
   "outputs": [],
   "source": [
    "def schech_integral(edge_1,edge_2,phi_star,alpha,Mstar):\n",
    "    bin_integral = (integrate.quad(schechter_real_func,edge_1,edge_2,args=(phi_star,alpha,Mstar))[0])\n",
    "#     tot_integral = (integrate.quad(schechter_real_func,9.1,11.7,args=(phi_star,alpha,Mstar)))[0]\n",
    "# #     \n",
    "#     result = bin_integral/tot_integral/0.2\n",
    "    \n",
    "    return bin_integral"
   ]
  },
  {
   "cell_type": "code",
   "execution_count": 50,
   "metadata": {
    "collapsed": true
   },
   "outputs": [],
   "source": [
    "def schech_step_3(xdata,phi_star,alpha,Mstar):\n",
    "    \"\"\"\n",
    "    xdata: array-like\n",
    "        Unlogged x-values\n",
    "    Mstar:\n",
    "        unlogged\n",
    "    \"\"\"\n",
    "    test_int = []\n",
    "    for ii in range(len(xdata)):\n",
    "        test_int.append((schech_integral(10**bins_curve_fit[ii],10**bins_curve_fit[ii+1],phi_star,alpha,Mstar)))\n",
    "    return test_int"
   ]
  },
  {
   "cell_type": "code",
   "execution_count": 39,
   "metadata": {
    "collapsed": true
   },
   "outputs": [],
   "source": [
    "def schechter_log_func(stellar_mass,phi_star,alpha,m_star):\n",
    "    \"\"\"\n",
    "    Returns a plottable Schechter function for the \n",
    "        stellar mass functions of galaxies\n",
    "    \n",
    "    Parameters\n",
    "    ----------\n",
    "    stellar_mass: array-like\n",
    "        An array of unlogged stellar mass values which \n",
    "        will eventually be the x-axis values the function\n",
    "        is plotted against\n",
    "    phi_star: float-like\n",
    "        A constant which normalizes (?) the function;\n",
    "        Moves the graph up and down\n",
    "    alpha: negative integer-like\n",
    "        The faint-end, or in this case, low-mass slope;\n",
    "        Describes the power-law portion of the curve\n",
    "    m_star: float-like\n",
    "        Unlogged value of the characteristic (?) stellar\n",
    "        mass; the \"knee\" of the function, where the \n",
    "        power-law gives way to the exponential portion\n",
    "        \n",
    "    Returns\n",
    "    -------\n",
    "    res: array-like\n",
    "        Array of values prepadodgerblue to be plotted on a log\n",
    "        scale to display the Schechter function\n",
    "        \n",
    "    \"\"\"\n",
    "    constant = np.log(10) * phi_star\n",
    "    log_M_Mstar = np.log10(stellar_mass/m_star)\n",
    "    res = constant * 10**(log_M_Mstar * (alpha+1)) * \\\n",
    "        np.exp(-10**log_M_Mstar)\n",
    "        \n",
    "    return res"
   ]
  },
  {
   "cell_type": "code",
   "execution_count": 93,
   "metadata": {
    "collapsed": true
   },
   "outputs": [],
   "source": [
    "def find_params(bin_int,mean_mass,count_err):\n",
    "    \"\"\"\n",
    "    Parameters\n",
    "    ----------\n",
    "    bin_int: array-like\n",
    "        Integral (number of counts) in each bin of width dlogM\n",
    "    mean_mass: array-like\n",
    "        Logged values (?)\n",
    "\n",
    "    Returns\n",
    "    -------\n",
    "    opt_v: array-like\n",
    "        Array with three values: phi_star, alpha, and M_star\n",
    "    res_arr: array-like\n",
    "        Array with two values: alpha and log_M_star\n",
    "\n",
    "\n",
    "    \"\"\"\n",
    "    xdata = 10**mean_mass\n",
    "#     xdata = mean_mass\n",
    "    p0    = (1,-1.1,10**10.64)\n",
    "    opt_v,est_cov = optimize.curve_fit(schech_step_3,xdata,\\\n",
    "                            bin_int,p0=p0,sigma=count_err,check_finite=True)\n",
    "    alpha   = opt_v[1]\n",
    "    log_m_star    = np.log10(opt_v[2])\n",
    "    \n",
    "    res_arr = np.array([alpha,log_m_star])\n",
    "    \n",
    "    perr = np.sqrt(np.diag(est_cov))\n",
    "\n",
    "    return opt_v, res_arr, perr, est_cov"
   ]
  },
  {
   "cell_type": "code",
   "execution_count": 55,
   "metadata": {
    "collapsed": false
   },
   "outputs": [],
   "source": [
    "eco_opt_v, eco_res_arr, eco_perr, eco_est_cov = find_params(eco_freq[0],eco_mass_means[0][:-1],eco_freq[1])\n",
    "# len(eco_freq[0])"
   ]
  },
  {
   "cell_type": "code",
   "execution_count": 94,
   "metadata": {
    "collapsed": false
   },
   "outputs": [
    {
     "name": "stdout",
     "output_type": "stream",
     "text": [
      "[  1.07575946e+00  -1.12355671e+00   7.51792283e+10]\n",
      "[ -1.12355671  10.87609786]\n",
      "[ 0.81275168  0.72684564  0.6442953   0.59127517  0.55704698  0.51879195\n",
      "  0.41073826  0.31409396  0.22818792  0.11543624  0.05771812  0.01610738\n",
      "  0.0033557 ]\n"
     ]
    }
   ],
   "source": [
    "###multiplying my number density values by dlogM\n",
    "##phi star absorbs, as seen in cell directly below\n",
    "\n",
    "eco_opt_v_1, eco_res_arr_1, eco_perr_1, eco_est_cov_1 = find_params((eco_freq[0]),eco_mass_means[0][:-1],(eco_freq[1]))\n",
    "print eco_opt_v_1\n",
    "print eco_res_arr_1\n",
    "print eco_freq[0]"
   ]
  },
  {
   "cell_type": "code",
   "execution_count": 89,
   "metadata": {
    "collapsed": false
   },
   "outputs": [
    {
     "name": "stdout",
     "output_type": "stream",
     "text": [
      "[0.15628875491711017, 0.1458237416671744, 0.1350764636101257, 0.12369263804774974, 0.11122768245762837, 0.0971833708547639, 0.0811396843116131, 0.063057436184649, 0.04377702595707707, 0.02546777995326893, 0.01125166500440581, 0.003251200266308932, 0.000491504797591915]\n"
     ]
    }
   ],
   "source": [
    "test_eco_1 = schech_step_3(eco_mass_means[0][:-1],eco_opt_v_1[0],(eco_opt_v_1[1]),eco_opt_v_1[2])\n",
    "print test_eco_1"
   ]
  },
  {
   "cell_type": "code",
   "execution_count": 91,
   "metadata": {
    "collapsed": false
   },
   "outputs": [
    {
     "data": {
      "text/plain": [
       "array([  3.40435130e-10,   2.01978696e-10,   1.17381340e-10,\n",
       "         6.73541358e-11,   3.83129986e-11,   2.14673842e-11,\n",
       "         1.14279404e-11,   5.62591590e-12,   2.47733797e-12,\n",
       "         9.21349412e-13,   2.68167489e-13,   5.28011015e-14,\n",
       "         4.54062490e-15,   2.88748522e-16])"
      ]
     },
     "execution_count": 91,
     "metadata": {},
     "output_type": "execute_result"
    }
   ],
   "source": [
    "test_1 = schechter_real_func(10**eco_mass_means[0],eco_opt_v_1[0],eco_opt_v_1[1],eco_opt_v_1[2])\n",
    "test_1*10**0.2"
   ]
  },
  {
   "cell_type": "code",
   "execution_count": 83,
   "metadata": {
    "collapsed": false
   },
   "outputs": [
    {
     "data": {
      "text/plain": [
       "array([  1.07400009e-09,   6.37199666e-10,   3.70313087e-10,\n",
       "         2.12487942e-10,   1.20869349e-10,   6.77250260e-11,\n",
       "         3.60527191e-11,   1.77485666e-11,   7.81547318e-12,\n",
       "         2.90666056e-12,   8.46010918e-13,   1.66576080e-13,\n",
       "         1.43246805e-14,   9.10937678e-16])"
      ]
     },
     "execution_count": 83,
     "metadata": {},
     "output_type": "execute_result"
    }
   ],
   "source": [
    "schechter_real_func(10**eco_mass_means[0],eco_opt_v[0],eco_opt_v[1],eco_opt_v[2])"
   ]
  },
  {
   "cell_type": "code",
   "execution_count": 58,
   "metadata": {
    "collapsed": false
   },
   "outputs": [
    {
     "data": {
      "text/plain": [
       "array([ 0.81275168,  0.72684564,  0.6442953 ,  0.59127517,  0.55704698,\n",
       "        0.51879195,  0.41073826,  0.31409396,  0.22818792,  0.11543624,\n",
       "        0.05771812,  0.01610738,  0.0033557 ])"
      ]
     },
     "execution_count": 58,
     "metadata": {},
     "output_type": "execute_result"
    }
   ],
   "source": [
    "eco_freq[0]"
   ]
  },
  {
   "cell_type": "code",
   "execution_count": 71,
   "metadata": {
    "collapsed": false
   },
   "outputs": [
    {
     "name": "stdout",
     "output_type": "stream",
     "text": [
      "[0.7814436769608831, 0.7291186597106384, 0.6753823101873192, 0.618463213960334, 0.5561384569850871, 0.4859169076164781, 0.4056984699657007, 0.3152872117161265, 0.2188851357583886, 0.12733888466846008, 0.05625830364976586, 0.016255988081742424, 0.0024575202811195993]\n"
     ]
    }
   ],
   "source": [
    "test_eco = schech_step_3(eco_mass_means[0][:-1],eco_opt_v[0],(eco_opt_v[1]),eco_opt_v[2])\n",
    "print test_eco"
   ]
  },
  {
   "cell_type": "code",
   "execution_count": 80,
   "metadata": {
    "collapsed": false
   },
   "outputs": [
    {
     "name": "stdout",
     "output_type": "stream",
     "text": [
      "14\n",
      "13\n",
      "1\n"
     ]
    }
   ],
   "source": [
    "print len(eco_mass_means[0])\n",
    "print len(eco_freq[0])\n",
    "idx_bin = len(eco_mass_means[0])-len(eco_freq[0])\n",
    "print idx_bin"
   ]
  },
  {
   "cell_type": "code",
   "execution_count": 92,
   "metadata": {
    "collapsed": false
   },
   "outputs": [],
   "source": [
    "fig, ax = plt.subplots()\n",
    "ax.set_yscale('log')\n",
    "ax.errorbar(eco_mass_means[0][:-1],eco_freq[0],yerr=eco_freq[1])\n",
    "ax.plot(eco_mass_means[0][:-1],test_eco)\n",
    "\n",
    "plt.show()"
   ]
  },
  {
   "cell_type": "code",
   "execution_count": null,
   "metadata": {
    "collapsed": true
   },
   "outputs": [],
   "source": [
    "print len(eco_dec_smf[1][0])\n",
    "# print len(eco_mass_means[0])\n",
    "# print len(all_mock_mass_means[0][:-2])\n",
    "# print len(eco_dec_err[1][0])\n",
    "\n",
    "dec_opt_v, dec_res_arr, dec_perr, dec_est_cov = find_params(eco_dec_smf[1][0],eco_dec_bin[1][0],eco_dec_err[1][0])\n",
    "# opt_v, res_arr, perr, est_cov = find_params(eco_dec_smf[1][0],eco_mass_means[0][:-3],None)"
   ]
  },
  {
   "cell_type": "code",
   "execution_count": 75,
   "metadata": {
    "collapsed": false
   },
   "outputs": [],
   "source": [
    "# print dec_opt_v\n",
    "# print dec_res_arr\n",
    "\n",
    "dec_test_y = schech_step_3(eco_dec_bin[1][0],dec_opt_v[0],dec_opt_v[1],dec_opt_v[2])\n",
    "# print perr\n",
    "# print eco_dec_err[1][0]\n",
    "# print est_cov"
   ]
  },
  {
   "cell_type": "code",
   "execution_count": 77,
   "metadata": {
    "collapsed": false
   },
   "outputs": [],
   "source": [
    "fig, ax = plt.subplots()\n",
    "ax.set_yscale('log')\n",
    "# ax.set_xscale('log')\n",
    "# ax.plot(eco_mass_means[0][:-3],test)\n",
    "ax.plot(eco_dec_bin[1][0],dec_test_y)\n",
    "ax.errorbar(eco_dec_bin[1][0],eco_dec_smf[1][0],yerr=eco_dec_err[1][0])\n",
    "# ax.plot(eco_mass_means[0][:-3],(eco_dec_smf[1][0]))\n",
    "plt.show()"
   ]
  },
  {
   "cell_type": "code",
   "execution_count": null,
   "metadata": {
    "collapsed": false
   },
   "outputs": [],
   "source": [
    "# print opt_v\n",
    "\n",
    "print len(test)\n",
    "print len(all_mock_mass_means[0])\n",
    "print len(test)\n",
    "print len(eco_mass_means[0])\n",
    "print len(eco_dec_smf[1][0])"
   ]
  },
  {
   "cell_type": "code",
   "execution_count": null,
   "metadata": {
    "collapsed": false
   },
   "outputs": [],
   "source": [
    "idx_edge = len(all_mock_mass_means[0]) - len(eco_dec_smf[1][0])\n",
    "print len(eco_dec_smf[1][0])\n",
    "print len(all_mock_mass_means[0][:-idx_edge])\n",
    "print len(eco_dec_err[1][0])\n",
    "# opt_v, res_arr, perr, est_cov = find_params(eco_dec_smf[1][0],all_mock_mass_means[0][:-(idx_edge)],eco_dec_err[1][0])"
   ]
  },
  {
   "cell_type": "code",
   "execution_count": null,
   "metadata": {
    "collapsed": false
   },
   "outputs": [],
   "source": [
    "print len(eco_mass_means[0])\n",
    "print len(test)\n",
    "print len(eco_dec_smf[1][0])\n",
    "print test\n",
    "# print test*10**10\n",
    "print eco_dec_smf[1][0]\n",
    "# print np.log10(eco_dec_smf[1][0])\n",
    "\n",
    "# [  1.27691357e-09   7.52289969e-10   4.29532422e-10   2.38074992e-10\n",
    "#    1.27498704e-10   6.47224003e-11   2.92667401e-11   1.10292764e-11\n",
    "#    3.16160331e-12   5.95850360e-13   6.06349916e-14]"
   ]
  },
  {
   "cell_type": "code",
   "execution_count": null,
   "metadata": {
    "collapsed": false
   },
   "outputs": [],
   "source": [
    "# len(test_int)\n",
    "\n",
    "# fig, ax = plt.subplots()\n",
    "# ax.set_yscale('log')\n",
    "# ax.plot(all_mock_mass_means[0],test_int)\n",
    "# plt.show()"
   ]
  },
  {
   "cell_type": "code",
   "execution_count": null,
   "metadata": {
    "collapsed": false
   },
   "outputs": [],
   "source": [
    "# nrow = int(2)\n",
    "# ncol = int(3)\n",
    "\n",
    "# fig,axes = plt.subplots(nrows=nrow,ncols=ncol,\\\n",
    "#                         figsize=(100,200),sharex=True)\n",
    "# axes_flat = axes.flatten()\n",
    "\n",
    "# zz = int(0)\n",
    "# while zz <=4:\n",
    "#     for jj in neigh_vals:\n",
    "#         for kk in range(len(halo_frac)):\n",
    "#             plot_halo_frac(bin_centers,halo_frac[kk][jj],axes_flat[zz],zz)\n",
    "#         nn_str = '{0}'.format(jj)\n",
    "#         plot_mean_halo_frac(bin_centers,mean_mock_halo_frac[nn_str][0],axes_flat[zz],mean_mock_halo_frac[nn_str][1])\n",
    "#         zz += 1\n",
    "\n",
    "# plt.subplots_adjust(top=0.97,bottom=0.1,left=0.03,right=0.99,hspace=0.10,wspace=0.12)           \n",
    "# plt.show()            "
   ]
  },
  {
   "cell_type": "code",
   "execution_count": null,
   "metadata": {
    "collapsed": false
   },
   "outputs": [],
   "source": [
    "# mean_mock_halo_frac[]\n"
   ]
  }
 ],
 "metadata": {
  "kernelspec": {
   "display_name": "Python 2",
   "language": "python",
   "name": "python2"
  },
  "language_info": {
   "codemirror_mode": {
    "name": "ipython",
    "version": 2
   },
   "file_extension": ".py",
   "mimetype": "text/x-python",
   "name": "python",
   "nbconvert_exporter": "python",
   "pygments_lexer": "ipython2",
   "version": "2.7.11"
  }
 },
 "nbformat": 4,
 "nbformat_minor": 0
}
