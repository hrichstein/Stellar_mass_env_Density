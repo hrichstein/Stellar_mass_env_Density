{
 "cells": [
  {
   "cell_type": "markdown",
   "metadata": {},
   "source": [
    "Besides the fact most of the plots refuse to show up inline, all of this code works.  And I've made the eco_functions so that they will work completely separately from the mock plotting functions.  As far as in the fully functioning code, I don't think that's necessary... Well, it will just overplot the titles a lot, I believe. I suppose I could add some conditional statements.  So they won't plot the titles or initialize anything unless they are the only ones being plotted."
   ]
  },
  {
   "cell_type": "code",
   "execution_count": 1,
   "metadata": {
    "collapsed": true
   },
   "outputs": [],
   "source": [
    "%matplotlib inline\n",
    "import astropy.stats\n",
    "import matplotlib.pyplot as plt \n",
    "from matplotlib import ticker\n",
    "from matplotlib.ticker import FormatStrFormatter\n",
    "import numpy as np \n",
    "import os\n",
    "import pandas as pd\n",
    "from scipy import spatial"
   ]
  },
  {
   "cell_type": "code",
   "execution_count": 2,
   "metadata": {
    "collapsed": true
   },
   "outputs": [],
   "source": [
    "#! /usr/bin/env python\n",
    "\n",
    "# Victor Calderon\n",
    "# June 29, 2016\n",
    "# Vanderbilt University\n",
    "\n",
    "from __future__ import print_function, division, absolute_import\n",
    "__author__     =['Victor Calderon']\n",
    "__copyright__  =[\"Copyright 2016 Victor Calderon, Index function\"]\n",
    "__email__      =['victor.calderon@vanderbilt.edu']\n",
    "__maintainer__ =['Victor Calderon']\n",
    "import glob\n",
    "\"\"\"\n",
    "\"\"\"\n",
    "def Index(directory, datatype):\n",
    "    \"\"\"\n",
    "    Indexes the files in a directory `directory' with a\n",
    "    specific data type.\n",
    "    \n",
    "    Parameters\n",
    "    ----------\n",
    "    directory: str\n",
    "                Absolute path to the folder that is indexed.\n",
    "\n",
    "    datatype: str\n",
    "              Data type of the files to be indexed in the folder.\n",
    "\n",
    "    Returns\n",
    "    -------\n",
    "    file_array: array_like \n",
    "                 num.array of indexed files in the folder 'directory' \n",
    "                 with specific datatype.\n",
    "\n",
    "    Examples\n",
    "    --------\n",
    "    >>> Index('~/data', '.txt')\n",
    "    >>> array(['A.txt', 'Z'.txt', ...])\n",
    "    \"\"\"\n",
    "    assert(os.path.exists(directory))\n",
    "    files = np.array(glob.glob('{0}/*{1}'.format(directory, datatype)))\n",
    "    \n",
    "    return files"
   ]
  },
  {
   "cell_type": "code",
   "execution_count": 3,
   "metadata": {
    "collapsed": true
   },
   "outputs": [],
   "source": [
    "def sph_to_cart(ra,dec,cz):\n",
    "    \"\"\"\n",
    "    Converts spherical coordinates to Cartesian coordinates.\n",
    "    \n",
    "    Parameters\n",
    "    ----------\n",
    "    ra: array-like\n",
    "        right-ascension of galaxies in degrees\n",
    "    dec: array-like\n",
    "        declination of galaxies in degrees\n",
    "    cz: array-like\n",
    "        velocity of galaxies in km/s\n",
    "    \n",
    "    Returns\n",
    "    -------\n",
    "    coords: array-like, shape = N by 3\n",
    "        x, y, and z coordinates\n",
    "    \"\"\"\n",
    "    cz_dist = cz/70. #converts velocity into distance\n",
    "    x_arr   = cz_dist*np.cos(np.radians(ra))*np.cos(np.radians(dec))\n",
    "    y_arr   = cz_dist*np.sin(np.radians(ra))*np.cos(np.radians(dec))\n",
    "    z_arr   = cz_dist*np.sin(np.radians(dec))\n",
    "    coords  = np.column_stack((x_arr,y_arr,z_arr))\n",
    "    \n",
    "    return coords"
   ]
  },
  {
   "cell_type": "code",
   "execution_count": 4,
   "metadata": {
    "collapsed": true
   },
   "outputs": [],
   "source": [
    "def calc_dens(n_val,r_val):\n",
    "    \"\"\"\n",
    "    Returns densities of spheres with radius being the distance to the \n",
    "        nth nearest neighbor.\n",
    "    \n",
    "    Parameters\n",
    "    ----------\n",
    "    n_val = integer\n",
    "        The 'N' from Nth nearest neighbor\n",
    "    r_val = array-like\n",
    "        An array with the distances to the Nth nearest neighbor for\n",
    "        each galaxy\n",
    "    \n",
    "    Returns\n",
    "    -------\n",
    "    dens: array-like\n",
    "        An array with the densities of the spheres created with radii\n",
    "        to the Nth nearest neighbor.\n",
    "    \"\"\"\n",
    "    dens = np.array([(3.*(n_val+1)/(4.*np.pi*r_val[hh]**3)) \\\n",
    "                     for hh in range(len(r_val))])\n",
    "    \n",
    "    return dens"
   ]
  },
  {
   "cell_type": "code",
   "execution_count": 5,
   "metadata": {
    "collapsed": true
   },
   "outputs": [],
   "source": [
    "def plot_calcs(mass,mass_err=False,ratio_err=False):\n",
    "\t\"\"\"\n",
    "\tReturns values for plotting the stellar mass function and \n",
    "\t\tmass ratios\n",
    "\t\n",
    "\tParameters\n",
    "\t----------\n",
    "\tmass: array-like\n",
    "\t\tA 1D array with mass values\n",
    "\t\t\n",
    "\tReturns\n",
    "\t-------\n",
    "\tbin_centers: array-like\n",
    "\t\tAn array with the medians of the mass bins\n",
    "   \n",
    "\t\"\"\"\n",
    "\tbins  = np.linspace(9.2,11.8,14)\n",
    "\tdlogM = 0.2\n",
    "\n",
    "\tmass_counts, edges = np.histogram(mass,bins)\n",
    "\tbin_centers        = 0.5*(edges[:-1]+edges[1:])\n",
    "\n",
    "\tmass_freq  = mass_counts/float(len(mass))/dlogM\n",
    "\t\n",
    "\tratio_dict = {}\n",
    "\tfrac_val   = [2,4,10]\n",
    "\tyerr = []\n",
    "\t\n",
    "\tfor ii in frac_val:\n",
    "\t\tratio_dict[ii] = {}\n",
    "\t\t\n",
    "\t\t# Calculations for the lower density cut\n",
    "\t\tfrac_data      = int(len(mass)/ii)\n",
    "\t\tfrac_mass      = mass[0:frac_data]\n",
    "\t\tcounts, edges  = np.histogram(frac_mass,bins)\n",
    "\t\t\n",
    "\t\t# Calculations for the higher density cut\n",
    "\t\tfrac_mass_2       = mass[-frac_data:]\n",
    "\t\tcounts_2, edges_2 = np.histogram(frac_mass_2,bins)\n",
    "\t\t\n",
    "\t\t# Ratio determination\n",
    "\t\tratio_counts   = (1.*counts_2)/(1.*counts)\n",
    "\t\tratio_dict[ii] = ratio_counts\n",
    "\n",
    "\t\tyerr.append((counts_2*1.)/(counts*1.)*np.sqrt(1./counts + 1./counts_2))\n",
    "\t\n",
    "\tif ratio_err == True:\n",
    "\t\tratio_dict_list = [[] for xx in range(2)]\n",
    "\t\tratio_dict_list[0] = ratio_dict\n",
    "\t\tratio_dict_list[1] = yerr\n",
    "\t\tratio_dict = ratio_dict_list\n",
    "\t\t\n",
    "\tif mass_err == True:\n",
    "\t\tmass_freq_list    = [[] for xx in xrange(2)]\n",
    "\t\tmass_freq_list[0] = mass_freq\n",
    "\t\tmass_freq_list[1] = np.sqrt(mass_counts)/float(len(mass))/dlogM\n",
    "\t\t\n",
    "\t\tmass_freq         = np.array(mass_freq_list)\n",
    "\t\n",
    "\n",
    "\treturn bin_centers, mass_freq, ratio_dict"
   ]
  },
  {
   "cell_type": "code",
   "execution_count": 6,
   "metadata": {
    "collapsed": true
   },
   "outputs": [],
   "source": [
    "def bin_func(mass_dist,kk,bootstrap=False):\n",
    "\t\"\"\"\n",
    "\tReturns median distance to Nth nearest neighbor, the x-value at which to \n",
    "\t\tplot the median distance, and the distances that correspond\n",
    "\t\tto the galaxies in each bin.\n",
    "\t\n",
    "\tParameters\n",
    "\t----------\n",
    "\tmass_dist: array-like\n",
    "\t\tAn array with mass values in at index 0 and distance to the Nth \n",
    "\t\tnearest neighbor in the other 6\n",
    "\tkk: integer-like\n",
    "\t\tThe index of mass_dist where the appropriate distance array may be found\n",
    "\t\t\n",
    "\tReturns\n",
    "\t-------\n",
    "\tmedians: array-like\n",
    "\t\tAn array with the median distance to the Nth nearest neighbor for \n",
    "\t\tall the galaxies in each of the bins\n",
    "\t\"\"\"\n",
    "\tedges       = np.linspace(9.2,11.8,14)\n",
    "\tdigitized   = np.digitize(mass_dist.T[0],edges)\n",
    "\t# digitized   = np.digitize(nn_mass_dist[1].T[0],edges)\n",
    "\tdigitized  -= int(1)\n",
    "\t\n",
    "\tbin_nums    = np.unique(digitized)\n",
    "\tbin_nums    = list(bin_nums)\n",
    "\tif 12 not in bin_nums:\n",
    "\t\tbin_nums.append(12)\n",
    "\t\tbin_nums= np.array(bin_nums)\n",
    "\t# print bin_nums\n",
    "\tmedians     = np.array([np.median(mass_dist.T[kk][digitized==ii]) for ii in bin_nums])\n",
    "\n",
    "\tif bootstrap == True:\n",
    "#         col = np.arange(1,7)\n",
    "\t\tbin_nums = np.unique(digitized)\n",
    "#         for kk in col:\n",
    "\t\tdist_in_bin = np.array([(mass_dist.T[kk][digitized == ii]) \\\n",
    "\t\t\t\tfor ii in range(1,len(edges))])\n",
    "\n",
    "\n",
    "\t\tdist_in_bin    = np.array([(mass_dist.T[kk][digitized==ii]) for ii in bin_nums])\n",
    "\t\tlow_err_test   = np.array([np.percentile(astropy.stats.bootstrap\\\n",
    "\t\t\t\t\t\t\t\t\t\t\t (dist_in_bin[vv],bootnum=1000,\\\n",
    "\t\t\t\t\t\t\t\t\t\t\t  bootfunc=np.median),16) for vv \\\n",
    "\t\t\t\t\t\t\t\t\t in range(len(dist_in_bin))])\n",
    "\t\thigh_err_test  = np.array([np.percentile(astropy.stats.bootstrap\\\n",
    "\t\t\t\t\t\t\t\t\t\t\t (dist_in_bin[vv],bootnum=1000,\\\n",
    "\t\t\t\t\t\t\t\t\t\t\t  bootfunc=np.median),84) for vv \\\n",
    "\t\t\t\t\t\t\t\t\t in range(len(dist_in_bin))])\n",
    "\t\t\n",
    "\t\tmed_list    = [[] for yy in range(3)]\n",
    "\t\tmed_list[0] = medians\n",
    "\t\tmed_list[1] = low_err_test\n",
    "\t\tmed_list[2] = high_err_test\n",
    "\t\tmedians     = np.array(med_list)\n",
    "\n",
    "\treturn medians    "
   ]
  },
  {
   "cell_type": "code",
   "execution_count": 7,
   "metadata": {
    "collapsed": false
   },
   "outputs": [],
   "source": [
    "def plot_eco_rats(bin_centers,y_vals,neigh_val,ax,col_num,plot_idx,only=False):\n",
    "    \"\"\"\n",
    "    Returns subplots of ECO density-cut,mass ratios\n",
    "    \n",
    "    Parameters\n",
    "    ----------\n",
    "    bin_centers: array-like\n",
    "        An array with the medians mass values of the mass bins\n",
    "    y_vals: array-like\n",
    "        An array containing the ratio values for each mass bin\n",
    "    neigh_val: integer-like\n",
    "        Value which will be inserted into the text label of each plot\n",
    "    ax: axis-like\n",
    "        A value which specifies which axis each subplot is to be \n",
    "        plotted to\n",
    "    col_num: integer-like\n",
    "        Integer which specifies which column is currently being \n",
    "        plotted. Used for labelling subplots\n",
    "    plot_idx: integer-like\n",
    "        Specifies which subplot the figure is plotted to. Used for\n",
    "        labeling the x-axis\n",
    "    \n",
    "    Optional\n",
    "    --------\n",
    "    only == True\n",
    "        To be used when only plotting the ECO ratios, no mocks.\n",
    "        Will add in the additional plotting specifications that\n",
    "        would have been taken care of previously in a for-loop\n",
    "        which plotted the mocks as well\n",
    "        \n",
    "    Returns\n",
    "    -------\n",
    "    ECO ratios plotted to any previously initialized figure\n",
    "    \"\"\"\n",
    "    if only == True:\n",
    "        if plot_idx     ==16:\n",
    "            ax.set_xlabel('$\\log\\ M_{*}$',fontsize=18)\n",
    "        if col_num      ==0:\n",
    "            title_label = 'Mass Ratio 50/50, {0} NN'.format(neigh_val)\n",
    "            frac_val    = 10\n",
    "            ax.text(0.05, 0.95, title_label,horizontalalignment='left',\\\n",
    "                    verticalalignment='top',transform=ax.transAxes,fontsize=12)\n",
    "        elif col_num    ==1:\n",
    "            title_label = 'Mass Ratio 25/75, {0} NN'.format(neigh_val)\n",
    "            frac_val    = 4\n",
    "            ax.text(0.05, 0.95, title_label,horizontalalignment='left',\\\n",
    "                    verticalalignment='top',transform=ax.transAxes,fontsize=12)\n",
    "        elif col_num    ==2:\n",
    "            title_label = 'Mass Ratio 10/90, {0} NN'.format(neigh_val)\n",
    "            frac_val    = 2\n",
    "            ax.text(0.05, 0.95, title_label,horizontalalignment='left',\\\n",
    "                    verticalalignment='top',transform=ax.transAxes,fontsize=12)\n",
    "        ax.set_xlim(9.2,11.8)\n",
    "        ax.set_ylim([0,5])\n",
    "        ax.set_xticks(np.arange(9.5, 12., 0.5))\n",
    "        ax.set_yticks([1.,3.])\n",
    "        ax.tick_params(axis='both', labelsize=12)\n",
    "        ax.axhline(y=1,c=\"darkorchid\",linewidth=0.5,zorder=0)\n",
    "    frac_vals = np.array([2,4,10])\n",
    "    y_vals_2 = y_vals[0][frac_vals[hh]]\n",
    "    ax.errorbar(bin_centers,y_vals_2,yerr=y_vals[1][hh],\\\n",
    "                color='limegreen',linewidth=2)\n",
    "#for some reason, whenever I give this frac_vals as an argument, it won't recognize it as an array. \n",
    "#And then it will begin with 10, rather than 2; even when I have it tell me what frac val it's using, \n",
    "#and then have the for loop do so as well, they do not line up\n",
    "#also, it plots only ECO differently than when there are multiple curves, and it changes \n",
    "#the xlims. So I set them. And then, it made the 17th indexed plot slightly off, so I changed the xticks\n",
    "#as well"
   ]
  },
  {
   "cell_type": "code",
   "execution_count": 8,
   "metadata": {
    "collapsed": false
   },
   "outputs": [],
   "source": [
    "def plot_eco_meds(bin_centers,y_vals,low_lim,up_lim,neigh_val,ax,plot_idx):\n",
    "    titles = [1,2,3,5,10,20]\n",
    "    ax.set_ylim(0,10**1.5)\n",
    "    ax.set_xlim(9.2,11.8)\n",
    "    ax.set_yscale('symlog')\n",
    "    ax.set_xticks(np.arange(9.5,12.,0.5))  \n",
    "    ax.tick_params(axis='both', which='major', labelsize=16)\n",
    "    title_here = 'n = {0}'.format(titles[plot_idx])\n",
    "    ax.text(0.05, 0.95, title_here,horizontalalignment='left',\\\n",
    "            verticalalignment='top',transform=ax.transAxes,fontsize=18)\n",
    "    ax.errorbar(bin_centers,y_vals,yerr=0.1,lolims=low_lim[neigh_val],\\\n",
    "        uplims=up_lim[neigh_val],color='deeppink')"
   ]
  },
  {
   "cell_type": "code",
   "execution_count": 9,
   "metadata": {
    "collapsed": true
   },
   "outputs": [],
   "source": [
    "#assumed variables\n",
    "neigh_vals = np.array([1,2,3,5,10,20])"
   ]
  },
  {
   "cell_type": "code",
   "execution_count": 10,
   "metadata": {
    "collapsed": false
   },
   "outputs": [],
   "source": [
    "eco_path = r\"C:\\Users\\Hannah\\Desktop\\Vanderbilt_REU\\Stellar_mass_env_density\\Catalogs\\ECO_true\"\n",
    "ECO_true = (Index(eco_path,'.txt'))\n",
    "names    = ['ra','dec','cz','logMstar']\n",
    "PD_eco   = pd.read_csv(ECO_true[0],sep=\"\\s+\", usecols=(0,1,2,4),header=None,\\\n",
    "\t\t\t\t   skiprows=1,names=names)\n",
    "eco_comp = PD_eco[PD_eco.logMstar >= 9.3]\n",
    "\n",
    "ra_eco   = (np.array(eco_comp)).T[0]\n",
    "dec_eco  = (np.array(eco_comp)).T[1] \n",
    "cz_eco   = (np.array(eco_comp)).T[2] \n",
    "mass_eco = (np.array(eco_comp)).T[3]\n",
    "\n",
    "coords_eco        = sph_to_cart(ra_eco,dec_eco,cz_eco)\n",
    "eco_neighbor_tree = spatial.cKDTree(coords_eco)\n",
    "eco_tree_dist     = np.array(eco_neighbor_tree.query(coords_eco,21)[0])\n",
    "eco_mass_dist = np.column_stack((mass_eco,eco_tree_dist.T[neigh_vals].T))\n",
    "eco_dens = ([calc_dens(neigh_vals[jj],\\\n",
    "\t\t\t\t\t\t(eco_mass_dist.T[range(1,7)[jj]])) for jj in range(len(neigh_vals))])\n",
    "eco_mass_dens = [(np.column_stack((mass_eco,eco_dens[ii]))) for ii in range(len(neigh_vals))]\n",
    "eco_idx  = [(eco_mass_dens[jj].T[1].argsort()) for jj in range(len(neigh_vals))]\n",
    "eco_mass_dat  = [(eco_mass_dens[jj][eco_idx[jj]].T[0]) for jj in range(len(neigh_vals))]\n",
    "eco_ratio_info    = [[] for xx in xrange(len(eco_mass_dat))]\n",
    "\n",
    "for qq in range(len(eco_mass_dat)):\n",
    "    bin_centers, eco_freq, eco_ratio_info[qq] = plot_calcs(eco_mass_dat[qq],mass_err=True,ratio_err=True)\n",
    "\n",
    "eco_medians = [[] for xx in xrange(len(eco_mass_dat))]    \n",
    "for jj in (range(len(eco_mass_dat))):\n",
    "    eco_medians[jj] = np.array(bin_func(eco_mass_dist,(jj+1),bootstrap=True))"
   ]
  },
  {
   "cell_type": "code",
   "execution_count": 11,
   "metadata": {
    "collapsed": false
   },
   "outputs": [
    {
     "data": {
      "image/png": "[encoded data removed]",
      "text/plain": [
       "<matplotlib.figure.Figure at 0x3df5cc0>"
      ]
     },
     "metadata": {},
     "output_type": "display_data"
    }
   ],
   "source": [
    "plt.plot(bin_centers,eco_freq[0])\n",
    "plt.show()"
   ]
  },
  {
   "cell_type": "code",
   "execution_count": 12,
   "metadata": {
    "collapsed": false
   },
   "outputs": [
    {
     "data": {
      "image/png": "[encoded data removed]",
      "text/plain": [
       "<matplotlib.figure.Figure at 0x90cbe10>"
      ]
     },
     "metadata": {},
     "output_type": "display_data"
    }
   ],
   "source": [
    "###stellar mass function\n",
    "\n",
    "fig,ax = plt.subplots(figsize=(8,8))\n",
    "ax.set_title('Mass Distribution',fontsize=18)\n",
    "ax.set_xlabel('$\\log\\ M_{*}$',fontsize=17)\n",
    "ax.set_yscale('log')\n",
    "ax.set_xlim(9.2,11.8)\n",
    "ax.tick_params(axis='both', labelsize=14)\n",
    "ax.errorbar(bin_centers,eco_freq[0],yerr=eco_freq[1],color='deeppink')\n",
    "plt.show()"
   ]
  },
  {
   "cell_type": "code",
   "execution_count": 13,
   "metadata": {
    "collapsed": false
   },
   "outputs": [],
   "source": [
    "%matplotlib qt\n",
    "np.seterr(divide='ignore',invalid='ignore')\n",
    "frac_vals = [2,4,10]\n",
    "nrow_num = int(6)\n",
    "ncol_num = int(3)\n",
    "zz       = int(0)\n",
    "\n",
    "fig, axes = plt.subplots(nrows=nrow_num, ncols=ncol_num, \\\n",
    "            figsize=(100,200), sharex= True,sharey=True)\n",
    "axes_flat = axes.flatten()\n",
    "# fig.suptitle(\"Percentile Trends\", fontsize=18)\n",
    "\n",
    "while zz <= 16:\n",
    "    for ii in range(len(eco_ratio_info)):\n",
    "        for hh in range(len(eco_ratio_info[0][1])):\n",
    "            plot_eco_rats(bin_centers,(eco_ratio_info[ii]),neigh_vals[ii],axes_flat[zz],hh,zz,only=True)\n",
    "            zz += 1\n",
    "\n",
    "plt.subplots_adjust(left=0.02, bottom=0.09, right=1.00, top=1.00,\\\n",
    "                    hspace=0,wspace=0)\n",
    "\n",
    "plt.show()    "
   ]
  },
  {
   "cell_type": "code",
   "execution_count": 14,
   "metadata": {
    "collapsed": false
   },
   "outputs": [
    {
     "name": "stdout",
     "output_type": "stream",
     "text": [
      "[0, 1, 2, 3, 4, 5]\n"
     ]
    }
   ],
   "source": [
    "print (range(len(eco_ratio_info)))"
   ]
  },
  {
   "cell_type": "code",
   "execution_count": 15,
   "metadata": {
    "collapsed": false
   },
   "outputs": [],
   "source": [
    "%matplotlib qt\n",
    "nrow_num_mass = 2\n",
    "ncol_num_mass = 3\n",
    "zz = int(0)\n",
    "\n",
    "fig, axes = plt.subplots(nrows=nrow_num_mass, ncols=ncol_num_mass, \\\n",
    "\t\t\t\t\t\t figsize=(100,200), sharex= True, sharey = True)\n",
    "axes_flat = axes.flatten()\n",
    "\n",
    "zz = int(0)\n",
    "while zz <=4:\n",
    "\tfor ii in range(len(eco_medians)):\n",
    "\t\tplot_eco_meds(bin_centers,eco_medians[ii][0],\\\n",
    "                eco_medians[ii][1],eco_medians[ii][2],ii,axes_flat[zz],zz)\n",
    "\t\tzz += 1\n",
    "        \n",
    "plt.subplots_adjust(left=0.05, bottom=0.09, right=1.00, top=1.00,\\\n",
    "\t\t\t\t\thspace=0,wspace=0)\n",
    "plt.show()"
   ]
  }
 ],
 "metadata": {
  "kernelspec": {
   "display_name": "Python 2",
   "language": "python",
   "name": "python2"
  },
  "language_info": {
   "codemirror_mode": {
    "name": "ipython",
    "version": 2
   },
   "file_extension": ".py",
   "mimetype": "text/x-python",
   "name": "python",
   "nbconvert_exporter": "python",
   "pygments_lexer": "ipython2",
   "version": "2.7.11"
  }
 },
 "nbformat": 4,
 "nbformat_minor": 0
}
