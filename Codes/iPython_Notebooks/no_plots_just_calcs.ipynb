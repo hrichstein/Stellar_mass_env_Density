{
 "cells": [
  {
   "cell_type": "markdown",
   "metadata": {},
   "source": [
    "Where is the mass affected?\n",
    "    plot_calcs: used for the overall stellar mass function\n",
    "        -will return bin_centers -> make these the specific ones to go with each bin that actually has something\n",
    "    hist_calcs: definitely affected; but where to change them?\n",
    "        being fed mass_dat... mass_dat is going into plot_calcs\n",
    "            dictionary values and error are zero\n",
    "Should be okay:\n",
    "    bin_func: should be okay. median distance to nearest neighbor shouldn't be calculated if the bin is empty...  \n",
    "    \n",
    "    \n",
    "Notes:\n",
    "    Need a definitive bin_centers variable for plotting the medians, among other things."
   ]
  },
  {
   "cell_type": "code",
   "execution_count": 1,
   "metadata": {
    "collapsed": true
   },
   "outputs": [],
   "source": [
    "from __future__ import division, absolute_import\n",
    "\n",
    "import astropy.stats\n",
    "import glob\n",
    "import math\n",
    "import matplotlib.pyplot as plt \n",
    "from matplotlib import ticker\n",
    "from matplotlib.ticker import FormatStrFormatter\n",
    "import numpy as np \n",
    "import os\n",
    "import pandas as pd\n",
    "from scipy import integrate,optimize,spatial"
   ]
  },
  {
   "cell_type": "code",
   "execution_count": 2,
   "metadata": {
    "collapsed": true
   },
   "outputs": [],
   "source": [
    "__author__     =['Victor Calderon']\n",
    "__copyright__  =[\"Copyright 2016 Victor Calderon, Index function\"]\n",
    "__email__      =['victor.calderon@vanderbilt.edu']\n",
    "__maintainer__ =['Victor Calderon']\n",
    "\n",
    "def Index(directory, datatype):\n",
    "    \"\"\"\n",
    "    Indexes the files in a directory `directory' with a\n",
    "    specific data type.\n",
    "\n",
    "    Parameters\n",
    "    ----------\n",
    "    directory: str\n",
    "            Absolute path to the folder that is indexed.\n",
    "\n",
    "    datatype: str\n",
    "            Data type of the files to be indexed in the folder.\n",
    "\n",
    "    Returns\n",
    "    -------\n",
    "    file_array: array_like \n",
    "            np.array of indexed files in the folder 'directory' \n",
    "            with specific datatype.\n",
    "\n",
    "    Examples\n",
    "    --------\n",
    "    >>> Index('~/data', '.txt')\n",
    "    >>> array(['A.txt', 'Z'.txt', ...])\n",
    "    \"\"\"\n",
    "    assert(os.path.exists(directory))\n",
    "    files = np.array(glob.glob('{0}/*{1}'.format(directory, datatype)))\n",
    "\n",
    "    return files"
   ]
  },
  {
   "cell_type": "code",
   "execution_count": 3,
   "metadata": {
    "collapsed": true
   },
   "outputs": [],
   "source": [
    "def myceil(x, base=10):\n",
    "    \"\"\"\n",
    "    Returns the upper-bound integer of 'x' in base 'base'.\n",
    "\n",
    "    Parameters\n",
    "    ----------\n",
    "    x: float\n",
    "        number to be approximated to closest number to 'base'\n",
    "\n",
    "    base: float\n",
    "        base used to calculate the closest 'largest' number\n",
    "\n",
    "    Returns\n",
    "    -------\n",
    "    n_high: float\n",
    "        Closest float number to 'x', i.e. upper-bound float.\n",
    "\n",
    "    Example\n",
    "    -------\n",
    "    >>>> myceil(12,10)\n",
    "      20\n",
    "    >>>>\n",
    "    >>>> myceil(12.05, 0.1)\n",
    "     12.10000 \n",
    "    \"\"\"\n",
    "    n_high = float(base*math.ceil(float(x)/base))\n",
    "\n",
    "    return n_high\n",
    "\n",
    "###############################################################################    \n",
    "\n",
    "def myfloor(x, base=10):\n",
    "    \"\"\"\n",
    "    Returns the lower-bound integer of 'x' in base 'base'\n",
    "\n",
    "    Parameters\n",
    "    ----------\n",
    "    x: float\n",
    "        number to be approximated to closest number of 'base'\n",
    "\n",
    "    base: float\n",
    "        base used to calculate the closest 'smallest' number\n",
    "\n",
    "    Returns\n",
    "    -------\n",
    "    n_low: float\n",
    "        Closest float number to 'x', i.e. lower-bound float.\n",
    "\n",
    "    Example\n",
    "    -------\n",
    "    >>>> myfloor(12, 5)\n",
    "    >>>> 10\n",
    "    \"\"\"\n",
    "    n_low = float(base*math.floor(float(x)/base))\n",
    "\n",
    "    return n_low\n",
    "\n",
    "###############################################################################\n",
    "\n",
    "def Bins_array_create(arr, base=10):\n",
    "    \"\"\"\n",
    "    Generates array between [arr.min(), arr.max()] in steps of `base`.\n",
    "\n",
    "    Parameters\n",
    "    ----------\n",
    "    arr: array_like, Shape (N,...), One-dimensional\n",
    "        Array of numerical elements\n",
    "\n",
    "    base: float, optional (default=10)\n",
    "        Interval between bins\n",
    "\n",
    "    Returns\n",
    "    -------\n",
    "    bins_arr: array_like\n",
    "        Array of bin edges for given arr\n",
    "\n",
    "    \"\"\"\n",
    "    base = float(base)\n",
    "    arr  = np.array(arr)\n",
    "    assert(arr.ndim==1)\n",
    "    arr_min  = myfloor(arr.min(), base=base)\n",
    "    arr_max  = myceil( arr.max(), base=base)\n",
    "    bins_arr = np.arange(arr_min, arr_max+0.5*base, base)\n",
    "\n",
    "    return bins_arr"
   ]
  },
  {
   "cell_type": "code",
   "execution_count": 4,
   "metadata": {
    "collapsed": true
   },
   "outputs": [],
   "source": [
    "def sph_to_cart(ra,dec,cz):\n",
    "    \"\"\"\n",
    "    Converts spherical coordinates to Cartesian coordinates.\n",
    "\n",
    "    Parameters\n",
    "    ----------\n",
    "    ra: array-like\n",
    "        right-ascension of galaxies in degrees\n",
    "    dec: array-like\n",
    "        declination of galaxies in degrees\n",
    "    cz: array-like\n",
    "        velocity of galaxies in km/s\n",
    "\n",
    "    Returns\n",
    "    -------\n",
    "    coords: array-like, shape = N by 3\n",
    "        x, y, and z coordinates\n",
    "    \"\"\"\n",
    "    cz_dist = cz/70. #converts velocity into distance\n",
    "    x_arr   = cz_dist*np.cos(np.radians(ra))*np.cos(np.radians(dec))\n",
    "    y_arr   = cz_dist*np.sin(np.radians(ra))*np.cos(np.radians(dec))\n",
    "    z_arr   = cz_dist*np.sin(np.radians(dec))\n",
    "    coords  = np.column_stack((x_arr,y_arr,z_arr))\n",
    "\n",
    "    return coords\n",
    "\n",
    "############################################################################\n",
    "\n",
    "def calc_dens(n_val,r_val):\n",
    "    \"\"\"\n",
    "    Returns densities of spheres with radius being the distance to the \n",
    "        nth nearest neighbor.\n",
    "\n",
    "    Parameters\n",
    "    ----------\n",
    "    n_val = integer\n",
    "        The 'N' from Nth nearest neighbor\n",
    "    r_val = array-like\n",
    "        An array with the distances to the Nth nearest neighbor for\n",
    "        each galaxy\n",
    "\n",
    "    Returns\n",
    "    -------\n",
    "    dens: array-like\n",
    "        An array with the densities of the spheres created with radii\n",
    "        to the Nth nearest neighbor.\n",
    "    \"\"\"\n",
    "    dens = np.array([(3.*(n_val+1)/(4.*np.pi*r_val[hh]**3)) \\\n",
    "                     for hh in range(len(r_val))])\n",
    "\n",
    "    return dens"
   ]
  },
  {
   "cell_type": "code",
   "execution_count": 5,
   "metadata": {
    "collapsed": true
   },
   "outputs": [],
   "source": [
    "def plot_calcs(mass,bins,dlogM):\n",
    "    \"\"\"\n",
    "    Returns values for plotting the stellar mass function and \n",
    "        mass ratios\n",
    "\n",
    "    Parameters\n",
    "    ----------\n",
    "    mass: array-like\n",
    "        A 1D array with mass values, assumed to be in order\n",
    "    bins: array=like\n",
    "        A 1D array with the values which will be used as the bin edges\n",
    "        by the histogram function\n",
    "    dlogM: float-like\n",
    "        The log difference between bin edges\n",
    "\n",
    "    Returns\n",
    "    -------\n",
    "    bin_centers: array-like\n",
    "        An array with the medians mass values of the mass bins\n",
    "    mass-freq: array-like\n",
    "        Contains the number density values of each mass bin\n",
    "    ratio_dict: dictionary-like\n",
    "        A dictionary with three keys, corresponding to the divisors\n",
    "        2,4, and 10 (as the percentile cuts are based on these \n",
    "        divisions). Each key has the density-cut, mass ratios for\n",
    "        that specific cut (50/50 for 2; 25/75 for 4; 10/90 for 10).\n",
    "    \"\"\"\n",
    "\n",
    "    mass_counts, edges = np.histogram(mass,bins)\n",
    "    bin_centers        = 0.5*(edges[:-1]+edges[1:])\n",
    "\n",
    "    mass_freq  = mass_counts/float(len(mass))/dlogM\n",
    "    \n",
    "#     non_zero   = (mass_freq!=0)\n",
    "\n",
    "    ratio_dict = {}\n",
    "    frac_val   = [2,4,10]\n",
    "\n",
    "    yerr = []\n",
    "    bin_centers_fin = []\n",
    "\n",
    "    for ii in frac_val:\n",
    "        ratio_dict[ii] = {}\n",
    "        frac_data      = int(len(mass)/ii)\n",
    "        \n",
    "        # Calculations for the lower density cut\n",
    "        frac_mass      = mass[0:frac_data]\n",
    "        counts, edges  = np.histogram(frac_mass,bins)\n",
    "\n",
    "        # Calculations for the higher density cut\n",
    "        frac_mass_2       = mass[-frac_data:]\n",
    "        counts_2, edges_2 = np.histogram(frac_mass_2,bins)\n",
    "\n",
    "        # Ratio determination\n",
    "        ratio_counts   = (1.*counts_2)/(1.*counts)\n",
    "        \n",
    "        non_zero = np.isfinite(ratio_counts)\n",
    "\n",
    "        ratio_counts_1 = ratio_counts[non_zero]\n",
    "        \n",
    "#         print 'len ratio_counts: {0}'.format(len(ratio_counts_1))\n",
    "        \n",
    "        ratio_dict[ii] = ratio_counts_1\n",
    "        \n",
    "        temp_yerr = (counts_2*1.)/(counts*1.)*\\\n",
    "            np.sqrt(1./counts + 1./counts_2)\n",
    "            \n",
    "        temp_yerr_1 = temp_yerr[non_zero]\n",
    "        \n",
    "#         print 'len yerr: {0}'.format(len(temp_yerr_1))\n",
    "\n",
    "        yerr.append(temp_yerr_1)\n",
    "        \n",
    "        bin_centers_1 = bin_centers[non_zero]\n",
    "        \n",
    "#         print 'len bin_cens: {0}'.format(len(bin_centers_1))\n",
    "        \n",
    "        bin_centers_fin.append(bin_centers_1)\n",
    "        \n",
    "\n",
    "    mass_freq_list     = [[] for xx in xrange(2)]\n",
    "    mass_freq_list[0]  = mass_freq\n",
    "    mass_freq_list[1]  = np.sqrt(mass_counts)/float(len(mass))/dlogM\n",
    "    mass_freq          = np.array(mass_freq_list)\n",
    "\n",
    "    ratio_dict_list    = [[] for xx in range(2)]\n",
    "    ratio_dict_list[0] = ratio_dict\n",
    "    ratio_dict_list[1] = yerr\n",
    "    ratio_dict         = ratio_dict_list\n",
    "\n",
    "    return bin_centers, mass_freq, ratio_dict, bin_centers_fin"
   ]
  },
  {
   "cell_type": "code",
   "execution_count": 6,
   "metadata": {
    "collapsed": true
   },
   "outputs": [],
   "source": [
    "def bin_func(mass_dist,bins,kk,bootstrap=False):\n",
    "    \"\"\"\n",
    "    Returns median distance to Nth nearest neighbor\n",
    "\n",
    "    Parameters\n",
    "    ----------\n",
    "    mass_dist: array-like\n",
    "        An array with mass values in at index 0 (when transformed) and distance \n",
    "        to the Nth nearest neighbor in the others\n",
    "        Example: 6239 by 7\n",
    "            Has mass values and distances to 6 Nth nearest neighbors  \n",
    "    bins: array=like\n",
    "        A 1D array with the values which will be used as the bin edges     \n",
    "    kk: integer-like\n",
    "        The index of mass_dist (transformed) where the appropriate distance \n",
    "        array may be found\n",
    "\n",
    "    Optional\n",
    "    --------\n",
    "    bootstrap == True\n",
    "        Calculates the bootstrap errors associated with each median distance \n",
    "        value. Creates an array housing arrays containing the actual distance \n",
    "        values associated with every galaxy in a specific bin. Bootstrap error\n",
    "        is then performed using astropy, and upper and lower one sigma values \n",
    "        are found for each median value.  These are added to a list with the \n",
    "        median distances, and then converted to an array and returned in place \n",
    "        of just 'medians.'\n",
    "\n",
    "    Returns\n",
    "    -------\n",
    "    medians: array-like\n",
    "        An array with the median distance to the Nth nearest neighbor from \n",
    "        all the galaxies in each of the bins\n",
    "    \"\"\"\n",
    "    frac_vals    = np.array([2,4,10])\n",
    "    \n",
    "    edges        = bins\n",
    "\n",
    "    # print 'length bins:'\n",
    "    # print len(bins)\n",
    "\n",
    "    digitized    = np.digitize(mass_dist.T[0],edges)\n",
    "    digitized   -= int(1)\n",
    "\n",
    "    bin_nums          = np.unique(digitized)\n",
    "#     bin_nums_list     = list(bin_nums)\n",
    "\n",
    "# #     if (len(bins)) in bin_nums_list:\n",
    "# #         bin_nums_list.remove(len(bins))\n",
    "#     # print 'removed'\n",
    "#     # print bin_nums_list\n",
    "\n",
    "#     bin_nums = np.array(bin_nums_list)\n",
    "\n",
    "    for ii in bin_nums:\n",
    "        if len(mass_dist.T[kk][digitized==ii]) == 0:\n",
    "            temp_list = list(mass_dist.T[kk]\\\n",
    "                                             [digitized==ii])\n",
    "            temp_list.append(np.zeros(len(bin_nums)))\n",
    "            mass_dist.T[kk][digitized==ii] = np.array(temp_list)\n",
    "\n",
    "    # print bin_nums\n",
    "    # print len(bin_nums)\n",
    "    \n",
    "    medians  = np.array([np.median(mass_dist.T[kk][digitized==ii]) \\\n",
    "                for ii in bin_nums])\n",
    "\n",
    "    # print len(medians)\n",
    "\n",
    "    if bootstrap == True:\n",
    "        dist_in_bin    = np.array([(mass_dist.T[kk][digitized==ii]) \\\n",
    "                for ii in bin_nums])\n",
    "        for vv in range(len(dist_in_bin)):\n",
    "            if len(dist_in_bin[vv]) == 0:\n",
    "                dist_in_bin_list = list(dist_in_bin[vv])\n",
    "                dist_in_bin[vv] = np.zeros(len(dist_in_bin[0]))\n",
    "        low_err_test   = np.array([np.percentile(astropy.stats.bootstrap\\\n",
    "                        (dist_in_bin[vv],bootnum=1000,bootfunc=np.median),16) \\\n",
    "                        for vv in range(len(dist_in_bin))])\n",
    "        high_err_test  = np.array([np.percentile(astropy.stats.bootstrap\\\n",
    "                        (dist_in_bin[vv],bootnum=1000,bootfunc=np.median),84) \\\n",
    "                        for vv in range(len(dist_in_bin))])\n",
    "\n",
    "        med_list    = [[] for yy in range(len(frac_vals))]\n",
    "        med_list[0] = medians\n",
    "        med_list[1] = low_err_test\n",
    "        med_list[2] = high_err_test\n",
    "        medians     = np.array(med_list)\n",
    "\n",
    "    return medians    \n",
    "    "
   ]
  },
  {
   "cell_type": "code",
   "execution_count": 7,
   "metadata": {
    "collapsed": true
   },
   "outputs": [],
   "source": [
    "def hist_calcs(mass,bins,dlogM):\n",
    "    \"\"\"\n",
    "    Returns dictionaries with the counts for the upper\n",
    "        and lower density portions; calculates the \n",
    "        three different percentile cuts for each mass\n",
    "        array given\n",
    "    \n",
    "    Parameters\n",
    "    ----------\n",
    "    mass: array-like\n",
    "        A 1D array with log stellar mass values, assumed\n",
    "        to be an order which corresponds to the ascending \n",
    "        densities; (necessary, as the index cuts are based \n",
    "        on this)\n",
    "    bins: array-like\n",
    "        A 1D array with the values which will be used as the bin edges   \n",
    "    dlogM: float-like\n",
    "        The log difference between bin edges\n",
    "        \n",
    "    Returns\n",
    "    -------\n",
    "    hist_dict_low: dictionary-like\n",
    "        A dictionary with three keys (the frac vals), with arrays\n",
    "        as values. The values for the lower density cut\n",
    "    hist_dict_high: dictionary like\n",
    "        A dictionary with three keys (the frac vals), with arrays\n",
    "        as values. The values for the higher density cut\n",
    "    \"\"\"\n",
    "    hist_dict_low  = {}\n",
    "    hist_dict_high = {}\n",
    "    frac_val  = np.array([2,4,10])\n",
    "    frac_dict = {2:0,4:1,10:2}\n",
    "    \n",
    "    low_err   = [[] for xx in xrange(len(frac_val))]\n",
    "    high_err  = [[] for xx in xrange(len(frac_val))]\n",
    "    \n",
    "    for ii in frac_val:\n",
    "#         hist_dict_low[ii]  = {}\n",
    "#         hist_dict_high[ii] = {}\n",
    "    \n",
    "        frac_data     = int(len(mass)/ii)\n",
    "        \n",
    "        frac_mass     = mass[0:frac_data]\n",
    "        counts, edges = np.histogram(frac_mass,bins)\n",
    "        low_counts    = (counts/float(len(frac_mass))/dlogM)\n",
    "        \n",
    "        non_zero = (low_counts!=0)\n",
    "        low_counts_1 = low_counts[non_zero]\n",
    "        hist_dict_low[ii]  = low_counts_1\n",
    "        \n",
    "        low_err = np.sqrt(counts)/len(frac_mass)/dlogM\n",
    "        low_err_1 = low_err[non_zero]\n",
    "        err_key = 'err_{0}'.format(ii)\n",
    "        hist_dict_low[err_key] = low_err_1\n",
    "        \n",
    "        frac_mass_2        = mass[-frac_data:]\n",
    "        counts_2, edges_2  = np.histogram(frac_mass_2,bins)\n",
    "        high_counts        = (counts_2/float(len(frac_mass_2))/dlogM)\n",
    "        \n",
    "        non_zero = (high_counts!=0)\n",
    "        high_counts_1 = high_counts[non_zero]\n",
    "        hist_dict_high[ii] = high_counts_1\n",
    "        \n",
    "        high_err = np.sqrt(counts_2)/len(frac_mass_2)/dlogM\n",
    "        high_err_1 = high_err[non_zero]\n",
    "        hist_dict_high[err_key] = high_err_1\n",
    "    \n",
    "    return hist_dict_low, hist_dict_high"
   ]
  },
  {
   "cell_type": "code",
   "execution_count": 8,
   "metadata": {
    "collapsed": true
   },
   "outputs": [],
   "source": [
    "def mean_bin_mass(mass_dist,bins):\n",
    "    \"\"\"\n",
    "    Returns median distance to Nth nearest neighbor\n",
    "\n",
    "    Parameters\n",
    "    ----------\n",
    "    mass_dist: array-like\n",
    "        An array with mass values in at index 0 (when transformed) \n",
    "    bins: array=like\n",
    "        A 1D array with the values which will be used as the bin edges     \n",
    "\n",
    "    Returns\n",
    "    -------\n",
    "\n",
    "    \"\"\"\n",
    "    edges        = bins\n",
    "\n",
    "    digitized    = np.digitize(mass_dist.T[0],edges)\n",
    "    digitized   -= int(1)\n",
    "\n",
    "    bin_nums          = np.unique(digitized)\n",
    "\n",
    "    mean_mass = np.array([np.mean(mass_dist.T[0][digitized==ii]) \\\n",
    "                for ii in bin_nums])\n",
    "\n",
    "    return mean_mass "
   ]
  },
  {
   "cell_type": "code",
   "execution_count": null,
   "metadata": {
    "collapsed": false
   },
   "outputs": [],
   "source": [
    "# fig,ax = plt.subplots()\n",
    "# ax.plot(all_mock_mass_means[0],test)\n",
    "# ax.set_yscale('log')\n",
    "# plt.show()\n",
    "print test"
   ]
  },
  {
   "cell_type": "code",
   "execution_count": 10,
   "metadata": {
    "collapsed": true
   },
   "outputs": [],
   "source": [
    "dirpath  = r\"C:\\Users\\Hannah\\Desktop\\Vanderbilt_REU\\Stellar_mass_env_density\"\n",
    "dirpath += r\"\\Catalogs\\Resolve_plk_5001_so_mvir_scatter_ECO_Mocks_\"\n",
    "dirpath += r\"scatter_mocks\\Resolve_plk_5001_so_mvir_scatter0p1_ECO_Mocks\"\n",
    "\n",
    "usecols  = (0,1,4,8,13)\n",
    "dlogM    = 0.2\n",
    "neigh_dict = {1:0,2:1,3:2,5:3,10:4,20:5}"
   ]
  },
  {
   "cell_type": "code",
   "execution_count": 11,
   "metadata": {
    "collapsed": false
   },
   "outputs": [
    {
     "data": {
      "text/plain": [
       "[None, None, None, None, None, None, None, None]"
      ]
     },
     "execution_count": 11,
     "metadata": {},
     "output_type": "execute_result"
    }
   ],
   "source": [
    "ECO_cats = (Index(dirpath,'.dat'))\n",
    "\n",
    "names    = ['ra','dec','Halo_ID','cz','logMstar']\n",
    "\n",
    "PD = [[] for ii in range(len(ECO_cats))]\n",
    "\n",
    "for ii in range(len(ECO_cats)):\n",
    "    temp_PD = (pd.read_csv(ECO_cats[ii],sep=\"\\s+\", usecols= usecols,header=None,\\\n",
    "                   skiprows=2,names=names))\n",
    "    col_list = list(temp_PD)\n",
    "    col_list[2], col_list[3], col_list[4] = col_list[3], col_list[4], col_list[2]\n",
    "    temp_PD.ix[:,col_list]\n",
    "    PD[ii] = temp_PD\n",
    "\n",
    "PD_comp_1  = [(PD[ii][PD[ii].logMstar >= 9.1]) for ii in range(len(ECO_cats))]\n",
    "PD_comp  = [(PD_comp_1[ii][PD_comp_1[ii].logMstar <=11.77]) for ii in range(len(ECO_cats))]\n",
    "\n",
    "[(PD_comp[ii].reset_index(drop=True,inplace=True)) for ii in range(len(ECO_cats))]"
   ]
  },
  {
   "cell_type": "code",
   "execution_count": 12,
   "metadata": {
    "collapsed": false
   },
   "outputs": [],
   "source": [
    "# for ii in range(len(ECO_cats)):\n",
    "#     print len(PD[ii][PD[ii].logMstar>11.77])\n",
    "# for ii in range(len(ECO_cats)):\n",
    "#     print PD_comp[ii]\n"
   ]
  },
  {
   "cell_type": "code",
   "execution_count": 13,
   "metadata": {
    "collapsed": false
   },
   "outputs": [],
   "source": [
    "min_max_mass_arr = []\n",
    "\n",
    "for ii in range(len(PD_comp)):\n",
    "    min_max_mass_arr.append(max(PD_comp[ii].logMstar))\n",
    "    min_max_mass_arr.append(min(PD_comp[ii].logMstar))\n",
    "\n",
    "min_max_mass_arr = np.array(min_max_mass_arr)\n",
    "\n",
    "bins = Bins_array_create(min_max_mass_arr,dlogM)\n",
    "bins+= 0.1\n",
    "bins_list = list(bins)\n",
    "for ii in bins:\n",
    "    if ii > 11.77:\n",
    "        bins_list.remove(ii)\n",
    "\n",
    "bins = np.array(bins_list)\n",
    "\n",
    "num_of_bins = int(len(bins) - 1) \n",
    "\n",
    "ra_arr  = np.array([(PD_comp[ii].ra) \\\n",
    "    for ii in range(len(PD_comp))])\n",
    "\n",
    "dec_arr  = np.array([(PD_comp[ii].dec) \\\n",
    "    for ii in range(len(PD_comp))])\n",
    "\n",
    "cz_arr  = np.array([(PD_comp[ii].cz) \\\n",
    "    for ii in range(len(PD_comp))])\n",
    "\n",
    "mass_arr  = np.array([(PD_comp[ii].logMstar) \\\n",
    "    for ii in range(len(PD_comp))])\n",
    "\n",
    "halo_id_arr  = np.array([(PD_comp[ii].Halo_ID) \\\n",
    "    for ii in range(len(PD_comp))])\n",
    "\n",
    "\n",
    "coords_test = np.array([sph_to_cart(ra_arr[vv],dec_arr[vv],cz_arr[vv]) \\\n",
    "                for vv in range(len(ECO_cats))])\n",
    "\n",
    "neigh_vals  = np.array([1,2,3,5,10,20])\n",
    "\n",
    "nn_arr_temp = [[] for uu in xrange(len(coords_test))]\n",
    "nn_arr      = [[] for xx in xrange(len(coords_test))]\n",
    "nn_arr_nn   = [[] for yy in xrange(len(neigh_vals))]\n",
    "nn_idx      = [[] for zz in xrange(len(coords_test))]\n",
    "\n",
    "for vv in range(len(coords_test)):\n",
    "    nn_arr_temp[vv] = spatial.cKDTree(coords_test[vv])\n",
    "    nn_arr[vv] = np.array(nn_arr_temp[vv].query(coords_test[vv],21)[0])\n",
    "    nn_idx[vv] = np.array(nn_arr_temp[vv].query(coords_test[vv],21)[1])\n",
    "    \n",
    "\n",
    "nn_specs       = [(np.array(nn_arr).T[ii].T[neigh_vals].T) for ii in \\\n",
    "                    range(len(coords_test))]\n",
    "nn_mass_dist   = np.array([(np.column_stack((mass_arr[qq],nn_specs[qq]))) \\\n",
    "                    for qq in range(len(coords_test))])\n",
    "\n",
    "nn_neigh_idx      = np.array([(np.array(nn_idx).T[ii].T[neigh_vals].T) for ii in \\\n",
    "                    range(len(coords_test))])"
   ]
  },
  {
   "cell_type": "code",
   "execution_count": 15,
   "metadata": {
    "collapsed": false
   },
   "outputs": [
    {
     "name": "stdout",
     "output_type": "stream",
     "text": [
      "[0.20180995475113123, 0.22246696035242292, 0.19518072289156627, 0.16933333333333334, 0.16561514195583596, 0.17264957264957265, 0.17625231910946196, 0.2260536398467433, 0.44345238095238093, 0.6554054054054054, 0.9795918367346939, 1.0, 1.0]\n",
      "[0.11402714932126697, 0.1277533039647577, 0.1108433734939759, 0.09466666666666666, 0.09779179810725552, 0.09743589743589744, 0.07050092764378478, 0.07662835249042145, 0.1636904761904762, 0.3783783783783784, 0.9183673469387755, 0.9, 1.0]\n",
      "[0.07963800904977375, 0.09140969162995595, 0.0819277108433735, 0.06933333333333333, 0.07886435331230283, 0.07521367521367521, 0.04452690166975881, 0.04789272030651341, 0.08035714285714286, 0.22972972972972974, 0.7346938775510204, 0.9, 1.0]\n",
      "[0.06153846153846154, 0.06607929515418502, 0.05903614457831325, 0.04666666666666667, 0.0473186119873817, 0.04786324786324787, 0.03153988868274583, 0.038314176245210725, 0.044642857142857144, 0.10810810810810811, 0.4489795918367347, 0.9, 1.0]\n",
      "[0.03167420814479638, 0.04405286343612335, 0.027710843373493974, 0.028, 0.026813880126182965, 0.02564102564102564, 0.02411873840445269, 0.01532567049808429, 0.017857142857142856, 0.04054054054054054, 0.16326530612244897, 0.7, 1.0]\n",
      "[0.0036199095022624436, 0.012114537444933921, 0.006024096385542169, 0.005333333333333333, 0.0015772870662460567, 0.005128205128205128, 0.00927643784786642, 0.0019157088122605363, 0.005952380952380952, 0.013513513513513514, 0.061224489795918366, 0.2, 0.0]\n",
      "[0.20784729586426298, 0.16443361753958588, 0.20148148148148148, 0.19649122807017544, 0.17540687160940324, 0.18816067653276955, 0.17857142857142858, 0.24018475750577367, 0.4262295081967213, 0.6666666666666666, 0.92, 0.9, 1.0]\n",
      "[0.1007423117709438, 0.09135200974421437, 0.1274074074074074, 0.11754385964912281, 0.08860759493670886, 0.09302325581395349, 0.07341269841269842, 0.08314087759815242, 0.13934426229508196, 0.39316239316239315, 0.86, 1.0, 1.0]\n",
      "[0.0816542948038176, 0.0779537149817296, 0.10666666666666667, 0.0912280701754386, 0.06871609403254973, 0.07188160676532769, 0.05952380952380952, 0.06004618937644342, 0.05327868852459016, 0.2564102564102564, 0.62, 0.9, 1.0]\n",
      "[0.05090137857900318, 0.05237515225334957, 0.0725925925925926, 0.06666666666666667, 0.045207956600361664, 0.05708245243128964, 0.031746031746031744, 0.03926096997690531, 0.036885245901639344, 0.08547008547008547, 0.38, 0.8, 1.0]\n",
      "[0.026511134676564158, 0.023142509135200974, 0.04888888888888889, 0.042105263157894736, 0.03074141048824593, 0.035940803382663845, 0.023809523809523808, 0.025404157043879907, 0.03278688524590164, 0.03418803418803419, 0.1, 0.5, 1.0]\n",
      "[0.010604453870625663, 0.013398294762484775, 0.025185185185185185, 0.02456140350877193, 0.019891500904159132, 0.016913319238900635, 0.013888888888888888, 0.011547344110854504, 0.01639344262295082, 0.008547008547008548, 0.04, 0.4, 1.0]\n",
      "[0.24467005076142131, 0.21132075471698114, 0.19084967320261437, 0.2155688622754491, 0.18150087260034903, 0.18146718146718147, 0.20107719928186715, 0.24740124740124741, 0.3917525773195876, 0.725925925925926, 0.8653846153846154, 1.0, 1.0]\n",
      "[0.1319796954314721, 0.12075471698113208, 0.12287581699346405, 0.13323353293413173, 0.12216404886561955, 0.10231660231660232, 0.10771992818671454, 0.08731808731808732, 0.17869415807560138, 0.5037037037037037, 0.7692307692307693, 1.0, 1.0]\n",
      "[0.09746192893401015, 0.09182389937106918, 0.10718954248366012, 0.1062874251497006, 0.09075043630017451, 0.08687258687258688, 0.07899461400359066, 0.056133056133056136, 0.09621993127147767, 0.3333333333333333, 0.6153846153846154, 1.0, 1.0]\n",
      "[0.0883248730964467, 0.06540880503144654, 0.08104575163398693, 0.08682634730538923, 0.06980802792321117, 0.059845559845559844, 0.04847396768402154, 0.0498960498960499, 0.044673539518900345, 0.17777777777777778, 0.46153846153846156, 0.8461538461538461, 1.0]\n",
      "[0.048730964467005075, 0.04654088050314465, 0.05620915032679739, 0.06437125748502993, 0.04886561954624782, 0.03861003861003861, 0.03231597845601436, 0.031185031185031187, 0.03436426116838488, 0.14074074074074075, 0.17307692307692307, 0.8461538461538461, 0.6]\n",
      "[0.03553299492385787, 0.03018867924528302, 0.04183006535947712, 0.04491017964071856, 0.027923211169284468, 0.02895752895752896, 0.017953321364452424, 0.018711018711018712, 0.024054982817869417, 0.08148148148148149, 0.07692307692307693, 0.46153846153846156, 0.6]\n",
      "[0.2362962962962963, 0.24956369982547993, 0.23271665043816941, 0.21627647714604237, 0.18482252141982863, 0.16459197786998617, 0.22462787550744248, 0.2850539291217257, 0.4489795918367347, 0.6932773109243697, 0.9054054054054054, 1.0, 1.0]\n",
      "[0.14074074074074075, 0.17277486910994763, 0.14021421616358326, 0.14715719063545152, 0.1175030599755202, 0.09681881051175657, 0.12043301759133965, 0.1263482280431433, 0.2018140589569161, 0.42436974789915966, 0.7837837837837838, 1.0, 1.0]\n",
      "[0.1162962962962963, 0.13961605584642234, 0.11879259980525804, 0.11817168338907469, 0.09179926560587515, 0.07330567081604426, 0.10419485791610285, 0.08320493066255778, 0.10204081632653061, 0.2815126050420168, 0.6621621621621622, 0.9230769230769231, 1.0]\n",
      "[0.08888888888888889, 0.11518324607329843, 0.09737098344693282, 0.09141583054626533, 0.07833537331701346, 0.05255878284923928, 0.08660351826792964, 0.060092449922958396, 0.05895691609977324, 0.13865546218487396, 0.47297297297297297, 0.9230769230769231, 1.0]\n",
      "[0.06444444444444444, 0.07766143106457242, 0.055501460564751706, 0.07023411371237458, 0.0587515299877601, 0.035961272475795295, 0.058186738836265225, 0.04314329738058552, 0.04081632653061224, 0.07983193277310924, 0.1891891891891892, 0.6153846153846154, 1.0]\n",
      "[0.037037037037037035, 0.04013961605584642, 0.034079844206426485, 0.033444816053511704, 0.028151774785801713, 0.022130013831258646, 0.036535859269282815, 0.030816640986132512, 0.02040816326530612, 0.046218487394957986, 0.06756756756756757, 0.3076923076923077, 0.6666666666666666]\n",
      "[0.30339225991399904, 0.29680616740088106, 0.29620410703173616, 0.26715867158671586, 0.2602291325695581, 0.24099485420240138, 0.22745735174654752, 0.289825282631038, 0.476831091180867, 0.7030456852791879, 0.9239766081871345, 1.0, 1.0]\n",
      "[0.20353559483994266, 0.21585903083700442, 0.21530802738021157, 0.1940959409594096, 0.19230769230769232, 0.15866209262435677, 0.1397238017871649, 0.131551901336074, 0.2406576980568012, 0.4746192893401015, 0.7894736842105263, 0.9772727272727273, 1.0]\n",
      "[0.18346870520783565, 0.18722466960352424, 0.1823273179838208, 0.16605166051660517, 0.1685761047463175, 0.1423670668953688, 0.12835093419983754, 0.10277492291880781, 0.15844544095665172, 0.3147208121827411, 0.6842105263157895, 0.9772727272727273, 1.0]\n",
      "[0.16149068322981366, 0.15859030837004406, 0.15245799626633477, 0.13431734317343175, 0.13666121112929625, 0.1260720411663808, 0.10885458976441917, 0.09763617677286741, 0.11958146487294469, 0.2131979695431472, 0.52046783625731, 0.9318181818181818, 1.0]\n",
      "[0.11896798853320592, 0.1211453744493392, 0.11449906658369632, 0.1003690036900369, 0.10474631751227496, 0.08747855917667238, 0.08204711616571893, 0.07297019527235354, 0.09566517189835576, 0.12944162436548223, 0.3391812865497076, 0.7727272727272727, 1.0]\n",
      "[0.06975633062589584, 0.07433920704845814, 0.07031736154324829, 0.05904059040590406, 0.06464811783960721, 0.058319039451114926, 0.056051990251827784, 0.048304213771839674, 0.06726457399103139, 0.06345177664974619, 0.14619883040935672, 0.4090909090909091, 1.0]\n",
      "[0.24772568229531142, 0.22525597269624573, 0.22760800842992623, 0.19014084507042253, 0.19706242350061198, 0.18214716525934863, 0.18580645161290324, 0.2537764350453172, 0.4103671706263499, 0.70042194092827, 0.8961038961038961, 1.0, 1.0]\n",
      "[0.16445066480055984, 0.14846416382252559, 0.15279241306638566, 0.1255868544600939, 0.10648714810281518, 0.10856453558504221, 0.09935483870967741, 0.10574018126888217, 0.17926565874730022, 0.47257383966244726, 0.8051948051948052, 1.0, 1.0]\n",
      "[0.12946116165150454, 0.11177474402730375, 0.12644889357218125, 0.09272300469483569, 0.08690330477356181, 0.08926417370325694, 0.07225806451612904, 0.08459214501510574, 0.08423326133909287, 0.29957805907172996, 0.6493506493506493, 0.8571428571428571, 1.0]\n",
      "[0.08817354793561931, 0.07849829351535836, 0.09062170706006323, 0.07042253521126761, 0.06119951040391677, 0.0735826296743064, 0.05548387096774193, 0.061933534743202415, 0.047516198704103674, 0.10126582278481013, 0.4935064935064935, 0.8571428571428571, 1.0]\n",
      "[0.05948215535339398, 0.06313993174061433, 0.06006322444678609, 0.0539906103286385, 0.044063647490820076, 0.047044632086851626, 0.03096774193548387, 0.055891238670694864, 0.0367170626349892, 0.046413502109704644, 0.2857142857142857, 0.7619047619047619, 1.0]\n",
      "[0.028691392582225334, 0.032423208191126277, 0.03582718651211802, 0.04225352112676056, 0.0208078335373317, 0.031363088057901084, 0.01032258064516129, 0.0377643504531722, 0.019438444924406047, 0.02109704641350211, 0.16883116883116883, 0.38095238095238093, 1.0]\n",
      "[0.21042471042471042, 0.18994413407821228, 0.17202797202797201, 0.16890881913303438, 0.1824212271973466, 0.15925925925925927, 0.15097690941385436, 0.2575452716297787, 0.4106583072100313, 0.7191780821917808, 0.925, 1.0, nan]\n",
      "[0.10424710424710425, 0.10391061452513967, 0.08531468531468532, 0.08520179372197309, 0.10281923714759536, 0.07777777777777778, 0.0674955595026643, 0.09054325955734406, 0.14733542319749215, 0.3767123287671233, 0.775, 1.0, nan]\n",
      "[0.06563706563706563, 0.08156424581005586, 0.06433566433566433, 0.061285500747384154, 0.0812603648424544, 0.06111111111111111, 0.04085257548845471, 0.06237424547283702, 0.06896551724137931, 0.23972602739726026, 0.625, 0.9, nan]\n",
      "[0.04633204633204633, 0.05251396648044693, 0.04055944055944056, 0.03886397608370702, 0.05804311774461028, 0.03518518518518519, 0.03197158081705151, 0.03621730382293763, 0.0438871473354232, 0.0958904109589041, 0.4, 0.9, nan]\n",
      "[0.02895752895752896, 0.034636871508379886, 0.022377622377622378, 0.025411061285500747, 0.03150912106135987, 0.027777777777777776, 0.014209591474245116, 0.02012072434607646, 0.025078369905956112, 0.03424657534246575, 0.1, 0.8, nan]\n",
      "[0.01447876447876448, 0.0111731843575419, 0.013986013986013986, 0.01195814648729447, 0.01658374792703151, 0.014814814814814815, 0.010657193605683837, 0.014084507042253521, 0.01567398119122257, 0.02054794520547945, 0.025, 0.4, nan]\n",
      "[0.21816479400749064, 0.18885096700796358, 0.2074688796680498, 0.13484848484848486, 0.18652849740932642, 0.14123376623376624, 0.1692573402417962, 0.20739219712525667, 0.40059347181008903, 0.7254901960784313, 0.9230769230769231, 1.0, nan]\n",
      "[0.12078651685393259, 0.09556313993174062, 0.1078838174273859, 0.07727272727272727, 0.10880829015544041, 0.0633116883116883, 0.06563039723661486, 0.06570841889117043, 0.12759643916913946, 0.40522875816993464, 0.75, 0.9090909090909091, nan]\n",
      "[0.0749063670411985, 0.06484641638225255, 0.08022130013831259, 0.051515151515151514, 0.06563039723661486, 0.040584415584415584, 0.04317789291882556, 0.026694045174537988, 0.05637982195845697, 0.2222222222222222, 0.5192307692307693, 0.9090909090909091, nan]\n",
      "[0.0552434456928839, 0.02957906712172924, 0.04979253112033195, 0.03484848484848485, 0.039723661485319514, 0.027597402597402596, 0.03281519861830743, 0.01642710472279261, 0.017804154302670624, 0.0915032679738562, 0.3076923076923077, 0.7272727272727273, nan]\n",
      "[0.02902621722846442, 0.017064846416382253, 0.02627939142461964, 0.013636363636363636, 0.027633851468048358, 0.017857142857142856, 0.018998272884283247, 0.008213552361396304, 0.008902077151335312, 0.058823529411764705, 0.09615384615384616, 0.2727272727272727, nan]\n",
      "[0.003745318352059925, 0.0022753128555176336, 0.004149377593360996, 0.0015151515151515152, 0.010362694300518135, 0.0016233766233766235, 0.0034542314335060447, 0.0, 0.0, 0.0196078431372549, 0.0, 0.09090909090909091, nan]\n"
     ]
    }
   ],
   "source": [
    "halo_frac = {}\n",
    "for ii in range(len(mass_arr)):\n",
    "    halo_frac[ii] = {}\n",
    "    mass_binning = np.digitize(mass_arr[ii],bins)\n",
    "    bins_to_use = list(np.unique(mass_binning))\n",
    "    if (len(bins)-1) not in bins_to_use:\n",
    "        bins_to_use.append(len(bins)-1)\n",
    "    if len(bins) in bins_to_use:\n",
    "        bins_to_use.remove(len(bins))\n",
    "    for jj in neigh_vals:\n",
    "        one_zero = truth_vals[ii][jj].astype(int)\n",
    "        frac = []\n",
    "        for xx in bins_to_use:\n",
    "            truth_binning = one_zero[mass_binning==xx]\n",
    "            num_in_bin = len(truth_binning)\n",
    "            if num_in_bin == 0:\n",
    "                num_in_bin = np.nan\n",
    "            num_same_halo = np.count_nonzero(truth_binning==1)\n",
    "            frac.append(num_same_halo/(1.*num_in_bin))\n",
    "        print (frac)\n",
    "        halo_frac[ii][jj] = frac\n",
    "# truth_vals[0][1].astype(int)"
   ]
  },
  {
   "cell_type": "code",
   "execution_count": 16,
   "metadata": {
    "collapsed": false
   },
   "outputs": [],
   "source": [
    "nn_dict   = {1:0,2:1,3:2,5:3,10:4,20:5}\n",
    "\n",
    "mean_mock_halo_frac = {}\n",
    "\n",
    "for ii in neigh_vals:\n",
    "    for jj in range(len(halo_frac)):\n",
    "        bin_str = '{0}'.format(ii)\n",
    "        oo_arr = halo_frac[jj][ii]\n",
    "        n_o_elem = len(oo_arr)\n",
    "        if jj == 0:\n",
    "            oo_tot = np.zeros((n_o_elem,1))\n",
    "        oo_tot = np.insert(oo_tot,len(oo_tot.T),oo_arr,1)\n",
    "    oo_tot = np.array(np.delete(oo_tot,0,axis=1))\n",
    "    oo_tot_mean = [np.nanmean(oo_tot[uu]) for uu in xrange(len(oo_tot))]\n",
    "    oo_tot_std  = [np.nanstd(oo_tot[uu])/np.sqrt(len(halo_frac)) for uu in xrange(len(oo_tot))]\n",
    "    mean_mock_halo_frac[bin_str] = [oo_tot_mean,oo_tot_std]\n",
    "\n",
    "    \n"
   ]
  },
  {
   "cell_type": "code",
   "execution_count": 17,
   "metadata": {
    "collapsed": false
   },
   "outputs": [
    {
     "data": {
      "text/plain": [
       "[[0.23379138053932791,\n",
       "  0.21858028420222159,\n",
       "  0.21544218689643946,\n",
       "  0.19484084018295725,\n",
       "  0.1916983360327825,\n",
       "  0.17881305668428565,\n",
       "  0.18925335943566268,\n",
       "  0.25090409503836009,\n",
       "  0.42610801239159524,\n",
       "  0.69867640167500467,\n",
       "  0.91731741061158356,\n",
       "  0.98750000000000004,\n",
       "  1.0],\n",
       " [0.010932438720286266,\n",
       "  0.013594205790084645,\n",
       "  0.012579428692107293,\n",
       "  0.013149385219144662,\n",
       "  0.00962990573148465,\n",
       "  0.0096880211798202678,\n",
       "  0.0088482377169087391,\n",
       "  0.0091612551141998875,\n",
       "  0.0094493195356274689,\n",
       "  0.0086873876135918522,\n",
       "  0.010687875575692713,\n",
       "  0.011692679333668564,\n",
       "  0.0]]"
      ]
     },
     "execution_count": 17,
     "metadata": {},
     "output_type": "execute_result"
    }
   ],
   "source": [
    "(mean_mock_halo_frac['1'])"
   ]
  },
  {
   "cell_type": "code",
   "execution_count": 18,
   "metadata": {
    "collapsed": true
   },
   "outputs": [],
   "source": [
    "def plot_halo_frac(bin_centers,y_vals,ax,plot_idx):\n",
    "    titles = [1,2,3,5,10,20]\n",
    "    ax.set_xlim(9.1,11.9)\n",
    "    ax.set_xticks(np.arange(9.5,12.,0.5)) \n",
    "    ax.tick_params(axis='x', which='major', labelsize=16)\n",
    "    title_here = 'n = {0}'.format(titles[plot_idx])\n",
    "    ax.text(0.05, 0.95, title_here,horizontalalignment='left',\\\n",
    "            verticalalignment='top',transform=ax.transAxes,fontsize=18)\n",
    "    if plot_idx == 4:\n",
    "        ax.set_xlabel('$\\log\\ (M_{*}/M_{\\odot})$',fontsize=20)\n",
    "    ax.plot(bin_centers,y_vals,color='silver')\n",
    "    \n",
    "def plot_mean_halo_frac(bin_centers,mean_vals,ax,std):\n",
    "    ax.errorbar(bin_centers,mean_vals,yerr=std,color='deeppink')\n"
   ]
  },
  {
   "cell_type": "code",
   "execution_count": 21,
   "metadata": {
    "collapsed": false
   },
   "outputs": [
    {
     "name": "stdout",
     "output_type": "stream",
     "text": [
      "1105\n",
      "6417\n",
      "223\n"
     ]
    }
   ],
   "source": [
    "mass_bin_test = np.digitize(mass_arr[0],bins)\n",
    "one_zero_test = truth_vals[0][1].astype(int)\n",
    "\n",
    "test_arr_ones = one_zero_test[mass_bin_test==1]\n",
    "\n",
    "print len(test_arr_ones)\n",
    "print len(mass_bin_test)\n",
    "\n",
    "print np.count_nonzero(test_arr_ones==1)"
   ]
  },
  {
   "cell_type": "code",
   "execution_count": 22,
   "metadata": {
    "collapsed": false
   },
   "outputs": [
    {
     "ename": "IndexError",
     "evalue": "index 20 is out of bounds for axis 0 with size 8",
     "output_type": "error",
     "traceback": [
      "\u001b[0;31m---------------------------------------------------------------------------\u001b[0m",
      "\u001b[0;31mIndexError\u001b[0m                                Traceback (most recent call last)",
      "\u001b[0;32m<ipython-input-22-c5cf0468c820>\u001b[0m in \u001b[0;36m<module>\u001b[0;34m()\u001b[0m\n\u001b[0;32m----> 1\u001b[0;31m \u001b[0mhaloid_neigh\u001b[0m \u001b[0;34m=\u001b[0m \u001b[0mhalo_id_arr\u001b[0m\u001b[0;34m[\u001b[0m\u001b[0mii\u001b[0m\u001b[0;34m]\u001b[0m\u001b[0;34m[\u001b[0m\u001b[0mnn_neigh_idx\u001b[0m\u001b[0;34m[\u001b[0m\u001b[0mii\u001b[0m\u001b[0;34m]\u001b[0m\u001b[0;34m.\u001b[0m\u001b[0mT\u001b[0m\u001b[0;34m[\u001b[0m\u001b[0mneigh_dict\u001b[0m\u001b[0;34m[\u001b[0m\u001b[0mjj\u001b[0m\u001b[0;34m]\u001b[0m\u001b[0;34m]\u001b[0m\u001b[0;34m]\u001b[0m\u001b[0;34m.\u001b[0m\u001b[0mvalues\u001b[0m\u001b[0;34m\u001b[0m\u001b[0m\n\u001b[0m\u001b[1;32m      2\u001b[0m \u001b[0mB\u001b[0m \u001b[0;34m=\u001b[0m \u001b[0mhaloid_neigh\u001b[0m \u001b[0;34m==\u001b[0m \u001b[0mhalo_id_arr\u001b[0m\u001b[0;34m[\u001b[0m\u001b[0mii\u001b[0m\u001b[0;34m]\u001b[0m\u001b[0;34m.\u001b[0m\u001b[0mvalues\u001b[0m\u001b[0;34m\u001b[0m\u001b[0m\n\u001b[1;32m      3\u001b[0m \u001b[0;32mprint\u001b[0m\u001b[0;34m(\u001b[0m\u001b[0mB\u001b[0m\u001b[0;34m)\u001b[0m\u001b[0;34m\u001b[0m\u001b[0m\n\u001b[1;32m      4\u001b[0m \u001b[0;32mprint\u001b[0m\u001b[0;34m(\u001b[0m\u001b[0mhaloid_neigh\u001b[0m\u001b[0;34m)\u001b[0m\u001b[0;34m\u001b[0m\u001b[0m\n\u001b[1;32m      5\u001b[0m \u001b[0;32mprint\u001b[0m\u001b[0;34m(\u001b[0m\u001b[0mhalo_id_arr\u001b[0m\u001b[0;34m[\u001b[0m\u001b[0mii\u001b[0m\u001b[0;34m]\u001b[0m\u001b[0;34m.\u001b[0m\u001b[0mvalues\u001b[0m\u001b[0;34m)\u001b[0m\u001b[0;34m\u001b[0m\u001b[0m\n",
      "\u001b[0;31mIndexError\u001b[0m: index 20 is out of bounds for axis 0 with size 8"
     ]
    }
   ],
   "source": [
    "# haloid_neigh = halo_id_arr[ii][nn_neigh_idx[ii].T[neigh_dict[jj]]].values\n",
    "# B = haloid_neigh == halo_id_arr[ii].values\n",
    "# print(B)\n",
    "# print(haloid_neigh)\n",
    "# print(halo_id_arr[ii].values)"
   ]
  },
  {
   "cell_type": "code",
   "execution_count": 23,
   "metadata": {
    "collapsed": false
   },
   "outputs": [],
   "source": [
    "# nn_dist    = {}\n",
    "nn_dens    = {}\n",
    "mass_dat   = {}\n",
    "ratio_info = {}\n",
    "bin_cens_diff = {}\n",
    "\n",
    "mass_freq  = [[] for xx in xrange(len(coords_test))]\n",
    "\n",
    "for ii in range(len(coords_test)):\n",
    "#     nn_dist[ii]    = {}\n",
    "    nn_dens[ii]    = {}\n",
    "    mass_dat[ii]   = {}\n",
    "    ratio_info[ii] = {}\n",
    "    bin_cens_diff[ii] = {}\n",
    "\n",
    "#     nn_dist[ii]['mass'] = nn_mass_dist[ii].T[0]\n",
    "\n",
    "    for jj in range(len(neigh_vals)):\n",
    "#         nn_dist[ii][(neigh_vals[jj])]  = np.array(nn_mass_dist[ii].T\\\n",
    "#                                             [range(1,len(neigh_vals)+1)[jj]])\n",
    "        nn_dens[ii][(neigh_vals[jj])]  = np.column_stack((nn_mass_dist[ii].T\\\n",
    "                                            [0],calc_dens(neigh_vals[jj],\\\n",
    "                                            nn_mass_dist[ii].T[range(1,len\\\n",
    "                                                (neigh_vals)+1)[jj]])))\n",
    "\n",
    "        idx = np.array([nn_dens[ii][neigh_vals[jj]].T[1].argsort()])\n",
    "        mass_dat[ii][(neigh_vals[jj])] = (nn_dens[ii][neigh_vals[jj]]\\\n",
    "                                            [idx].T[0])\n",
    "\n",
    "        bin_centers, mass_freq[ii], ratio_info[ii][neigh_vals[jj]],bin_cens_diff[ii][neigh_vals[jj]] = \\\n",
    "                            plot_calcs(mass_dat[ii][neigh_vals[jj]],bins,dlogM)\n",
    "\n",
    "all_mock_meds = [[] for xx in range(len(nn_mass_dist))]\n",
    "all_mock_mass_means = [[] for xx in range(len(nn_mass_dist))]\n",
    "\n",
    "for vv in range(len(nn_mass_dist)):\n",
    "    all_mock_meds[vv] = np.array([bin_func(nn_mass_dist[vv],bins,(jj+1)) \\\n",
    "                                for jj in range(len(nn_mass_dist[vv].T)-1)])\n",
    "    all_mock_mass_means[vv] = (mean_bin_mass(nn_mass_dist[vv],bins))  \n",
    "    \n",
    "# med_plot_arr = [([[] for yy in xrange(len(nn_mass_dist))]) \\\n",
    "#                                             for xx in xrange(len(neigh_vals))]\n",
    "\n",
    "# for ii in range(len(neigh_vals)):\n",
    "#     for jj in range(len(nn_mass_dist)):\n",
    "#         med_plot_arr[ii][jj] = all_mock_meds[jj][ii]    \n",
    "\n",
    "# for ii in range(len(neigh_vals)):\n",
    "#     for jj in range(len(nn_mass_dist)):\n",
    "#         print len(all_mock_meds[jj][ii])\n",
    "\n",
    "# mass_freq_plot  = (np.array(mass_freq))\n",
    "# max_lim = [[] for xx in range(len(mass_freq_plot.T))]\n",
    "# min_lim = [[] for xx in range(len(mass_freq_plot.T))]\n",
    "# for jj in range(len(mass_freq_plot.T)):\n",
    "#     max_lim[jj] = max(mass_freq_plot.T[jj])\n",
    "#     min_lim[jj] = min(mass_freq_plot.T[jj])"
   ]
  },
  {
   "cell_type": "code",
   "execution_count": 24,
   "metadata": {
    "collapsed": false
   },
   "outputs": [
    {
     "data": {
      "text/plain": [
       "13"
      ]
     },
     "execution_count": 24,
     "metadata": {},
     "output_type": "execute_result"
    }
   ],
   "source": [
    "len(all_mock_mass_means[0])"
   ]
  },
  {
   "cell_type": "code",
   "execution_count": 25,
   "metadata": {
    "collapsed": false
   },
   "outputs": [
    {
     "name": "stdout",
     "output_type": "stream",
     "text": [
      "[  9.1   9.3   9.5   9.7   9.9  10.1  10.3  10.5  10.7  10.9  11.1  11.3\n",
      "  11.5  11.7]\n"
     ]
    }
   ],
   "source": [
    "bin_cens_diff\n",
    "\n",
    "\n",
    "bins_curve_fit = bins.copy()\n",
    "global bins_curve_fit\n",
    "\n",
    "def abc():\n",
    "    print bins_curve_fit\n",
    "    \n",
    "abc()"
   ]
  },
  {
   "cell_type": "code",
   "execution_count": 26,
   "metadata": {
    "collapsed": true
   },
   "outputs": [],
   "source": [
    "eco_path  = r\"C:\\Users\\Hannah\\Desktop\\Vanderbilt_REU\\Stellar_mass_env_density\"\n",
    "eco_path += r\"\\Catalogs\\ECO_true\"\n",
    "eco_cols  = np.array([0,1,2,4])"
   ]
  },
  {
   "cell_type": "code",
   "execution_count": 27,
   "metadata": {
    "collapsed": false
   },
   "outputs": [],
   "source": [
    "ECO_true = (Index(eco_path,'.txt'))\n",
    "names    = ['ra','dec','cz','logMstar']\n",
    "PD_eco   = pd.read_csv(ECO_true[0],sep=\"\\s+\", usecols=(eco_cols),header=None,\\\n",
    "                skiprows=1,names=names)\n",
    "eco_comp = PD_eco[PD_eco.logMstar >= 9.1]\n",
    "\n",
    "ra_eco   = (np.array(eco_comp)).T[0]\n",
    "dec_eco  = (np.array(eco_comp)).T[1] \n",
    "cz_eco   = (np.array(eco_comp)).T[2] \n",
    "mass_eco = (np.array(eco_comp)).T[3]\n",
    "\n",
    "coords_eco        = sph_to_cart(ra_eco,dec_eco,cz_eco)\n",
    "eco_neighbor_tree = spatial.cKDTree(coords_eco)\n",
    "eco_tree_dist     = np.array(eco_neighbor_tree.query(coords_eco,\\\n",
    "                    (neigh_vals[-1]+1))[0])\n",
    "\n",
    "eco_mass_dist = np.column_stack((mass_eco,eco_tree_dist.T[neigh_vals].T))\n",
    "##range 1,7 because of the six nearest neighbors (and fact that 0 is mass)\n",
    "##the jj is there to specify which index in the [1,6] array\n",
    "eco_dens = ([calc_dens(neigh_vals[jj],\\\n",
    "            (eco_mass_dist.T[range(1,7)[jj]])) for jj in range\\\n",
    "            (len(neigh_vals))])\n",
    "\n",
    "eco_mass_dens = [(np.column_stack((mass_eco,eco_dens[ii]))) for ii in \\\n",
    "                range(len(neigh_vals))]\n",
    "eco_idx  = [(eco_mass_dens[jj].T[1].argsort()) for jj in \\\n",
    "            range(len(neigh_vals))]\n",
    "eco_mass_dat  = [(eco_mass_dens[jj][eco_idx[jj]].T[0]) for jj in \\\n",
    "                range(len(neigh_vals))]\n",
    "\n",
    "eco_ratio_info    = [[] for xx in xrange(len(eco_mass_dat))]\n",
    "eco_final_bins    = [[] for xx in xrange(len(eco_mass_dat))]\n",
    "\n",
    "\n",
    "for qq in range(len(eco_mass_dat)):\n",
    "    bin_centers, eco_freq, eco_ratio_info[qq],eco_final_bins[qq] = plot_calcs(eco_mass_dat[qq],\\\n",
    "                                    bins,dlogM)\n",
    "\n",
    "eco_medians   = [[] for xx in xrange(len(eco_mass_dat))]    \n",
    "eco_mass_means   = [[] for xx in xrange(len(eco_mass_dat))] \n",
    "\n",
    "for jj in (range(len(eco_mass_dat))):\n",
    "    eco_medians[jj] = np.array(bin_func(eco_mass_dist,bins,(jj+1),\\\n",
    "        bootstrap=True))\n",
    "    eco_mass_means[jj] = (mean_bin_mass(eco_mass_dist,bins)) "
   ]
  },
  {
   "cell_type": "code",
   "execution_count": 28,
   "metadata": {
    "collapsed": false
   },
   "outputs": [],
   "source": [
    "hist_low_info  = {}\n",
    "hist_high_info = {}\n",
    "\n",
    "for ii in xrange(len(coords_test)):\n",
    "    hist_low_info[ii]  = {}\n",
    "    hist_high_info[ii] = {}\n",
    "    \n",
    "    for jj in range(len(neigh_vals)):\n",
    "        hist_low_info[ii][neigh_vals[jj]],hist_high_info[ii][neigh_vals[jj]] \\\n",
    "        = hist_calcs(mass_dat[ii][neigh_vals[jj]],bins,dlogM)\n",
    "        \n",
    "frac_vals     = [2,4,10]\n",
    "hist_low_arr  = [[[] for yy in xrange(len(nn_mass_dist))] for xx in \\\n",
    "    xrange(len(neigh_vals))]\n",
    "hist_high_arr = [[[] for yy in xrange(len(nn_mass_dist))] for xx in \\\n",
    "    xrange(len(neigh_vals))]\n",
    "\n",
    "for ii in range(len(neigh_vals)):\n",
    "    for jj in range(len(nn_mass_dist)):\n",
    "        hist_low_arr[ii][jj]  = (hist_low_info[jj][neigh_vals[ii]])\n",
    "        hist_high_arr[ii][jj] = (hist_high_info[jj][neigh_vals[ii]])\n",
    "        \n",
    "        \n",
    "#         plot_low_hist  = [[[[] for yy in xrange(len(nn_mass_dist))] \\\n",
    "#                          for zz in xrange(len(frac_vals))] for xx in \\\n",
    "#                          xrange(len(hist_low_arr))]\n",
    "        \n",
    "#         plot_high_hist = [[[[] for yy in xrange(len(nn_mass_dist))] \\\n",
    "#                  for zz in xrange(len(frac_vals))] for xx in \\\n",
    "#                  xrange(len(hist_high_arr))]\n",
    "\n",
    "# for jj in range(len(nn_mass_dist)):\n",
    "#     for hh in range(len(frac_vals)):\n",
    "#         for ii in range(len(neigh_vals)):\n",
    "#             plot_low_hist[ii][hh][jj]  = hist_low_arr[ii][jj][frac_vals[hh]]        \n",
    "#             plot_high_hist[ii][hh][jj] = hist_high_arr[ii][jj][frac_vals[hh]] "
   ]
  },
  {
   "cell_type": "code",
   "execution_count": 29,
   "metadata": {
    "collapsed": false
   },
   "outputs": [
    {
     "data": {
      "text/plain": [
       "[array([  9.19881916,   9.39594645,   9.59814583,   9.8007378 ,\n",
       "          9.99990361,  10.19470893,  10.3920915 ,  10.59192308,\n",
       "         10.79164706,  10.98988372,  11.18395349,  11.37583333,\n",
       "         11.582     ,  11.746     ]),\n",
       " array([  9.19881916,   9.39594645,   9.59814583,   9.8007378 ,\n",
       "          9.99990361,  10.19470893,  10.3920915 ,  10.59192308,\n",
       "         10.79164706,  10.98988372,  11.18395349,  11.37583333,\n",
       "         11.582     ,  11.746     ]),\n",
       " array([  9.19881916,   9.39594645,   9.59814583,   9.8007378 ,\n",
       "          9.99990361,  10.19470893,  10.3920915 ,  10.59192308,\n",
       "         10.79164706,  10.98988372,  11.18395349,  11.37583333,\n",
       "         11.582     ,  11.746     ]),\n",
       " array([  9.19881916,   9.39594645,   9.59814583,   9.8007378 ,\n",
       "          9.99990361,  10.19470893,  10.3920915 ,  10.59192308,\n",
       "         10.79164706,  10.98988372,  11.18395349,  11.37583333,\n",
       "         11.582     ,  11.746     ]),\n",
       " array([  9.19881916,   9.39594645,   9.59814583,   9.8007378 ,\n",
       "          9.99990361,  10.19470893,  10.3920915 ,  10.59192308,\n",
       "         10.79164706,  10.98988372,  11.18395349,  11.37583333,\n",
       "         11.582     ,  11.746     ]),\n",
       " array([  9.19881916,   9.39594645,   9.59814583,   9.8007378 ,\n",
       "          9.99990361,  10.19470893,  10.3920915 ,  10.59192308,\n",
       "         10.79164706,  10.98988372,  11.18395349,  11.37583333,\n",
       "         11.582     ,  11.746     ])]"
      ]
     },
     "execution_count": 29,
     "metadata": {},
     "output_type": "execute_result"
    }
   ],
   "source": [
    "eco_mass_means"
   ]
  },
  {
   "cell_type": "code",
   "execution_count": 30,
   "metadata": {
    "collapsed": false
   },
   "outputs": [],
   "source": [
    "eco_low  = {}\n",
    "eco_high = {}\n",
    "for jj in range(len(neigh_vals)):\n",
    "    eco_low[neigh_vals[jj]]  = {}\n",
    "    eco_high[neigh_vals[jj]] = {}\n",
    "    eco_low[neigh_vals[jj]], eco_high[neigh_vals[jj]] = hist_calcs\\\n",
    "    (eco_mass_dat[jj],bins,dlogM)"
   ]
  },
  {
   "cell_type": "code",
   "execution_count": 31,
   "metadata": {
    "collapsed": false
   },
   "outputs": [],
   "source": [
    "def perc_calcs(mass,bins,dlogM):\n",
    "    mass_counts, edges = np.histogram(mass,bins)\n",
    "    mass_freq          = mass_counts/float(len(mass))/dlogM\n",
    "    \n",
    "    bin_centers        = 0.5*(edges[:-1]+edges[1:])\n",
    "    \n",
    "    non_zero = (mass_freq!=0)\n",
    "    \n",
    "    mass_freq_1 = mass_freq[non_zero]\n",
    "    \n",
    "    smf_err            = np.sqrt(mass_counts)/float(len(mass))/dlogM\n",
    "    \n",
    "    smf_err_1   = smf_err[non_zero] \n",
    "    \n",
    "    bin_centers_1 = bin_centers[non_zero]\n",
    "\n",
    "    return mass_freq_1, smf_err_1, bin_centers_1"
   ]
  },
  {
   "cell_type": "code",
   "execution_count": 32,
   "metadata": {
    "collapsed": true
   },
   "outputs": [],
   "source": [
    "def quartiles(mass):\n",
    "    dec_val     =  int(len(mass)/4)\n",
    "    res_list      =  [[] for bb in range(4)]\n",
    "\n",
    "    for aa in range(0,4):\n",
    "        if aa == 3:\n",
    "            res_list[aa] = mass[aa*dec_val:]\n",
    "        else:\n",
    "            res_list[aa] = mass[aa*dec_val:(aa+1)*dec_val]\n",
    "\n",
    "    return res_list"
   ]
  },
  {
   "cell_type": "code",
   "execution_count": 33,
   "metadata": {
    "collapsed": true
   },
   "outputs": [],
   "source": [
    "def deciles(mass):\n",
    "    dec_val     =  int(len(mass)/10)\n",
    "    res_list      =  [[] for bb in range(10)]\n",
    "\n",
    "    for aa in range(0,10):\n",
    "        if aa == 9:\n",
    "            res_list[aa] = mass[aa*dec_val:]\n",
    "        else:\n",
    "            res_list[aa] = mass[aa*dec_val:(aa+1)*dec_val]\n",
    "\n",
    "    return res_list"
   ]
  },
  {
   "cell_type": "code",
   "execution_count": 34,
   "metadata": {
    "collapsed": false
   },
   "outputs": [],
   "source": [
    "eco_dec = {}\n",
    "for cc in range(len(eco_mass_dat)):\n",
    "    eco_dec[neigh_vals[cc]] = deciles(eco_mass_dat[cc])\n",
    "    \n",
    "eco_dec_smf = {}\n",
    "eco_dec_err = {}\n",
    "eco_dec_bin = {}\n",
    "\n",
    "for ss in neigh_vals:\n",
    "    eco_dec_smf[ss] = {}\n",
    "    eco_dec_err[ss] = {}\n",
    "    eco_dec_bin[ss] = {}\n",
    "    for tt in range(len(eco_dec[ss])):\n",
    "        eco_dec_smf[ss][tt], eco_dec_err[ss][tt], eco_dec_bin[ss][tt] = perc_calcs(eco_dec[ss][tt],bins,dlogM)    "
   ]
  },
  {
   "cell_type": "code",
   "execution_count": 35,
   "metadata": {
    "collapsed": false
   },
   "outputs": [
    {
     "name": "stdout",
     "output_type": "stream",
     "text": [
      "11\n",
      "11\n",
      "11\n",
      "[  9.2   9.4   9.6   9.8  10.   10.2  10.4  10.6  10.8  11.   11.2]\n",
      "[  9.19822809   9.39940905   9.59760334   9.79848111  10.00151616\n",
      "  10.20241456  10.3992579   10.59785147  10.78480071  10.99137783\n",
      "  11.18597316  11.3528569   11.567247  ]\n",
      "11\n"
     ]
    }
   ],
   "source": [
    "print len(eco_dec_smf[1][0])\n",
    "print len(all_mock_mass_means[0][:-2])\n",
    "print len(eco_dec_err[1][0])\n",
    "print eco_dec_bin[1][0]\n",
    "print all_mock_mass_means[0]\n",
    "print len(bins_curve_fit[:-3])"
   ]
  },
  {
   "cell_type": "code",
   "execution_count": 338,
   "metadata": {
    "collapsed": true
   },
   "outputs": [],
   "source": [
    "def schechter_real_func(mean_of_mass_bin,phi_star,alpha,Mstar):\n",
    "    \"\"\"\n",
    "    \n",
    "    mean_of_mass_bin: array-like\n",
    "        Unlogged x-values\n",
    "    phi-star: float-like\n",
    "        Normalization value\n",
    "    alpha: float-like\n",
    "        Low-mass end slope\n",
    "    Mstar: float-like\n",
    "        Unlogged value where function switches from power-law to exponential\n",
    "    \n",
    "    \"\"\"\n",
    "#     M_over_mstar = (10**mean_of_mass_bin)/Mstar\n",
    "    M_over_mstar = (mean_of_mass_bin)/Mstar\n",
    "    res_arr    = phi_star/Mstar * M_over_mstar**(alpha) * \\\n",
    "                        np.exp(- M_over_mstar)\n",
    "\n",
    "    return res_arr"
   ]
  },
  {
   "cell_type": "code",
   "execution_count": 396,
   "metadata": {
    "collapsed": true
   },
   "outputs": [],
   "source": [
    "def schechter_log_func(stellar_mass,phi_star,alpha,m_star):\n",
    "    \"\"\"\n",
    "    Returns a plottable Schechter function for the \n",
    "        stellar mass functions of galaxies\n",
    "    \n",
    "    Parameters\n",
    "    ----------\n",
    "    stellar_mass: array-like\n",
    "        An array of unlogged stellar mass values which \n",
    "        will eventually be the x-axis values the function\n",
    "        is plotted against\n",
    "    phi_star: float-like\n",
    "        A constant which normalizes (?) the function;\n",
    "        Moves the graph up and down\n",
    "    alpha: negative integer-like\n",
    "        The faint-end, or in this case, low-mass slope;\n",
    "        Describes the power-law portion of the curve\n",
    "    m_star: float-like\n",
    "        Unlogged value of the characteristic (?) stellar\n",
    "        mass; the \"knee\" of the function, where the \n",
    "        power-law gives way to the exponential portion\n",
    "        \n",
    "    Returns\n",
    "    -------\n",
    "    res: array-like\n",
    "        Array of values prepadodgerblue to be plotted on a log\n",
    "        scale to display the Schechter function\n",
    "        \n",
    "    \"\"\"\n",
    "    constant = np.log(10) * phi_star\n",
    "    log_M_Mstar = np.log10(stellar_mass/m_star)\n",
    "    res = constant * 10**(log_M_Mstar * (alpha+1)) * \\\n",
    "        np.exp(-10**log_M_Mstar)\n",
    "        \n",
    "    return res"
   ]
  },
  {
   "cell_type": "code",
   "execution_count": 355,
   "metadata": {
    "collapsed": false
   },
   "outputs": [
    {
     "name": "stdout",
     "output_type": "stream",
     "text": [
      "11\n",
      "14\n"
     ]
    }
   ],
   "source": [
    "print len(test)\n",
    "print len(bins_curve_fit)"
   ]
  },
  {
   "cell_type": "code",
   "execution_count": 412,
   "metadata": {
    "collapsed": true
   },
   "outputs": [],
   "source": [
    "def find_params(bin_int,mean_mass,count_err):\n",
    "    \"\"\"\n",
    "    Parameters\n",
    "    ----------\n",
    "    bin_int: array-like\n",
    "        Integral (number of counts) in each bin of width dlogM\n",
    "    mean_mass: array-like\n",
    "        Logged values (?)\n",
    "\n",
    "    Returns\n",
    "    -------\n",
    "    opt_v: array-like\n",
    "        Array with three values: phi_star, alpha, and M_star\n",
    "    res_arr: array-like\n",
    "        Array with two values: alpha and log_M_star\n",
    "\n",
    "\n",
    "    \"\"\"\n",
    "    xdata = 10**mean_mass\n",
    "#     xdata = mean_mass\n",
    "    p0    = (1,-1.05,10**10.64)\n",
    "    opt_v,est_cov = optimize.curve_fit(schechter_real_func,xdata,\\\n",
    "                            bin_int,p0=p0,sigma=count_err,check_finite=True)\n",
    "    alpha   = opt_v[1]\n",
    "    log_m_star    = np.log10(opt_v[2])\n",
    "    \n",
    "    res_arr = np.array([alpha,log_m_star])\n",
    "    \n",
    "    perr = np.sqrt(np.diag(est_cov))\n",
    "\n",
    "    return opt_v, res_arr, perr, est_cov"
   ]
  },
  {
   "cell_type": "code",
   "execution_count": 410,
   "metadata": {
    "collapsed": false
   },
   "outputs": [],
   "source": [
    "# test_int"
   ]
  },
  {
   "cell_type": "code",
   "execution_count": 413,
   "metadata": {
    "collapsed": false
   },
   "outputs": [],
   "source": [
    "# print len(eco_dec_smf[1][0])\n",
    "# print len(eco_mass_means[0])\n",
    "# print len(all_mock_mass_means[0][:-2])\n",
    "# print len(eco_dec_err[1][0])\n",
    "\n",
    "opt_v, res_arr, perr, est_cov = find_params(eco_dec_smf[1][0],eco_mass_means[0][:-3],eco_dec_err[1][0])\n",
    "# opt_v, res_arr, perr, est_cov = find_params(eco_dec_smf[1][0],eco_mass_means[0][:-3],None)"
   ]
  },
  {
   "cell_type": "code",
   "execution_count": 414,
   "metadata": {
    "collapsed": false
   },
   "outputs": [
    {
     "name": "stdout",
     "output_type": "stream",
     "text": [
      "[  1.00000000e+00  -1.05000000e+00   4.36515832e+10]\n",
      "[ -1.05  10.64]\n"
     ]
    }
   ],
   "source": [
    "print opt_v\n",
    "print res_arr\n",
    "# print perr\n",
    "# print eco_dec_err[1][0]\n",
    "# print est_cov"
   ]
  },
  {
   "cell_type": "code",
   "execution_count": 302,
   "metadata": {
    "collapsed": false
   },
   "outputs": [
    {
     "name": "stdout",
     "output_type": "stream",
     "text": [
      "11\n",
      "13\n",
      "11\n",
      "14\n",
      "11\n"
     ]
    }
   ],
   "source": [
    "# print opt_v\n",
    "\n",
    "print len(test)\n",
    "print len(all_mock_mass_means[0])\n",
    "print len(test)\n",
    "print len(eco_mass_means[0])\n",
    "print len(eco_dec_smf[1][0])"
   ]
  },
  {
   "cell_type": "code",
   "execution_count": 303,
   "metadata": {
    "collapsed": false
   },
   "outputs": [
    {
     "name": "stdout",
     "output_type": "stream",
     "text": [
      "11\n",
      "11\n",
      "11\n"
     ]
    }
   ],
   "source": [
    "idx_edge = len(all_mock_mass_means[0]) - len(eco_dec_smf[1][0])\n",
    "print len(eco_dec_smf[1][0])\n",
    "print len(all_mock_mass_means[0][:-idx_edge])\n",
    "print len(eco_dec_err[1][0])\n",
    "# opt_v, res_arr, perr, est_cov = find_params(eco_dec_smf[1][0],all_mock_mass_means[0][:-(idx_edge)],eco_dec_err[1][0])"
   ]
  },
  {
   "cell_type": "code",
   "execution_count": 407,
   "metadata": {
    "collapsed": false
   },
   "outputs": [],
   "source": [
    "test = schechter_log_func(eco_mass_means[0][:-3],opt_v[0],(opt_v[1]),opt_v[2])"
   ]
  },
  {
   "cell_type": "code",
   "execution_count": 408,
   "metadata": {
    "collapsed": false
   },
   "outputs": [
    {
     "name": "stdout",
     "output_type": "stream",
     "text": [
      "14\n",
      "11\n",
      "11\n",
      "[ 7.01502276  7.00758964  7.00013348  6.99282645  6.98579598  6.97906024\n",
      "  6.97237184  6.96573499  6.95923179  6.95290081  6.946818  ]\n",
      "[ 0.95302013  0.87919463  0.72483221  0.68456376  0.55704698  0.59060403\n",
      "  0.29530201  0.18120805  0.10738255  0.02013423  0.00671141]\n"
     ]
    }
   ],
   "source": [
    "print len(eco_mass_means[0])\n",
    "print len(test)\n",
    "print len(eco_dec_smf[1][0])\n",
    "print test\n",
    "# print test*10**10\n",
    "print eco_dec_smf[1][0]\n",
    "# print np.log10(eco_dec_smf[1][0])\n",
    "\n",
    "# [  1.27691357e-09   7.52289969e-10   4.29532422e-10   2.38074992e-10\n",
    "#    1.27498704e-10   6.47224003e-11   2.92667401e-11   1.10292764e-11\n",
    "#    3.16160331e-12   5.95850360e-13   6.06349916e-14]"
   ]
  },
  {
   "cell_type": "code",
   "execution_count": 395,
   "metadata": {
    "collapsed": false
   },
   "outputs": [],
   "source": [
    "fig, ax = plt.subplots()\n",
    "ax.set_yscale('log')\n",
    "ax.plot(eco_mass_means[0][:-3],test)\n",
    "ax.plot(eco_mass_means[0][:-3],(eco_dec_smf[1][0]))\n",
    "plt.show()"
   ]
  },
  {
   "cell_type": "code",
   "execution_count": 54,
   "metadata": {
    "collapsed": false
   },
   "outputs": [],
   "source": [
    "# truth_vals[ii] = {}\n",
    "# for kk in range(10):\n",
    "#     truth_list.append(np.unique(halo_id_arr[ii][nn_neigh_idx[ii].T[neigh_dict[jj]]\\\n",
    "#                                   [halo_id_arr[ii][nn_neigh_idx[ii].T[neigh_dict[jj]]].keys()[kk]]])==halo_id_arr[ii][kk])\n",
    "#     truth_vals[ii][jj] = truth_list\n",
    "\n",
    "truth_vals = {}\n",
    "for ii in range(len(halo_id_arr)):\n",
    "    truth_vals[ii] = {}\n",
    "    for jj in neigh_vals:\n",
    "        halo_id_neigh = halo_id_arr[ii][nn_neigh_idx[ii].T[neigh_dict[jj]]].values\n",
    "        truth_vals[ii][jj] = halo_id_neigh==halo_id_arr[ii].values"
   ]
  },
  {
   "cell_type": "code",
   "execution_count": null,
   "metadata": {
    "collapsed": true
   },
   "outputs": [],
   "source": []
  },
  {
   "cell_type": "code",
   "execution_count": 50,
   "metadata": {
    "collapsed": false
   },
   "outputs": [
    {
     "ename": "ValueError",
     "evalue": "x and y must have same first dimension",
     "output_type": "error",
     "traceback": [
      "\u001b[0;31m---------------------------------------------------------------------------\u001b[0m",
      "\u001b[0;31mValueError\u001b[0m                                Traceback (most recent call last)",
      "\u001b[0;32m<ipython-input-50-8e077b3a5b91>\u001b[0m in \u001b[0;36m<module>\u001b[0;34m()\u001b[0m\n\u001b[1;32m      3\u001b[0m \u001b[0mfig\u001b[0m\u001b[0;34m,\u001b[0m \u001b[0max\u001b[0m \u001b[0;34m=\u001b[0m \u001b[0mplt\u001b[0m\u001b[0;34m.\u001b[0m\u001b[0msubplots\u001b[0m\u001b[0;34m(\u001b[0m\u001b[0;34m)\u001b[0m\u001b[0;34m\u001b[0m\u001b[0m\n\u001b[1;32m      4\u001b[0m \u001b[0max\u001b[0m\u001b[0;34m.\u001b[0m\u001b[0mset_yscale\u001b[0m\u001b[0;34m(\u001b[0m\u001b[0;34m'log'\u001b[0m\u001b[0;34m)\u001b[0m\u001b[0;34m\u001b[0m\u001b[0m\n\u001b[0;32m----> 5\u001b[0;31m \u001b[0max\u001b[0m\u001b[0;34m.\u001b[0m\u001b[0mplot\u001b[0m\u001b[0;34m(\u001b[0m\u001b[0mall_mock_mass_means\u001b[0m\u001b[0;34m[\u001b[0m\u001b[0;36m0\u001b[0m\u001b[0;34m]\u001b[0m\u001b[0;34m,\u001b[0m\u001b[0mtest_int\u001b[0m\u001b[0;34m)\u001b[0m\u001b[0;34m\u001b[0m\u001b[0m\n\u001b[0m\u001b[1;32m      6\u001b[0m \u001b[0mplt\u001b[0m\u001b[0;34m.\u001b[0m\u001b[0mshow\u001b[0m\u001b[0;34m(\u001b[0m\u001b[0;34m)\u001b[0m\u001b[0;34m\u001b[0m\u001b[0m\n",
      "\u001b[0;32mC:\\Users\\Hannah\\Anaconda2\\lib\\site-packages\\matplotlib\\__init__.pyc\u001b[0m in \u001b[0;36minner\u001b[0;34m(ax, *args, **kwargs)\u001b[0m\n\u001b[1;32m   1809\u001b[0m                     warnings.warn(msg % (label_namer, func.__name__),\n\u001b[1;32m   1810\u001b[0m                                   RuntimeWarning, stacklevel=2)\n\u001b[0;32m-> 1811\u001b[0;31m             \u001b[0;32mreturn\u001b[0m \u001b[0mfunc\u001b[0m\u001b[0;34m(\u001b[0m\u001b[0max\u001b[0m\u001b[0;34m,\u001b[0m \u001b[0;34m*\u001b[0m\u001b[0margs\u001b[0m\u001b[0;34m,\u001b[0m \u001b[0;34m**\u001b[0m\u001b[0mkwargs\u001b[0m\u001b[0;34m)\u001b[0m\u001b[0;34m\u001b[0m\u001b[0m\n\u001b[0m\u001b[1;32m   1812\u001b[0m         \u001b[0mpre_doc\u001b[0m \u001b[0;34m=\u001b[0m \u001b[0minner\u001b[0m\u001b[0;34m.\u001b[0m\u001b[0m__doc__\u001b[0m\u001b[0;34m\u001b[0m\u001b[0m\n\u001b[1;32m   1813\u001b[0m         \u001b[0;32mif\u001b[0m \u001b[0mpre_doc\u001b[0m \u001b[0;32mis\u001b[0m \u001b[0mNone\u001b[0m\u001b[0;34m:\u001b[0m\u001b[0;34m\u001b[0m\u001b[0m\n",
      "\u001b[0;32mC:\\Users\\Hannah\\Anaconda2\\lib\\site-packages\\matplotlib\\axes\\_axes.pyc\u001b[0m in \u001b[0;36mplot\u001b[0;34m(self, *args, **kwargs)\u001b[0m\n\u001b[1;32m   1422\u001b[0m             \u001b[0mkwargs\u001b[0m\u001b[0;34m[\u001b[0m\u001b[0;34m'color'\u001b[0m\u001b[0;34m]\u001b[0m \u001b[0;34m=\u001b[0m \u001b[0mc\u001b[0m\u001b[0;34m\u001b[0m\u001b[0m\n\u001b[1;32m   1423\u001b[0m \u001b[0;34m\u001b[0m\u001b[0m\n\u001b[0;32m-> 1424\u001b[0;31m         \u001b[0;32mfor\u001b[0m \u001b[0mline\u001b[0m \u001b[0;32min\u001b[0m \u001b[0mself\u001b[0m\u001b[0;34m.\u001b[0m\u001b[0m_get_lines\u001b[0m\u001b[0;34m(\u001b[0m\u001b[0;34m*\u001b[0m\u001b[0margs\u001b[0m\u001b[0;34m,\u001b[0m \u001b[0;34m**\u001b[0m\u001b[0mkwargs\u001b[0m\u001b[0;34m)\u001b[0m\u001b[0;34m:\u001b[0m\u001b[0;34m\u001b[0m\u001b[0m\n\u001b[0m\u001b[1;32m   1425\u001b[0m             \u001b[0mself\u001b[0m\u001b[0;34m.\u001b[0m\u001b[0madd_line\u001b[0m\u001b[0;34m(\u001b[0m\u001b[0mline\u001b[0m\u001b[0;34m)\u001b[0m\u001b[0;34m\u001b[0m\u001b[0m\n\u001b[1;32m   1426\u001b[0m             \u001b[0mlines\u001b[0m\u001b[0;34m.\u001b[0m\u001b[0mappend\u001b[0m\u001b[0;34m(\u001b[0m\u001b[0mline\u001b[0m\u001b[0;34m)\u001b[0m\u001b[0;34m\u001b[0m\u001b[0m\n",
      "\u001b[0;32mC:\\Users\\Hannah\\Anaconda2\\lib\\site-packages\\matplotlib\\axes\\_base.pyc\u001b[0m in \u001b[0;36m_grab_next_args\u001b[0;34m(self, *args, **kwargs)\u001b[0m\n\u001b[1;32m    384\u001b[0m                 \u001b[0;32mreturn\u001b[0m\u001b[0;34m\u001b[0m\u001b[0m\n\u001b[1;32m    385\u001b[0m             \u001b[0;32mif\u001b[0m \u001b[0mlen\u001b[0m\u001b[0;34m(\u001b[0m\u001b[0mremaining\u001b[0m\u001b[0;34m)\u001b[0m \u001b[0;34m<=\u001b[0m \u001b[0;36m3\u001b[0m\u001b[0;34m:\u001b[0m\u001b[0;34m\u001b[0m\u001b[0m\n\u001b[0;32m--> 386\u001b[0;31m                 \u001b[0;32mfor\u001b[0m \u001b[0mseg\u001b[0m \u001b[0;32min\u001b[0m \u001b[0mself\u001b[0m\u001b[0;34m.\u001b[0m\u001b[0m_plot_args\u001b[0m\u001b[0;34m(\u001b[0m\u001b[0mremaining\u001b[0m\u001b[0;34m,\u001b[0m \u001b[0mkwargs\u001b[0m\u001b[0;34m)\u001b[0m\u001b[0;34m:\u001b[0m\u001b[0;34m\u001b[0m\u001b[0m\n\u001b[0m\u001b[1;32m    387\u001b[0m                     \u001b[0;32myield\u001b[0m \u001b[0mseg\u001b[0m\u001b[0;34m\u001b[0m\u001b[0m\n\u001b[1;32m    388\u001b[0m                 \u001b[0;32mreturn\u001b[0m\u001b[0;34m\u001b[0m\u001b[0m\n",
      "\u001b[0;32mC:\\Users\\Hannah\\Anaconda2\\lib\\site-packages\\matplotlib\\axes\\_base.pyc\u001b[0m in \u001b[0;36m_plot_args\u001b[0;34m(self, tup, kwargs)\u001b[0m\n\u001b[1;32m    362\u001b[0m             \u001b[0mx\u001b[0m\u001b[0;34m,\u001b[0m \u001b[0my\u001b[0m \u001b[0;34m=\u001b[0m \u001b[0mindex_of\u001b[0m\u001b[0;34m(\u001b[0m\u001b[0mtup\u001b[0m\u001b[0;34m[\u001b[0m\u001b[0;34m-\u001b[0m\u001b[0;36m1\u001b[0m\u001b[0;34m]\u001b[0m\u001b[0;34m)\u001b[0m\u001b[0;34m\u001b[0m\u001b[0m\n\u001b[1;32m    363\u001b[0m \u001b[0;34m\u001b[0m\u001b[0m\n\u001b[0;32m--> 364\u001b[0;31m         \u001b[0mx\u001b[0m\u001b[0;34m,\u001b[0m \u001b[0my\u001b[0m \u001b[0;34m=\u001b[0m \u001b[0mself\u001b[0m\u001b[0;34m.\u001b[0m\u001b[0m_xy_from_xy\u001b[0m\u001b[0;34m(\u001b[0m\u001b[0mx\u001b[0m\u001b[0;34m,\u001b[0m \u001b[0my\u001b[0m\u001b[0;34m)\u001b[0m\u001b[0;34m\u001b[0m\u001b[0m\n\u001b[0m\u001b[1;32m    365\u001b[0m \u001b[0;34m\u001b[0m\u001b[0m\n\u001b[1;32m    366\u001b[0m         \u001b[0;32mif\u001b[0m \u001b[0mself\u001b[0m\u001b[0;34m.\u001b[0m\u001b[0mcommand\u001b[0m \u001b[0;34m==\u001b[0m \u001b[0;34m'plot'\u001b[0m\u001b[0;34m:\u001b[0m\u001b[0;34m\u001b[0m\u001b[0m\n",
      "\u001b[0;32mC:\\Users\\Hannah\\Anaconda2\\lib\\site-packages\\matplotlib\\axes\\_base.pyc\u001b[0m in \u001b[0;36m_xy_from_xy\u001b[0;34m(self, x, y)\u001b[0m\n\u001b[1;32m    221\u001b[0m         \u001b[0my\u001b[0m \u001b[0;34m=\u001b[0m \u001b[0m_check_1d\u001b[0m\u001b[0;34m(\u001b[0m\u001b[0my\u001b[0m\u001b[0;34m)\u001b[0m\u001b[0;34m\u001b[0m\u001b[0m\n\u001b[1;32m    222\u001b[0m         \u001b[0;32mif\u001b[0m \u001b[0mx\u001b[0m\u001b[0;34m.\u001b[0m\u001b[0mshape\u001b[0m\u001b[0;34m[\u001b[0m\u001b[0;36m0\u001b[0m\u001b[0;34m]\u001b[0m \u001b[0;34m!=\u001b[0m \u001b[0my\u001b[0m\u001b[0;34m.\u001b[0m\u001b[0mshape\u001b[0m\u001b[0;34m[\u001b[0m\u001b[0;36m0\u001b[0m\u001b[0;34m]\u001b[0m\u001b[0;34m:\u001b[0m\u001b[0;34m\u001b[0m\u001b[0m\n\u001b[0;32m--> 223\u001b[0;31m             \u001b[0;32mraise\u001b[0m \u001b[0mValueError\u001b[0m\u001b[0;34m(\u001b[0m\u001b[0;34m\"x and y must have same first dimension\"\u001b[0m\u001b[0;34m)\u001b[0m\u001b[0;34m\u001b[0m\u001b[0m\n\u001b[0m\u001b[1;32m    224\u001b[0m         \u001b[0;32mif\u001b[0m \u001b[0mx\u001b[0m\u001b[0;34m.\u001b[0m\u001b[0mndim\u001b[0m \u001b[0;34m>\u001b[0m \u001b[0;36m2\u001b[0m \u001b[0;32mor\u001b[0m \u001b[0my\u001b[0m\u001b[0;34m.\u001b[0m\u001b[0mndim\u001b[0m \u001b[0;34m>\u001b[0m \u001b[0;36m2\u001b[0m\u001b[0;34m:\u001b[0m\u001b[0;34m\u001b[0m\u001b[0m\n\u001b[1;32m    225\u001b[0m             \u001b[0;32mraise\u001b[0m \u001b[0mValueError\u001b[0m\u001b[0;34m(\u001b[0m\u001b[0;34m\"x and y can be no greater than 2-D\"\u001b[0m\u001b[0;34m)\u001b[0m\u001b[0;34m\u001b[0m\u001b[0m\n",
      "\u001b[0;31mValueError\u001b[0m: x and y must have same first dimension"
     ]
    }
   ],
   "source": [
    "# len(test_int)\n",
    "\n",
    "# fig, ax = plt.subplots()\n",
    "# ax.set_yscale('log')\n",
    "# ax.plot(all_mock_mass_means[0],test_int)\n",
    "# plt.show()"
   ]
  },
  {
   "cell_type": "code",
   "execution_count": 55,
   "metadata": {
    "collapsed": false
   },
   "outputs": [],
   "source": [
    "nrow = int(2)\n",
    "ncol = int(3)\n",
    "\n",
    "fig,axes = plt.subplots(nrows=nrow,ncols=ncol,\\\n",
    "                        figsize=(100,200),sharex=True)\n",
    "axes_flat = axes.flatten()\n",
    "\n",
    "zz = int(0)\n",
    "while zz <=4:\n",
    "    for jj in neigh_vals:\n",
    "        for kk in range(len(halo_frac)):\n",
    "            plot_halo_frac(bin_centers,halo_frac[kk][jj],axes_flat[zz],zz)\n",
    "        nn_str = '{0}'.format(jj)\n",
    "        plot_mean_halo_frac(bin_centers,mean_mock_halo_frac[nn_str][0],axes_flat[zz],mean_mock_halo_frac[nn_str][1])\n",
    "        zz += 1\n",
    "\n",
    "plt.subplots_adjust(top=0.97,bottom=0.1,left=0.03,right=0.99,hspace=0.10,wspace=0.12)           \n",
    "plt.show()            "
   ]
  }
 ],
 "metadata": {
  "kernelspec": {
   "display_name": "Python 2",
   "language": "python",
   "name": "python2"
  },
  "language_info": {
   "codemirror_mode": {
    "name": "ipython",
    "version": 2
   },
   "file_extension": ".py",
   "mimetype": "text/x-python",
   "name": "python",
   "nbconvert_exporter": "python",
   "pygments_lexer": "ipython2",
   "version": "2.7.11"
  }
 },
 "nbformat": 4,
 "nbformat_minor": 0
}
