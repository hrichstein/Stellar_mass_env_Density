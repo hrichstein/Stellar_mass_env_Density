{
 "cells": [
  {
   "cell_type": "markdown",
   "metadata": {},
   "source": [
    "The code for plotting bands and determining the vertical range to plot does not consider the different numbers of mass bins. It won't be able to create the proper matrices to find the min and max at each x value.    The one for the median distances should work... Would fix this bug now, but I have some Schechter functions to wrangle.\n",
    "    \n",
    "neigh_dict and nn_dict are the same thing. Need to combine/change variables at some point"
   ]
  },
  {
   "cell_type": "code",
   "execution_count": 251,
   "metadata": {
    "collapsed": true
   },
   "outputs": [],
   "source": [
    "from __future__ import division, absolute_import\n",
    "\n",
    "import astropy.stats\n",
    "import glob\n",
    "import math\n",
    "import matplotlib.pyplot as plt \n",
    "from matplotlib import ticker\n",
    "from matplotlib.ticker import FormatStrFormatter\n",
    "import numpy as np \n",
    "import os\n",
    "import pandas as pd\n",
    "from scipy import integrate,optimize,spatial"
   ]
  },
  {
   "cell_type": "code",
   "execution_count": 252,
   "metadata": {
    "collapsed": true
   },
   "outputs": [],
   "source": [
    "__author__     =['Victor Calderon']\n",
    "__copyright__  =[\"Copyright 2016 Victor Calderon, Index function\"]\n",
    "__email__      =['victor.calderon@vanderbilt.edu']\n",
    "__maintainer__ =['Victor Calderon']\n",
    "\n",
    "def Index(directory, datatype):\n",
    "    \"\"\"\n",
    "    Indexes the files in a directory `directory' with a\n",
    "    specific data type.\n",
    "\n",
    "    Parameters\n",
    "    ----------\n",
    "    directory: str\n",
    "            Absolute path to the folder that is indexed.\n",
    "\n",
    "    datatype: str\n",
    "            Data type of the files to be indexed in the folder.\n",
    "\n",
    "    Returns\n",
    "    -------\n",
    "    file_array: array_like \n",
    "            np.array of indexed files in the folder 'directory' \n",
    "            with specific datatype.\n",
    "\n",
    "    Examples\n",
    "    --------\n",
    "    >>> Index('~/data', '.txt')\n",
    "    >>> array(['A.txt', 'Z'.txt', ...])\n",
    "    \"\"\"\n",
    "    assert(os.path.exists(directory))\n",
    "    files = np.array(glob.glob('{0}/*{1}'.format(directory, datatype)))\n",
    "\n",
    "    return files"
   ]
  },
  {
   "cell_type": "code",
   "execution_count": 253,
   "metadata": {
    "collapsed": true
   },
   "outputs": [],
   "source": [
    "def myceil(x, base=10):\n",
    "    \"\"\"\n",
    "    Returns the upper-bound integer of 'x' in base 'base'.\n",
    "\n",
    "    Parameters\n",
    "    ----------\n",
    "    x: float\n",
    "        number to be approximated to closest number to 'base'\n",
    "\n",
    "    base: float\n",
    "        base used to calculate the closest 'largest' number\n",
    "\n",
    "    Returns\n",
    "    -------\n",
    "    n_high: float\n",
    "        Closest float number to 'x', i.e. upper-bound float.\n",
    "\n",
    "    Example\n",
    "    -------\n",
    "    >>>> myceil(12,10)\n",
    "      20\n",
    "    >>>>\n",
    "    >>>> myceil(12.05, 0.1)\n",
    "     12.10000 \n",
    "    \"\"\"\n",
    "    n_high = float(base*math.ceil(float(x)/base))\n",
    "\n",
    "    return n_high\n",
    "\n",
    "###############################################################################    \n",
    "\n",
    "def myfloor(x, base=10):\n",
    "    \"\"\"\n",
    "    Returns the lower-bound integer of 'x' in base 'base'\n",
    "\n",
    "    Parameters\n",
    "    ----------\n",
    "    x: float\n",
    "        number to be approximated to closest number of 'base'\n",
    "\n",
    "    base: float\n",
    "        base used to calculate the closest 'smallest' number\n",
    "\n",
    "    Returns\n",
    "    -------\n",
    "    n_low: float\n",
    "        Closest float number to 'x', i.e. lower-bound float.\n",
    "\n",
    "    Example\n",
    "    -------\n",
    "    >>>> myfloor(12, 5)\n",
    "    >>>> 10\n",
    "    \"\"\"\n",
    "    n_low = float(base*math.floor(float(x)/base))\n",
    "\n",
    "    return n_low\n",
    "\n",
    "###############################################################################\n",
    "\n",
    "def Bins_array_create(arr, base=10):\n",
    "    \"\"\"\n",
    "    Generates array between [arr.min(), arr.max()] in steps of `base`.\n",
    "\n",
    "    Parameters\n",
    "    ----------\n",
    "    arr: array_like, Shape (N,...), One-dimensional\n",
    "        Array of numerical elements\n",
    "\n",
    "    base: float, optional (default=10)\n",
    "        Interval between bins\n",
    "\n",
    "    Returns\n",
    "    -------\n",
    "    bins_arr: array_like\n",
    "        Array of bin edges for given arr\n",
    "\n",
    "    \"\"\"\n",
    "    base = float(base)\n",
    "    arr  = np.array(arr)\n",
    "    assert(arr.ndim==1)\n",
    "    arr_min  = myfloor(arr.min(), base=base)\n",
    "    arr_max  = myceil( arr.max(), base=base)\n",
    "    bins_arr = np.arange(arr_min, arr_max+0.5*base, base)\n",
    "\n",
    "    return bins_arr"
   ]
  },
  {
   "cell_type": "code",
   "execution_count": 254,
   "metadata": {
    "collapsed": true
   },
   "outputs": [],
   "source": [
    "def sph_to_cart(ra,dec,cz):\n",
    "    \"\"\"\n",
    "    Converts spherical coordinates to Cartesian coordinates.\n",
    "\n",
    "    Parameters\n",
    "    ----------\n",
    "    ra: array-like\n",
    "        right-ascension of galaxies in degrees\n",
    "    dec: array-like\n",
    "        declination of galaxies in degrees\n",
    "    cz: array-like\n",
    "        velocity of galaxies in km/s\n",
    "\n",
    "    Returns\n",
    "    -------\n",
    "    coords: array-like, shape = N by 3\n",
    "        x, y, and z coordinates\n",
    "    \"\"\"\n",
    "    cz_dist = cz/70. #converts velocity into distance\n",
    "    x_arr   = cz_dist*np.cos(np.radians(ra))*np.cos(np.radians(dec))\n",
    "    y_arr   = cz_dist*np.sin(np.radians(ra))*np.cos(np.radians(dec))\n",
    "    z_arr   = cz_dist*np.sin(np.radians(dec))\n",
    "    coords  = np.column_stack((x_arr,y_arr,z_arr))\n",
    "\n",
    "    return coords\n",
    "\n",
    "############################################################################\n",
    "\n",
    "def calc_dens(n_val,r_val):\n",
    "    \"\"\"\n",
    "    Returns densities of spheres with radius being the distance to the \n",
    "        nth nearest neighbor.\n",
    "\n",
    "    Parameters\n",
    "    ----------\n",
    "    n_val = integer\n",
    "        The 'N' from Nth nearest neighbor\n",
    "    r_val = array-like\n",
    "        An array with the distances to the Nth nearest neighbor for\n",
    "        each galaxy\n",
    "\n",
    "    Returns\n",
    "    -------\n",
    "    dens: array-like\n",
    "        An array with the densities of the spheres created with radii\n",
    "        to the Nth nearest neighbor.\n",
    "    \"\"\"\n",
    "    dens = np.array([(3.*(n_val+1)/(4.*np.pi*r_val[hh]**3)) \\\n",
    "                     for hh in range(len(r_val))])\n",
    "\n",
    "    return dens"
   ]
  },
  {
   "cell_type": "code",
   "execution_count": 255,
   "metadata": {
    "collapsed": true
   },
   "outputs": [],
   "source": [
    "def plot_calcs(mass,bins,dlogM):\n",
    "    \"\"\"\n",
    "    Returns values for plotting the stellar mass function and \n",
    "        mass ratios\n",
    "\n",
    "    Parameters\n",
    "    ----------\n",
    "    mass: array-like\n",
    "        A 1D array with mass values, assumed to be in order\n",
    "    bins: array=like\n",
    "        A 1D array with the values which will be used as the bin edges\n",
    "        by the histogram function\n",
    "    dlogM: float-like\n",
    "        The log difference between bin edges\n",
    "\n",
    "    Returns\n",
    "    -------\n",
    "    bin_centers: array-like\n",
    "        An array with the medians mass values of the mass bins\n",
    "    mass-freq: array-like\n",
    "        Contains the number density values of each mass bin\n",
    "    ratio_dict: dictionary-like\n",
    "        A dictionary with three keys, corresponding to the divisors\n",
    "        2,4, and 10 (as the percentile cuts are based on these \n",
    "        divisions). Each key has the density-cut, mass ratios for\n",
    "        that specific cut (50/50 for 2; 25/75 for 4; 10/90 for 10).\n",
    "    \"\"\"\n",
    "\n",
    "    mass_counts, edges = np.histogram(mass,bins)\n",
    "    bin_centers        = 0.5*(edges[:-1]+edges[1:])\n",
    "\n",
    "    mass_freq  = mass_counts/float(len(mass))/dlogM\n",
    "    \n",
    "#     non_zero   = (mass_freq!=0)\n",
    "\n",
    "    ratio_dict = {}\n",
    "    frac_val   = [2,4,10]\n",
    "\n",
    "    yerr = []\n",
    "    bin_centers_fin = []\n",
    "\n",
    "    for ii in frac_val:\n",
    "        ratio_dict[ii] = {}\n",
    "        frac_data      = int(len(mass)/ii)\n",
    "        \n",
    "        # Calculations for the lower density cut\n",
    "        frac_mass      = mass[0:frac_data]\n",
    "        counts, edges  = np.histogram(frac_mass,bins)\n",
    "\n",
    "        # Calculations for the higher density cut\n",
    "        frac_mass_2       = mass[-frac_data:]\n",
    "        counts_2, edges_2 = np.histogram(frac_mass_2,bins)\n",
    "\n",
    "        # Ratio determination\n",
    "        ratio_counts   = (1.*counts_2)/(1.*counts)\n",
    "        \n",
    "        non_zero = np.isfinite(ratio_counts)\n",
    "\n",
    "        ratio_counts_1 = ratio_counts[non_zero]\n",
    "        \n",
    "#         print 'len ratio_counts: {0}'.format(len(ratio_counts_1))\n",
    "        \n",
    "        ratio_dict[ii] = ratio_counts_1\n",
    "        \n",
    "        temp_yerr = (counts_2*1.)/(counts*1.)*\\\n",
    "            np.sqrt(1./counts + 1./counts_2)\n",
    "            \n",
    "        temp_yerr_1 = temp_yerr[non_zero]\n",
    "        \n",
    "#         print 'len yerr: {0}'.format(len(temp_yerr_1))\n",
    "\n",
    "        yerr.append(temp_yerr_1)\n",
    "        \n",
    "        bin_centers_1 = bin_centers[non_zero]\n",
    "        \n",
    "#         print 'len bin_cens: {0}'.format(len(bin_centers_1))\n",
    "        \n",
    "        bin_centers_fin.append(bin_centers_1)\n",
    "        \n",
    "\n",
    "    mass_freq_list     = [[] for xx in xrange(2)]\n",
    "    mass_freq_list[0]  = mass_freq\n",
    "    mass_freq_list[1]  = np.sqrt(mass_counts)/float(len(mass))/dlogM\n",
    "    mass_freq          = np.array(mass_freq_list)\n",
    "\n",
    "    ratio_dict_list    = [[] for xx in range(2)]\n",
    "    ratio_dict_list[0] = ratio_dict\n",
    "    ratio_dict_list[1] = yerr\n",
    "    ratio_dict         = ratio_dict_list\n",
    "\n",
    "    return bin_centers, mass_freq, ratio_dict, bin_centers_fin"
   ]
  },
  {
   "cell_type": "code",
   "execution_count": 366,
   "metadata": {
    "collapsed": false
   },
   "outputs": [],
   "source": [
    "def bin_func(mass_dist,bins,kk,bootstrap=False):\n",
    "    \"\"\"\n",
    "    Returns median distance to Nth nearest neighbor\n",
    "\n",
    "    Parameters\n",
    "    ----------\n",
    "    mass_dist: array-like\n",
    "        An array with mass values in at index 0 (when transformed) and distance \n",
    "        to the Nth nearest neighbor in the others\n",
    "        Example: 6239 by 7\n",
    "            Has mass values and distances to 6 Nth nearest neighbors  \n",
    "    bins: array=like\n",
    "        A 1D array with the values which will be used as the bin edges     \n",
    "    kk: integer-like\n",
    "        The index of mass_dist (transformed) where the appropriate distance \n",
    "        array may be found\n",
    "\n",
    "    Optional\n",
    "    --------\n",
    "    bootstrap == True\n",
    "        Calculates the bootstrap errors associated with each median distance \n",
    "        value. Creates an array housing arrays containing the actual distance \n",
    "        values associated with every galaxy in a specific bin. Bootstrap error\n",
    "        is then performed using astropy, and upper and lower one sigma values \n",
    "        are found for each median value.  These are added to a list with the \n",
    "        median distances, and then converted to an array and returned in place \n",
    "        of just 'medians.'\n",
    "\n",
    "    Returns\n",
    "    -------\n",
    "    medians: array-like\n",
    "        An array with the median distance to the Nth nearest neighbor from \n",
    "        all the galaxies in each of the bins\n",
    "    \"\"\"\n",
    "    \n",
    "    edges        = bins\n",
    "    bin_centers  = 0.5*(edges[:-1]+edges[1:])\n",
    "\n",
    "    # print 'length bins:'\n",
    "    # print len(bins)\n",
    "\n",
    "    digitized    = np.digitize(mass_dist.T[0],edges)\n",
    "    digitized   -= int(1)\n",
    "\n",
    "    bin_nums          = np.unique(digitized)\n",
    "    \n",
    "    bin_nums_list = list(bin_nums)\n",
    "\n",
    "    if (len(bin_centers)) in bin_nums_list:\n",
    "        bin_nums_list.remove(len(bin_centers))\n",
    "        \n",
    "    bin_nums = np.array(bin_nums_list)\n",
    "    \n",
    "#     print bin_nums\n",
    "\n",
    "    non_zero_bins = []\n",
    "    for ii in bin_nums:\n",
    "        if (len(mass_dist.T[kk][digitized==ii]) != 0):\n",
    "            non_zero_bins.append(bin_centers[ii])\n",
    "#     print len(non_zero_bins)\n",
    "    \n",
    "    for ii in bin_nums:\n",
    "\n",
    "        if len(mass_dist.T[kk][digitized==ii]) == 0:\n",
    "#             temp_list = list(mass_dist.T[kk]\\\n",
    "#                                              [digitized==ii])\n",
    "#             temp_list.append(np.nan)\n",
    "            mass_dist.T[kk][digitized==ii] = np.nan\n",
    "\n",
    "    # print bin_nums\n",
    "    # print len(bin_nums)\n",
    "    \n",
    "    medians  = np.array([np.nanmedian(mass_dist.T[kk][digitized==ii]) \\\n",
    "                for ii in bin_nums])\n",
    "\n",
    "    # print len(medians)\n",
    "\n",
    "    if bootstrap == True:\n",
    "        dist_in_bin    = np.array([(mass_dist.T[kk][digitized==ii]) \\\n",
    "                for ii in bin_nums])\n",
    "        for vv in range(len(dist_in_bin)):\n",
    "            if len(dist_in_bin[vv]) == 0:\n",
    "#                 dist_in_bin_list = list(dist_in_bin[vv])\n",
    "#                 dist_in_bin[vv] = np.zeros(len(dist_in_bin[0]))\n",
    "                dist_in_bin[vv] = np.nan\n",
    "        low_err_test   = np.array([np.percentile(astropy.stats.bootstrap\\\n",
    "                        (dist_in_bin[vv],bootnum=1000,bootfunc=np.median),16) \\\n",
    "                        for vv in range(len(dist_in_bin))])\n",
    "        high_err_test  = np.array([np.percentile(astropy.stats.bootstrap\\\n",
    "                        (dist_in_bin[vv],bootnum=1000,bootfunc=np.median),84) \\\n",
    "                        for vv in range(len(dist_in_bin))])\n",
    "\n",
    "        med_list    = [[] for yy in range(3)]\n",
    "        med_list[0] = medians\n",
    "        med_list[1] = low_err_test\n",
    "        med_list[2] = high_err_test\n",
    "        medians     = np.array(med_list)\n",
    "        \n",
    "#     print len(medians)\n",
    "#     print len(non_zero_bins)\n",
    "\n",
    "    return medians, np.array(non_zero_bins)\n",
    "    "
   ]
  },
  {
   "cell_type": "code",
   "execution_count": 257,
   "metadata": {
    "collapsed": true
   },
   "outputs": [],
   "source": [
    "def hist_calcs(mass,bins,dlogM):\n",
    "    \"\"\"\n",
    "    Returns dictionaries with the counts for the upper\n",
    "        and lower density portions; calculates the \n",
    "        three different percentile cuts for each mass\n",
    "        array given\n",
    "    \n",
    "    Parameters\n",
    "    ----------\n",
    "    mass: array-like\n",
    "        A 1D array with log stellar mass values, assumed\n",
    "        to be an order which corresponds to the ascending \n",
    "        densities; (necessary, as the index cuts are based \n",
    "        on this)\n",
    "    bins: array-like\n",
    "        A 1D array with the values which will be used as the bin edges   \n",
    "    dlogM: float-like\n",
    "        The log difference between bin edges\n",
    "        \n",
    "    Returns\n",
    "    -------\n",
    "    hist_dict_low: dictionary-like\n",
    "        A dictionary with three keys (the frac vals), with arrays\n",
    "        as values. The values for the lower density cut\n",
    "    hist_dict_high: dictionary like\n",
    "        A dictionary with three keys (the frac vals), with arrays\n",
    "        as values. The values for the higher density cut\n",
    "    \"\"\"\n",
    "    hist_dict_low  = {}\n",
    "    hist_dict_high = {}\n",
    "    bin_cens_low   = {}\n",
    "    bin_cens_high  = {}\n",
    "    frac_val  = np.array([2,4,10])\n",
    "    frac_dict = {2:0,4:1,10:2}\n",
    "    \n",
    "    edges = bins\n",
    "    \n",
    "    bin_centers = 0.5 * (edges[:-1]+edges[1:])\n",
    "    \n",
    "    low_err   = [[] for xx in xrange(len(frac_val))]\n",
    "    high_err  = [[] for xx in xrange(len(frac_val))]\n",
    "    \n",
    "    for ii in frac_val:\n",
    "#         hist_dict_low[ii]  = {}\n",
    "#         hist_dict_high[ii] = {}\n",
    "    \n",
    "        frac_data     = int(len(mass)/ii)\n",
    "        \n",
    "        frac_mass     = mass[0:frac_data]\n",
    "        counts, edges = np.histogram(frac_mass,bins)\n",
    "        low_counts    = (counts/float(len(frac_mass))/dlogM)\n",
    "        \n",
    "        non_zero = (low_counts!=0)\n",
    "        low_counts_1 = low_counts[non_zero]\n",
    "        hist_dict_low[ii]  = low_counts_1\n",
    "        bin_cens_low[ii]   = bin_centers[non_zero]\n",
    "        \n",
    "        ##So... I don't actually know if I need to be calculating error\n",
    "        ##on the mocks. I thought I didn't, but then, I swear someone\n",
    "        ##*ahem (Victor)* said to. So I am. Guess I'm not sure they're\n",
    "        ##useful. But I'll have them if necessary. And ECO at least\n",
    "        ##needs them.\n",
    "        \n",
    "        low_err = np.sqrt(counts)/len(frac_mass)/dlogM\n",
    "        low_err_1 = low_err[non_zero]\n",
    "        err_key = 'err_{0}'.format(ii)\n",
    "        hist_dict_low[err_key] = low_err_1\n",
    "        \n",
    "        frac_mass_2        = mass[-frac_data:]\n",
    "        counts_2, edges_2  = np.histogram(frac_mass_2,bins)\n",
    "        high_counts        = (counts_2/float(len(frac_mass_2))/dlogM)\n",
    "        \n",
    "        non_zero = (high_counts!=0)\n",
    "        high_counts_1 = high_counts[non_zero]\n",
    "        hist_dict_high[ii] = high_counts_1\n",
    "        bin_cens_high[ii]  = bin_centers[non_zero]\n",
    "        \n",
    "        high_err = np.sqrt(counts_2)/len(frac_mass_2)/dlogM\n",
    "        high_err_1 = high_err[non_zero]\n",
    "        hist_dict_high[err_key] = high_err_1\n",
    "    \n",
    "    return hist_dict_low, hist_dict_high, bin_cens_low, bin_cens_high"
   ]
  },
  {
   "cell_type": "code",
   "execution_count": 258,
   "metadata": {
    "collapsed": false
   },
   "outputs": [],
   "source": [
    "def mean_bin_mass(mass_dist,bins,kk):\n",
    "    \"\"\"\n",
    "    Returns mean mass of galaxies in each bin\n",
    "\n",
    "    Parameters\n",
    "    ----------\n",
    "    mass_dist: array-like\n",
    "        An array with mass values in at index 0 (when transformed) \n",
    "    bins: array=like\n",
    "        A 1D array with the values which will be used as the bin edges     \n",
    "\n",
    "    Returns\n",
    "    -------\n",
    "\n",
    "    \"\"\"\n",
    "    edges        = bins\n",
    "\n",
    "    digitized    = np.digitize(mass_dist.T[0],edges)\n",
    "    digitized   -= int(1)\n",
    "    \n",
    "    bin_nums          = np.unique(digitized)\n",
    "    \n",
    "    for ii in bin_nums:\n",
    "        if len(mass_dist.T[kk][digitized==ii]) == 0:\n",
    "            mass_dist.T[kk][digitized==ii] = np.nan\n",
    "\n",
    "\n",
    "\n",
    "    mean_mass = np.array([np.nanmean(mass_dist.T[0][digitized==ii]) \\\n",
    "                for ii in bin_nums])\n",
    "\n",
    "    return mean_mass \n",
    "\n",
    "###note, this should use the same bin_centers as provided by the \n",
    "#median from bin_func"
   ]
  },
  {
   "cell_type": "code",
   "execution_count": 406,
   "metadata": {
    "collapsed": false
   },
   "outputs": [
    {
     "data": {
      "text/plain": [
       "array([ 9.37,  9.65,  9.49, ...,  9.11,  9.71,  9.23])"
      ]
     },
     "execution_count": 406,
     "metadata": {},
     "output_type": "execute_result"
    }
   ],
   "source": [
    "eco_mass_dist.T[0]"
   ]
  },
  {
   "cell_type": "code",
   "execution_count": 259,
   "metadata": {
    "collapsed": true
   },
   "outputs": [],
   "source": [
    "# dirpath  = r\"C:\\Users\\Hannah\\Desktop\\Vanderbilt_REU\\Stellar_mass_env_density\"\n",
    "# dirpath += r\"\\Catalogs\\Resolve_plk_5001_so_mvir_scatter_ECO_Mocks_\"\n",
    "# dirpath += r\"scatter_mocks\\Resolve_plk_5001_so_mvir_scatter0p1_ECO_Mocks\"\n",
    "\n",
    "dirpath  = r\"C:\\Users\\Hannah\\Desktop\\Vanderbilt_REU\\Stellar_mass_env_Density\\Catalogs\"\n",
    "dirpath += r\"\\Mocks_Scatter_Abundance_Matching\\Resolve_plk_5001_so_mvir_scatter0p3_ECO_Mocks\"\n",
    "\n",
    "\n",
    "usecols  = (0,1,4,8,13)\n",
    "dlogM    = 0.2\n",
    "neigh_dict = {1:0,2:1,3:2,5:3,10:4,20:5}"
   ]
  },
  {
   "cell_type": "code",
   "execution_count": 260,
   "metadata": {
    "collapsed": false
   },
   "outputs": [
    {
     "data": {
      "text/plain": [
       "[None, None, None, None, None, None, None, None]"
      ]
     },
     "execution_count": 260,
     "metadata": {},
     "output_type": "execute_result"
    }
   ],
   "source": [
    "ECO_cats = (Index(dirpath,'.dat'))\n",
    "\n",
    "names    = ['ra','dec','Halo_ID','cz','logMstar']\n",
    "\n",
    "PD = [[] for ii in range(len(ECO_cats))]\n",
    "\n",
    "for ii in range(len(ECO_cats)):\n",
    "    temp_PD = (pd.read_csv(ECO_cats[ii],sep=\"\\s+\", usecols= usecols,header=None,\\\n",
    "                   skiprows=2,names=names))\n",
    "    col_list = list(temp_PD)\n",
    "    col_list[2], col_list[3], col_list[4] = col_list[3], col_list[4], col_list[2]\n",
    "    temp_PD.ix[:,col_list]\n",
    "    PD[ii] = temp_PD\n",
    "\n",
    "PD_comp_1  = [(PD[ii][PD[ii].logMstar >= 9.1]) for ii in range(len(ECO_cats))]\n",
    "PD_comp  = [(PD_comp_1[ii][PD_comp_1[ii].logMstar <=11.77]) for ii in range(len(ECO_cats))]\n",
    "\n",
    "[(PD_comp[ii].reset_index(drop=True,inplace=True)) for ii in range(len(ECO_cats))]"
   ]
  },
  {
   "cell_type": "code",
   "execution_count": 261,
   "metadata": {
    "collapsed": false
   },
   "outputs": [
    {
     "name": "stdout",
     "output_type": "stream",
     "text": [
      "9\n",
      "9\n",
      "9\n",
      "12\n",
      "24\n",
      "7\n",
      "6\n",
      "10\n"
     ]
    }
   ],
   "source": [
    "for ii in range(len(ECO_cats)):\n",
    "    print len(PD_comp[ii][PD_comp[ii].logMstar >=11.5])\n",
    "# for ii in range(len(ECO_cats)):\n",
    "#     print PD_comp[ii]\n"
   ]
  },
  {
   "cell_type": "code",
   "execution_count": 262,
   "metadata": {
    "collapsed": false
   },
   "outputs": [],
   "source": [
    "min_max_mass_arr = []\n",
    "\n",
    "for ii in range(len(PD_comp)):\n",
    "    min_max_mass_arr.append(max(PD_comp[ii].logMstar))\n",
    "    min_max_mass_arr.append(min(PD_comp[ii].logMstar))\n",
    "\n",
    "min_max_mass_arr = np.array(min_max_mass_arr)\n",
    "\n",
    "bins = Bins_array_create(min_max_mass_arr,dlogM)\n",
    "bins+= 0.1\n",
    "bins_list = list(bins)\n",
    "for ii in bins:\n",
    "    if ii > 11.77:\n",
    "        bins_list.remove(ii)\n",
    "\n",
    "bins = np.array(bins_list)\n",
    "\n",
    "num_of_bins = int(len(bins) - 1) \n",
    "\n",
    "ra_arr  = np.array([(PD_comp[ii].ra) \\\n",
    "    for ii in range(len(PD_comp))])\n",
    "\n",
    "dec_arr  = np.array([(PD_comp[ii].dec) \\\n",
    "    for ii in range(len(PD_comp))])\n",
    "\n",
    "cz_arr  = np.array([(PD_comp[ii].cz) \\\n",
    "    for ii in range(len(PD_comp))])\n",
    "\n",
    "mass_arr  = np.array([(PD_comp[ii].logMstar) \\\n",
    "    for ii in range(len(PD_comp))])\n",
    "\n",
    "halo_id_arr  = np.array([(PD_comp[ii].Halo_ID) \\\n",
    "    for ii in range(len(PD_comp))])\n",
    "\n",
    "\n",
    "coords_test = np.array([sph_to_cart(ra_arr[vv],dec_arr[vv],cz_arr[vv]) \\\n",
    "                for vv in range(len(ECO_cats))])\n",
    "\n",
    "neigh_vals  = np.array([1,2,3,5,10,20])\n",
    "\n",
    "nn_arr_temp = [[] for uu in xrange(len(coords_test))]\n",
    "nn_arr      = [[] for xx in xrange(len(coords_test))]\n",
    "nn_arr_nn   = [[] for yy in xrange(len(neigh_vals))]\n",
    "nn_idx      = [[] for zz in xrange(len(coords_test))]\n",
    "\n",
    "for vv in range(len(coords_test)):\n",
    "    nn_arr_temp[vv] = spatial.cKDTree(coords_test[vv])\n",
    "    nn_arr[vv] = np.array(nn_arr_temp[vv].query(coords_test[vv],21)[0])\n",
    "    nn_idx[vv] = np.array(nn_arr_temp[vv].query(coords_test[vv],21)[1])\n",
    "    \n",
    "\n",
    "nn_specs       = [(np.array(nn_arr).T[ii].T[neigh_vals].T) for ii in \\\n",
    "                    range(len(coords_test))]\n",
    "nn_mass_dist   = np.array([(np.column_stack((mass_arr[qq],nn_specs[qq]))) \\\n",
    "                    for qq in range(len(coords_test))])\n",
    "\n",
    "nn_neigh_idx      = np.array([(np.array(nn_idx).T[ii].T[neigh_vals].T) for ii in \\\n",
    "                    range(len(coords_test))])"
   ]
  },
  {
   "cell_type": "code",
   "execution_count": 263,
   "metadata": {
    "collapsed": false
   },
   "outputs": [
    {
     "data": {
      "text/plain": [
       "array([  9.1,   9.3,   9.5,   9.7,   9.9,  10.1,  10.3,  10.5,  10.7,\n",
       "        10.9,  11.1,  11.3,  11.5,  11.7])"
      ]
     },
     "execution_count": 263,
     "metadata": {},
     "output_type": "execute_result"
    }
   ],
   "source": [
    "bins"
   ]
  },
  {
   "cell_type": "code",
   "execution_count": 264,
   "metadata": {
    "collapsed": false
   },
   "outputs": [],
   "source": [
    "# truth_vals[ii] = {}\n",
    "# for kk in range(10):\n",
    "#     truth_list.append(np.unique(halo_id_arr[ii][nn_neigh_idx[ii].T[neigh_dict[jj]]\\\n",
    "#                                   [halo_id_arr[ii][nn_neigh_idx[ii].T[neigh_dict[jj]]].keys()[kk]]])==halo_id_arr[ii][kk])\n",
    "#     truth_vals[ii][jj] = truth_list\n",
    "\n",
    "truth_vals = {}\n",
    "for ii in range(len(halo_id_arr)):\n",
    "    truth_vals[ii] = {}\n",
    "    for jj in neigh_vals:\n",
    "        halo_id_neigh = halo_id_arr[ii][nn_neigh_idx[ii].T[neigh_dict[jj]]].values\n",
    "        truth_vals[ii][jj] = halo_id_neigh==halo_id_arr[ii].values"
   ]
  },
  {
   "cell_type": "code",
   "execution_count": 265,
   "metadata": {
    "collapsed": false
   },
   "outputs": [],
   "source": [
    "halo_frac = {}\n",
    "for ii in range(len(mass_arr)):\n",
    "    halo_frac[ii] = {}\n",
    "    mass_binning = np.digitize(mass_arr[ii],bins)\n",
    "    bins_to_use = list(np.unique(mass_binning))\n",
    "    if (len(bins)-1) not in bins_to_use:\n",
    "        bins_to_use.append(len(bins)-1)\n",
    "    if len(bins) in bins_to_use:\n",
    "        bins_to_use.remove(len(bins))\n",
    "    for jj in neigh_vals:\n",
    "        one_zero = truth_vals[ii][jj].astype(int)\n",
    "        frac = []\n",
    "        for xx in bins_to_use:\n",
    "            truth_binning = one_zero[mass_binning==xx]\n",
    "            num_in_bin = len(truth_binning)\n",
    "            if num_in_bin == 0:\n",
    "                num_in_bin = np.nan\n",
    "            num_same_halo = np.count_nonzero(truth_binning==1)\n",
    "            frac.append(num_same_halo/(1.*num_in_bin))\n",
    "        halo_frac[ii][jj] = frac"
   ]
  },
  {
   "cell_type": "code",
   "execution_count": 266,
   "metadata": {
    "collapsed": false
   },
   "outputs": [],
   "source": [
    "nn_dict   = {1:0,2:1,3:2,5:3,10:4,20:5}\n",
    "\n",
    "mean_mock_halo_frac = {}\n",
    "\n",
    "for ii in neigh_vals:\n",
    "    for jj in range(len(halo_frac)):\n",
    "        bin_str = '{0}'.format(ii)\n",
    "        oo_arr = halo_frac[jj][ii]\n",
    "        n_o_elem = len(oo_arr)\n",
    "        if jj == 0:\n",
    "            oo_tot = np.zeros((n_o_elem,1))\n",
    "        oo_tot = np.insert(oo_tot,len(oo_tot.T),oo_arr,1)\n",
    "    oo_tot = np.array(np.delete(oo_tot,0,axis=1))\n",
    "    oo_tot_mean = [np.nanmean(oo_tot[uu]) for uu in xrange(len(oo_tot))]\n",
    "    oo_tot_std  = [np.nanstd(oo_tot[uu])/np.sqrt(len(halo_frac)) for uu in xrange(len(oo_tot))]\n",
    "    mean_mock_halo_frac[bin_str] = [oo_tot_mean,oo_tot_std]\n",
    "\n",
    "    \n"
   ]
  },
  {
   "cell_type": "code",
   "execution_count": 267,
   "metadata": {
    "collapsed": false
   },
   "outputs": [],
   "source": [
    "# (mean_mock_halo_frac['1'])"
   ]
  },
  {
   "cell_type": "code",
   "execution_count": 268,
   "metadata": {
    "collapsed": true
   },
   "outputs": [],
   "source": [
    "def plot_halo_frac(bin_centers,y_vals,ax,plot_idx):\n",
    "    titles = [1,2,3,5,10,20]\n",
    "    ax.set_xlim(9.1,11.9)\n",
    "    ax.set_xticks(np.arange(9.5,12.,0.5)) \n",
    "    ax.tick_params(axis='x', which='major', labelsize=16)\n",
    "    title_here = 'n = {0}'.format(titles[plot_idx])\n",
    "    ax.text(0.05, 0.95, title_here,horizontalalignment='left',\\\n",
    "            verticalalignment='top',transform=ax.transAxes,fontsize=18)\n",
    "    if plot_idx == 4:\n",
    "        ax.set_xlabel('$\\log\\ (M_{*}/M_{\\odot})$',fontsize=20)\n",
    "    ax.plot(bin_centers,y_vals,color='silver')\n",
    "    \n",
    "def plot_mean_halo_frac(bin_centers,mean_vals,ax,std):\n",
    "    ax.errorbar(bin_centers,mean_vals,yerr=std,color='deeppink')\n"
   ]
  },
  {
   "cell_type": "code",
   "execution_count": 269,
   "metadata": {
    "collapsed": false
   },
   "outputs": [
    {
     "name": "stdout",
     "output_type": "stream",
     "text": [
      "1052\n",
      "6438\n",
      "217\n"
     ]
    }
   ],
   "source": [
    "mass_bin_test = np.digitize(mass_arr[0],bins)\n",
    "one_zero_test = truth_vals[0][1].astype(int)\n",
    "\n",
    "test_arr_ones = one_zero_test[mass_bin_test==1]\n",
    "\n",
    "print len(test_arr_ones)\n",
    "print len(mass_bin_test)\n",
    "\n",
    "print np.count_nonzero(test_arr_ones==1)"
   ]
  },
  {
   "cell_type": "code",
   "execution_count": 342,
   "metadata": {
    "collapsed": false
   },
   "outputs": [],
   "source": [
    "# nn_dist    = {}\n",
    "nn_dens    = {}\n",
    "mass_dat   = {}\n",
    "ratio_info = {}\n",
    "bin_cens_diff = {}\n",
    "\n",
    "mass_freq  = [[] for xx in xrange(len(coords_test))]\n",
    "\n",
    "for ii in range(len(coords_test)):\n",
    "#     nn_dist[ii]    = {}\n",
    "    nn_dens[ii]    = {}\n",
    "    mass_dat[ii]   = {}\n",
    "    ratio_info[ii] = {}\n",
    "    bin_cens_diff[ii] = {}\n",
    "\n",
    "#     nn_dist[ii]['mass'] = nn_mass_dist[ii].T[0]\n",
    "\n",
    "    for jj in range(len(neigh_vals)):\n",
    "#         nn_dist[ii][(neigh_vals[jj])]  = np.array(nn_mass_dist[ii].T\\\n",
    "#                                             [range(1,len(neigh_vals)+1)[jj]])\n",
    "        nn_dens[ii][(neigh_vals[jj])]  = np.column_stack((nn_mass_dist[ii].T\\\n",
    "                                            [0],calc_dens(neigh_vals[jj],\\\n",
    "                                            nn_mass_dist[ii].T[range(1,len\\\n",
    "                                                (neigh_vals)+1)[jj]])))\n",
    "\n",
    "        idx = np.array([nn_dens[ii][neigh_vals[jj]].T[1].argsort()])\n",
    "        mass_dat[ii][(neigh_vals[jj])] = (nn_dens[ii][neigh_vals[jj]]\\\n",
    "                                            [idx].T[0])\n",
    "\n",
    "        bin_centers, mass_freq[ii], ratio_info[ii][neigh_vals[jj]],bin_cens_diff[ii][neigh_vals[jj]] = \\\n",
    "                            plot_calcs(mass_dat[ii][neigh_vals[jj]],bins,dlogM)\n",
    "\n",
    "all_mock_meds = {}\n",
    "mock_meds_bins = {}\n",
    "all_mock_mass_means = {}\n",
    "\n",
    "for vv in range(len(nn_mass_dist)):\n",
    "    all_mock_meds[vv] = {}\n",
    "    mock_meds_bins[vv]= {}\n",
    "    all_mock_mass_means[vv] = {}\n",
    "    for jj in range(len(nn_mass_dist[vv].T)-1):\n",
    "        all_mock_meds[vv][neigh_vals[jj]],mock_meds_bins[vv][neigh_vals[jj]] = (bin_func(nn_mass_dist[vv],bins,(jj+1)))\n",
    "        all_mock_mass_means[vv][neigh_vals[jj]] = (mean_bin_mass(nn_mass_dist[vv],bins,(jj+1))) "
   ]
  },
  {
   "cell_type": "code",
   "execution_count": 358,
   "metadata": {
    "collapsed": false
   },
   "outputs": [],
   "source": [
    "med_plot_arr = {}\n",
    "\n",
    "for ii in range(len(neigh_vals)):\n",
    "    med_plot_arr[neigh_vals[ii]] = {}\n",
    "    for jj in range(len(nn_mass_dist)):\n",
    "        med_plot_arr[neigh_vals[ii]][jj] = all_mock_meds[jj][neigh_vals[ii]]    \n",
    "\n",
    "# for ii in range(len(neigh_vals)):\n",
    "#     for jj in range(len(nn_mass_dist)):\n",
    "#         print len(all_mock_meds[jj][ii])\n",
    "\n",
    "mass_freq_plot  = (np.array(mass_freq))\n",
    "max_lim = [[] for xx in range(len(mass_freq_plot.T))]\n",
    "min_lim = [[] for xx in range(len(mass_freq_plot.T))]\n",
    "for jj in range(len(mass_freq_plot.T)):\n",
    "    max_lim[jj] = max(mass_freq_plot.T[jj][0])\n",
    "    min_lim[jj] = min(mass_freq_plot.T[jj][0])"
   ]
  },
  {
   "cell_type": "code",
   "execution_count": 274,
   "metadata": {
    "collapsed": false
   },
   "outputs": [],
   "source": [
    "# haloid_neigh = halo_id_arr[ii][nn_neigh_idx[ii].T[neigh_dict[jj]]].values\n",
    "# B = haloid_neigh == halo_id_arr[ii].values\n",
    "# print(B)\n",
    "# print(haloid_neigh)\n",
    "# print(halo_id_arr[ii].values)"
   ]
  },
  {
   "cell_type": "code",
   "execution_count": 278,
   "metadata": {
    "collapsed": false
   },
   "outputs": [
    {
     "name": "stdout",
     "output_type": "stream",
     "text": [
      "13\n",
      "13\n",
      "13\n",
      "13\n",
      "13\n",
      "13\n",
      "13\n",
      "13\n"
     ]
    }
   ],
   "source": [
    "# for ii in range(len(neigh_vals)):\n",
    "for jj in range(len(nn_mass_dist)):\n",
    "    print len(all_mock_meds[jj])"
   ]
  },
  {
   "cell_type": "code",
   "execution_count": 279,
   "metadata": {
    "collapsed": false
   },
   "outputs": [
    {
     "name": "stdout",
     "output_type": "stream",
     "text": [
      "[array([ 6.26569471,  6.24965134,  6.07319606,  6.19346353,  6.20446401,\n",
      "        6.07430155,  5.9270275 ,  6.08499683,  5.72830407,  5.21042752,\n",
      "        4.83366964,  4.99760239,  3.49344021]), array([ 6.71794719,  6.79618226,  6.41537924,  6.5564611 ,  6.68719785,\n",
      "        6.48234149,  6.52114849,  6.14095675,  5.41170317,  6.0014924 ,\n",
      "        5.41193825,  5.52115575,  4.01493564]), array([ 5.9474175 ,  5.9581926 ,  6.21834399,  5.98869011,  6.0872101 ,\n",
      "        6.19028513,  6.03525196,  5.7168246 ,  5.47383497,  5.22139399,\n",
      "        4.22517576,  5.1608911 ,  3.72720344]), array([ 5.32603467,  5.29966481,  5.32493191,  5.37213674,  5.33943798,\n",
      "        5.29309786,  5.09717599,  4.93409825,  4.89723663,  4.60853626,\n",
      "        4.53946647,  3.96629358,  3.50774445]), array([ 4.47825117,  4.38534494,  4.4632355 ,  4.53947356,  4.35728087,\n",
      "        4.42425787,  4.50518286,  4.35444041,  4.17402261,  4.02805828,\n",
      "        3.77372985,  3.30955029,  3.02924792]), array([ 5.48125549,  5.32593161,  5.52563852,  5.48070911,  5.3360458 ,\n",
      "        5.37182778,  5.2999896 ,  5.22081307,  4.82524237,  4.90870137,\n",
      "        4.31365323,  3.12532438,  2.95440696]), array([ 5.99234158,  6.15653197,  5.8965705 ,  6.04404129,  5.99150486,\n",
      "        5.88667322,  5.99959426,  5.51991349,  5.39674391,  5.16270611,\n",
      "        5.17717181,  4.81404993,  5.57701763]), array([ 6.15058884,  6.47605002,  6.32731385,  6.06979882,  6.14335609,\n",
      "        6.1184185 ,  5.91862974,  5.86014739,  5.92113073,  4.99791237,\n",
      "        5.17054022,  4.63201285,  4.28925863])]\n"
     ]
    }
   ],
   "source": [
    "print all_mock_meds"
   ]
  },
  {
   "cell_type": "code",
   "execution_count": 280,
   "metadata": {
    "collapsed": false
   },
   "outputs": [
    {
     "name": "stdout",
     "output_type": "stream",
     "text": [
      "[  9.1   9.3   9.5   9.7   9.9  10.1  10.3  10.5  10.7  10.9  11.1  11.3\n",
      "  11.5  11.7]\n"
     ]
    }
   ],
   "source": [
    "bin_cens_diff\n",
    "\n",
    "\n",
    "bins_curve_fit = bins.copy()\n",
    "global bins_curve_fit\n",
    "\n",
    "def abc():\n",
    "    print bins_curve_fit\n",
    "    \n",
    "abc()"
   ]
  },
  {
   "cell_type": "code",
   "execution_count": 281,
   "metadata": {
    "collapsed": true
   },
   "outputs": [],
   "source": [
    "eco_path  = r\"C:\\Users\\Hannah\\Desktop\\Vanderbilt_REU\\Stellar_mass_env_density\"\n",
    "eco_path += r\"\\Catalogs\\ECO_true\"\n",
    "eco_cols  = np.array([0,1,2,4])"
   ]
  },
  {
   "cell_type": "code",
   "execution_count": 282,
   "metadata": {
    "collapsed": false
   },
   "outputs": [],
   "source": [
    "ECO_true = (Index(eco_path,'.txt'))\n",
    "names    = ['ra','dec','cz','logMstar']\n",
    "PD_eco   = pd.read_csv(ECO_true[0],sep=\"\\s+\", usecols=(eco_cols),header=None,\\\n",
    "                skiprows=1,names=names)\n",
    "eco_comp = PD_eco[PD_eco.logMstar >= 9.1]\n",
    "\n",
    "ra_eco   = (np.array(eco_comp)).T[0]\n",
    "dec_eco  = (np.array(eco_comp)).T[1] \n",
    "cz_eco   = (np.array(eco_comp)).T[2] \n",
    "mass_eco = (np.array(eco_comp)).T[3]\n",
    "\n",
    "coords_eco        = sph_to_cart(ra_eco,dec_eco,cz_eco)\n",
    "eco_neighbor_tree = spatial.cKDTree(coords_eco)\n",
    "eco_tree_dist     = np.array(eco_neighbor_tree.query(coords_eco,\\\n",
    "                    (neigh_vals[-1]+1))[0])\n",
    "\n",
    "eco_mass_dist = np.column_stack((mass_eco,eco_tree_dist.T[neigh_vals].T))\n",
    "##range 1,7 because of the six nearest neighbors (and fact that 0 is mass)\n",
    "##the jj is there to specify which index in the [1,6] array\n",
    "eco_dens = ([calc_dens(neigh_vals[jj],\\\n",
    "            (eco_mass_dist.T[range(1,7)[jj]])) for jj in range\\\n",
    "            (len(neigh_vals))])\n",
    "\n",
    "eco_mass_dens = [(np.column_stack((mass_eco,eco_dens[ii]))) for ii in \\\n",
    "                range(len(neigh_vals))]\n",
    "eco_idx  = [(eco_mass_dens[jj].T[1].argsort()) for jj in \\\n",
    "            range(len(neigh_vals))]\n",
    "eco_mass_dat  = [(eco_mass_dens[jj][eco_idx[jj]].T[0]) for jj in \\\n",
    "                range(len(neigh_vals))]\n",
    "\n",
    "eco_ratio_info    = [[] for xx in xrange(len(eco_mass_dat))]\n",
    "eco_final_bins    = [[] for xx in xrange(len(eco_mass_dat))]\n",
    "\n",
    "\n",
    "for qq in range(len(eco_mass_dat)):\n",
    "    bin_centers, eco_freq, eco_ratio_info[qq],eco_final_bins[qq] = plot_calcs(eco_mass_dat[qq],\\\n",
    "                                    bins,dlogM)\n",
    "\n",
    "eco_medians   = [[] for xx in xrange(len(eco_mass_dat))]    \n",
    "eco_med_bins   = [[] for xx in xrange(len(eco_mass_dat))]    \n",
    "eco_mass_means   = [[] for xx in xrange(len(eco_mass_dat))] \n",
    "\n",
    "for jj in (range(len(eco_mass_dat))):\n",
    "    eco_medians[jj],eco_med_bins[jj] = np.array(bin_func(eco_mass_dist,bins,(jj+1),\\\n",
    "        bootstrap=True))\n",
    "    eco_mass_means[jj] = (mean_bin_mass(eco_mass_dist,bins,(jj+1))) "
   ]
  },
  {
   "cell_type": "code",
   "execution_count": 283,
   "metadata": {
    "collapsed": false
   },
   "outputs": [],
   "source": [
    "hist_low_info  = {}\n",
    "hist_high_info = {}\n",
    "hist_low_bins  = {}\n",
    "hist_high_bins = {}\n",
    "\n",
    "for ii in xrange(len(coords_test)):\n",
    "    hist_low_info[ii]  = {}\n",
    "    hist_high_info[ii] = {}\n",
    "    hist_low_bins[ii]  = {}\n",
    "    hist_high_bins[ii] = {}\n",
    "    \n",
    "    for jj in range(len(neigh_vals)):\n",
    "        hist_low_info[ii][neigh_vals[jj]],\\\n",
    "        hist_high_info[ii][neigh_vals[jj]], \\\n",
    "        hist_low_bins[ii][neigh_vals[jj]],\\\n",
    "        hist_high_bins[ii][neigh_vals[jj]] \\\n",
    "        = hist_calcs(mass_dat[ii][neigh_vals[jj]],bins,dlogM)\n",
    "        \n",
    "frac_vals     = [2,4,10]\n",
    "hist_low_arr  = [[[] for yy in xrange(len(nn_mass_dist))] for xx in \\\n",
    "    xrange(len(neigh_vals))]\n",
    "hist_high_arr = [[[] for yy in xrange(len(nn_mass_dist))] for xx in \\\n",
    "    xrange(len(neigh_vals))]"
   ]
  },
  {
   "cell_type": "code",
   "execution_count": 284,
   "metadata": {
    "collapsed": false
   },
   "outputs": [
    {
     "data": {
      "text/plain": [
       "{2: array([ 0.82479031,  0.73625349,  0.72072072,  0.64305685,  0.56694626,\n",
       "         0.55452004,  0.41783162,  0.26871699,  0.18484001,  0.05281143,\n",
       "         0.02019261,  0.00931966]),\n",
       " 4: array([ 0.83903045,  0.83592293,  0.77688005,  0.6308266 ,  0.53449347,\n",
       "         0.53138595,  0.36047234,  0.27346178,  0.16780609,  0.03418272,\n",
       "         0.01243008,  0.00310752]),\n",
       " 10: array([ 1.11197512,  0.88646967,  0.69206843,  0.52877138,  0.53654743,\n",
       "         0.49766719,  0.38102644,  0.19440124,  0.14774495,  0.02332815]),\n",
       " 'err_10': array([ 0.09298803,  0.08302549,  0.07335911,  0.06412295,  0.06459272,\n",
       "         0.0622084 ,  0.05443235,  0.03888025,  0.03389502,  0.01346851]),\n",
       " 'err_2': array([ 0.03579285,  0.03381724,  0.03345862,  0.03160452,  0.02967532,\n",
       "         0.02934831,  0.02547564,  0.02043017,  0.01694426,  0.00905709,\n",
       "         0.00560042,  0.00380474]),\n",
       " 'err_4': array([ 0.05106177,  0.05096712,  0.04913421,  0.04427535,  0.04075475,\n",
       "         0.0406361 ,  0.03346902,  0.02915112,  0.02283552,  0.01030648,\n",
       "         0.00621504,  0.00310752])}"
      ]
     },
     "execution_count": 284,
     "metadata": {},
     "output_type": "execute_result"
    }
   ],
   "source": [
    "hist_low_info[0][1]"
   ]
  },
  {
   "cell_type": "code",
   "execution_count": 285,
   "metadata": {
    "collapsed": false
   },
   "outputs": [],
   "source": [
    "for ii in range(len(neigh_vals)):\n",
    "    for jj in range(len(nn_mass_dist)):\n",
    "        hist_low_arr[ii][jj]  = (hist_low_info[jj][neigh_vals[ii]])\n",
    "        hist_high_arr[ii][jj] = (hist_high_info[jj][neigh_vals[ii]])\n",
    "        \n",
    "##I unindented the below two \"lines\". Because they don't seem to need to be called iteratively        \n",
    "        \n",
    "plot_low_hist  = [[[[] for yy in xrange(len(nn_mass_dist))] \\\n",
    "                         for zz in xrange(len(frac_vals))] for xx in \\\n",
    "                         xrange(len(hist_low_arr))]\n",
    "        \n",
    "plot_high_hist = [[[[] for yy in xrange(len(nn_mass_dist))] \\\n",
    "                 for zz in xrange(len(frac_vals))] for xx in \\\n",
    "                 xrange(len(hist_high_arr))]\n",
    "\n",
    "for jj in range(len(nn_mass_dist)):\n",
    "    for hh in range(len(frac_vals)):\n",
    "        for ii in range(len(neigh_vals)):\n",
    "            plot_low_hist[ii][hh][jj]  = hist_low_arr[ii][jj][frac_vals[hh]]        \n",
    "            plot_high_hist[ii][hh][jj] = hist_high_arr[ii][jj][frac_vals[hh]] "
   ]
  },
  {
   "cell_type": "code",
   "execution_count": 286,
   "metadata": {
    "collapsed": false
   },
   "outputs": [
    {
     "data": {
      "text/plain": [
       "[array([  9.19881916,   9.39594645,   9.59814583,   9.8007378 ,\n",
       "          9.99990361,  10.19470893,  10.3920915 ,  10.59192308,\n",
       "         10.79164706,  10.98988372,  11.18395349,  11.37583333,\n",
       "         11.582     ,  11.746     ]),\n",
       " array([  9.19881916,   9.39594645,   9.59814583,   9.8007378 ,\n",
       "          9.99990361,  10.19470893,  10.3920915 ,  10.59192308,\n",
       "         10.79164706,  10.98988372,  11.18395349,  11.37583333,\n",
       "         11.582     ,  11.746     ]),\n",
       " array([  9.19881916,   9.39594645,   9.59814583,   9.8007378 ,\n",
       "          9.99990361,  10.19470893,  10.3920915 ,  10.59192308,\n",
       "         10.79164706,  10.98988372,  11.18395349,  11.37583333,\n",
       "         11.582     ,  11.746     ]),\n",
       " array([  9.19881916,   9.39594645,   9.59814583,   9.8007378 ,\n",
       "          9.99990361,  10.19470893,  10.3920915 ,  10.59192308,\n",
       "         10.79164706,  10.98988372,  11.18395349,  11.37583333,\n",
       "         11.582     ,  11.746     ]),\n",
       " array([  9.19881916,   9.39594645,   9.59814583,   9.8007378 ,\n",
       "          9.99990361,  10.19470893,  10.3920915 ,  10.59192308,\n",
       "         10.79164706,  10.98988372,  11.18395349,  11.37583333,\n",
       "         11.582     ,  11.746     ]),\n",
       " array([  9.19881916,   9.39594645,   9.59814583,   9.8007378 ,\n",
       "          9.99990361,  10.19470893,  10.3920915 ,  10.59192308,\n",
       "         10.79164706,  10.98988372,  11.18395349,  11.37583333,\n",
       "         11.582     ,  11.746     ])]"
      ]
     },
     "execution_count": 286,
     "metadata": {},
     "output_type": "execute_result"
    }
   ],
   "source": [
    "eco_mass_means"
   ]
  },
  {
   "cell_type": "code",
   "execution_count": 287,
   "metadata": {
    "collapsed": false
   },
   "outputs": [],
   "source": [
    "eco_low  = {}\n",
    "eco_high = {}\n",
    "eco_low_bins = {}\n",
    "eco_high_bins = {}\n",
    "for jj in range(len(neigh_vals)):\n",
    "    eco_low[neigh_vals[jj]]  = {}\n",
    "    eco_high[neigh_vals[jj]] = {}\n",
    "    eco_low_bins[neigh_vals[jj]]  = {}\n",
    "    eco_high_bins[neigh_vals[jj]] = {}\n",
    "    eco_low[neigh_vals[jj]], eco_high[neigh_vals[jj]], \\\n",
    "    eco_low_bins[neigh_vals[jj]], eco_high_bins[neigh_vals[jj]]= \\\n",
    "    hist_calcs(eco_mass_dat[jj],bins,dlogM)"
   ]
  },
  {
   "cell_type": "code",
   "execution_count": 288,
   "metadata": {
    "collapsed": false
   },
   "outputs": [
    {
     "data": {
      "text/plain": [
       "{2: array([ 0.86711409,  0.78389262,  0.65503356,  0.6442953 ,  0.5409396 ,\n",
       "         0.52751678,  0.39731544,  0.27919463,  0.19060403,  0.08456376,\n",
       "         0.02550336,  0.00402685]),\n",
       " 4: array([ 0.87540279,  0.84049409,  0.66863588,  0.66058002,  0.56122449,\n",
       "         0.55585392,  0.38668099,  0.23093448,  0.15843179,  0.04296455,\n",
       "         0.01611171,  0.00268528]),\n",
       " 10: array([ 0.95302013,  0.87919463,  0.72483221,  0.68456376,  0.55704698,\n",
       "         0.59060403,  0.29530201,  0.18120805,  0.10738255,  0.02013423,\n",
       "         0.00671141]),\n",
       " 'err_10': array([ 0.07997567,  0.07681559,  0.06974701,  0.06778191,  0.06114385,\n",
       "         0.0629586 ,  0.04451845,  0.03487351,  0.02684564,  0.0116245 ,\n",
       "         0.00671141]),\n",
       " 'err_2': array([ 0.03411615,  0.03243771,  0.02965198,  0.02940792,  0.02694612,\n",
       "         0.0266097 ,  0.02309349,  0.01935866,  0.01599513,  0.01065403,\n",
       "         0.00585087,  0.0023249 ]),\n",
       " 'err_4': array([ 0.04848408,  0.04750753,  0.04237308,  0.04211704,  0.03882071,\n",
       "         0.03863452,  0.03222342,  0.02490231,  0.02062606,  0.01074114,\n",
       "         0.00657758,  0.00268528])}"
      ]
     },
     "execution_count": 288,
     "metadata": {},
     "output_type": "execute_result"
    }
   ],
   "source": [
    "eco_low[1]"
   ]
  },
  {
   "cell_type": "code",
   "execution_count": 289,
   "metadata": {
    "collapsed": false
   },
   "outputs": [],
   "source": [
    "def perc_calcs(mass,bins,dlogM):\n",
    "    mass_counts, edges = np.histogram(mass,bins)\n",
    "    mass_freq          = mass_counts/float(len(mass))/dlogM\n",
    "    \n",
    "    bin_centers        = 0.5*(edges[:-1]+edges[1:])\n",
    "    \n",
    "    non_zero = (mass_freq!=0)\n",
    "    \n",
    "    mass_freq_1 = mass_freq[non_zero]\n",
    "    \n",
    "    smf_err            = np.sqrt(mass_counts)/float(len(mass))/dlogM\n",
    "    \n",
    "    smf_err_1   = smf_err[non_zero] \n",
    "    \n",
    "    bin_centers_1 = bin_centers[non_zero]\n",
    "\n",
    "    return mass_freq_1, smf_err_1, bin_centers_1"
   ]
  },
  {
   "cell_type": "code",
   "execution_count": 290,
   "metadata": {
    "collapsed": true
   },
   "outputs": [],
   "source": [
    "def quartiles(mass):\n",
    "    dec_val     =  int(len(mass)/4)\n",
    "    res_list      =  [[] for bb in range(4)]\n",
    "\n",
    "    for aa in range(0,4):\n",
    "        if aa == 3:\n",
    "            res_list[aa] = mass[aa*dec_val:]\n",
    "        else:\n",
    "            res_list[aa] = mass[aa*dec_val:(aa+1)*dec_val]\n",
    "\n",
    "    return res_list"
   ]
  },
  {
   "cell_type": "code",
   "execution_count": 291,
   "metadata": {
    "collapsed": true
   },
   "outputs": [],
   "source": [
    "def deciles(mass):\n",
    "    dec_val     =  int(len(mass)/10)\n",
    "    res_list      =  [[] for bb in range(10)]\n",
    "\n",
    "    for aa in range(0,10):\n",
    "        if aa == 9:\n",
    "            res_list[aa] = mass[aa*dec_val:]\n",
    "        else:\n",
    "            res_list[aa] = mass[aa*dec_val:(aa+1)*dec_val]\n",
    "\n",
    "    return res_list"
   ]
  },
  {
   "cell_type": "code",
   "execution_count": 412,
   "metadata": {
    "collapsed": true
   },
   "outputs": [],
   "source": [
    "def mean_perc_mass(mass,bins):\n",
    "    \"\"\"\n",
    "    Returns mean mass of galaxies in each bin\n",
    "\n",
    "    Parameters\n",
    "    ----------\n",
    "    mass_dist: array-like\n",
    "        An array with mass values in at index 0 (when transformed) \n",
    "    bins: array=like\n",
    "        A 1D array with the values which will be used as the bin edges     \n",
    "\n",
    "    Returns\n",
    "    -------\n",
    "\n",
    "    \"\"\"\n",
    "    edges        = bins\n",
    "\n",
    "    digitized    = np.digitize(mass,edges)\n",
    "    digitized   -= int(1)\n",
    "    \n",
    "    bin_nums          = np.unique(digitized)\n",
    "    \n",
    "    for ii in bin_nums:\n",
    "        if len(mass[digitized==ii]) == 0:\n",
    "            mass[digitized==ii] = np.nan\n",
    "\n",
    "\n",
    "\n",
    "    mean_mass = np.array([np.nanmean(mass[digitized==ii]) \\\n",
    "                for ii in bin_nums])\n",
    "\n",
    "    return mean_mass "
   ]
  },
  {
   "cell_type": "code",
   "execution_count": 414,
   "metadata": {
    "collapsed": false
   },
   "outputs": [],
   "source": [
    "eco_one_perc_means = mean_perc_mass(eco_dec[1][0],bins)"
   ]
  },
  {
   "cell_type": "code",
   "execution_count": 407,
   "metadata": {
    "collapsed": false
   },
   "outputs": [
    {
     "data": {
      "text/plain": [
       "array([ 9.37,  9.65,  9.49, ...,  9.11,  9.71,  9.23])"
      ]
     },
     "execution_count": 407,
     "metadata": {},
     "output_type": "execute_result"
    }
   ],
   "source": [
    "eco_mass_dist.T[0][]"
   ]
  },
  {
   "cell_type": "code",
   "execution_count": 292,
   "metadata": {
    "collapsed": false
   },
   "outputs": [],
   "source": [
    "eco_dec = {}\n",
    "for cc in range(len(eco_mass_dat)):\n",
    "    eco_dec[neigh_vals[cc]] = deciles(eco_mass_dat[cc])\n",
    "    \n",
    "eco_dec_smf = {}\n",
    "eco_dec_err = {}\n",
    "eco_dec_bin = {}\n",
    "\n",
    "for ss in neigh_vals:\n",
    "    eco_dec_smf[ss] = {}\n",
    "    eco_dec_err[ss] = {}\n",
    "    eco_dec_bin[ss] = {}\n",
    "    for tt in range(len(eco_dec[ss])):\n",
    "        eco_dec_smf[ss][tt], eco_dec_err[ss][tt], eco_dec_bin[ss][tt] = perc_calcs(eco_dec[ss][tt],bins,dlogM)    "
   ]
  },
  {
   "cell_type": "code",
   "execution_count": 293,
   "metadata": {
    "collapsed": false
   },
   "outputs": [
    {
     "name": "stdout",
     "output_type": "stream",
     "text": [
      "11\n",
      "12\n",
      "11\n",
      "[  9.2   9.4   9.6   9.8  10.   10.2  10.4  10.6  10.8  11.   11.2]\n",
      "[  9.19642586   9.39671156   9.59526919   9.79982097   9.99914601\n",
      "  10.19368263  10.39086466  10.59475703  10.7895302   10.98679389  11.19\n",
      "  11.35777778  11.56666667  11.77      ]\n",
      "[  9.1   9.3   9.5   9.7   9.9  10.1  10.3  10.5  10.7  10.9  11.1  11.3\n",
      "  11.5  11.7]\n"
     ]
    }
   ],
   "source": [
    "print len(eco_dec_smf[1][0])\n",
    "print len(all_mock_mass_means[0][:-2])\n",
    "print len(eco_dec_err[1][0])\n",
    "print eco_dec_bin[1][0]\n",
    "print all_mock_mass_means[0]\n",
    "print bins_curve_fit"
   ]
  },
  {
   "cell_type": "markdown",
   "metadata": {},
   "source": [
    "# Stellar Mass Function"
   ]
  },
  {
   "cell_type": "code",
   "execution_count": 294,
   "metadata": {
    "collapsed": true
   },
   "outputs": [],
   "source": [
    "fig,ax  = plt.subplots(figsize=(8,8))\n",
    "ax.set_title('Mass Distribution',fontsize=18)\n",
    "ax.set_xlabel('$\\log\\ (M_{*}/M_{\\odot})$',fontsize=18)\n",
    "ax.set_ylabel(r'$\\log\\ (\\frac{N_{gal}}{N_{total}*dlogM_{*}})$',fontsize=20)\n",
    "ax.set_yscale('log')\n",
    "ax.set_xlim(9.1,11.9)\n",
    "ax.tick_params(axis='both', labelsize=14)\n",
    "\n",
    "for ii in range(len(mass_freq)):\n",
    "    ax.plot(bin_centers,mass_freq[ii][0],color='silver')\n",
    "    ax.fill_between(bin_centers,max_lim,min_lim,color='silver',alpha=0.1)\n",
    "ax.errorbar(bin_centers,eco_freq[0],yerr=eco_freq[1],color='dodgerblue',\\\n",
    "            linewidth=2,label='ECO')\n",
    "ax.legend(loc='best')\n",
    "\n",
    "plt.subplots_adjust(left=0.15, bottom=0.1, right=0.85, top=0.94,\\\n",
    "                    hspace=0.2,wspace=0.2)\n",
    "plt.show()"
   ]
  },
  {
   "cell_type": "code",
   "execution_count": null,
   "metadata": {
    "collapsed": true
   },
   "outputs": [],
   "source": []
  },
  {
   "cell_type": "markdown",
   "metadata": {},
   "source": [
    "# The Mess I am unlovingly referring to as Schechter Functions"
   ]
  },
  {
   "cell_type": "code",
   "execution_count": 432,
   "metadata": {
    "collapsed": true
   },
   "outputs": [],
   "source": [
    "def schechter_real_func(mean_of_mass_bin,phi_star,alpha,Mstar):\n",
    "    \"\"\"\n",
    "    \n",
    "    mean_of_mass_bin: array-like\n",
    "        Unlogged x-values\n",
    "    phi-star: float-like\n",
    "        Normalization value\n",
    "    alpha: float-like\n",
    "        Low-mass end slope\n",
    "    Mstar: float-like\n",
    "        Unlogged value where function switches from power-law to exponential\n",
    "    \n",
    "    \"\"\"\n",
    "#     M_over_mstar = (10**mean_of_mass_bin)/Mstar\n",
    "    M_over_mstar = (mean_of_mass_bin)/Mstar\n",
    "    res_arr    = (phi_star) * (M_over_mstar**(alpha)) * \\\n",
    "                        np.exp(- M_over_mstar)\n",
    "\n",
    "    return res_arr"
   ]
  },
  {
   "cell_type": "code",
   "execution_count": 40,
   "metadata": {
    "collapsed": true
   },
   "outputs": [],
   "source": [
    "def schechter_log_func(stellar_mass,phi_star,alpha,m_star):\n",
    "    \"\"\"\n",
    "    Returns a plottable Schechter function for the \n",
    "        stellar mass functions of galaxies\n",
    "    \n",
    "    Parameters\n",
    "    ----------\n",
    "    stellar_mass: array-like\n",
    "        An array of unlogged stellar mass values which \n",
    "        will eventually be the x-axis values the function\n",
    "        is plotted against\n",
    "    phi_star: float-like\n",
    "        A constant which normalizes (?) the function;\n",
    "        Moves the graph up and down\n",
    "    alpha: negative integer-like\n",
    "        The faint-end, or in this case, low-mass slope;\n",
    "        Describes the power-law portion of the curve\n",
    "    m_star: float-like\n",
    "        Unlogged value of the characteristic (?) stellar\n",
    "        mass; the \"knee\" of the function, where the \n",
    "        power-law gives way to the exponential portion\n",
    "        \n",
    "    Returns\n",
    "    -------\n",
    "    res: array-like\n",
    "        Array of values to be plotted on a log\n",
    "        scale to display the Schechter function\n",
    "        \n",
    "    \"\"\"\n",
    "    constant = np.log(10) * phi_star\n",
    "    log_M_Mstar = np.log10(stellar_mass/m_star)\n",
    "    res = constant * 10**(log_M_Mstar * (alpha+1)) * \\\n",
    "        np.exp(-10**log_M_Mstar)\n",
    "        \n",
    "    return res"
   ]
  },
  {
   "cell_type": "code",
   "execution_count": 41,
   "metadata": {
    "collapsed": true
   },
   "outputs": [],
   "source": [
    "def schech_integral(edge_1,edge_2,phi_star,alpha,Mstar):\n",
    "    bin_integral = (integrate.quad(schechter_real_func,edge_1,edge_2,args=(phi_star,alpha,Mstar))[0])\n",
    "#     tot_integral = (integrate.quad(schechter_real_func,9.1,11.7,args=(phi_star,alpha,Mstar)))[0]\n",
    "# #     \n",
    "#     result = bin_integral/tot_integral/0.2\n",
    "    \n",
    "    return bin_integral"
   ]
  },
  {
   "cell_type": "code",
   "execution_count": 444,
   "metadata": {
    "collapsed": false
   },
   "outputs": [
    {
     "data": {
      "text/plain": [
       "0.928832117633489"
      ]
     },
     "execution_count": 444,
     "metadata": {},
     "output_type": "execute_result"
    }
   ],
   "source": [
    "schech_integral(10**9.1,10**9.3,opt_v[0],opt_v[1],opt_v[2])"
   ]
  },
  {
   "cell_type": "code",
   "execution_count": 382,
   "metadata": {
    "collapsed": false
   },
   "outputs": [
    {
     "data": {
      "text/plain": [
       "array([  9.1,   9.3,   9.5,   9.7,   9.9,  10.1,  10.3,  10.5,  10.7,\n",
       "        10.9,  11.1,  11.3,  11.5,  11.7])"
      ]
     },
     "execution_count": 382,
     "metadata": {},
     "output_type": "execute_result"
    }
   ],
   "source": [
    "bins_curve_fit"
   ]
  },
  {
   "cell_type": "code",
   "execution_count": 42,
   "metadata": {
    "collapsed": true
   },
   "outputs": [],
   "source": [
    "def schech_step_3(xdata,phi_star,alpha,Mstar):\n",
    "    \"\"\"\n",
    "    xdata: array-like\n",
    "        Unlogged x-values\n",
    "    Mstar:\n",
    "        unlogged\n",
    "    \"\"\"\n",
    "    test_int = []\n",
    "    for ii in range(len(xdata)):\n",
    "        test_int.append((schech_integral(10**bins_curve_fit[ii],10**bins_curve_fit[ii+1],phi_star,alpha,Mstar)))\n",
    "    return test_int"
   ]
  },
  {
   "cell_type": "code",
   "execution_count": 385,
   "metadata": {
    "collapsed": false
   },
   "outputs": [
    {
     "data": {
      "text/plain": [
       "14"
      ]
     },
     "execution_count": 385,
     "metadata": {},
     "output_type": "execute_result"
    }
   ],
   "source": [
    "len(eco_mass_means[0])"
   ]
  },
  {
   "cell_type": "code",
   "execution_count": 445,
   "metadata": {
    "collapsed": false
   },
   "outputs": [],
   "source": [
    "schech_vals_graph = schech_step_3(bins_curve_fit[:-1],opt_v[0],opt_v[1],opt_v[2])"
   ]
  },
  {
   "cell_type": "code",
   "execution_count": 43,
   "metadata": {
    "collapsed": false
   },
   "outputs": [
    {
     "name": "stdout",
     "output_type": "stream",
     "text": [
      "0.927898471907\n",
      "(0.9278984719073082, 1.0301742480259926e-14)\n"
     ]
    }
   ],
   "source": [
    "print schech_integral(10**9.1,10**9.3,1.5,-1.1,10**10.64)\n",
    "\n",
    "print integrate.quad(schechter_real_func,10**9.1,10**9.3,args=(1.5,-1.1,10**10.64))"
   ]
  },
  {
   "cell_type": "code",
   "execution_count": 44,
   "metadata": {
    "collapsed": true
   },
   "outputs": [],
   "source": [
    "def find_params(bin_int,mean_mass,count_err):\n",
    "    \"\"\"\n",
    "    Parameters\n",
    "    ----------\n",
    "    bin_int: array-like\n",
    "        Integral (number of counts) in each bin of width dlogM\n",
    "    mean_mass: array-like\n",
    "        Logged values (?)\n",
    "\n",
    "    Returns\n",
    "    -------\n",
    "    opt_v: array-like\n",
    "        Array with three values: phi_star, alpha, and M_star\n",
    "    res_arr: array-like\n",
    "        Array with two values: alpha and log_M_star\n",
    "\n",
    "\n",
    "    \"\"\"\n",
    "    xdata = 10**mean_mass\n",
    "#     xdata = mean_mass\n",
    "    p0    = (1.5,-1.05,10**10.64)\n",
    "    opt_v,est_cov = optimize.curve_fit(schech_step_3,xdata,\\\n",
    "                            bin_int,p0=p0,sigma=count_err,check_finite=True)\n",
    "    alpha   = opt_v[1]\n",
    "    log_m_star    = np.log10(opt_v[2])\n",
    "    \n",
    "    res_arr = np.array([alpha,log_m_star])\n",
    "    \n",
    "    perr = np.sqrt(np.diag(est_cov))\n",
    "\n",
    "    return opt_v, res_arr, perr, est_cov"
   ]
  },
  {
   "cell_type": "code",
   "execution_count": 417,
   "metadata": {
    "collapsed": false
   },
   "outputs": [],
   "source": [
    "opt_v_test, res_arr,perr,est_cov = find_params(eco_dec_smf[1][0],eco_one_perc_means,eco_dec_err[1][0])"
   ]
  },
  {
   "cell_type": "code",
   "execution_count": 433,
   "metadata": {
    "collapsed": false
   },
   "outputs": [
    {
     "data": {
      "text/plain": [
       "array([ 2.01575011,  1.8741349 ,  1.70454452,  1.50278159,  1.28554864,\n",
       "        0.99637991,  0.72639078,  0.43564204,  0.20573893,  0.06423719,\n",
       "        0.01357128])"
      ]
     },
     "execution_count": 433,
     "metadata": {},
     "output_type": "execute_result"
    }
   ],
   "source": [
    "schechter_real_func(10**eco_one_perc_means,opt_v_test[0],(opt_v_test[1]+1),opt_v_test[2])"
   ]
  },
  {
   "cell_type": "code",
   "execution_count": 436,
   "metadata": {
    "collapsed": false
   },
   "outputs": [
    {
     "name": "stdout",
     "output_type": "stream",
     "text": [
      "[  2.12317712e+00   1.98678755e+00   1.83298971e+00   1.65717247e+00\n",
      "   1.45470153e+00   1.22152232e+00   9.49395214e-01   6.51615794e-01\n",
      "   3.68913264e-01   1.55165690e-01   4.20412475e-02   5.75696323e-03\n",
      "   2.01055265e-04   3.49417482e-06]\n"
     ]
    }
   ],
   "source": [
    "m_over_mstar_test = 10**eco_mass_means[0]/10**10.64\n",
    "res_arr    = (opt_v[0]) * (m_over_mstar_test**(opt_v[1]+1)) * \\\n",
    "                        np.exp(- m_over_mstar_test)\n",
    "print res_arr"
   ]
  },
  {
   "cell_type": "code",
   "execution_count": 428,
   "metadata": {
    "collapsed": false
   },
   "outputs": [
    {
     "data": {
      "text/plain": [
       "array([  1.27691368e-09,   7.52289997e-10,   4.29532417e-10,\n",
       "         2.38074980e-10,   1.27498694e-10,   6.47223950e-11,\n",
       "         2.92667383e-11,   1.10292765e-11,   3.16160379e-12,\n",
       "         5.95850604e-13,   6.06350426e-14,   2.34915774e-15,\n",
       "         1.26320735e-17,   2.76278949e-20])"
      ]
     },
     "execution_count": 428,
     "metadata": {},
     "output_type": "execute_result"
    }
   ],
   "source": [
    "schechter_real_func(10**eco_mass_means[0],opt_v[0],(opt_v[1]),opt_v[2])"
   ]
  },
  {
   "cell_type": "code",
   "execution_count": 398,
   "metadata": {
    "collapsed": false
   },
   "outputs": [
    {
     "name": "stdout",
     "output_type": "stream",
     "text": [
      "11\n",
      "11\n"
     ]
    }
   ],
   "source": [
    "print len(eco_dec_smf[1][0])\n",
    "print len(eco_mass_means[0][:-3])"
   ]
  },
  {
   "cell_type": "code",
   "execution_count": 403,
   "metadata": {
    "collapsed": false
   },
   "outputs": [
    {
     "data": {
      "text/plain": [
       "13"
      ]
     },
     "execution_count": 403,
     "metadata": {},
     "output_type": "execute_result"
    }
   ],
   "source": [
    "len(eco_freq[0])"
   ]
  },
  {
   "cell_type": "code",
   "execution_count": 441,
   "metadata": {
    "collapsed": false
   },
   "outputs": [],
   "source": [
    "# print len(eco_dec_smf[1][0])\n",
    "# print len(eco_mass_means[0])\n",
    "# print len(all_mock_mass_means[0][:-2])\n",
    "# print len(eco_dec_err[1][0])\n",
    "\n",
    "opt_v, res_arr, perr, est_cov = find_params(eco_dec_smf[1][0],eco_mass_means[0][:-3],eco_dec_err[1][0])\n",
    "# opt_v, res_arr, perr, est_cov = find_params(eco_dec_smf[1][0],eco_mass_means[0][:-3],None)"
   ]
  },
  {
   "cell_type": "code",
   "execution_count": 442,
   "metadata": {
    "collapsed": false
   },
   "outputs": [
    {
     "name": "stdout",
     "output_type": "stream",
     "text": [
      "[  5.13943492e-11  -1.10044964e+00   3.06923523e+10]\n",
      "[ -1.10044964  10.48703017]\n"
     ]
    }
   ],
   "source": [
    "print opt_v\n",
    "print res_arr\n",
    "# print perr\n",
    "# print eco_dec_err[1][0]\n",
    "# print est_cov"
   ]
  },
  {
   "cell_type": "code",
   "execution_count": 79,
   "metadata": {
    "collapsed": false
   },
   "outputs": [
    {
     "data": {
      "text/plain": [
       "0.0"
      ]
     },
     "execution_count": 79,
     "metadata": {},
     "output_type": "execute_result"
    }
   ],
   "source": [
    "schech_integral(10**9.1,10**24,opt_v[0],opt_v[1],opt_v[2])"
   ]
  },
  {
   "cell_type": "code",
   "execution_count": 49,
   "metadata": {
    "collapsed": false
   },
   "outputs": [
    {
     "name": "stdout",
     "output_type": "stream",
     "text": [
      "[  9.1   9.2   9.3   9.4   9.5   9.6   9.7   9.8   9.9  10.   10.1  10.2\n",
      "  10.3  10.4  10.5  10.6  10.7  10.8  10.9  11.   11.1  11.2  11.3  11.4\n",
      "  11.5  11.6  11.7  11.8  11.9  12.   12.1  12.2  12.3  12.4  12.5  12.6\n",
      "  12.7  12.8  12.9  13.   13.1  13.2  13.3  13.4  13.5  13.6  13.7  13.8\n",
      "  13.9  14.   14.1  14.2  14.3  14.4  14.5  14.6  14.7  14.8  14.9  15.\n",
      "  15.1  15.2  15.3  15.4  15.5  15.6  15.7  15.8  15.9  16.   16.1  16.2\n",
      "  16.3  16.4  16.5  16.6  16.7  16.8  16.9  17. ]\n"
     ]
    }
   ],
   "source": [
    "test_x = np.linspace(9.1,17,80)\n",
    "print test_x"
   ]
  },
  {
   "cell_type": "code",
   "execution_count": 50,
   "metadata": {
    "collapsed": false
   },
   "outputs": [
    {
     "name": "stdout",
     "output_type": "stream",
     "text": [
      "[  1.65751926e-009   1.27292023e-009   9.74876315e-010   7.44036688e-010\n",
      "   5.65387742e-010   4.27282927e-010   3.20689555e-010   2.38603862e-010\n",
      "   1.75596412e-010   1.27458343e-010   9.09254689e-011   6.34623848e-011\n",
      "   4.30927791e-011   2.82655617e-011   1.77493641e-011   1.05506474e-011\n",
      "   5.85297481e-012   2.97651445e-012   1.35673334e-012   5.38797528e-013\n",
      "   1.79888418e-013   4.82743448e-014   9.84016408e-015   1.41885598e-015\n",
      "   1.32310674e-016   7.12791959e-018   1.92461141e-019   2.17801694e-021\n",
      "   8.24766612e-024   7.87130693e-027   1.32503615e-030   2.51052401e-035\n",
      "   3.04108603e-041   1.15556200e-048   5.62035463e-058   1.13200311e-069\n",
      "   2.28063125e-084   7.68496378e-103   4.55769033e-126   2.79452095e-155\n",
      "   4.99483302e-192   2.91267677e-238   1.93794012e-296   0.00000000e+000\n",
      "   0.00000000e+000   0.00000000e+000   0.00000000e+000   0.00000000e+000\n",
      "   0.00000000e+000   0.00000000e+000   0.00000000e+000   0.00000000e+000\n",
      "   0.00000000e+000   0.00000000e+000   0.00000000e+000   0.00000000e+000\n",
      "   0.00000000e+000   0.00000000e+000   0.00000000e+000   0.00000000e+000\n",
      "   0.00000000e+000   0.00000000e+000   0.00000000e+000   0.00000000e+000\n",
      "   0.00000000e+000   0.00000000e+000   0.00000000e+000   0.00000000e+000\n",
      "   0.00000000e+000   0.00000000e+000   0.00000000e+000   0.00000000e+000\n",
      "   0.00000000e+000   0.00000000e+000   0.00000000e+000   0.00000000e+000\n",
      "   0.00000000e+000   0.00000000e+000   0.00000000e+000   0.00000000e+000]\n"
     ]
    }
   ],
   "source": [
    "# test = schechter_real_func(10**eco_mass_means[0][:-3],opt_v[0],(opt_v[1]),opt_v[2])\n",
    "test = schechter_real_func(10**test_x,opt_v[0],(opt_v[1]),opt_v[2])\n",
    "print test"
   ]
  },
  {
   "cell_type": "code",
   "execution_count": 449,
   "metadata": {
    "collapsed": false
   },
   "outputs": [],
   "source": [
    "fig, ax = plt.subplots()\n",
    "ax.set_yscale('log')\n",
    "ax.set_xscale('log')\n",
    "# ax.plot(eco_mass_means[0][:-3],test)\n",
    "ax.plot(10**bin_centers,schech_vals_graph)\n",
    "ax.plot(10**eco_mass_means[0][:-3],(eco_dec_smf[1][0]))\n",
    "plt.show()"
   ]
  },
  {
   "cell_type": "code",
   "execution_count": 52,
   "metadata": {
    "collapsed": false
   },
   "outputs": [
    {
     "name": "stdout",
     "output_type": "stream",
     "text": [
      "80\n",
      "13\n",
      "80\n",
      "14\n",
      "11\n"
     ]
    }
   ],
   "source": [
    "# print opt_v\n",
    "\n",
    "print len(test)\n",
    "print len(all_mock_mass_means[0])\n",
    "print len(test)\n",
    "print len(eco_mass_means[0])\n",
    "print len(eco_dec_smf[1][0])"
   ]
  },
  {
   "cell_type": "code",
   "execution_count": 53,
   "metadata": {
    "collapsed": false
   },
   "outputs": [
    {
     "name": "stdout",
     "output_type": "stream",
     "text": [
      "11\n",
      "11\n",
      "11\n"
     ]
    }
   ],
   "source": [
    "idx_edge = len(all_mock_mass_means[0]) - len(eco_dec_smf[1][0])\n",
    "print len(eco_dec_smf[1][0])\n",
    "print len(all_mock_mass_means[0][:-idx_edge])\n",
    "print len(eco_dec_err[1][0])\n",
    "# opt_v, res_arr, perr, est_cov = find_params(eco_dec_smf[1][0],all_mock_mass_means[0][:-(idx_edge)],eco_dec_err[1][0])"
   ]
  },
  {
   "cell_type": "code",
   "execution_count": 54,
   "metadata": {
    "collapsed": false
   },
   "outputs": [
    {
     "name": "stdout",
     "output_type": "stream",
     "text": [
      "14\n",
      "80\n",
      "11\n",
      "[  1.65751926e-009   1.27292023e-009   9.74876315e-010   7.44036688e-010\n",
      "   5.65387742e-010   4.27282927e-010   3.20689555e-010   2.38603862e-010\n",
      "   1.75596412e-010   1.27458343e-010   9.09254689e-011   6.34623848e-011\n",
      "   4.30927791e-011   2.82655617e-011   1.77493641e-011   1.05506474e-011\n",
      "   5.85297481e-012   2.97651445e-012   1.35673334e-012   5.38797528e-013\n",
      "   1.79888418e-013   4.82743448e-014   9.84016408e-015   1.41885598e-015\n",
      "   1.32310674e-016   7.12791959e-018   1.92461141e-019   2.17801694e-021\n",
      "   8.24766612e-024   7.87130693e-027   1.32503615e-030   2.51052401e-035\n",
      "   3.04108603e-041   1.15556200e-048   5.62035463e-058   1.13200311e-069\n",
      "   2.28063125e-084   7.68496378e-103   4.55769033e-126   2.79452095e-155\n",
      "   4.99483302e-192   2.91267677e-238   1.93794012e-296   0.00000000e+000\n",
      "   0.00000000e+000   0.00000000e+000   0.00000000e+000   0.00000000e+000\n",
      "   0.00000000e+000   0.00000000e+000   0.00000000e+000   0.00000000e+000\n",
      "   0.00000000e+000   0.00000000e+000   0.00000000e+000   0.00000000e+000\n",
      "   0.00000000e+000   0.00000000e+000   0.00000000e+000   0.00000000e+000\n",
      "   0.00000000e+000   0.00000000e+000   0.00000000e+000   0.00000000e+000\n",
      "   0.00000000e+000   0.00000000e+000   0.00000000e+000   0.00000000e+000\n",
      "   0.00000000e+000   0.00000000e+000   0.00000000e+000   0.00000000e+000\n",
      "   0.00000000e+000   0.00000000e+000   0.00000000e+000   0.00000000e+000\n",
      "   0.00000000e+000   0.00000000e+000   0.00000000e+000   0.00000000e+000]\n",
      "[ 0.95302013  0.87919463  0.72483221  0.68456376  0.55704698  0.59060403\n",
      "  0.29530201  0.18120805  0.10738255  0.02013423  0.00671141]\n"
     ]
    }
   ],
   "source": [
    "print len(eco_mass_means[0])\n",
    "print len(test)\n",
    "print len(eco_dec_smf[1][0])\n",
    "print test\n",
    "# print test*10**10\n",
    "print eco_dec_smf[1][0]\n",
    "# print np.log10(eco_dec_smf[1][0])\n",
    "\n",
    "# [  1.27691357e-09   7.52289969e-10   4.29532422e-10   2.38074992e-10\n",
    "#    1.27498704e-10   6.47224003e-11   2.92667401e-11   1.10292764e-11\n",
    "#    3.16160331e-12   5.95850360e-13   6.06349916e-14]"
   ]
  },
  {
   "cell_type": "code",
   "execution_count": null,
   "metadata": {
    "collapsed": true
   },
   "outputs": [],
   "source": []
  },
  {
   "cell_type": "code",
   "execution_count": 55,
   "metadata": {
    "collapsed": false
   },
   "outputs": [],
   "source": [
    "# len(test_int)\n",
    "\n",
    "# fig, ax = plt.subplots()\n",
    "# ax.set_yscale('log')\n",
    "# ax.plot(all_mock_mass_means[0],test_int)\n",
    "# plt.show()"
   ]
  },
  {
   "cell_type": "code",
   "execution_count": 56,
   "metadata": {
    "collapsed": false
   },
   "outputs": [],
   "source": [
    "nrow = int(2)\n",
    "ncol = int(3)\n",
    "\n",
    "fig,axes = plt.subplots(nrows=nrow,ncols=ncol,\\\n",
    "                        figsize=(100,200),sharex=True)\n",
    "axes_flat = axes.flatten()\n",
    "\n",
    "zz = int(0)\n",
    "while zz <=4:\n",
    "    for jj in neigh_vals:\n",
    "        for kk in range(len(halo_frac)):\n",
    "            plot_halo_frac(bin_centers,halo_frac[kk][jj],axes_flat[zz],zz)\n",
    "        nn_str = '{0}'.format(jj)\n",
    "        plot_mean_halo_frac(bin_centers,mean_mock_halo_frac[nn_str][0],axes_flat[zz],mean_mock_halo_frac[nn_str][1])\n",
    "        zz += 1\n",
    "\n",
    "plt.subplots_adjust(top=0.97,bottom=0.1,left=0.03,right=0.99,hspace=0.10,wspace=0.12)           \n",
    "plt.show()            "
   ]
  },
  {
   "cell_type": "markdown",
   "metadata": {},
   "source": [
    "# Regular Plotting Reintroduced"
   ]
  },
  {
   "cell_type": "code",
   "execution_count": 104,
   "metadata": {
    "collapsed": true
   },
   "outputs": [],
   "source": [
    "def plot_all_rats(bin_centers,y_vals,neigh_val,ax,col_num,plot_idx):\n",
    "    \"\"\"\n",
    "    Returns a plot showing the density-cut, mass ratio.  Optimally\n",
    "        used with a well-initiated for-loop\n",
    "        \n",
    "    Parameters\n",
    "    ----------\n",
    "    bin_centers: array-like\n",
    "        An array with the medians mass values of the mass bins\n",
    "    y_vals: array-like\n",
    "        An array containing the ratio values for each mass bin\n",
    "    neigh_val: integer-like\n",
    "        Value which will be inserted into the text label of each plot\n",
    "    ax: axis-like\n",
    "        A value which specifies which axis each subplot is to be \n",
    "        plotted to\n",
    "    col_num: integer-like\n",
    "        Integer which specifies which column is currently being \n",
    "        plotted. Used for labelling subplots\n",
    "    plot_idx: integer-like\n",
    "        Specifies which subplot the figure is plotted to. Used for\n",
    "        labeling the x-axis\n",
    "        \n",
    "    Returns\n",
    "    -------\n",
    "    Figure with three subplots showing appropriate ratios\n",
    "    \"\"\"\n",
    "    if plot_idx     ==16:\n",
    "        ax.set_xlabel('$\\log\\ (M_{*}/M_{\\odot})$',fontsize=18)\n",
    "    if col_num      ==0:\n",
    "        title_label = 'Mass Ratio 50/50, {0} NN'.format(neigh_val)\n",
    "        frac_val    = 10\n",
    "        ax.text(0.05, 0.95, title_label,horizontalalignment='left',\\\n",
    "                verticalalignment='top',transform=ax.transAxes,fontsize=12)\n",
    "    elif col_num    ==1:\n",
    "        title_label = 'Mass Ratio 25/75, {0} NN'.format(neigh_val)\n",
    "        frac_val    = 4\n",
    "        ax.text(0.05, 0.95, title_label,horizontalalignment='left',\\\n",
    "                verticalalignment='top',transform=ax.transAxes,fontsize=12)\n",
    "    elif col_num    ==2:\n",
    "        title_label = 'Mass Ratio 10/90, {0} NN'.format(neigh_val)\n",
    "        frac_val    = 2\n",
    "        ax.text(0.05, 0.95, title_label,horizontalalignment='left',\\\n",
    "                verticalalignment='top',transform=ax.transAxes,fontsize=12)\n",
    "    ax.set_xlim(9.1,11.9)\n",
    "#     ax.set_ylim([0,5])\n",
    "    ax.set_ylim(0,7)\n",
    "    ax.set_xticks(np.arange(9.5, 12., 0.5))\n",
    "    ax.set_yticks([1.,3.])\n",
    "    ax.tick_params(axis='both', labelsize=12)\n",
    "    ax.axhline(y=1,c=\"darkorchid\",linewidth=0.5,zorder=0)\n",
    "    ax.plot(bin_centers,y_vals,color='silver')"
   ]
  },
  {
   "cell_type": "code",
   "execution_count": 103,
   "metadata": {
    "collapsed": true
   },
   "outputs": [],
   "source": [
    "def plot_eco_rats(bin_centers,y_vals,neigh_val,ax,col_num,plot_idx,only=False):\n",
    "    \"\"\"\n",
    "    Returns subplots of ECO density-cut,mass ratios\n",
    "    \n",
    "    Parameters\n",
    "    ----------\n",
    "    bin_centers: array-like\n",
    "        An array with the medians mass values of the mass bins\n",
    "    y_vals: array-like\n",
    "        An array containing the ratio values for each mass bin\n",
    "    neigh_val: integer-like\n",
    "        Value which will be inserted into the text label of each plot\n",
    "    ax: axis-like\n",
    "        A value which specifies which axis each subplot is to be \n",
    "        plotted to\n",
    "    col_num: integer-like\n",
    "        Integer which specifies which column is currently being \n",
    "        plotted. Used for labelling subplots\n",
    "    plot_idx: integer-like\n",
    "        Specifies which subplot the figure is plotted to. Used for\n",
    "        labeling the x-axis\n",
    "    \n",
    "    Optional\n",
    "    --------\n",
    "    only == True\n",
    "        To be used when only plotting the ECO ratios, no mocks.\n",
    "        Will add in the additional plotting specifications that\n",
    "        would have been taken care of previously in a for-loop\n",
    "        which plotted the mocks as well\n",
    "        \n",
    "    Returns\n",
    "    -------\n",
    "    ECO ratios plotted to any previously initialized figure\n",
    "    \"\"\"\n",
    "    if only == True:\n",
    "        if plot_idx     ==16:\n",
    "            ax.set_xlabel('$\\log\\ (M_{*}/M_{\\odot})$',fontsize=18)\n",
    "        if col_num      ==0:\n",
    "            title_label = 'Mass Ratio 50/50, {0} NN'.format(neigh_val)\n",
    "            frac_val    = 10\n",
    "            ax.text(0.05, 0.95, title_label,horizontalalignment='left',\\\n",
    "                    verticalalignment='top',transform=ax.transAxes,fontsize=12)\n",
    "        elif col_num    ==1:\n",
    "            title_label = 'Mass Ratio 25/75, {0} NN'.format(neigh_val)\n",
    "            frac_val    = 4\n",
    "            ax.text(0.05, 0.95, title_label,horizontalalignment='left',\\\n",
    "                    verticalalignment='top',transform=ax.transAxes,fontsize=12)\n",
    "        elif col_num    ==2:\n",
    "            title_label = 'Mass Ratio 10/90, {0} NN'.format(neigh_val)\n",
    "            frac_val    = 2\n",
    "            ax.text(0.05, 0.95, title_label,horizontalalignment='left',\\\n",
    "                    verticalalignment='top',transform=ax.transAxes,fontsize=12)\n",
    "        ax.set_xlim(9.1,11.9)\n",
    "        ax.set_ylim(0,7)\n",
    "#         ax.set_ylim([0,5])\n",
    "        ax.set_xticks(np.arange(9.5, 12., 0.5))\n",
    "        ax.set_yticks([1.,3.])\n",
    "        ax.tick_params(axis='both', labelsize=12)\n",
    "        ax.axhline(y=1,c=\"darkorchid\",linewidth=0.5,zorder=0)\n",
    "    frac_vals = np.array([2,4,10])\n",
    "    y_vals_2 = y_vals[0][frac_vals[hh]]\n",
    "    ax.errorbar(bin_centers,y_vals_2,yerr=y_vals[1][hh],\\\n",
    "                color='dodgerblue',linewidth=2)"
   ]
  },
  {
   "cell_type": "code",
   "execution_count": 83,
   "metadata": {
    "collapsed": false
   },
   "outputs": [],
   "source": [
    "frac_vals   = [2,4,10]\n",
    "nn_plot_arr = [[[] for yy in xrange(len(nn_mass_dist))] for xx in \\\n",
    "    xrange(len(neigh_vals))]\n",
    "\n",
    "for ii in range(len(neigh_vals)):\n",
    "    for jj in range(len(nn_mass_dist)):\n",
    "        nn_plot_arr[ii][jj] = (ratio_info[jj][neigh_vals[ii]])\n",
    "        \n",
    "plot_frac_arr = [[[[] for yy in xrange(len(nn_mass_dist))] \\\n",
    "                 for zz in xrange(len(frac_vals))] for xx in \\\n",
    "                 xrange(len(nn_plot_arr))]\n",
    "frac_err_arr = [[[[] for yy in xrange(len(nn_mass_dist))] \\\n",
    "                 for zz in xrange(len(frac_vals))] for xx in \\\n",
    "                 xrange(len(nn_plot_arr))]\n",
    "\n",
    "for jj in range(len(nn_mass_dist)):\n",
    "    for hh in range(len(frac_vals)):\n",
    "        for ii in range(len(neigh_vals)):\n",
    "            plot_frac_arr[ii][hh][jj] = nn_plot_arr[ii][jj][0][frac_vals[hh]]\n",
    "            frac_err_arr[ii][hh][jj] = nn_plot_arr[ii][jj][1][hh]"
   ]
  },
  {
   "cell_type": "code",
   "execution_count": 105,
   "metadata": {
    "collapsed": false
   },
   "outputs": [],
   "source": [
    "np.seterr(divide='ignore',invalid='ignore')\n",
    "\n",
    "nrow_num = int(6)\n",
    "ncol_num = int(3)\n",
    "zz       = int(0)\n",
    "\n",
    "fig, axes = plt.subplots(nrows=nrow_num, ncols=ncol_num, \\\n",
    "            figsize=(100,200), sharex= True,sharey=True)\n",
    "axes_flat = axes.flatten()\n",
    "\n",
    "\n",
    "fig.text(0.01, 0.5, 'High Density Counts/Lower Density Counts', ha='center', \\\n",
    "    va='center',rotation='vertical',fontsize=20)\n",
    "# fig.suptitle(\"Percentile Trends\", fontsize=18)\n",
    "\n",
    "while zz <= 16:\n",
    "    for ii in range(len(eco_ratio_info)):\n",
    "        for hh in range(len(eco_ratio_info[0][1])):\n",
    "            for jj in range(len(nn_mass_dist)):\n",
    "                # upper = A['{0}_{1}'.format(neigh_vals[ii],frac_vals[hh])][0]\n",
    "                # lower  = A['{0}_{1}'.format(neigh_vals[ii],frac_vals[hh])][1]\n",
    "                # plot_bands(bin_centers,upper,lower,axes_flat[zz] )\n",
    "                plot_all_rats(bin_cens_diff[jj][neigh_vals[ii]][hh],(plot_frac_arr[ii][hh][jj]),\\\n",
    "                              neigh_vals[ii],axes_flat[zz],hh,zz)\n",
    "            plot_eco_rats(eco_final_bins[ii][hh],(eco_ratio_info[ii]),neigh_vals[ii],\\\n",
    "                                    axes_flat[zz],hh,zz)\n",
    "            zz += 1\n",
    "\n",
    "plt.subplots_adjust(left=0.04, bottom=0.09, right=0.98, top=0.98,\\\n",
    "                    hspace=0,wspace=0)\n",
    "\n",
    "plt.show()"
   ]
  },
  {
   "cell_type": "code",
   "execution_count": 145,
   "metadata": {
    "collapsed": true
   },
   "outputs": [],
   "source": [
    "def plot_hists(bins_high,bins_low,high_counts,low_counts,\\\n",
    "               neigh_val,ax,col_num,plot_idx,text=False):\n",
    "    \"\"\"\n",
    "    Returns a plot showing the density-cut, mass counts.\n",
    "    \n",
    "    Parameters\n",
    "    ----------\n",
    "    mass: array-like\n",
    "        A 1D array with log stellar mass values\n",
    "    neigh_val: integer-like\n",
    "        Value which will be inserted into the text label of each plot\n",
    "    bins: array-like\n",
    "        A 1D array with the values which will be used as the bin edges   \n",
    "    dlogM: float-like\n",
    "        The log difference between bin edges\n",
    "    ax: axis-like\n",
    "        A value which specifies which axis each subplot is to be \n",
    "        plotted to\n",
    "    col_num: integer-like\n",
    "        Integer which specifies which column is currently being \n",
    "        plotted. Used for labelling subplots\n",
    "    plot_idx: integer-like\n",
    "        Specifies which subplot the figure is plotted to. Used for\n",
    "        labeling the x-axis\n",
    "        \n",
    "    Returns\n",
    "    -------\n",
    "    Figure with two curves, optionally (if uncommented) plotted in step\n",
    "    \n",
    "    \"\"\"\n",
    "    ax.set_yscale('log')\n",
    "    if text == True:\n",
    "        if col_num==0:\n",
    "            title_label = 'Mass 50/50, {0} NN'.format(neigh_val)\n",
    "            ax.text(0.05, 0.95, title_label,horizontalalignment='left',\\\n",
    "                    verticalalignment='top',transform=ax.transAxes,fontsize=12)\n",
    "        elif col_num==1:\n",
    "            title_label = 'Mass 25/75, {0} NN'.format(neigh_val)\n",
    "            ax.text(0.05, 0.95, title_label,horizontalalignment='left',\\\n",
    "                    verticalalignment='top',transform=ax.transAxes,fontsize=12)\n",
    "        elif col_num==2:\n",
    "            title_label = 'Mass 10/90, {0} NN'.format(neigh_val)\n",
    "            ax.text(0.05, 0.95, title_label,horizontalalignment='left',\\\n",
    "                    verticalalignment='top',transform=ax.transAxes,fontsize=12)\n",
    "        \n",
    "    if plot_idx == 16:\n",
    "        ax.set_xlabel('$\\log\\ (M_{*}/M_{\\odot})$',fontsize=18)                      \n",
    "    ax.set_xlim(9.1,11.9)\n",
    "    ax.set_ylim([10**-3,10**1])\n",
    "    ax.set_xticks(np.arange(9.5, 12., 0.5))\n",
    "    ax.set_yticks([10**-2,10**0])\n",
    "    \n",
    "    ax.plot(bins_high,high_counts,color = 'lightslategrey',alpha=0.2)\n",
    "    ax.plot(bins_low,low_counts,color = 'lightslategray',alpha=0.2)"
   ]
  },
  {
   "cell_type": "code",
   "execution_count": 143,
   "metadata": {
    "collapsed": false
   },
   "outputs": [
    {
     "name": "stdout",
     "output_type": "stream",
     "text": [
      "{2: array([  9.2,   9.4,   9.6,   9.8,  10. ,  10.2,  10.4,  10.6,  10.8,\n",
      "        11. ,  11.2,  11.4,  11.6]), 4: array([  9.2,   9.4,   9.6,   9.8,  10. ,  10.2,  10.4,  10.6,  10.8,\n",
      "        11. ,  11.2,  11.4,  11.6]), 10: array([  9.2,   9.4,   9.6,   9.8,  10. ,  10.2,  10.4,  10.6,  10.8,\n",
      "        11. ,  11.2,  11.4,  11.6])}\n"
     ]
    }
   ],
   "source": [
    "print eco_high_bins[1]"
   ]
  },
  {
   "cell_type": "code",
   "execution_count": 140,
   "metadata": {
    "collapsed": true
   },
   "outputs": [],
   "source": [
    "##when doing loop, include frac vals for bins_high and low, not on counts\n",
    "\n",
    "def plot_eco_hists(bins_high,bins_low,high_counts,low_counts,\\\n",
    "               frac_val,ax,plot_idx):\n",
    "        err_key = 'err_{0}'.format(frac_val)\n",
    "        \n",
    "        ax.errorbar(bins_high[frac_val],high_counts[frac_val],\\\n",
    "                    yerr=high_counts[err_key],drawstyle='steps-mid',\\\n",
    "                    color='royalblue',label='Higher Density')\n",
    "        ax.errorbar(bins_low[frac_val],low_counts[frac_val],\\\n",
    "                    yerr=low_counts[err_key],drawstyle='steps-mid',\\\n",
    "                    color='crimson',label='Lower Density')\n",
    "        \n",
    "        if plot_idx == 0:\n",
    "            ax.legend(loc='best')"
   ]
  },
  {
   "cell_type": "code",
   "execution_count": 147,
   "metadata": {
    "collapsed": false
   },
   "outputs": [],
   "source": [
    "nrow_num  = int(6)\n",
    "ncol_num  = int(3)\n",
    "\n",
    "frac_dict = {2:0,4:1,10:2}\n",
    "\n",
    "fig, axes = plt.subplots(nrows=nrow_num, ncols=ncol_num, \\\n",
    "            figsize=(150,200), sharex= True,sharey=True)\n",
    "axes_flat = axes.flatten()\n",
    "\n",
    "fig.text(0.02, 0.5,r'$\\log\\ (\\frac{N_{gal}}{N_{total}*dlogM_{*}})$', ha='center',\n",
    "    va='center',rotation='vertical',fontsize=20)\n",
    "\n",
    "\n",
    "for ii in range(len(mass_dat)):\n",
    "    zz = 0\n",
    "    for jj in range(len(neigh_vals)):\n",
    "        for hh in frac_vals:\n",
    "            # upper    = C['{0}_{1}'.format(neigh_vals[jj],frac_vals[hh])][0]\n",
    "            # lower    = C['{0}_{1}'.format(neigh_vals[jj],frac_vals[hh])][1]\n",
    "            # upper_2  = D['{0}_{1}'.format(neigh_vals[jj],frac_vals[hh])][0]\n",
    "            # lower_2  = D['{0}_{1}'.format(neigh_vals[jj],frac_vals[hh])][1]\n",
    "            # plot_bands(bin_centers,upper,lower,axes_flat[zz])\n",
    "            # plot_bands(bin_centers,upper_2,lower_2,axes_flat[zz])\n",
    "            if ii == 0:\n",
    "                value = True\n",
    "            else:\n",
    "                value = False\n",
    "            plot_hists(hist_high_bins[ii][neigh_vals[jj]][hh],\\\n",
    "                hist_low_bins[ii][neigh_vals[jj]][hh],\\\n",
    "                hist_high_info[ii][neigh_vals[jj]][hh],\\\n",
    "                hist_low_info[ii][neigh_vals[jj]][hh],\\\n",
    "                neigh_vals[jj],axes_flat[zz],frac_dict[hh],zz,text=value)\n",
    "            if ii == 0:\n",
    "                plot_eco_hists(eco_high_bins[neigh_vals[jj]],\\\n",
    "                   eco_low_bins[neigh_vals[jj]],eco_high[neigh_vals[jj]],\\\n",
    "                   eco_low[neigh_vals[jj]],\\\n",
    "                   hh,axes_flat[zz],zz)\n",
    "            zz += int(1)         \n",
    "\n",
    "plt.subplots_adjust(left=0.07, bottom=0.09, right=0.98, top=0.98,\\\n",
    "                    hspace=0, wspace=0)            \n",
    "\n",
    "plt.show()"
   ]
  },
  {
   "cell_type": "code",
   "execution_count": 372,
   "metadata": {
    "collapsed": true
   },
   "outputs": [],
   "source": [
    "def plot_all_meds(bin_centers,y_vals,ax,plot_idx,text=False):\n",
    "    \"\"\"\n",
    "    Returns six subplots showing the median distance to \n",
    "        the Nth nearest neighbor for each mass bin.  Assumes a\n",
    "        previously defined figure.  Best used in a for-loop\n",
    "    \n",
    "    Parameters\n",
    "    ----------\n",
    "    bin_centers: array-like\n",
    "        An array with the medians mass values of the mass bins\n",
    "    y_vals: array-like\n",
    "        An array containing the median distance values for each mass bin\n",
    "    ax: axis-like\n",
    "        A value which specifies which axis each subplot is to be \n",
    "        plotted to\n",
    "    plot_idx: integer-like\n",
    "        Specifies which subplot the figure is plotted to. Used for\n",
    "        the text label in each subplot\n",
    "        \n",
    "    Returns\n",
    "    -------\n",
    "    Subplots displaying the median distance to Nth nearest neighbor\n",
    "    trends for each mass bin\n",
    "    \n",
    "    \"\"\"\n",
    "    titles = [1,2,3,5,10,20]\n",
    "    ax.set_ylim(0,10**1.5)\n",
    "    ax.set_xlim(9.1,11.9)\n",
    "    ax.set_yscale('symlog')\n",
    "    ax.set_xticks(np.arange(9.5,12.,0.5))  \n",
    "    ax.set_yticks(np.arange(0,12,1))  \n",
    "    ax.set_yticklabels(np.arange(1,11,2))\n",
    "    ax.tick_params(axis='x', which='major', labelsize=16)\n",
    "    if text == True:\n",
    "        title_here = 'n = {0}'.format(titles[plot_idx])\n",
    "        ax.text(0.05, 0.95, title_here,horizontalalignment='left',\\\n",
    "                verticalalignment='top',transform=ax.transAxes,fontsize=18)\n",
    "    if plot_idx == 4:\n",
    "        ax.set_xlabel('$\\log\\ (M_{*}/M_{\\odot})$',fontsize=20)\n",
    "    ax.plot(bin_centers,y_vals,color='silver')"
   ]
  },
  {
   "cell_type": "code",
   "execution_count": 153,
   "metadata": {
    "collapsed": true
   },
   "outputs": [],
   "source": [
    "def plot_eco_meds(bin_centers,y_vals,low_lim,up_lim,ax,plot_idx,only=False):\n",
    "    \"\"\"\n",
    "    Returns six subplots showing the median Nth nearest neighbor distance for \n",
    "        ECO galaxies in each mass bin\n",
    "        \n",
    "    Parameters\n",
    "    ----------\n",
    "    bin_centers: array-like\n",
    "        An array with the medians mass values of the mass bins\n",
    "    y_vals: array-like\n",
    "        An array containing the median distance values for each mass bin\n",
    "    low_lim: array-like\n",
    "        An array with the lower cut-off of the bootstrap errors for each median\n",
    "    up_lim: array-like\n",
    "        An array with the upper cut-off of the bootstrap errors for each median\n",
    "    ax: axis-like\n",
    "        A value which specifies which axis each subplot is to be \n",
    "        plotted to\n",
    "    plot_idx: integer-like\n",
    "        Specifies which subplot the figure is plotted to. Used for\n",
    "        the text label in each subplot\n",
    "    \n",
    "    Optional\n",
    "    --------\n",
    "    only == False\n",
    "        To be used when only plotting the ECO median trends, \n",
    "        no mocks.  Will add in the additional plotting \n",
    "        specifications that would have been taken care of \n",
    "        previously in a for-loop which plotted the mocks as well\n",
    "    \n",
    "    Returns\n",
    "    -------\n",
    "    Subplots displaying the median distance to Nth nearest neighbor\n",
    "    trends for each mass bin, with the bootstrap errors\n",
    "    \n",
    "    \"\"\"\n",
    "    if only == True:\n",
    "        titles = [1,2,3,5,10,20]\n",
    "        ax.set_ylim(0,10**1.5)\n",
    "        ax.set_xlim(9.1,11.9)\n",
    "        ax.set_yscale('symlog')\n",
    "        ax.set_xticks(np.arange(9.5,12.,0.5))  \n",
    "        ax.tick_params(axis='both', which='major', labelsize=16)\n",
    "        title_here = 'n = {0}'.format(titles[plot_idx])\n",
    "        ax.text(0.05, 0.95, title_here,horizontalalignment='left',\\\n",
    "                verticalalignment='top',transform=ax.transAxes,fontsize=18)\n",
    "        if plot_idx == 4:\n",
    "            ax.set_xlabel('$\\log\\ (M_{*}/M_{\\odot})$',fontsize=18)\n",
    "    ax.errorbar(bin_centers,y_vals,yerr=0.1,lolims=low_lim,\\\n",
    "        uplims=up_lim,color='dodgerblue',label='ECO')\n",
    "    # if plot_idx == 5:\n",
    "    #     ax.legend(loc='best')"
   ]
  },
  {
   "cell_type": "code",
   "execution_count": 378,
   "metadata": {
    "collapsed": false
   },
   "outputs": [],
   "source": [
    "nrow_num_mass = int(2)\n",
    "ncol_num_mass = int(3)\n",
    "\n",
    "fig, axes = plt.subplots(nrows=nrow_num_mass, ncols=ncol_num_mass, \\\n",
    "        figsize=(100,200), sharex= True, sharey = True)\n",
    "axes_flat = axes.flatten()\n",
    "fig.text(0.01, 0.5, 'Distance to Nth Neighbor (Mpc)', ha='center', \\\n",
    "    va='center',rotation='vertical',fontsize=20)\n",
    "\n",
    "zz = int(0)\n",
    "while zz <=4:\n",
    "    for ii in range(len(med_plot_arr)):\n",
    "        for vv in range(len(nn_mass_dist)):\n",
    "            if vv == 0:\n",
    "                value = True\n",
    "            else:\n",
    "                value = False\n",
    "            plot_all_meds(mock_meds_bins[vv][neigh_vals[ii]],med_plot_arr[neigh_vals[ii]][vv],axes_flat[zz],\\\n",
    "                zz,text=value)\n",
    "            plot_eco_meds(eco_med_bins[ii],eco_medians[ii][0],\\\n",
    "                          eco_medians[ii][1],eco_medians[ii][2],\\\n",
    "                                            axes_flat[zz],zz)\n",
    "        zz   += 1\n",
    "        \n",
    "plt.subplots_adjust(left=0.05, bottom=0.09, right=0.98, top=0.98,\\\n",
    "            hspace=0,wspace=0)\n",
    "plt.show()\n",
    "\n",
    "###Portion of loop to be used if plotting bands...\n",
    "            \n",
    "# lower_m  = B['{0}'.format(ii)][0]\n",
    "# upper_m  = B['{0}'.format(ii)][1]\n",
    "# plot_med_range(bin_centers,top_95[ii][vv],low_95[ii][vv],\\\n",
    "    # axes_flat[zz],0.05,color='lightsteelblue')\n",
    "# plot_med_range(bin_centers,top_68[ii][vv],low_68[ii][vv],\\\n",
    "    # axes_flat[zz],0.15,color='gainsboro')\n",
    "# plot_bands(bin_centers,upper_m,lower_m,axes_flat[zz])"
   ]
  },
  {
   "cell_type": "markdown",
   "metadata": {},
   "source": [
    "# Extra Code for Plotting Bands"
   ]
  },
  {
   "cell_type": "code",
   "execution_count": null,
   "metadata": {
    "collapsed": true
   },
   "outputs": [],
   "source": [
    "# def plot_bands(bin_centers,upper,lower,ax):\n",
    "#     \"\"\"\n",
    "#     Returns an overlayed, fill-between plot, creating a band\n",
    "#         between the different mock catalog values plotted\n",
    "    \n",
    "#     Parameters\n",
    "#     ----------\n",
    "#     bin_centers: array-like\n",
    "#         An array with the medians mass values of the mass bins\n",
    "#     upper: array-like\n",
    "#         Array with the max y-values among all the mocks\n",
    "#         for each mass bin\n",
    "#     lower: array-like\n",
    "#         Array with the min y-values among all the mocks\n",
    "#         for each mass bin\n",
    "#     ax: axis-like\n",
    "#         A value which specifies which axis each subplot is to be \n",
    "#         plotted to\n",
    "    \n",
    "#     Returns\n",
    "#     -------\n",
    "#     A semi-transparent band overlaying the area of the plot \n",
    "#     bordedodgerblue by the mocks\n",
    "#     \"\"\"\n",
    "#     ax.fill_between(bin_centers,upper,lower,color='silver',alpha=0.1)"
   ]
  },
  {
   "cell_type": "code",
   "execution_count": null,
   "metadata": {
    "collapsed": true
   },
   "outputs": [],
   "source": [
    "# def plot_med_range(bin_centers,low_lim,up_lim,ax,alpha,color='gray'):\n",
    "#     \"\"\"\n",
    "#     Returns a plot with a transparent band highlighting a range of\n",
    "#         values.\n",
    "    \n",
    "#     Parameters\n",
    "#     ----------\n",
    "#     bin_centers: array-like\n",
    "#         An array with the medians mass values of the mass bins\n",
    "#     low_lim: array-like\n",
    "#         Array with the min y-values among all the mocks\n",
    "#         for each mass bin\n",
    "#     up_lim: array-like\n",
    "#         Array with the max y-values among all the mocks\n",
    "#         for each mass bin \n",
    "#     ax: axis-like\n",
    "#         A value which specifies which axis each subplot is to be \n",
    "#         plotted to\n",
    "#     alpha: float-like\n",
    "#         A value which will determine the tranparency of the band\n",
    "#     color: str\n",
    "#         Any color which Python recognizes; sets the color of the band\n",
    "        \n",
    "#     Returns\n",
    "#     -------\n",
    "#     A band spanning from the max y-values to the minimum.\n",
    "    \n",
    "#     \"\"\"\n",
    "#     ax.fill_between(bin_centers,low_lim,up_lim,color=color,alpha=alpha)    "
   ]
  },
  {
   "cell_type": "code",
   "execution_count": null,
   "metadata": {
    "collapsed": true
   },
   "outputs": [],
   "source": [
    "# ##For the distance ranges (68 and 95%) to the nth nearest neighbor (examined because medians were suspiciously close)\n",
    "\n",
    "# ordered_mass = nn_mass_dist[0].T[0][(nn_mass_dist[0].T[0].argsort())]\n",
    "# dist_cont = [[[[] for zz in xrange(len(bins)-1)] for yy in \\\n",
    "#               xrange(len(nn_mass_dist))] for xx in \\\n",
    "#               xrange(1,len(nn_mass_dist[0].T))]\n",
    "\n",
    "# for ii in xrange(len(nn_mass_dist)):\n",
    "#     sorting_test  = np.digitize(nn_mass_dist[ii].T[0],bins)\n",
    "#     bin_nums      = np.unique(sorting_test)\n",
    "#     bin_nums_list = list(bin_nums)\n",
    "#     if len(bins) in bin_nums_list:\n",
    "#         bin_nums_list.remove(len(bins))\n",
    "#     bin_nums  = np.array(bin_nums_list)\n",
    "#     for jj in xrange(1,len(nn_mass_dist[ii].T)):\n",
    "#         for hh in bin_nums:\n",
    "#             dist_cont[jj-1][ii][hh-1] = (nn_mass_dist[ii].T[jj]\\\n",
    "#                 [sorting_test==hh])\n",
    "#             if len(dist_cont[jj-1][ii][hh-1]) == 0:\n",
    "#                 (dist_cont[jj-1][ii][hh-1]) = list(dist_cont[jj-1][ii][hh-1])\n",
    "#                 (dist_cont[jj-1][ii][hh-1]).append(np.zeros\\\n",
    "#                     (len(dist_cont[1][0][0])))\n",
    "#                 (dist_cont[jj-1][ii][hh-1]) = np.array((dist_cont[jj-1][ii]\\\n",
    "#                     [hh-1]))\n",
    "\n",
    "# for ii in xrange(len(nn_mass_dist)):\n",
    "#     for jj in xrange(1,len(nn_mass_dist[ii].T)):\n",
    "#         for hh in bin_nums:\n",
    "#             print len(dist_cont[jj-1][ii][hh-1])   \n",
    "            \n",
    "# top_68 = [[[[]for ll in xrange(len(bin_nums))]for yy in \\\n",
    "#             xrange(len(nn_mass_dist))] for xx in xrange(len(neigh_vals))]\n",
    "# low_68 = [[[[]for ll in xrange(len(bin_nums))]for yy in \\\n",
    "#             xrange(len(nn_mass_dist))] for xx in xrange(len(neigh_vals))]\n",
    "# top_95 = [[[[]for ll in xrange(len(bin_nums))]for yy in \\\n",
    "#             xrange(len(nn_mass_dist))] for xx in xrange(len(neigh_vals))]\n",
    "# low_95 = [[[[]for ll in xrange(len(bin_nums))]for yy in \\\n",
    "#             xrange(len(nn_mass_dist))] for xx in xrange(len(neigh_vals))]\n",
    "# med_50 = [[[[]for ll in xrange(len(bin_nums))]for yy in \\\n",
    "#             xrange(len(nn_mass_dist))] for xx in xrange(len(neigh_vals))]\n",
    "\n",
    "# for aa in xrange(len(neigh_vals)):\n",
    "#     for bb in xrange(len(nn_mass_dist)):\n",
    "#         for cc in xrange(len(dist_cont[aa][bb])):\n",
    "#             top_68[aa][bb][cc] = np.percentile(dist_cont[aa][bb][cc],84)\n",
    "#             low_68[aa][bb][cc] = np.percentile(dist_cont[aa][bb][cc],16)\n",
    "#             top_95[aa][bb][cc] = np.percentile(dist_cont[aa][bb][cc],97.5)\n",
    "#             low_95[aa][bb][cc] = np.percentile(dist_cont[aa][bb][cc],2.5)\n",
    "#             med_50[aa][bb][cc] = np.median((dist_cont[aa][bb][cc]))\n",
    "            \n",
    "# top_68 = np.array(top_68)\n",
    "# low_68 = np.array(low_68)\n",
    "# top_95 = np.array(top_95)\n",
    "# low_95 = np.array(low_95)\n",
    "# med_50 = np.array(med_50)            "
   ]
  },
  {
   "cell_type": "code",
   "execution_count": null,
   "metadata": {
    "collapsed": true
   },
   "outputs": [],
   "source": [
    "# ###For the ratios (18 subplots)\n",
    "\n",
    "# A = {}\n",
    "# nn_dict   = {1:0,2:1,3:2,5:3,10:4,20:5}\n",
    "# coln_dict = {2:0,4:1,10:2}\n",
    "\n",
    "# nn_keys  = np.sort(nn_dict.keys())\n",
    "# col_keys = np.sort(coln_dict.keys())\n",
    "# zz_num   = len(plot_frac_arr[nn_dict[1]][coln_dict[2]])\n",
    "\n",
    "# for nn in nn_keys:\n",
    "#     for coln in col_keys:\n",
    "#         bin_str    = '{0}_{1}'.format(nn,coln)\n",
    "#         for cc in range(zz_num):\n",
    "#             zz_arr = np.array(plot_frac_arr[nn_dict[nn]][coln_dict[coln]][cc])\n",
    "#             n_elem = len(zz_arr)\n",
    "#             if cc == 0:\n",
    "#                 zz_tot = np.zeros((n_elem,1))\n",
    "#             zz_tot = np.insert(zz_tot,len(zz_tot.T),zz_arr,1)\n",
    "#         zz_tot = np.array(np.delete(zz_tot,0,axis=1))\n",
    "#         for kk in xrange(len(zz_tot)):\n",
    "#             zz_tot[kk][zz_tot[kk] == np.inf] = np.nan\n",
    "#         zz_tot_max = [np.nanmax(zz_tot[kk]) for kk in xrange(len(zz_tot))]\n",
    "#         zz_tot_min = [np.nanmin(zz_tot[kk]) for kk in xrange(len(zz_tot))]\n",
    "#         A[bin_str] = [zz_tot_max,zz_tot_min]"
   ]
  },
  {
   "cell_type": "code",
   "execution_count": null,
   "metadata": {
    "collapsed": true
   },
   "outputs": [],
   "source": [
    "# ##For the median distance to nth nearest neighbor\n",
    "\n",
    "# B = {}\n",
    "# yy_num = len(med_plot_arr[0])\n",
    "\n",
    "# for nn in range(len(med_plot_arr)):\n",
    "#     for ii in range(yy_num):\n",
    "#         med_str  = '{0}'.format(nn)\n",
    "#         yy_arr   = med_plot_arr[nn][ii]\n",
    "#         n_y_elem = len(yy_arr)\n",
    "#         if ii == 0:\n",
    "#             yy_tot = np.zeros((n_y_elem,1))\n",
    "#         yy_tot = np.insert(yy_tot,len(yy_tot.T),yy_arr,1)\n",
    "#     yy_tot = np.array(np.delete(yy_tot,0,axis=1))\n",
    "#     yy_tot_max = [np.nanmax(yy_tot[kk]) for kk in xrange(len(yy_tot))]\n",
    "#     yy_tot_min = [np.nanmin(yy_tot[kk]) for kk in xrange(len(yy_tot))]\n",
    "#     B[med_str] = [yy_tot_max,yy_tot_min]"
   ]
  },
  {
   "cell_type": "code",
   "execution_count": null,
   "metadata": {
    "collapsed": true
   },
   "outputs": [],
   "source": [
    "# ###For the histogram 18-subplot figure\n",
    "\n",
    "# C = {}\n",
    "# D = {}\n",
    "# nn_dict   = {1:0,2:1,3:2,5:3,10:4,20:5}\n",
    "# coln_dict = {2:0,4:1,10:2}\n",
    "\n",
    "# nn_keys   = np.sort(nn_dict.keys())\n",
    "# col_keys  = np.sort(coln_dict.keys())\n",
    "\n",
    "# vv_num    = len(plot_low_hist[nn_dict[1]][coln_dict[2]])\n",
    "\n",
    "# for nn in nn_keys:\n",
    "#     for coln in col_keys:\n",
    "#         bin_str    = '{0}_{1}'.format(nn,coln)\n",
    "#         for cc in range(vv_num):\n",
    "#             vv_arr = np.array(plot_low_hist[nn_dict[nn]][coln_dict[coln]][cc])\n",
    "#             n_elem = len(vv_arr)\n",
    "#             if cc == 0:\n",
    "#                 vv_tot = np.zeros((n_elem,1))\n",
    "#             vv_tot = np.insert(vv_tot,len(vv_tot.T),vv_arr,1)\n",
    "#         vv_tot = np.array(np.delete(vv_tot,0,axis=1))\n",
    "#         for kk in xrange(len(vv_tot)):\n",
    "#             vv_tot[kk][vv_tot[kk] == np.inf] = np.nan\n",
    "#         vv_tot_max = [np.nanmax(vv_tot[kk]) for kk in xrange(len(vv_tot))]\n",
    "#         vv_tot_min = [np.nanmin(vv_tot[kk]) for kk in xrange(len(vv_tot))]\n",
    "#         C[bin_str] = [vv_tot_max,vv_tot_min]\n",
    "        \n",
    "# hh_num   = len(plot_high_hist[nn_dict[1]][coln_dict[2]])\n",
    "\n",
    "# for nn in nn_keys:\n",
    "#     for coln in col_keys:\n",
    "#         bin_str    = '{0}_{1}'.format(nn,coln)\n",
    "#         for cc in range(hh_num):\n",
    "#             hh_arr = np.array(plot_high_hist[nn_dict[nn]][coln_dict[coln]][cc])\n",
    "#             n_elem = len(hh_arr)\n",
    "#             if cc == 0:\n",
    "#                 hh_tot = np.zeros((n_elem,1))\n",
    "#             hh_tot = np.insert(hh_tot,len(hh_tot.T),hh_arr,1)\n",
    "#         hh_tot     = np.array(np.delete(hh_tot,0,axis=1))\n",
    "#         for kk in xrange(len(hh_tot)):\n",
    "#             hh_tot[kk][hh_tot[kk] == np.inf] = np.nan\n",
    "#         hh_tot_max = [np.nanmax(hh_tot[kk]) for kk in xrange(len(hh_tot))]\n",
    "#         hh_tot_min = [np.nanmin(hh_tot[kk]) for kk in xrange(len(hh_tot))]\n",
    "#         D[bin_str] = [hh_tot_max,hh_tot_min]        \n"
   ]
  }
 ],
 "metadata": {
  "kernelspec": {
   "display_name": "Python 2",
   "language": "python",
   "name": "python2"
  },
  "language_info": {
   "codemirror_mode": {
    "name": "ipython",
    "version": 2
   },
   "file_extension": ".py",
   "mimetype": "text/x-python",
   "name": "python",
   "nbconvert_exporter": "python",
   "pygments_lexer": "ipython2",
   "version": "2.7.11"
  }
 },
 "nbformat": 4,
 "nbformat_minor": 0
}
